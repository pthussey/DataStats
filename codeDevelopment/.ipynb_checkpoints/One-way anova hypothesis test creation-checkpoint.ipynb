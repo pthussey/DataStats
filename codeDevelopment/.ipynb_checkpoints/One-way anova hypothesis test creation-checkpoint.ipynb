{
 "cells": [
  {
   "cell_type": "code",
   "execution_count": 146,
   "metadata": {},
   "outputs": [],
   "source": [
    "%matplotlib inline\n",
    "\n",
    "import pandas as pd\n",
    "import numpy as np\n",
    "\n",
    "from pandas.api.types import CategoricalDtype\n",
    "\n",
    "from collections import defaultdict, Counter\n",
    "\n",
    "import matplotlib\n",
    "import matplotlib.pyplot as plt\n",
    "import seaborn as sns\n",
    "\n",
    "import datetime as dt\n",
    "import matplotlib.dates as mdates\n",
    "\n",
    "import scipy.stats as stats\n",
    "import statsmodels.api as sm\n",
    "import statsmodels.stats.api as sms\n",
    "import statsmodels.formula.api as smf\n",
    "\n",
    "import dataStatsAnalysis as dsa\n",
    "import dataStatsPlotting as dsp\n",
    "\n",
    "dsp.SetParams()"
   ]
  },
  {
   "cell_type": "code",
   "execution_count": null,
   "metadata": {},
   "outputs": [],
   "source": []
  },
  {
   "cell_type": "code",
   "execution_count": 147,
   "metadata": {},
   "outputs": [],
   "source": [
    "class UnimplementedMethodException(Exception):\n",
    "    \"\"\"Exception if someone calls a method that should be overridden.\"\"\"\n",
    "\n",
    "\n",
    "class HypothesisTest():\n",
    "    \"\"\"Hypothesis test superclass. \n",
    "\n",
    "    This class cannot be used as is. \n",
    "    It is to be used to construct hypothesis tests \n",
    "    for various different test statistics. \n",
    "    See the existing child classes below for examples.\n",
    "    \"\"\"\n",
    "    def __init__(self, data, tail='right', iters=1000):\n",
    "        self.data = data\n",
    "        self.tail = tail\n",
    "        self.iters = iters\n",
    "        self.PrepareData(data)\n",
    "        self.TestStat()\n",
    "        self.sampling_dist, self.rv = self.ComputeRv() # pylint: disable=assignment-from-no-return\n",
    "\n",
    "    # Provide the functionality to convert the data into the format needed \n",
    "    # for use in ComputeRv and Power functions. \n",
    "    # Ex. Convert to array, split data into component groups, etc. \n",
    "    # The self data variables must be created in the function, not returned. \n",
    "    # See child classes for examples\n",
    "    def PrepareData(self, data):\n",
    "        UnimplementedMethodException()\n",
    "        \n",
    "    # This function only needs to be written in the case of a null hypothesis based test. \n",
    "    # The self.test_stat needs to be created in the function, not returned. \n",
    "    # In the case of an alternative hypothesis based test \n",
    "    # test_stat will be provided via a class parameter. \n",
    "    # See child classes for examples\n",
    "    def TestStat(self):\n",
    "        pass\n",
    "    \n",
    "    # Provide the functionality that computes the sampling distribution and rv for the data.\n",
    "    # Both the sampling distribution and the rv need to be returned by the function \n",
    "    # See child classes for examples\n",
    "    def ComputeRv(self):\n",
    "        UnimplementedMethodException()\n",
    "        \n",
    "    # Provide the functionality that computes the power by running multiple iterations of the hypothesis test.\n",
    "    # The code in the for loop must first create new data for the run, \n",
    "    # which simulates taking another sample from the population, and then run the hypothesis test.\n",
    "    # See child classes for examples\n",
    "    def Power(self):\n",
    "        UnimplementedMethodException()\n",
    "    \n",
    "    def PValue(self):\n",
    "        \"\"\"Computes the p-value for the hypothesis test.\n",
    "\n",
    "        returns: float p-value\n",
    "        \"\"\"\n",
    "        if self.tail == 'left':\n",
    "            pvalue = self.rv.cdf(self.test_stat) # pylint: disable=no-member\n",
    "        elif self.tail == 'right':\n",
    "            pvalue = 1 - self.rv.cdf(self.test_stat) # pylint: disable=no-member\n",
    "        else:\n",
    "            raise Exception('The value of \\'tail\\' can only be either \\'left\\' or \\'right\\'')\n",
    "\n",
    "        return pvalue\n",
    "\n",
    "    def MinMaxTestStat(self):\n",
    "        \"\"\"Returns the smallest and largest test statistics in the sampling distribution.\n",
    "        \"\"\"\n",
    "        return min(self.sampling_dist), max(self.sampling_dist)\n",
    "\n",
    "    def PlotCdf(self):\n",
    "        \"\"\"Draws a Cdf with a vertical line at the test stat.\n",
    "        \"\"\"      \n",
    "        plt.plot(self.rv.xk, self.rv.cdf(self.rv.xk), color='C0', lw=2) # pylint: disable=no-member\n",
    "        \n",
    "        plt.axvline(self.test_stat, color='C1', lw=1.3) # pylint: disable=no-member"
   ]
  },
  {
   "cell_type": "code",
   "execution_count": 148,
   "metadata": {},
   "outputs": [],
   "source": [
    "class HTOnewayAnova(HypothesisTest):\n",
    "    \"\"\"A one-way ANOVA hypothesis test. \n",
    "    Uses permutation of the supplied data sequences to build the null hypothesis \n",
    "    and f-statistic sampling distribution. \n",
    "    Accepts data in the form of a list of data sequences (group_1, group_2... group_n).\n",
    "\n",
    "    Parameters\n",
    "    ----------\n",
    "    data (array-like):\n",
    "        A list or tuple of data sequences (group_1, group_2... group_n)\n",
    "    tail (str):\n",
    "        The tail of the distribution to be used in the PValue function\n",
    "        Accepts only 'right' or 'left'\n",
    "        Defaults to 'right'\n",
    "    iters (int):\n",
    "        The number of iterations to run in the ComputeRv function \n",
    "        Defaults to 1000\n",
    "    \n",
    "    Attributes\n",
    "    ----------\n",
    "    data:\n",
    "        The original data\n",
    "    test_stat:\n",
    "        The test statistic used in the hypothesis test\n",
    "    sampling_dist:\n",
    "        The sampling distribution generated by resampling\n",
    "    rv:\n",
    "        A scipy.stats discrete_rv object (random variable) \n",
    "        that represents the sampling distribution\n",
    "        This object provides numerous useful attributes and methods\n",
    "        See the discrete_rv documentation for details\n",
    "\n",
    "    Methods\n",
    "    -------\n",
    "    PValue():\n",
    "        Computes the p-value for the hypothesis test\n",
    "    Power(alpha=0.05, num_runs=1000):\n",
    "        Computes the power of the hypothesis test\n",
    "        alpha: the significance level for the hypothesis test, default=0.05\n",
    "        num_runs: the number of hypothesis tests to run, default=1000\n",
    "    MinMaxTestStat():\n",
    "        Returns the smallest and largest test statistics in the sampling distribution\n",
    "    PlotCdf():\n",
    "        Draws a Cdf of the distribution with a vertical line at the test stat\n",
    "    \"\"\"\n",
    "    def PrepareData(self, data):\n",
    "        self.pooled_data = np.hstack(data)\n",
    "        \n",
    "    def TestStat(self):\n",
    "        self.test_stat, _ = stats.f_oneway(*self.data)\n",
    "        \n",
    "    def ComputeRv(self):    \n",
    "        # Initialize the sampling distribution list \n",
    "        # that will hold the f-stats calculated for each iteration \n",
    "        f_stats = []\n",
    "        \n",
    "        for _ in range(self.iters):\n",
    "            # Permute the pooled data\n",
    "            pooled_data_perm = np.random.permutation(self.pooled_data)\n",
    "            \n",
    "            # For each item in the orignal data \n",
    "            # pull out the correct number of permuted values \n",
    "            # and store the new sequences in a list\n",
    "            data_perm_list = []\n",
    "            for x in self.data:\n",
    "                x_perm = pooled_data_perm[:len(x)]\n",
    "                data_perm_list.append(x_perm)\n",
    "    \n",
    "                pooled_data_perm = pooled_data_perm[len(x):]\n",
    "                \n",
    "            # Compute the f-stat for the permuted data \n",
    "            # and add it to the sampling distribution list\n",
    "            f_stat, _ = stats.f_oneway(*data_perm_list)\n",
    "            f_stats.append(f_stat)\n",
    "            \n",
    "        return np.array(f_stats), dsa.DiscreteRv(f_stats)\n",
    "    \n",
    "    def Power(self, alpha=0.05, num_runs=1000):\n",
    "        \"\"\"Computes the power of the hypothesis test. \n",
    "\n",
    "        Args\n",
    "        ----\n",
    "        alpha (float):\n",
    "            The significance level for the hypothesis test.\n",
    "            Must be between 0 and 1. Defaults to 0.05\n",
    "        num_runs (int):\n",
    "            The number of times to run the hypothesis test to compute power.\n",
    "            Defaults to 1000.\n",
    "\n",
    "        Returns\n",
    "        -------\n",
    "        power:\n",
    "            Computed as the percentage of significant pvalues in num_runs of the test.\n",
    "            Returned value is between 0 and 1.\n",
    "        \"\"\"    \n",
    "        pvalue_count = 0\n",
    "        \n",
    "        for _ in range(num_runs):\n",
    "            # Simulate resampling from the population\n",
    "            run_data_resample_list = []\n",
    "            for x in self.data:\n",
    "                x_run_resample = np.random.choice(x, size=len(x), replace=True)\n",
    "                run_data_resample_list.append(x_run_resample)\n",
    "            \n",
    "            # Run the hypothesis test with run_data\n",
    "            test = HTOnewayAnova(run_data_resample_list, tail=self.tail, iters=100)\n",
    "            pvalue = test.PValue()\n",
    "            \n",
    "            if pvalue < alpha:\n",
    "                pvalue_count += 1\n",
    "            \n",
    "        return pvalue_count / num_runs"
   ]
  },
  {
   "cell_type": "code",
   "execution_count": null,
   "metadata": {},
   "outputs": [],
   "source": []
  },
  {
   "cell_type": "code",
   "execution_count": 149,
   "metadata": {},
   "outputs": [],
   "source": [
    "# Data to use: comes from the scipy.stats.f_oneway example\n",
    "# https://docs.scipy.org/doc/scipy/reference/generated/scipy.stats.f_oneway.html\n",
    "\n",
    "tillamook = [0.0571, 0.0813, 0.0831, 0.0976, 0.0817, 0.0859, 0.0735,\n",
    "             0.0659, 0.0923, 0.0836]\n",
    "newport = [0.0873, 0.0662, 0.0672, 0.0819, 0.0749, 0.0649, 0.0835,\n",
    "           0.0725]\n",
    "petersburg = [0.0974, 0.1352, 0.0817, 0.1016, 0.0968, 0.1064, 0.105]\n",
    "magadan = [0.1033, 0.0915, 0.0781, 0.0685, 0.0677, 0.0697, 0.0764,\n",
    "           0.0689]\n",
    "tvarminne = [0.0703, 0.1026, 0.0956, 0.0973, 0.1039, 0.1045]"
   ]
  },
  {
   "cell_type": "code",
   "execution_count": 150,
   "metadata": {},
   "outputs": [],
   "source": [
    "data = [tillamook, newport, petersburg, magadan, tvarminne]"
   ]
  },
  {
   "cell_type": "code",
   "execution_count": 151,
   "metadata": {},
   "outputs": [
    {
     "data": {
      "text/plain": [
       "(0.0802,\n",
       " 0.07479999999999999,\n",
       " 0.10344285714285714,\n",
       " 0.0780125,\n",
       " 0.09570000000000001)"
      ]
     },
     "execution_count": 151,
     "metadata": {},
     "output_type": "execute_result"
    }
   ],
   "source": [
    "np.mean(tillamook), np.mean(newport), np.mean(petersburg), np.mean(magadan), np.mean(tvarminne)"
   ]
  },
  {
   "cell_type": "code",
   "execution_count": 152,
   "metadata": {},
   "outputs": [
    {
     "data": {
      "text/plain": [
       "F_onewayResult(statistic=7.121019471642447, pvalue=0.0002812242314534544)"
      ]
     },
     "execution_count": 152,
     "metadata": {},
     "output_type": "execute_result"
    }
   ],
   "source": [
    "stats.f_oneway(*data)"
   ]
  },
  {
   "cell_type": "code",
   "execution_count": 153,
   "metadata": {},
   "outputs": [],
   "source": [
    "# # Try permutation , petersburg_perm, magadan_perm, tvarminne_perm\n",
    "\n",
    "# data = [tillamook, newport, petersburg, magadan, tvarminne]\n",
    "# pooled_data = np.hstack(data)\n",
    "# pooled_data_perm = np.random.permutation(pooled_data)\n",
    "\n",
    "# data_perm_list = []\n",
    "# for x in data:\n",
    "#     x_perm = pooled_data_perm[:len(x)]\n",
    "#     data_perm_list.append(x_perm)\n",
    "    \n",
    "#     pooled_data_perm = pooled_data_perm[len(x):]\n",
    "\n",
    "# data_perm_list, stats.f_oneway(*data_perm_list)\n",
    "# # pooled_data_perm = np.random.permutation(pooled_data)\n",
    "# # tillamook_perm = pooled_data_perm[:len(tillamook)]\n",
    "# # newport_perm = pooled_data_perm[len(tillamook):len(tillamook)+len(newport)]\n",
    "# # petersburg\n",
    "\n",
    "# # tillamook_perm, newport_perm"
   ]
  },
  {
   "cell_type": "code",
   "execution_count": 154,
   "metadata": {},
   "outputs": [
    {
     "data": {
      "text/plain": [
       "[[0.0571,\n",
       "  0.0813,\n",
       "  0.0831,\n",
       "  0.0976,\n",
       "  0.0817,\n",
       "  0.0859,\n",
       "  0.0735,\n",
       "  0.0659,\n",
       "  0.0923,\n",
       "  0.0836],\n",
       " [0.0873, 0.0662, 0.0672, 0.0819, 0.0749, 0.0649, 0.0835, 0.0725],\n",
       " [0.0974, 0.1352, 0.0817, 0.1016, 0.0968, 0.1064, 0.105],\n",
       " [0.1033, 0.0915, 0.0781, 0.0685, 0.0677, 0.0697, 0.0764, 0.0689],\n",
       " [0.0703, 0.1026, 0.0956, 0.0973, 0.1039, 0.1045]]"
      ]
     },
     "execution_count": 154,
     "metadata": {},
     "output_type": "execute_result"
    }
   ],
   "source": [
    "data"
   ]
  },
  {
   "cell_type": "code",
   "execution_count": 155,
   "metadata": {},
   "outputs": [],
   "source": [
    "# Might be working now, but hard to tell because the pvalues are so low\n",
    "# Should try changing the numbers a bit to get a higher pvalue\n",
    "# Still need to create the Power part\n",
    "htanova = HTOnewayAnova(data)"
   ]
  },
  {
   "cell_type": "code",
   "execution_count": 156,
   "metadata": {},
   "outputs": [
    {
     "data": {
      "text/plain": [
       "0.0"
      ]
     },
     "execution_count": 156,
     "metadata": {},
     "output_type": "execute_result"
    }
   ],
   "source": [
    "htanova.PValue()"
   ]
  },
  {
   "cell_type": "code",
   "execution_count": 157,
   "metadata": {},
   "outputs": [
    {
     "data": {
      "text/plain": [
       "(0.029627089586509146, 6.8386287921628615)"
      ]
     },
     "execution_count": 157,
     "metadata": {},
     "output_type": "execute_result"
    }
   ],
   "source": [
    "htanova.MinMaxTestStat()"
   ]
  },
  {
   "cell_type": "code",
   "execution_count": 158,
   "metadata": {},
   "outputs": [
    {
     "data": {
      "text/plain": [
       "7.121019471642447"
      ]
     },
     "execution_count": 158,
     "metadata": {},
     "output_type": "execute_result"
    }
   ],
   "source": [
    "htanova.test_stat"
   ]
  },
  {
   "cell_type": "code",
   "execution_count": 159,
   "metadata": {},
   "outputs": [
    {
     "data": {
      "text/plain": [
       "array([0.68734909, 0.6898165 , 1.20559863, 0.28090044, 0.28300092,\n",
       "       0.7543392 , 0.26804318, 0.5016801 , 1.77409111, 0.62821121,\n",
       "       0.32727574, 1.5638586 , 0.57631076, 2.13479344, 2.03944692,\n",
       "       0.64620028, 0.64259005, 2.96655639, 0.41988703, 0.41222483,\n",
       "       0.42680079, 0.85140365, 3.2914454 , 0.60508477, 1.78345876,\n",
       "       1.97612609, 0.39683481, 1.27695557, 0.77810255, 0.69141974,\n",
       "       0.58342424, 0.38999539, 0.12020525, 1.93153965, 0.79650864,\n",
       "       0.73864754, 0.22198241, 0.43844006, 0.95299554, 0.63003523,\n",
       "       1.16557457, 0.82156825, 0.74614636, 0.36175652, 0.41891689,\n",
       "       0.94264583, 1.42579815, 1.01762766, 0.45710277, 2.42062231,\n",
       "       1.21519029, 1.37957098, 4.68167245, 0.58915467, 0.98624045,\n",
       "       1.18262617, 0.88945215, 2.02831877, 1.25114325, 0.69107745,\n",
       "       2.54516487, 1.08619867, 1.55902215, 0.58225836, 0.35872966,\n",
       "       3.89938527, 1.56471381, 1.36338035, 0.85340764, 1.32500328,\n",
       "       1.12614627, 0.49969198, 0.43280138, 0.23877534, 0.59330637,\n",
       "       1.68620015, 0.12174005, 0.71134234, 0.79319585, 1.55335339,\n",
       "       2.12623741, 1.95283947, 0.14064796, 0.84342927, 0.65183776,\n",
       "       0.81686041, 0.47456569, 0.31785827, 1.02362379, 0.41427554,\n",
       "       1.17351446, 0.15515647, 1.81832088, 0.24190981, 1.80467848,\n",
       "       2.69831312, 0.99871067, 1.21138706, 0.84545268, 0.87637485,\n",
       "       0.40692774, 2.31522777, 0.66066048, 1.3183335 , 0.40668896,\n",
       "       0.6243232 , 0.49880226, 0.52143706, 1.00960468, 0.50828887,\n",
       "       0.73919553, 0.23700143, 5.09322785, 0.484408  , 2.12924573,\n",
       "       1.94327167, 0.63051553, 0.55276772, 1.34858511, 1.50425807,\n",
       "       1.31805395, 2.18987091, 4.28477117, 2.06377212, 0.62486188,\n",
       "       0.84729084, 0.40485685, 0.47952771, 0.66888373, 0.861677  ,\n",
       "       0.34840607, 1.28189252, 0.09761368, 1.7212906 , 0.56213972,\n",
       "       0.7590516 , 0.78756487, 1.17867723, 0.35384441, 0.17778768,\n",
       "       0.85394717, 2.26003195, 0.864322  , 0.33634812, 0.09116233,\n",
       "       0.6926788 , 0.62293641, 0.28847024, 1.27706199, 0.4551982 ,\n",
       "       0.11225763, 1.51700487, 2.03177696, 1.58417558, 0.89230751,\n",
       "       1.07531679, 0.42761784, 1.15702306, 0.43855298, 0.98257468,\n",
       "       0.30969217, 0.34525425, 1.17484494, 0.94796645, 1.49939884,\n",
       "       0.51486152, 1.55879753, 0.44559773, 0.37578463, 1.80849437,\n",
       "       0.793755  , 0.6860322 , 1.93432982, 0.82723327, 1.84556457,\n",
       "       0.35845297, 0.5885776 , 1.02014549, 1.170599  , 1.80467668,\n",
       "       0.51578054, 0.93088648, 1.88070865, 0.26717299, 1.13503216,\n",
       "       1.44069318, 3.77951642, 1.70100421, 0.38907403, 2.40373423,\n",
       "       1.25645531, 0.70494771, 1.14258721, 2.46993074, 1.9918324 ,\n",
       "       0.04190018, 0.55479881, 0.83716828, 0.13372221, 0.70289983,\n",
       "       1.24133353, 0.58209595, 0.75423086, 0.29230162, 0.41345786,\n",
       "       1.40200639, 1.53237176, 1.38268176, 1.52150793, 1.11743946,\n",
       "       0.82488577, 1.1384623 , 1.91875875, 1.9064319 , 0.75537449,\n",
       "       1.49031625, 0.86356986, 0.59163775, 0.49433242, 0.35009394,\n",
       "       0.87925551, 0.33156873, 0.93268354, 0.71562181, 0.699305  ,\n",
       "       0.30330684, 1.61247323, 0.68199874, 4.05048773, 0.65042244,\n",
       "       0.80855493, 1.99453651, 0.08455441, 0.908312  , 1.03779019,\n",
       "       1.21163613, 0.17241883, 2.86872424, 1.07227399, 0.86777412,\n",
       "       0.58631346, 0.17901352, 0.52768469, 0.46049125, 0.71805763,\n",
       "       0.93743227, 2.01981126, 0.62026077, 1.14816946, 1.00885716,\n",
       "       0.87591548, 2.63705307, 0.54689218, 1.13618277, 0.35578508,\n",
       "       0.62404308, 1.60085131, 0.37938018, 0.42090517, 0.63466781,\n",
       "       1.0593318 , 1.01504121, 1.65428548, 0.07731621, 0.02962709,\n",
       "       1.29517463, 0.68475915, 2.10796574, 1.25352403, 0.39859451,\n",
       "       2.85628378, 0.29896955, 2.03896848, 2.86997467, 2.14612051,\n",
       "       0.4076438 , 0.77277226, 0.30143332, 0.62238782, 0.45510622,\n",
       "       1.77941343, 0.44443059, 0.36726135, 1.72370546, 1.46640644,\n",
       "       1.26771327, 0.27736994, 0.46334228, 0.53427286, 0.38289229,\n",
       "       1.55582132, 0.70497733, 0.40429141, 2.22779191, 0.95721157,\n",
       "       0.94244115, 0.30537073, 0.28370701, 0.50677995, 0.62446161,\n",
       "       0.17268716, 0.6162877 , 2.05643176, 1.29161196, 0.58625223,\n",
       "       0.05301897, 0.14903766, 0.26657176, 0.48904825, 0.55411387,\n",
       "       0.56631286, 1.18553608, 0.24133093, 0.63108636, 2.39762054,\n",
       "       0.79239067, 1.29393899, 3.47113344, 0.80801161, 1.88134945,\n",
       "       0.39150608, 0.5407293 , 0.41491911, 3.99765843, 1.35417585,\n",
       "       0.87796899, 0.1478599 , 1.28066063, 0.20218532, 0.23736986,\n",
       "       0.47280051, 0.32650979, 0.31419756, 0.55406054, 1.45710046,\n",
       "       0.45409302, 0.55699515, 1.24071437, 0.59643476, 0.28596367,\n",
       "       1.78295335, 0.59087639, 1.7294812 , 0.87653212, 0.1835552 ,\n",
       "       0.76036061, 1.17621175, 1.65483515, 0.50543821, 0.59995041,\n",
       "       2.23082825, 2.29204858, 0.9783041 , 0.13652442, 1.12933907,\n",
       "       0.38247602, 0.36989522, 0.28343093, 1.84233747, 0.18562522,\n",
       "       0.74644972, 0.86236947, 0.29132447, 2.63905928, 0.64938194,\n",
       "       0.46138206, 0.25918527, 1.02294457, 1.16713288, 1.37534557,\n",
       "       0.39321482, 0.25811334, 0.59938913, 0.16660599, 0.30260576,\n",
       "       0.39602259, 0.96348413, 1.65691525, 0.28072004, 1.16803167,\n",
       "       1.3288134 , 0.41366072, 0.23970651, 1.08751513, 0.51137481,\n",
       "       0.80907309, 0.52104964, 1.127508  , 0.83575544, 0.18851648,\n",
       "       1.32997648, 1.39104719, 0.47077698, 1.20403173, 0.23296705,\n",
       "       0.74112826, 0.72688271, 0.47900327, 1.05065695, 1.56948372,\n",
       "       1.96877992, 1.62278628, 0.82598786, 1.82458857, 0.71907647,\n",
       "       2.29023189, 0.81849995, 0.28859973, 1.17296041, 1.13626265,\n",
       "       0.69817402, 0.70362054, 0.06533176, 1.12281993, 0.04404474,\n",
       "       3.08531156, 3.15168617, 0.4510728 , 0.8064048 , 0.32370774,\n",
       "       2.62854241, 0.51005393, 0.77436675, 2.18768078, 1.3724375 ,\n",
       "       0.39458549, 0.33225716, 1.0654596 , 0.69823408, 0.7302048 ,\n",
       "       0.74690558, 0.64526263, 0.71869127, 0.8441428 , 0.20291388,\n",
       "       1.75492857, 0.99446438, 1.79039444, 1.05273473, 0.42982858,\n",
       "       0.30328735, 0.40479671, 0.69094528, 2.22926636, 0.62476735,\n",
       "       2.07770991, 0.60985949, 0.89696751, 0.60252757, 1.30649042,\n",
       "       0.3372502 , 3.326045  , 0.24887225, 0.10998108, 0.7262396 ,\n",
       "       1.49480984, 0.28056614, 1.27820695, 0.55918644, 0.75869218,\n",
       "       1.87547561, 0.33994618, 3.31128752, 0.46518577, 2.85126719,\n",
       "       0.98119553, 3.38638323, 2.9848712 , 0.60551426, 0.91350294,\n",
       "       0.79574568, 0.85624126, 0.14381663, 0.22605952, 1.56760204,\n",
       "       1.90036222, 3.05050488, 0.68111489, 0.76035639, 0.22312506,\n",
       "       0.54282661, 0.89779429, 1.12325373, 1.45067515, 1.37371418,\n",
       "       0.29659904, 0.13811915, 2.95374841, 0.61208211, 0.30112027,\n",
       "       0.81006271, 2.85697088, 1.35709932, 1.40291739, 0.83972575,\n",
       "       1.28638793, 0.31989211, 1.47327579, 1.62275704, 1.53934944,\n",
       "       2.25322343, 0.28161179, 1.59994582, 0.30392553, 0.81775945,\n",
       "       0.11817932, 0.69626109, 0.6652118 , 1.64346929, 2.51589563,\n",
       "       0.40988625, 2.05276191, 0.59802933, 0.56493722, 0.49421953,\n",
       "       1.26675926, 1.32917843, 1.4540923 , 2.72592537, 0.76192138,\n",
       "       2.64131297, 0.4919523 , 1.20169812, 1.72005259, 0.35956394,\n",
       "       0.24391351, 0.54301158, 1.3631167 , 0.63228547, 0.23009449,\n",
       "       0.29372952, 0.40914784, 0.97879804, 0.75868023, 0.92197856,\n",
       "       1.8801227 , 1.80488779, 0.33738017, 1.41951469, 1.49992006,\n",
       "       1.77238262, 1.39463021, 0.87112297, 0.54340043, 0.38998762,\n",
       "       0.04190254, 0.83771812, 1.62856199, 0.28051946, 2.05928183,\n",
       "       1.3754241 , 0.99315193, 0.57625187, 1.41391219, 0.25846009,\n",
       "       1.3130323 , 1.59594396, 2.51706072, 2.0303047 , 0.69500476,\n",
       "       0.31984447, 0.44858168, 0.92124839, 0.96704455, 0.07461522,\n",
       "       0.61041313, 0.6505586 , 0.38940931, 2.41370536, 1.82893131,\n",
       "       0.72424396, 0.07695887, 1.5100801 , 1.33280732, 0.55816709,\n",
       "       1.34641918, 0.40747436, 0.58724158, 0.39792915, 0.11942308,\n",
       "       0.42842106, 0.48217403, 0.84314925, 0.20737506, 2.63810085,\n",
       "       0.62456952, 1.79911047, 1.0569644 , 0.98389442, 1.25450166,\n",
       "       0.61546311, 1.1108127 , 1.31389189, 1.26099209, 2.93025521,\n",
       "       1.37080369, 1.17981082, 2.92328573, 0.24953728, 1.50367788,\n",
       "       1.36817407, 1.2924109 , 0.1322065 , 1.55532453, 1.25766755,\n",
       "       0.77262195, 1.08076928, 1.86111366, 2.08097025, 1.99084582,\n",
       "       1.11606128, 0.51267033, 1.00741849, 0.25441507, 0.4357111 ,\n",
       "       0.80069314, 0.64667943, 0.38870347, 0.31448264, 0.94573778,\n",
       "       1.00722049, 3.59290371, 0.15850614, 0.76611914, 0.11565323,\n",
       "       0.72140042, 2.67165973, 1.26420083, 2.13798957, 0.81555331,\n",
       "       0.57670985, 0.32129434, 1.37643484, 0.67645744, 0.15863975,\n",
       "       0.74554859, 0.38119627, 0.13709534, 0.38537886, 1.75412487,\n",
       "       3.42610856, 0.73695213, 0.65241892, 0.77690353, 1.40500946,\n",
       "       0.38407199, 0.89806599, 0.67381558, 2.58448465, 0.10999232,\n",
       "       3.3410805 , 0.82826983, 0.92259643, 1.71916632, 1.42412946,\n",
       "       0.74808773, 0.23019879, 0.7662204 , 0.65203062, 0.81724238,\n",
       "       1.37611373, 0.40842914, 0.69103936, 0.30085718, 2.58090975,\n",
       "       1.27535102, 1.51416271, 1.05458371, 1.29815868, 0.66995748,\n",
       "       0.75792357, 0.12675262, 0.36060379, 0.75512833, 0.44083864,\n",
       "       1.11212911, 0.23644829, 1.30693079, 0.35896929, 0.87446003,\n",
       "       1.66951798, 0.29182068, 1.06971121, 0.91894132, 0.66943356,\n",
       "       4.07386667, 0.49240815, 0.51786126, 0.65774152, 0.73248876,\n",
       "       1.44474725, 0.19922802, 0.27161655, 1.9569557 , 0.07830826,\n",
       "       0.24454629, 0.94435968, 1.60465219, 0.84159297, 0.45167858,\n",
       "       0.79550758, 2.15573743, 1.44229518, 1.07590816, 0.33442902,\n",
       "       0.68787637, 0.53550081, 0.20541885, 0.84518075, 0.69798127,\n",
       "       1.62565171, 1.83121239, 0.55065639, 2.16606089, 0.30110616,\n",
       "       1.52880086, 0.80644311, 2.01902762, 0.37325361, 0.67330603,\n",
       "       0.66546262, 0.67510239, 1.43424018, 0.88647834, 2.00808993,\n",
       "       1.35215763, 0.50182391, 0.5880809 , 0.46635597, 1.13200681,\n",
       "       2.22463949, 1.24796957, 0.67304143, 0.53746626, 0.27707511,\n",
       "       1.54307659, 0.51499859, 2.48002758, 1.21951544, 1.72098303,\n",
       "       1.33185146, 1.36473526, 1.27307442, 0.68719627, 1.10554733,\n",
       "       0.54402346, 0.37038756, 0.55659711, 0.56329618, 3.0402521 ,\n",
       "       0.81759756, 2.52538894, 0.54192214, 0.64813785, 1.16558584,\n",
       "       3.15316217, 2.09866774, 0.93630726, 0.1899012 , 0.67166599,\n",
       "       0.05285029, 1.39546706, 0.35634068, 1.52854449, 1.85618417,\n",
       "       1.1367597 , 1.34747339, 0.92274391, 0.30411999, 0.74923159,\n",
       "       0.9223765 , 0.72561952, 1.42299865, 2.01089986, 4.09114524,\n",
       "       0.35129444, 1.56940201, 1.05852404, 0.99840488, 0.65017613,\n",
       "       1.18962883, 0.86490654, 0.92337188, 0.73161571, 2.47939824,\n",
       "       0.25361009, 0.16381612, 1.93547344, 1.55366779, 1.84846386,\n",
       "       1.16736326, 0.83144923, 2.62093444, 0.42542869, 0.26195673,\n",
       "       0.81308827, 1.67595482, 0.3168874 , 0.71921126, 0.9894652 ,\n",
       "       1.78188769, 2.33040223, 0.90844929, 2.55535246, 0.45791472,\n",
       "       1.61222708, 1.21587283, 0.95612894, 0.48441155, 2.08777959,\n",
       "       0.11195047, 0.15654151, 0.18616704, 1.39873446, 0.89151423,\n",
       "       0.7866109 , 1.40248046, 1.50994088, 0.61116958, 0.65119673,\n",
       "       0.43935272, 2.39565373, 0.89489015, 2.14303654, 1.19075327,\n",
       "       1.62430033, 2.13629238, 0.70340763, 1.0779725 , 0.68408209,\n",
       "       0.44481763, 0.2033843 , 1.11997639, 0.95870431, 0.58026114,\n",
       "       0.50734512, 0.40487728, 0.82108953, 1.24667013, 0.34466662,\n",
       "       0.58394221, 2.30540786, 0.93209692, 0.73812525, 0.59638882,\n",
       "       2.00863404, 0.64001599, 0.16066777, 2.44608875, 0.16687531,\n",
       "       0.48888395, 0.19017014, 0.85875961, 1.93158689, 0.27324317,\n",
       "       2.05435139, 0.25000905, 1.01993708, 0.4935522 , 0.38978198,\n",
       "       1.61206024, 0.54987533, 0.21086504, 0.29711573, 0.19873528,\n",
       "       0.93667633, 1.12172594, 0.54008613, 1.78277568, 1.83504383,\n",
       "       0.748588  , 0.68438435, 1.21631024, 0.29572472, 2.60926236,\n",
       "       2.00003918, 0.62885723, 0.28387616, 1.52288416, 0.41214556,\n",
       "       0.67675983, 0.22905882, 1.76516531, 1.37184712, 2.06102131,\n",
       "       0.22419154, 0.62004318, 0.25257329, 1.61246176, 1.02974275,\n",
       "       0.10526088, 0.11629502, 2.29222431, 0.40430218, 0.78385698,\n",
       "       0.23246875, 0.36289788, 0.40147014, 0.21314667, 0.53624495,\n",
       "       0.68350782, 0.65113019, 1.40313766, 1.08279037, 1.43646313,\n",
       "       0.56469021, 0.61981432, 0.88100954, 0.99011533, 0.97618743,\n",
       "       1.05980344, 1.12775049, 1.29339983, 1.47711226, 2.73102474,\n",
       "       1.06354597, 0.4758724 , 1.70158265, 1.54247102, 0.64503735,\n",
       "       0.62534338, 1.02286552, 0.34294025, 0.92200602, 0.97066232,\n",
       "       0.92942887, 0.40569369, 0.50941005, 2.37617126, 0.36341343,\n",
       "       0.45196633, 0.74622533, 0.75209349, 0.23662259, 0.16222143,\n",
       "       0.89606046, 0.64799191, 1.46539976, 0.16553091, 0.74921234,\n",
       "       0.34789505, 0.82959881, 4.1814764 , 0.84930361, 0.42942515,\n",
       "       0.97469031, 0.75948286, 2.05816486, 0.42218892, 0.30348948,\n",
       "       3.57072519, 2.40863468, 1.3756799 , 0.24370355, 2.79572695,\n",
       "       1.92796468, 0.43567162, 0.89559683, 6.83862879, 1.22721142,\n",
       "       0.9344187 , 0.92037444, 1.67390097, 1.09493692, 0.72574227,\n",
       "       0.63454546, 2.41042148, 1.72451998, 0.68387926, 1.51353909,\n",
       "       1.4652211 , 0.35183845, 1.29532265, 0.43452753, 0.86477924,\n",
       "       1.10492269, 0.75472793, 0.19596649, 0.45059497, 0.23214948,\n",
       "       2.47223696, 0.64880324, 1.3571383 , 0.73364539, 0.65006705,\n",
       "       2.15009549, 0.73966566, 0.67037915, 0.57514976, 2.79753472,\n",
       "       2.45303764, 1.91768625, 1.58499739, 1.87818114, 0.69585307,\n",
       "       0.50860871, 0.25227956, 0.35405255, 0.69731573, 0.2648424 ])"
      ]
     },
     "execution_count": 159,
     "metadata": {},
     "output_type": "execute_result"
    }
   ],
   "source": [
    "htanova.sampling_dist"
   ]
  },
  {
   "cell_type": "code",
   "execution_count": 160,
   "metadata": {},
   "outputs": [
    {
     "data": {
      "text/plain": [
       "1.0"
      ]
     },
     "execution_count": 160,
     "metadata": {},
     "output_type": "execute_result"
    }
   ],
   "source": [
    "# I think it is working. The power is 1.0 because the p-value is so small. The test pretty much always gives significant result\n",
    "htanova.Power(num_runs=100)"
   ]
  },
  {
   "cell_type": "code",
   "execution_count": 161,
   "metadata": {},
   "outputs": [
    {
     "data": {
      "text/plain": [
       "7.121019471642447"
      ]
     },
     "execution_count": 161,
     "metadata": {},
     "output_type": "execute_result"
    }
   ],
   "source": [
    "htanova.test_stat"
   ]
  },
  {
   "cell_type": "code",
   "execution_count": 162,
   "metadata": {},
   "outputs": [],
   "source": [
    "tillamook = [0.0571, 0.0813, 0.0831, 0.0976, 0.0817, 0.0859, 0.0735,\n",
    "             0.0659, 0.0923, 0.0836]\n",
    "newport = [0.0873, 0.0662, 0.0672, 0.0819, 0.0749, 0.0649, 0.0835,\n",
    "           0.0725]\n",
    "new_petersburg = [0.0777, 0.1, 0.0817, 0.0807, 0.0887, 0.1, 0.0815]\n",
    "magadan = [0.1033, 0.0915, 0.0781, 0.0685, 0.0677, 0.0697, 0.0764,\n",
    "           0.0689]\n",
    "new_tvarminne = [0.0803, 0.1, 0.0805, 0.0973, 0.0837, 0.1]"
   ]
  },
  {
   "cell_type": "code",
   "execution_count": 163,
   "metadata": {},
   "outputs": [],
   "source": [
    "new_data = [tillamook, newport, new_petersburg, magadan, new_tvarminne]"
   ]
  },
  {
   "cell_type": "code",
   "execution_count": 164,
   "metadata": {},
   "outputs": [
    {
     "data": {
      "text/plain": [
       "(0.0802, 0.07479999999999999, 0.0871857142857143, 0.0780125, 0.0903)"
      ]
     },
     "execution_count": 164,
     "metadata": {},
     "output_type": "execute_result"
    }
   ],
   "source": [
    "# To use G-power, calculate the means of each data sequence\n",
    "np.mean(tillamook), np.mean(newport), np.mean(new_petersburg), np.mean(magadan), np.mean(new_tvarminne)"
   ]
  },
  {
   "cell_type": "code",
   "execution_count": 165,
   "metadata": {},
   "outputs": [
    {
     "data": {
      "text/plain": [
       "0.009815152852906583"
      ]
     },
     "execution_count": 165,
     "metadata": {},
     "output_type": "execute_result"
    }
   ],
   "source": [
    "# To use G-Power, calculate the average standard deviation\n",
    "(np.std(tillamook) + np.std(newport) + np.std(new_petersburg) + np.std(magadan) + np.std(new_tvarminne))/5"
   ]
  },
  {
   "cell_type": "code",
   "execution_count": 166,
   "metadata": {},
   "outputs": [],
   "source": [
    "htanova2 = HTOnewayAnova(new_data)"
   ]
  },
  {
   "cell_type": "code",
   "execution_count": 167,
   "metadata": {},
   "outputs": [
    {
     "data": {
      "text/plain": [
       "2.486048405682797"
      ]
     },
     "execution_count": 167,
     "metadata": {},
     "output_type": "execute_result"
    }
   ],
   "source": [
    "htanova2.test_stat"
   ]
  },
  {
   "cell_type": "code",
   "execution_count": 168,
   "metadata": {},
   "outputs": [
    {
     "data": {
      "text/plain": [
       "0.06199999999999928"
      ]
     },
     "execution_count": 168,
     "metadata": {},
     "output_type": "execute_result"
    }
   ],
   "source": [
    "htanova2.PValue()"
   ]
  },
  {
   "cell_type": "code",
   "execution_count": 169,
   "metadata": {},
   "outputs": [
    {
     "data": {
      "text/plain": [
       "0.67"
      ]
     },
     "execution_count": 169,
     "metadata": {},
     "output_type": "execute_result"
    }
   ],
   "source": [
    "# Seems to be working, GPower gives a result of 0.74\n",
    "htanova2.Power(num_runs=100)"
   ]
  },
  {
   "cell_type": "code",
   "execution_count": 170,
   "metadata": {},
   "outputs": [
    {
     "data": {
      "text/plain": [
       "F_onewayResult(statistic=2.486048405682797, pvalue=0.061842209191269946)"
      ]
     },
     "execution_count": 170,
     "metadata": {},
     "output_type": "execute_result"
    }
   ],
   "source": [
    "stats.f_oneway(*new_data)"
   ]
  },
  {
   "cell_type": "code",
   "execution_count": 171,
   "metadata": {},
   "outputs": [
    {
     "data": {
      "text/plain": [
       "2.486048405682797"
      ]
     },
     "execution_count": 171,
     "metadata": {},
     "output_type": "execute_result"
    }
   ],
   "source": [
    "htanova2.test_stat"
   ]
  },
  {
   "cell_type": "markdown",
   "metadata": {},
   "source": [
    "#### Post hoc analysis"
   ]
  },
  {
   "cell_type": "code",
   "execution_count": 172,
   "metadata": {},
   "outputs": [],
   "source": [
    "# Can I just use my difference in means hypothesis tests to find significant differences between pairs of data sequences?"
   ]
  },
  {
   "cell_type": "code",
   "execution_count": 173,
   "metadata": {},
   "outputs": [],
   "source": [
    "from itertools import combinations\n",
    "from math import factorial"
   ]
  },
  {
   "cell_type": "code",
   "execution_count": 174,
   "metadata": {},
   "outputs": [],
   "source": [
    "def AnovaPostHoc(data, alpha=0.05):\n",
    "    \"\"\"Performs ANOVA post-hoc analysis using a difference of means hypothesis test \n",
    "    on each possible pairing of supplied data sequences.\n",
    "    This analysis is used to determine which pairs \n",
    "    have statistically significant differnces in their means\n",
    "    \n",
    "    Args\n",
    "    ----\n",
    "    data (array-like):\n",
    "        A list or tuple of data sequences (group_1, group_2... group_n)\n",
    "    alpha (float)\n",
    "        The family wise error rate (FWER)\n",
    "    \n",
    "    Returns\n",
    "    -------\n",
    "    results:\n",
    "        A tuple of tuples containing the results for each pairing of sequences. \n",
    "        The results can be printed in an easy-to-read format using a for loop. \n",
    "        The results display three pieces of information:\n",
    "        1) The pairing\n",
    "        2) The pvalue for the pairing\n",
    "        3) Whether the pvalue is significant or not (Y or N)\n",
    "           * The significance level is determined by comparison of the pvalue \n",
    "             with the experiment-wise significance level. \n",
    "             The Bonferroni correction method is used to compute this significance level.\n",
    "    corrected_alpha:\n",
    "        The experiment-wise significance level\n",
    "    \"\"\"\n",
    "    num_comparisons = int(factorial(len(data))/(2*factorial(len(data)-2)))\n",
    "    corrected_alpha = 0.05/num_comparisons\n",
    "    enum_data = enumerate(data)\n",
    "    \n",
    "    results=[]\n",
    "    for pair in combinations(enum_data, 2):\n",
    "        test = dsa.HTDiffMeansH0((pair[0][1], pair[1][1]))\n",
    "        pvalue = test.PValue()\n",
    "        significant = 'Y' if pvalue < corrected_alpha else 'N'\n",
    "        results.append(((pair[0][0], pair[1][0]), '{:.3f}'.format(pvalue), significant))\n",
    "    \n",
    "    return results, corrected_alpha"
   ]
  },
  {
   "cell_type": "code",
   "execution_count": 175,
   "metadata": {},
   "outputs": [
    {
     "name": "stdout",
     "output_type": "stream",
     "text": [
      "0.005\n",
      "((0, 1), '0.311', 'N')\n",
      "((0, 2), '0.242', 'N')\n",
      "((0, 3), '0.697', 'N')\n",
      "((0, 4), '0.102', 'N')\n",
      "((1, 2), '0.021', 'N')\n",
      "((1, 3), '0.596', 'N')\n",
      "((1, 4), '0.007', 'N')\n",
      "((2, 3), '0.160', 'N')\n",
      "((2, 4), '0.573', 'N')\n",
      "((3, 4), '0.073', 'N')\n"
     ]
    }
   ],
   "source": [
    "results, corrected_alpha = AnovaPostHoc(new_data)\n",
    "print(corrected_alpha)\n",
    "for item in results:\n",
    "    print(item)"
   ]
  },
  {
   "cell_type": "code",
   "execution_count": 176,
   "metadata": {},
   "outputs": [
    {
     "data": {
      "text/plain": [
       "'0.311'"
      ]
     },
     "execution_count": 176,
     "metadata": {},
     "output_type": "execute_result"
    }
   ],
   "source": [
    "results[0][1]"
   ]
  },
  {
   "cell_type": "code",
   "execution_count": 177,
   "metadata": {},
   "outputs": [
    {
     "name": "stdout",
     "output_type": "stream",
     "text": [
      "0.005\n",
      "((0, 1), '0.314', 'N')\n",
      "((0, 2), '0.001', 'Y')\n",
      "((0, 3), '0.698', 'N')\n",
      "((0, 4), '0.035', 'N')\n",
      "((1, 2), '0.001', 'Y')\n",
      "((1, 3), '0.598', 'N')\n",
      "((1, 4), '0.007', 'N')\n",
      "((2, 3), '0.007', 'N')\n",
      "((2, 4), '0.384', 'N')\n",
      "((3, 4), '0.030', 'N')\n"
     ]
    }
   ],
   "source": [
    "results, corrected_alpha = AnovaPostHoc(data)\n",
    "print(corrected_alpha)\n",
    "for item in results:\n",
    "    print(item)"
   ]
  },
  {
   "cell_type": "code",
   "execution_count": 178,
   "metadata": {},
   "outputs": [],
   "source": [
    "# Compare this with statsmodels tukeyhsd\n",
    "from statsmodels.stats.multicomp import pairwise_tukeyhsd"
   ]
  },
  {
   "cell_type": "code",
   "execution_count": 179,
   "metadata": {},
   "outputs": [],
   "source": [
    "# Setting this up is crazy complicated\n",
    "# Found a way to do it here:\n",
    "# https://python.hotexamples.com/examples/statsmodels.stats.multicomp/-/pairwise_tukeyhsd/python-pairwise_tukeyhsd-function-examples.html\n",
    "def PairwiseTukeyHsd(data, alpha=0.05):\n",
    "    \"\"\"Uses pairwise Tukey HSD to perform ANOVA post-hoc analysis \n",
    "    to determine which paired comparisons have differences that are significant. \n",
    "    This function uses statsmodels pairwise_tukeyhsd.\n",
    "    Accepts data in the form of a list of data sequences (eg.(group_1, group_2... group_n)).\n",
    "    The returned object can be printed to show the results.\n",
    "    \n",
    "    Args\n",
    "    ----\n",
    "    data (array-like):\n",
    "        A list or tuple of data sequences (group_1, group_2... group_n)\n",
    "    alpha (float)\n",
    "        The family wise error rate (FWER)\n",
    "    \n",
    "    Returns\n",
    "    -------\n",
    "    A TukeyHSDResults object \n",
    "    \"\"\"\n",
    "    x = []\n",
    "    label = []\n",
    "    \n",
    "    for grp_num in range(len(data)):\n",
    "        x.extend(data[grp_num])\n",
    "        label.extend([grp_num]*len(data[grp_num]))\n",
    "\n",
    "    return pairwise_tukeyhsd(np.array(x), np.array(label), alpha=alpha)"
   ]
  },
  {
   "cell_type": "code",
   "execution_count": 180,
   "metadata": {},
   "outputs": [
    {
     "name": "stdout",
     "output_type": "stream",
     "text": [
      "Multiple Comparison of Means - Tukey HSD, FWER=0.05 \n",
      "====================================================\n",
      "group1 group2 meandiff p-adj   lower   upper  reject\n",
      "----------------------------------------------------\n",
      "     0      1  -0.0054 0.8898 -0.0226  0.0118  False\n",
      "     0      2   0.0232 0.0057  0.0054  0.0411   True\n",
      "     0      3  -0.0022    0.9 -0.0194   0.015  False\n",
      "     0      4   0.0155 0.1446 -0.0032  0.0342  False\n",
      "     1      2   0.0286  0.001  0.0099  0.0474   True\n",
      "     1      3   0.0032    0.9 -0.0149  0.0213  False\n",
      "     1      4   0.0209 0.0318  0.0013  0.0405   True\n",
      "     2      3  -0.0254 0.0037 -0.0442 -0.0067   True\n",
      "     2      4  -0.0077 0.7791 -0.0279  0.0124  False\n",
      "     3      4   0.0177 0.0928 -0.0019  0.0373  False\n",
      "----------------------------------------------------\n"
     ]
    }
   ],
   "source": [
    "print(PairwiseTukeyHsd(data))"
   ]
  },
  {
   "cell_type": "code",
   "execution_count": 181,
   "metadata": {},
   "outputs": [],
   "source": [
    "# This is the full function from which I got the method for using pairwise_tukey above\n",
    "def test_ANOVA_and_T_HSD(array_of_arrays):\n",
    "    ANOVA_f, ANOVA_p = stats.f_oneway(*array_of_arrays)\n",
    "\n",
    "    if ANOVA_p < 0.05:\n",
    "        x = []\n",
    "        label = []\n",
    "        for grp_num in range(len(array_of_arrays)):\n",
    "            x.extend(array_of_arrays[grp_num])\n",
    "            label.extend([grp_num]*len(array_of_arrays[grp_num]))\n",
    "        \n",
    "        tukey_HSD_result = pairwise_tukeyhsd(np.array(x), np.array(label))\n",
    "        \n",
    "        return ANOVA_p, tukey_HSD_result\n",
    "    else:\n",
    "        return ANOVA_p, False"
   ]
  },
  {
   "cell_type": "code",
   "execution_count": 182,
   "metadata": {},
   "outputs": [
    {
     "data": {
      "text/plain": [
       "(0.0002812242314534544,\n",
       " <statsmodels.sandbox.stats.multicomp.TukeyHSDResults at 0x1be87cb42c8>)"
      ]
     },
     "execution_count": 182,
     "metadata": {},
     "output_type": "execute_result"
    }
   ],
   "source": [
    "test_ANOVA_and_T_HSD(data)"
   ]
  },
  {
   "cell_type": "code",
   "execution_count": 183,
   "metadata": {},
   "outputs": [
    {
     "name": "stdout",
     "output_type": "stream",
     "text": [
      "0.016666666666666666\n",
      "((0, 1), '0.299', 'N')\n",
      "((0, 2), '0.000', 'Y')\n",
      "((1, 2), '0.000', 'Y')\n"
     ]
    }
   ],
   "source": [
    "# Try my new function using a different length of data set\n",
    "# This seems to work the corrected significance level \n",
    "# when there are three pairings is the same as what is listed on this site:\n",
    "# https://toptipbio.com/bonferroni-correction-method/\n",
    "results, corrected_alpha = AnovaPostHoc(data[:3])\n",
    "print(corrected_alpha)\n",
    "for item in results:\n",
    "    print(item)"
   ]
  },
  {
   "cell_type": "code",
   "execution_count": null,
   "metadata": {},
   "outputs": [],
   "source": []
  }
 ],
 "metadata": {
  "kernelspec": {
   "display_name": "Python 3",
   "language": "python",
   "name": "python3"
  },
  "language_info": {
   "codemirror_mode": {
    "name": "ipython",
    "version": 3
   },
   "file_extension": ".py",
   "mimetype": "text/x-python",
   "name": "python",
   "nbconvert_exporter": "python",
   "pygments_lexer": "ipython3",
   "version": "3.7.4"
  }
 },
 "nbformat": 4,
 "nbformat_minor": 4
}
