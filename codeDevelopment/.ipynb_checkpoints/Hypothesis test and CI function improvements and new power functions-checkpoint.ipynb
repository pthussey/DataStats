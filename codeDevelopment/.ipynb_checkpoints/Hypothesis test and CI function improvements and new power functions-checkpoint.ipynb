{
 "cells": [
  {
   "cell_type": "code",
   "execution_count": 2,
   "metadata": {},
   "outputs": [],
   "source": [
    "%matplotlib inline\n",
    "\n",
    "import pandas as pd\n",
    "import numpy as np\n",
    "\n",
    "from pandas.api.types import CategoricalDtype\n",
    "\n",
    "from collections import defaultdict, Counter\n",
    "\n",
    "import matplotlib\n",
    "import matplotlib.pyplot as plt\n",
    "import seaborn as sns\n",
    "\n",
    "import datetime as dt\n",
    "import matplotlib.dates as mdates\n",
    "\n",
    "import scipy.stats as stats\n",
    "import statsmodels.api as sm\n",
    "import statsmodels.stats.api as sms\n",
    "import statsmodels.formula.api as smf\n",
    "import patsy\n",
    "\n",
    "import dataStatsAnalysis_old as dsa\n",
    "import dataStatsPlotting as dsp\n",
    "\n",
    "dsp.SetParams()"
   ]
  },
  {
   "cell_type": "markdown",
   "metadata": {},
   "source": [
    "### Means function"
   ]
  },
  {
   "cell_type": "code",
   "execution_count": 3,
   "metadata": {},
   "outputs": [],
   "source": [
    "def ResampleMean(data, weights=None, iters=100):\n",
    "    \"\"\"Uses sampling with replacement to generate a sampling distribution of mean for a variable.\n",
    "    Can then make an rv of the distributions to plot cdf, compute p-value of hypothesized mean (eg. rv.cdf at 0), \n",
    "    and calculate sample distribution mean, std deviation (std error), and confidence interval (rv.interval).\n",
    "\n",
    "    Args:\n",
    "        data (array-like): Data for the variable of interest\n",
    "        weights (array-like, optional): Can include weights for the data. Used as DataFrame.sample parameter. Defaults to None.\n",
    "        iters (int, optional): The number of resampling iterations. Defaults to 100.\n",
    "\n",
    "    Returns:\n",
    "        mean_estimates (array): A mean estimates sampling distribution\n",
    "    \"\"\"\n",
    "    # Resample with replacement, calculating the mean of the data and building a list of mean estimates\n",
    "    if weights is None:   # In case of no weights, use a Series\n",
    "        s = pd.Series(data)\n",
    "        mean_estimates = [s.sample(n=len(s), replace=True).mean() for _ in range(iters)]\n",
    "    \n",
    "    else:    # In case of weights use a DataFrame\n",
    "        df = pd.DataFrame({'data':data,'wgt':weights})\n",
    "        mean_estimates = [df.sample(n=len(df), replace=True, weights=df.wgt).data.mean() for _ in range(iters)]\n",
    "    \n",
    "    return np.array(mean_estimates)"
   ]
  },
  {
   "cell_type": "code",
   "execution_count": 4,
   "metadata": {},
   "outputs": [],
   "source": [
    "# Add: return an rv as well\n",
    "# Note that this function can be used to make sample distributions for binary data too\n",
    "def ResampleMean_new(data, weights=None, iters=1000):\n",
    "    \"\"\"Uses sampling with replacement to generate a sampling distribution of mean for a variable.\n",
    "    Can then make an rv of the distributions to plot cdf, compute p-value of hypothesized mean (eg. rv.cdf at 0), \n",
    "    and calculate sample distribution mean, std deviation (std error), and confidence interval (rv.interval).\n",
    "\n",
    "    Args:\n",
    "        data (array-like): Data for the variable of interest\n",
    "        weights (array-like, optional): Can include weights for the data. Used as DataFrame.sample parameter. Defaults to None.\n",
    "        iters (int, optional): The number of resampling iterations. Defaults to 1000.\n",
    "\n",
    "    Returns:\n",
    "        mean_estimates (array): A mean estimates sampling distribution\n",
    "    \"\"\"\n",
    "    # Resample with replacement, calculating the mean of the data and building a list of mean estimates\n",
    "    if weights is None:   # In case of no weights, use a Series\n",
    "        s = pd.Series(data)\n",
    "        mean_estimates = [s.sample(n=len(s), replace=True).mean() for _ in range(iters)]\n",
    "    \n",
    "    else:    # In case of weights use a DataFrame\n",
    "        df = pd.DataFrame({'data':data,'wgt':weights})\n",
    "        mean_estimates = [df.sample(n=len(df), replace=True, weights=df.wgt).data.mean() for _ in range(iters)]\n",
    "    \n",
    "    return np.array(mean_estimates)"
   ]
  },
  {
   "cell_type": "markdown",
   "metadata": {},
   "source": [
    "### Try getting a two-tailed p value using a resampled mean"
   ]
  },
  {
   "cell_type": "code",
   "execution_count": 5,
   "metadata": {},
   "outputs": [],
   "source": [
    "data = np.random.randint(-10,13,size=100)"
   ]
  },
  {
   "cell_type": "code",
   "execution_count": 6,
   "metadata": {},
   "outputs": [],
   "source": [
    "dist = ResampleMean_new(data)\n",
    "rv = dsa.DiscreteRv(dist)"
   ]
  },
  {
   "cell_type": "code",
   "execution_count": 7,
   "metadata": {},
   "outputs": [
    {
     "data": {
      "text/plain": [
       "0.12800000000000009"
      ]
     },
     "execution_count": 7,
     "metadata": {},
     "output_type": "execute_result"
    }
   ],
   "source": [
    "# p-value at 0\n",
    "rv.cdf(0)"
   ]
  },
  {
   "cell_type": "code",
   "execution_count": 8,
   "metadata": {},
   "outputs": [
    {
     "data": {
      "text/plain": [
       "Ttest_1sampResult(statistic=1.1245141909923075, pvalue=0.263514081106675)"
      ]
     },
     "execution_count": 8,
     "metadata": {},
     "output_type": "execute_result"
    }
   ],
   "source": [
    "# The two-tailed p value using the scipy stats function is about double what I get from above\n",
    "stats.ttest_1samp(data,0)"
   ]
  },
  {
   "cell_type": "code",
   "execution_count": 9,
   "metadata": {},
   "outputs": [
    {
     "data": {
      "text/plain": [
       "<matplotlib.lines.Line2D at 0x1d35a5ea788>"
      ]
     },
     "execution_count": 9,
     "metadata": {},
     "output_type": "execute_result"
    },
    {
     "data": {
      "image/png": "[encoded data removed]",
      "text/plain": [
       "<Figure size 576x432 with 1 Axes>"
      ]
     },
     "metadata": {},
     "output_type": "display_data"
    }
   ],
   "source": [
    "# Check if the rv sampling distribution is symmetrical by plotting and looking at the tails\n",
    "\n",
    "fig,ax = plt.subplots()\n",
    "fig.set_size_inches(8,6)\n",
    "\n",
    "ax.plot(rv.xk, rv.cdf(rv.xk))\n",
    "ax.axvline(rv.mean(), color='C1', lw=1.3) # mean, orange line\n",
    "ax.axvline(rv.ppf(.05), color='C2', lw=1.3) # CI lower, green line\n",
    "ax.axvline(rv.ppf(.95), color='C2', lw=1.3) # CI upper, green line\n",
    "ax.axvline(0, color='C3', lw=1.3) # p-value (if comparing with zero), red line"
   ]
  },
  {
   "cell_type": "code",
   "execution_count": 10,
   "metadata": {},
   "outputs": [
    {
     "data": {
      "text/plain": [
       "1.41"
      ]
     },
     "execution_count": 10,
     "metadata": {},
     "output_type": "execute_result"
    }
   ],
   "source": [
    "rv.ppf(1-rv.cdf(0))"
   ]
  },
  {
   "cell_type": "code",
   "execution_count": 11,
   "metadata": {},
   "outputs": [
    {
     "data": {
      "text/plain": [
       "0.12699999999999934"
      ]
     },
     "execution_count": 11,
     "metadata": {},
     "output_type": "execute_result"
    }
   ],
   "source": [
    "1-rv.cdf(rv.ppf(1-rv.cdf(0)))"
   ]
  },
  {
   "cell_type": "code",
   "execution_count": 12,
   "metadata": {},
   "outputs": [
    {
     "data": {
      "text/plain": [
       "0.25499999999999945"
      ]
     },
     "execution_count": 12,
     "metadata": {},
     "output_type": "execute_result"
    }
   ],
   "source": [
    "# Two-tailed p-value by adding the tails\n",
    "rv.cdf(0) + 1-rv.cdf(rv.ppf(1-rv.cdf(0)))"
   ]
  },
  {
   "cell_type": "code",
   "execution_count": 13,
   "metadata": {},
   "outputs": [
    {
     "data": {
      "text/plain": [
       "0.24599999999999944"
      ]
     },
     "execution_count": 13,
     "metadata": {},
     "output_type": "execute_result"
    }
   ],
   "source": [
    "# Two-tailed p-value by adding on the probability that is equidistant from the mean as the mean is from zero\n",
    "rv.cdf(0) + 1-rv.cdf(rv.mean()*2)"
   ]
  },
  {
   "cell_type": "code",
   "execution_count": 14,
   "metadata": {},
   "outputs": [
    {
     "data": {
      "text/plain": [
       "0.23199999999999943"
      ]
     },
     "execution_count": 14,
     "metadata": {},
     "output_type": "execute_result"
    }
   ],
   "source": [
    "# Two-tailed p-value using median\n",
    "rv.cdf(0) + 1-rv.cdf(rv.median()*2)"
   ]
  },
  {
   "cell_type": "code",
   "execution_count": 15,
   "metadata": {},
   "outputs": [
    {
     "data": {
      "text/plain": [
       "0.25600000000000017"
      ]
     },
     "execution_count": 15,
     "metadata": {},
     "output_type": "execute_result"
    }
   ],
   "source": [
    "# Two-tailed p-value just by doubling one-tailed\n",
    "rv.cdf(0)*2"
   ]
  },
  {
   "cell_type": "code",
   "execution_count": 16,
   "metadata": {},
   "outputs": [
    {
     "data": {
      "text/plain": [
       "<matplotlib.lines.Line2D at 0x1d35a697688>"
      ]
     },
     "execution_count": 16,
     "metadata": {},
     "output_type": "execute_result"
    },
    {
     "data": {
      "image/png": "[encoded data removed]",
      "text/plain": [
       "<Figure size 576x432 with 1 Axes>"
      ]
     },
     "metadata": {},
     "output_type": "display_data"
    }
   ],
   "source": [
    "# Look at kde too\n",
    "\n",
    "fig,ax = plt.subplots()\n",
    "fig.set_size_inches(8,6)\n",
    "\n",
    "sns.kdeplot(dist, ax=ax)\n",
    "plt.axvline(rv.mean(), color='C1', lw=1.5)\n",
    "\n",
    "# ax.plot(rv.xk, rv.cdf(rv.xk))\n",
    "# ax.plot([rv.median(), rv.median()], [0, 1], color='C2')\n",
    "# ax.plot([rv.ppf(.05), rv.ppf(.05)], [0, 1], color='0.8')\n",
    "# ax.plot([rv.ppf(.95), rv.ppf(.95)], [0, 1], color='0.8')\n",
    "plt.axvline(0, color='C3', lw=1.3) # lower p-value, red line\n",
    "plt.axvline(rv.ppf(1-rv.cdf(0)), color='C3', lw=1.3) # upper p-value, red line"
   ]
  },
  {
   "cell_type": "code",
   "execution_count": 17,
   "metadata": {},
   "outputs": [
    {
     "data": {
      "text/plain": [
       "0.10399999999999932"
      ]
     },
     "execution_count": 17,
     "metadata": {},
     "output_type": "execute_result"
    }
   ],
   "source": [
    "1-rv.cdf(rv.median()*2)"
   ]
  },
  {
   "cell_type": "code",
   "execution_count": 18,
   "metadata": {},
   "outputs": [
    {
     "data": {
      "text/plain": [
       "(0.7273299999999999, 0.74)"
      ]
     },
     "execution_count": 18,
     "metadata": {},
     "output_type": "execute_result"
    }
   ],
   "source": [
    "rv.mean(), rv.median()"
   ]
  },
  {
   "cell_type": "code",
   "execution_count": 19,
   "metadata": {},
   "outputs": [],
   "source": [
    "# This below is a test of using my resampling function versus the Wilcoxon one-sample test\n",
    "# The example came from here:\n",
    "# https://learn.lboro.ac.uk/archive/olmp/olmp_resources/pages/workbooks_1_50_jan2008/Workbook45/45_1_non_pmtrc_tsts_sngl_smpl.pdf\n",
    "s = pd.Series([2128.7, 1679.1, 2317.2, 2001.3, 2107.6, 1718.4, 1787.4, 2562.3, 2356.9, 2153.2, 2167.1, 2387.5, 1679.9,\n",
    "                       2323.2, 1788.4, 2153.6, 2423.3, 2122.6, 2644.3, 1737.4])"
   ]
  },
  {
   "cell_type": "code",
   "execution_count": 22,
   "metadata": {},
   "outputs": [],
   "source": [
    "s_dist = dsa.ResampleMean(s,iters=1000)"
   ]
  },
  {
   "cell_type": "code",
   "execution_count": 23,
   "metadata": {},
   "outputs": [
    {
     "data": {
      "text/plain": [
       "0.05000000000000004"
      ]
     },
     "execution_count": 23,
     "metadata": {},
     "output_type": "execute_result"
    }
   ],
   "source": [
    "# My result is very close to the one from the example (0.05766)\n",
    "# Interestingly in the example they state that since this is a two-tailed test we must compare the obtained value to 0.025\n",
    "# This is an interesting way to look at significance in a two-tailed test when you have just a one-sided p-value\n",
    "dsa.PValueFromEstimates(s_dist, 2000, tail='left')"
   ]
  },
  {
   "cell_type": "code",
   "execution_count": 24,
   "metadata": {},
   "outputs": [
    {
     "data": {
      "text/plain": [
       "WilcoxonResult(statistic=65.0, pvalue=0.13535690010210896)"
      ]
     },
     "execution_count": 24,
     "metadata": {},
     "output_type": "execute_result"
    }
   ],
   "source": [
    "# This gives the two-sided p-value\n",
    "stats.wilcoxon(s-2000)"
   ]
  },
  {
   "cell_type": "markdown",
   "metadata": {},
   "source": [
    "### Difference in means"
   ]
  },
  {
   "cell_type": "code",
   "execution_count": 25,
   "metadata": {},
   "outputs": [],
   "source": [
    "import first\n",
    "\n",
    "live, firsts, others = first.MakeFrames()"
   ]
  },
  {
   "cell_type": "code",
   "execution_count": 26,
   "metadata": {},
   "outputs": [],
   "source": [
    "# Test new alternative hypothesis diff means function pvalue against pvalue from null hypothesis diff means function"
   ]
  },
  {
   "cell_type": "code",
   "execution_count": 29,
   "metadata": {},
   "outputs": [
    {
     "data": {
      "text/plain": [
       "0.07803726677754952"
      ]
     },
     "execution_count": 29,
     "metadata": {},
     "output_type": "execute_result"
    }
   ],
   "source": [
    "diff_means_results_H0 = dsa.ResampleDiffMeansH0(firsts.prglngth, others.prglngth)\n",
    "diff_means_results_H0[0]"
   ]
  },
  {
   "cell_type": "code",
   "execution_count": 30,
   "metadata": {},
   "outputs": [],
   "source": [
    "diff_means_results_Ha = dsa.ResampleDiffMeansHa(firsts.prglngth, others.prglngth)"
   ]
  },
  {
   "cell_type": "code",
   "execution_count": 31,
   "metadata": {},
   "outputs": [
    {
     "data": {
      "text/plain": [
       "0.15799999999999936"
      ]
     },
     "execution_count": 31,
     "metadata": {},
     "output_type": "execute_result"
    }
   ],
   "source": [
    "# Null hypothesis pvalue\n",
    "diff_means_rv_H0 = dsa.DiscreteRv(diff_means_results_H0[1])\n",
    "\n",
    "1-diff_means_rv_H0.cdf(diff_means_results_H0[0])"
   ]
  },
  {
   "cell_type": "code",
   "execution_count": 32,
   "metadata": {},
   "outputs": [
    {
     "data": {
      "text/plain": [
       "0.07000000000000005"
      ]
     },
     "execution_count": 32,
     "metadata": {},
     "output_type": "execute_result"
    }
   ],
   "source": [
    "# Alternative hypothesis pvalue\n",
    "# This is half the null hypothesis value which what we would expect because the H0 function is set to two-sided\n",
    "diff_means_rv_Ha = dsa.DiscreteRv(diff_means_results_Ha[1])\n",
    "\n",
    "diff_means_rv_Ha.cdf(0)"
   ]
  },
  {
   "cell_type": "markdown",
   "metadata": {},
   "source": [
    "### Create a new correlation Ha function"
   ]
  },
  {
   "cell_type": "code",
   "execution_count": 33,
   "metadata": {},
   "outputs": [],
   "source": [
    "def ResampleCorrelation_H0(x, y, iters=1000, onesided=False, method='pearson'):\n",
    "    \"\"\"Generates a correlation sampling distribution for the null hypothesis of no correlation between the variables via permutation of one of the variables. \n",
    "    Can then make an rv of this distribution to plot cdf, compute p-value for the actual correlation value (eg. rv.cdf at actual correlation(test_r)). \n",
    "    Can also use the 'min' and 'max' built-ins to find what the most extreme values are from the simluations.\n",
    "\n",
    "    Args:\n",
    "        x (array-like): Input variable 1\n",
    "        y (array-like): Input variable 2\n",
    "        iters (int): The number of simulations to run (Defaults to 1000)\n",
    "        onesided (bool): If set to True a onesided test, that does not use absolute value of difference, is run (Defaults to False)\n",
    "        method (string): Select 'pearson' or 'spearman' method (default: 'pearson')\n",
    "\n",
    "    Returns:\n",
    "        test_r: Original actual correlation value\n",
    "        corrs (array): Sampling distribution for the null hypothesis of no correlation obtained from resampling\n",
    "    \"\"\"\n",
    "    xs, ys = np.array(x), np.array(y)\n",
    "    \n",
    "    if method == 'pearson':\n",
    "\n",
    "        corrs=[]    \n",
    "        if onesided == False:\n",
    "            test_r = abs(stats.pearsonr(xs, ys)[0])\n",
    "\n",
    "            for _ in range(iters):\n",
    "                xs = np.random.permutation(xs)\n",
    "                corr = abs(stats.pearsonr(xs, ys)[0])\n",
    "                corrs.append(corr)\n",
    "\n",
    "        elif onesided == True:\n",
    "            test_r = stats.pearsonr(xs, ys)[0]\n",
    "\n",
    "            for _ in range(iters):\n",
    "                xs = np.random.permutation(xs)\n",
    "                corr = stats.pearsonr(xs, ys)[0]\n",
    "                corrs.append(corr)\n",
    "\n",
    "        else:\n",
    "            raise TypeError('\\'onesided\\' parameter only accepts Boolean True or False')\n",
    "    \n",
    "    elif method == 'spearman':\n",
    "\n",
    "        corrs=[]    \n",
    "        if onesided == False:\n",
    "            test_r = abs(stats.spearmanr(xs, ys)[0])\n",
    "\n",
    "            for _ in range(iters):\n",
    "                xs = np.random.permutation(xs)\n",
    "                corr = abs(stats.spearmanr(xs, ys)[0])\n",
    "                corrs.append(corr)\n",
    "\n",
    "        elif onesided == True:\n",
    "            test_r = stats.spearmanr(xs, ys)[0]\n",
    "\n",
    "            for _ in range(iters):\n",
    "                xs = np.random.permutation(xs)\n",
    "                corr = stats.spearmanr(xs, ys)[0]\n",
    "                corrs.append(corr)\n",
    "\n",
    "        else:\n",
    "            raise TypeError('\\'onesided\\' parameter only accepts Boolean True or False')        \n",
    "    \n",
    "    else:\n",
    "        raise Exception('Must enter either pearson or spearman as a string for method argument')       \n",
    "    \n",
    "    return test_r, np.array(corrs)\n"
   ]
  },
  {
   "cell_type": "code",
   "execution_count": 34,
   "metadata": {},
   "outputs": [],
   "source": [
    "def ResampleCorrelation_Ha(x, y, iters=1000, method='pearson'):\n",
    "    \"\"\"Generates a correlation sampling distribution for the alternative hypothesis of correlation existing between the variables. \n",
    "    This is done by resampling x, y pairs and calculating correlation on new samples. \n",
    "    Can then make an rv of this distribution to calculate sampling distribution mean, std deviation (std error), and confidence interval (rv.interval). \n",
    "    Can also get a one-sided p-value for case of no difference null hypothesis using rv.cdf(0). \n",
    "    For two-sided p-value, can double the one-sided if sampling distribution is symmetrical or use the H0 version of this function. \n",
    "    Can also use the 'min' and 'max' built-ins to find what the most extreme values are from the simluations.\n",
    "\n",
    "    Args:\n",
    "        x (array-like): Input variable 1\n",
    "        y (array-like): Input variable 2\n",
    "        iters (int): The number of simulations to run (Defaults to 1000)\n",
    "        method (string): Select 'pearson' or 'spearman' method (default: 'pearson')\n",
    "        \n",
    "    Returns:\n",
    "        actual_r: Original actual correlation value\n",
    "        corrs (array): Sampling distribution for the alternative hypothesis of no correlation obtained from resampling\n",
    "    \"\"\"\n",
    "    if method == 'pearson':  \n",
    "        # Calculate actual correlation\n",
    "        actual_r = stats.pearsonr(x, y)[0]\n",
    "\n",
    "        # Create a dataframe to hold the x and y values as pairs\n",
    "        df = pd.DataFrame({'x':x, 'y': y})\n",
    "\n",
    "        corrs=[]    \n",
    "        for _ in range(iters):\n",
    "            sample = df.sample(n=len(df), replace=True)\n",
    "            r = stats.pearsonr(sample.x, sample.y)[0]\n",
    "            corrs.append(r)\n",
    "    \n",
    "    elif method == 'spearman':\n",
    "        # Calculate actual correlation\n",
    "        actual_r = stats.spearmanr(x, y)[0]\n",
    "\n",
    "        # Create a dataframe to hold the x and y values as pairs\n",
    "        df = pd.DataFrame({'x':x, 'y': y})\n",
    "\n",
    "        corrs=[]    \n",
    "        for _ in range(iters):\n",
    "            sample = df.sample(n=len(df), replace=True)\n",
    "            r = stats.spearmanr(sample.x, sample.y)[0]\n",
    "            corrs.append(r)\n",
    "    \n",
    "    else:\n",
    "        raise Exception('Must enter either pearson or spearman as a string for method argument')\n",
    "        \n",
    "    \n",
    "    return actual_r, np.array(corrs)\n"
   ]
  },
  {
   "cell_type": "code",
   "execution_count": 35,
   "metadata": {},
   "outputs": [],
   "source": [
    "cleaned = live.dropna(subset=['agepreg', 'totalwgt_lb'])"
   ]
  },
  {
   "cell_type": "code",
   "execution_count": 36,
   "metadata": {},
   "outputs": [
    {
     "data": {
      "text/plain": [
       "[0.07913980394537937,\n",
       " 0.06687111676821168,\n",
       " 0.055451551201551826,\n",
       " 0.0643429294340228,\n",
       " 0.0765503115659842,\n",
       " 0.07667127603202052,\n",
       " 0.06561017409606001,\n",
       " 0.07757080364541098,\n",
       " 0.07651464609875001,\n",
       " 0.06154221869485364,\n",
       " 0.06931712926885308,\n",
       " 0.07801096369109156,\n",
       " 0.09154369650569809,\n",
       " 0.07213409821387523,\n",
       " 0.05056786477819363,\n",
       " 0.09472002162375193,\n",
       " 0.04380019685846258,\n",
       " 0.07990344865779742,\n",
       " 0.07734447741327985,\n",
       " 0.06820363463180965,\n",
       " 0.057540654109816826,\n",
       " 0.05354087014763767,\n",
       " 0.06244394188907984,\n",
       " 0.05453285105954417,\n",
       " 0.07401301970160303,\n",
       " 0.07474932345730737,\n",
       " 0.0785927285055583,\n",
       " 0.05904489571861391,\n",
       " 0.07774854583190469,\n",
       " 0.04612805003131196,\n",
       " 0.07511160072736792,\n",
       " 0.07990229518813838,\n",
       " 0.057577375162046196,\n",
       " 0.07635652687309567,\n",
       " 0.0693815506156647,\n",
       " 0.07705640877053413,\n",
       " 0.08606574754321582,\n",
       " 0.06168390769243234,\n",
       " 0.06924864682183077,\n",
       " 0.06213451610726986,\n",
       " 0.06461876677620139,\n",
       " 0.06682425698223343,\n",
       " 0.061781198015199865,\n",
       " 0.07039838730757068,\n",
       " 0.08713983230638132,\n",
       " 0.050157949124168724,\n",
       " 0.0812577026857687,\n",
       " 0.07796742007526788,\n",
       " 0.07769984331182174,\n",
       " 0.05974604470941795,\n",
       " 0.07852882976702236,\n",
       " 0.06842639784560053,\n",
       " 0.08471231389548381,\n",
       " 0.0762606354352221,\n",
       " 0.07370497478842171,\n",
       " 0.0735994635688903,\n",
       " 0.0762126466868818,\n",
       " 0.07380496979635143,\n",
       " 0.09286833690430055,\n",
       " 0.09307387093360486,\n",
       " 0.06579370989224764,\n",
       " 0.07097586818894723,\n",
       " 0.05954892852399493,\n",
       " 0.07701403297409318,\n",
       " 0.10329750887021615,\n",
       " 0.060648041128738284,\n",
       " 0.08806312481079903,\n",
       " 0.07385321724124447,\n",
       " 0.051764279928864426,\n",
       " 0.06376206898694503,\n",
       " 0.07889998435724904,\n",
       " 0.06956528658295326,\n",
       " 0.0643710210536842,\n",
       " 0.08140183837904486,\n",
       " 0.0721165060125862,\n",
       " 0.04641399934476019,\n",
       " 0.05066757522503833,\n",
       " 0.0531380594372691,\n",
       " 0.082949875787848,\n",
       " 0.07493714173056246,\n",
       " 0.10214845510631809,\n",
       " 0.06888401633612111,\n",
       " 0.09279880569368995,\n",
       " 0.039806648055815484,\n",
       " 0.070020873790313,\n",
       " 0.08239073439930379,\n",
       " 0.05830084049219054,\n",
       " 0.06990550629711446,\n",
       " 0.06761262437156862,\n",
       " 0.062148485423718376,\n",
       " 0.06870951233835451,\n",
       " 0.05785026984076977,\n",
       " 0.06333817088936151,\n",
       " 0.07927387727064675,\n",
       " 0.07836711813709019,\n",
       " 0.05240061266777435,\n",
       " 0.07674573150488789,\n",
       " 0.08643667710553411,\n",
       " 0.05386727253610562,\n",
       " 0.0676682556466519,\n",
       " 0.071747352808129,\n",
       " 0.058318312071659086,\n",
       " 0.07103136610600816,\n",
       " 0.054956816601544466,\n",
       " 0.0653619491618014,\n",
       " 0.07048147514230223,\n",
       " 0.08137331883165813,\n",
       " 0.061274421099383344,\n",
       " 0.06796219800319625,\n",
       " 0.0652762309061501,\n",
       " 0.07563054460344626,\n",
       " 0.06863724650754936,\n",
       " 0.08226973440236875,\n",
       " 0.07218389066510063,\n",
       " 0.0675936380428009,\n",
       " 0.07283261304682183,\n",
       " 0.0712471878416957,\n",
       " 0.07323481567267484,\n",
       " 0.07467100023625145,\n",
       " 0.0714094052157292,\n",
       " 0.06976664184162787,\n",
       " 0.06001295348928551,\n",
       " 0.09321209093010273,\n",
       " 0.059897627392766745,\n",
       " 0.07036162488783206,\n",
       " 0.07705340567808822,\n",
       " 0.056440725185070637,\n",
       " 0.08003769132780697,\n",
       " 0.09452943093127847,\n",
       " 0.053328073746499866,\n",
       " 0.05170977080912427,\n",
       " 0.06470584892385353,\n",
       " 0.06664161089845852,\n",
       " 0.07613564190226216,\n",
       " 0.06157061639739694,\n",
       " 0.06848468061237334,\n",
       " 0.07433453319423736,\n",
       " 0.0622254866449955,\n",
       " 0.08136641114883247,\n",
       " 0.05516651300498897,\n",
       " 0.06582614357233993,\n",
       " 0.04832322632583689,\n",
       " 0.0645856727278422,\n",
       " 0.0784912219888759,\n",
       " 0.06579265542139506,\n",
       " 0.08484003998896034,\n",
       " 0.04306404963483478,\n",
       " 0.06591731804866596,\n",
       " 0.07206092905327541,\n",
       " 0.05689151588376836,\n",
       " 0.058131890797019886,\n",
       " 0.08446741527265947,\n",
       " 0.0666817567792152,\n",
       " 0.0765589231640568,\n",
       " 0.07427993730951117,\n",
       " 0.08138675811519322,\n",
       " 0.08287523452288312,\n",
       " 0.05550228475470037,\n",
       " 0.06941898427384222,\n",
       " 0.07738887428191203,\n",
       " 0.07493752555165988,\n",
       " 0.07241965922515878,\n",
       " 0.0715409251921359,\n",
       " 0.06489361928997789,\n",
       " 0.06557370993027309,\n",
       " 0.06755175603825607,\n",
       " 0.06509554702161556,\n",
       " 0.06874559608683643,\n",
       " 0.07686641150486759,\n",
       " 0.06230499127807016,\n",
       " 0.08070082632641455,\n",
       " 0.08203769315734477,\n",
       " 0.07672472184385662,\n",
       " 0.06282356785651702,\n",
       " 0.06683516398267218,\n",
       " 0.08641645222360754,\n",
       " 0.07752960110987653,\n",
       " 0.09893181554552148,\n",
       " 0.06267816272792641,\n",
       " 0.07572543999019993,\n",
       " 0.07190940105268744,\n",
       " 0.07880425247440065,\n",
       " 0.09047141304398963,\n",
       " 0.08702271918962518,\n",
       " 0.08035537527601762,\n",
       " 0.05163450571906497,\n",
       " 0.05430753193776247,\n",
       " 0.0629833666908593,\n",
       " 0.06888102853298897,\n",
       " 0.06329699137627208,\n",
       " 0.0892843692001308,\n",
       " 0.06420386048007723,\n",
       " 0.06562552323195446,\n",
       " 0.06193134532380683,\n",
       " 0.07007613214643969,\n",
       " 0.05903036721832554,\n",
       " 0.07509145725324008,\n",
       " 0.06188574030036113,\n",
       " 0.07707347417529557,\n",
       " 0.08267359235236221,\n",
       " 0.07622260529667832,\n",
       " 0.07264540683142487,\n",
       " 0.06142165998788997,\n",
       " 0.08035944252044229,\n",
       " 0.05818958909665102,\n",
       " 0.08628275826212689,\n",
       " 0.0743262100017038,\n",
       " 0.08183631894094534,\n",
       " 0.06507225549904846,\n",
       " 0.06896093046575147,\n",
       " 0.06737377217229945,\n",
       " 0.06611604225927371,\n",
       " 0.07526617485347997,\n",
       " 0.07068206579571217,\n",
       " 0.05459615018124597,\n",
       " 0.07850788333689046,\n",
       " 0.05583552308866188,\n",
       " 0.07902247139886937,\n",
       " 0.07743269233944926,\n",
       " 0.06574328969485016,\n",
       " 0.07342428228237803,\n",
       " 0.09343901120465256,\n",
       " 0.05219574409646072,\n",
       " 0.07171889956489312,\n",
       " 0.06525135828640208,\n",
       " 0.07741583711547177,\n",
       " 0.09433846850599457,\n",
       " 0.0733252289599852,\n",
       " 0.06221976193622208,\n",
       " 0.05939618086217473,\n",
       " 0.07586338157384548,\n",
       " 0.08109912473950431,\n",
       " 0.06744618889029627,\n",
       " 0.06034785057406222,\n",
       " 0.08054913850854736,\n",
       " 0.06381348849947507,\n",
       " 0.06405503927052666,\n",
       " 0.06136743272137331,\n",
       " 0.07345204342745432,\n",
       " 0.06618016334108423,\n",
       " 0.08720899636539638,\n",
       " 0.06983760795296522,\n",
       " 0.07204668311712925,\n",
       " 0.06107922090046271,\n",
       " 0.051728896877835384,\n",
       " 0.06432150551389815,\n",
       " 0.06698118825900229,\n",
       " 0.08013058706385244,\n",
       " 0.08566613923397162,\n",
       " 0.09056393955616861,\n",
       " 0.08176525496663295,\n",
       " 0.05912050077950243,\n",
       " 0.03732927805526998,\n",
       " 0.07236964113762909,\n",
       " 0.05380759898592662,\n",
       " 0.06549490157674678,\n",
       " 0.08864885366235982,\n",
       " 0.05835879525629674,\n",
       " 0.0868932532833835,\n",
       " 0.06716259220804555,\n",
       " 0.06004309840828642,\n",
       " 0.07309275120728517,\n",
       " 0.07885723311844535,\n",
       " 0.06319752290341718,\n",
       " 0.06630430329861542,\n",
       " 0.0830331307168665,\n",
       " 0.07294925691901094,\n",
       " 0.07028457107064984,\n",
       " 0.05971034230202146,\n",
       " 0.04180109673663933,\n",
       " 0.06488536056466307,\n",
       " 0.04048808241463887,\n",
       " 0.048079969310382414,\n",
       " 0.06647360700022716,\n",
       " 0.07152238396466595,\n",
       " 0.08745821122504051,\n",
       " 0.06514715811786188,\n",
       " 0.0710781896445077,\n",
       " 0.05603156295654791,\n",
       " 0.07779708305872532,\n",
       " 0.0639957817924145,\n",
       " 0.06017959090038878,\n",
       " 0.09023946325037135,\n",
       " 0.08687084810118278,\n",
       " 0.06725997675090062,\n",
       " 0.06042976597631554,\n",
       " 0.0756551847894617,\n",
       " 0.06869022451388061,\n",
       " 0.08429065309982119,\n",
       " 0.07007159834550816,\n",
       " 0.07374881740980986,\n",
       " 0.08565076128565417,\n",
       " 0.09586289650436626,\n",
       " 0.05429726382224273,\n",
       " 0.08599659805808163,\n",
       " 0.06902940480600207,\n",
       " 0.08431262974842228,\n",
       " 0.05230655857663404,\n",
       " 0.049758589558791824,\n",
       " 0.07798664867675648,\n",
       " 0.07752156180094255,\n",
       " 0.060670203368013195,\n",
       " 0.06542730897655628,\n",
       " 0.08367460471278387,\n",
       " 0.07236802872015079,\n",
       " 0.05163591574911561,\n",
       " 0.06852937147754107,\n",
       " 0.07528350488919561,\n",
       " 0.06465173270477656,\n",
       " 0.0815678640700738,\n",
       " 0.0666583426876093,\n",
       " 0.07356382671460368,\n",
       " 0.046591858607586516,\n",
       " 0.05324734032172667,\n",
       " 0.06869678645996016,\n",
       " 0.055697240230811906,\n",
       " 0.08028261366526261,\n",
       " 0.07954697211603443,\n",
       " 0.0685232565751552,\n",
       " 0.07903218730866064,\n",
       " 0.059148021271668995,\n",
       " 0.07044966362523525,\n",
       " 0.055308561632759705,\n",
       " 0.05828421493037911,\n",
       " 0.06081993737958122,\n",
       " 0.0658837474480796,\n",
       " 0.07631084681515551,\n",
       " 0.058346288643659816,\n",
       " 0.08283166234549244,\n",
       " 0.056755652349554375,\n",
       " 0.055950477636215315,\n",
       " 0.0907028514081542,\n",
       " 0.06076473706540817,\n",
       " 0.07994331347465167,\n",
       " 0.06649764304832607,\n",
       " 0.07045123565435635,\n",
       " 0.05217802338220357,\n",
       " 0.07205465157906185,\n",
       " 0.0726407746025059,\n",
       " 0.0807406292792882,\n",
       " 0.076039813556437,\n",
       " 0.06636757098386721,\n",
       " 0.05460682010782637,\n",
       " 0.06997625346039527,\n",
       " 0.06827199981942828,\n",
       " 0.05439222829566466,\n",
       " 0.05897770059235764,\n",
       " 0.03842078682111441,\n",
       " 0.06876104975960737,\n",
       " 0.06451266279321889,\n",
       " 0.07417159311498141,\n",
       " 0.047866844231322314,\n",
       " 0.05989643035394898,\n",
       " 0.04879654773639707,\n",
       " 0.07851381720483946,\n",
       " 0.0667075412994449,\n",
       " 0.06920761643398922,\n",
       " 0.06620035099167704,\n",
       " 0.07375998188926057,\n",
       " 0.0739017726477508,\n",
       " 0.0938415235546081,\n",
       " 0.0735201931338164,\n",
       " 0.07472233540432134,\n",
       " 0.0560194480922214,\n",
       " 0.07616123279426736,\n",
       " 0.057518771352770844,\n",
       " 0.0757675205184063,\n",
       " 0.07261785891056344,\n",
       " 0.08088367536335886,\n",
       " 0.05997747005114565,\n",
       " 0.07762464144779996,\n",
       " 0.05782762605232683,\n",
       " 0.06230145886168533,\n",
       " 0.0720024330879302,\n",
       " 0.07968458545765468,\n",
       " 0.05312845417902751,\n",
       " 0.07353777500972938,\n",
       " 0.07652495013055595,\n",
       " 0.06714759517621563,\n",
       " 0.06301726934647528,\n",
       " 0.05455650050435441,\n",
       " 0.07946741830282185,\n",
       " 0.07009147894323703,\n",
       " 0.06246109908349137,\n",
       " 0.06429813493498726,\n",
       " 0.06499469758511488,\n",
       " 0.07036061763750988,\n",
       " 0.07288028741540498,\n",
       " 0.08940613362361277,\n",
       " 0.07893734535051002,\n",
       " 0.06591300446876938,\n",
       " 0.07314183201108293,\n",
       " 0.0730404642666235,\n",
       " 0.08596277223515407,\n",
       " 0.06800220846436887,\n",
       " 0.08020740556659747,\n",
       " 0.06401675879648794,\n",
       " 0.05849427245668491,\n",
       " 0.07265729958223438,\n",
       " 0.07896405177558892,\n",
       " 0.05984919731254182,\n",
       " 0.05858419152200208,\n",
       " 0.0664374374117758,\n",
       " 0.07594820494080567,\n",
       " 0.06969947405440102,\n",
       " 0.09017807698102234,\n",
       " 0.07439381581931025,\n",
       " 0.06482013360201565,\n",
       " 0.0639270350791818,\n",
       " 0.09419764953976727,\n",
       " 0.07086074558477765,\n",
       " 0.05710683433673344,\n",
       " 0.061477433399586036,\n",
       " 0.08623917198649918,\n",
       " 0.05333380365746762,\n",
       " 0.08003498488027666,\n",
       " 0.08850084773426861,\n",
       " 0.06177512416560261,\n",
       " 0.08041740687009716,\n",
       " 0.06310668063421641,\n",
       " 0.06425650900557621,\n",
       " 0.05297058726118564,\n",
       " 0.08137387365877856,\n",
       " 0.06670311092852327,\n",
       " 0.06568494518018077,\n",
       " 0.0670849962609623,\n",
       " 0.05818540791914265,\n",
       " 0.06597933330497774,\n",
       " 0.07648830541052844,\n",
       " 0.06703769101037205,\n",
       " 0.06624397934406519,\n",
       " 0.06589795576689861,\n",
       " 0.07607370417484999,\n",
       " 0.07243083902591513,\n",
       " 0.06670236549588414,\n",
       " 0.06299265281785249,\n",
       " 0.0595070677068181,\n",
       " 0.07276161094350385,\n",
       " 0.056207140340918046,\n",
       " 0.050301819783131016,\n",
       " 0.07766522562250575,\n",
       " 0.06038804250358981,\n",
       " 0.06902038818228688,\n",
       " 0.0527593346715946,\n",
       " 0.07566166431146251,\n",
       " 0.07335403315725839,\n",
       " 0.07629205969993871,\n",
       " 0.06351528677868422,\n",
       " 0.0867857693220691,\n",
       " 0.09301099401620393,\n",
       " 0.050877328138201866,\n",
       " 0.05729610976992219,\n",
       " 0.08091052425268311,\n",
       " 0.08083218510110132,\n",
       " 0.06128198105572173,\n",
       " 0.06019235569684438,\n",
       " 0.05079824697755857,\n",
       " 0.04960247325937976,\n",
       " 0.08530130359468427,\n",
       " 0.05462564159427852,\n",
       " 0.05176872091883109,\n",
       " 0.060346428065463545,\n",
       " 0.05342671684210765,\n",
       " 0.058314246533615735,\n",
       " 0.06958083451997622,\n",
       " 0.06889504888774947,\n",
       " 0.07771182773728036,\n",
       " 0.045033441576780034,\n",
       " 0.07937979938734528,\n",
       " 0.06734231623342375,\n",
       " 0.08229306346062827,\n",
       " 0.05973496893258361,\n",
       " 0.05552494154640539,\n",
       " 0.059814030619691295,\n",
       " 0.06603173144368381,\n",
       " 0.05524682161257258,\n",
       " 0.07770553356160642,\n",
       " 0.051787240453974405,\n",
       " 0.08263958363368312,\n",
       " 0.05077205577298782,\n",
       " 0.06609632771772699,\n",
       " 0.053455748228593516,\n",
       " 0.06881984565155765,\n",
       " 0.06112547138304819,\n",
       " 0.043848687544977484,\n",
       " 0.05540600448955178,\n",
       " 0.0633457387556997,\n",
       " 0.057486244544159466,\n",
       " 0.06845542060929566,\n",
       " 0.059988653463379144,\n",
       " 0.07447863239286989,\n",
       " 0.07529321595899757,\n",
       " 0.08297099026870278,\n",
       " 0.06630510233604338,\n",
       " 0.06436175597642844,\n",
       " 0.04645093998247074,\n",
       " 0.07974363119745662,\n",
       " 0.06926845946483318,\n",
       " 0.053156583479828504,\n",
       " 0.07454503410235883,\n",
       " 0.08147893727173255,\n",
       " 0.06231342717289967,\n",
       " 0.056352060399713515,\n",
       " 0.06666998383922124,\n",
       " 0.059667860882488065,\n",
       " 0.06459015635380605,\n",
       " 0.07956318259573915,\n",
       " 0.06906572592485148,\n",
       " 0.07802840216471474,\n",
       " 0.041561067968586586,\n",
       " 0.08650066898413361,\n",
       " 0.06920713319647738,\n",
       " 0.08341709995010303,\n",
       " 0.06117777154540016,\n",
       " 0.07736426181151641,\n",
       " 0.06617233568727897,\n",
       " 0.059893399747500145,\n",
       " 0.05277990420826109,\n",
       " 0.06886179666639027,\n",
       " 0.06302674022306828,\n",
       " 0.059001769496691114,\n",
       " 0.060323446136079595,\n",
       " 0.06494926404176445,\n",
       " 0.06715588644582189,\n",
       " 0.09102185361398102,\n",
       " 0.07819188434195821,\n",
       " 0.06504923132716509,\n",
       " 0.06965463685092885,\n",
       " 0.07180740366534488,\n",
       " 0.06405384171919434,\n",
       " 0.05564633527813138,\n",
       " 0.08336041489006843,\n",
       " 0.06533817408463581,\n",
       " 0.07377851672482703,\n",
       " 0.06466913144931419,\n",
       " 0.056100558154779885,\n",
       " 0.05598321567765779,\n",
       " 0.06306510734047033,\n",
       " 0.0744904275131093,\n",
       " 0.0903789211612935,\n",
       " 0.04988956696465073,\n",
       " 0.052164258843040524,\n",
       " 0.07631345246296387,\n",
       " 0.0692973565952164,\n",
       " 0.07319803442984893,\n",
       " 0.08419886205068332,\n",
       " 0.07303247948367789,\n",
       " 0.07815579621828467,\n",
       " 0.0841261117376482,\n",
       " 0.07347712567235738,\n",
       " 0.06882104647272055,\n",
       " 0.07526976369881355,\n",
       " 0.06236492333808885,\n",
       " 0.07204346917297502,\n",
       " 0.0777110997424866,\n",
       " 0.07296640946997379,\n",
       " 0.06690116800896839,\n",
       " 0.07048164892802884,\n",
       " 0.056654863643984955,\n",
       " 0.07334333727971755,\n",
       " 0.06123909969870704,\n",
       " 0.07709684258370081,\n",
       " 0.06964805041814723,\n",
       " 0.07583762148388463,\n",
       " 0.07110153755142906,\n",
       " 0.07014573995177344,\n",
       " 0.06605870254780848,\n",
       " 0.07249060108918723,\n",
       " 0.07760583639532959,\n",
       " 0.05779358910863504,\n",
       " 0.07743817550402993,\n",
       " 0.06993406032685483,\n",
       " 0.06218887260486199,\n",
       " 0.06296500458150465,\n",
       " 0.08541897672189203,\n",
       " 0.07612034260968517,\n",
       " 0.07397216872005205,\n",
       " 0.0756286527110996,\n",
       " 0.07618792298293132,\n",
       " 0.05290042336866771,\n",
       " 0.07422254183088947,\n",
       " 0.07691838946688725,\n",
       " 0.06530809314377002,\n",
       " 0.06321540589580453,\n",
       " 0.05434408163791797,\n",
       " 0.05725244723385663,\n",
       " 0.06548110983206325,\n",
       " 0.08395451595998114,\n",
       " 0.08078587745169934,\n",
       " 0.07886974192242574,\n",
       " 0.07779220774360499,\n",
       " 0.05762526634792862,\n",
       " 0.06540553633434815,\n",
       " 0.06753301694892559,\n",
       " 0.05559167140088192,\n",
       " 0.06186962024905715,\n",
       " 0.06578984549126889,\n",
       " 0.08059551124165179,\n",
       " 0.05308106509663456,\n",
       " 0.08434473128332307,\n",
       " 0.07936985006302633,\n",
       " 0.0881091932254361,\n",
       " 0.05514950315622421,\n",
       " 0.054668363919190416,\n",
       " 0.07615105097206248,\n",
       " 0.06205114987539784,\n",
       " 0.07088259743761843,\n",
       " 0.08398766317492366,\n",
       " 0.0655299893321774,\n",
       " 0.06385208420973806,\n",
       " 0.046592516876165044,\n",
       " 0.07557223571658367,\n",
       " 0.06482992458631195,\n",
       " 0.07726206243768566,\n",
       " 0.07194283255040539,\n",
       " 0.06849511593897603,\n",
       " 0.0661597461385506,\n",
       " 0.07547821410278513,\n",
       " 0.08713891331174303,\n",
       " 0.06848492138779133,\n",
       " 0.06243045175505951,\n",
       " 0.0828227431711141,\n",
       " 0.06364409406296469,\n",
       " 0.05854705859527203,\n",
       " 0.06739124330322917,\n",
       " 0.0559130240915406,\n",
       " 0.08044525162374647,\n",
       " 0.06965422906459223,\n",
       " 0.07210703851642244,\n",
       " 0.0800406297942865,\n",
       " 0.05397351022363058,\n",
       " 0.06233663601323973,\n",
       " 0.07975740515547591,\n",
       " 0.07371890133074044,\n",
       " 0.06887357010291438,\n",
       " 0.06312563610692051,\n",
       " 0.06152138368349358,\n",
       " 0.0635806825680948,\n",
       " 0.06483835210831643,\n",
       " 0.08201242872243124,\n",
       " 0.06677820304993469,\n",
       " 0.06425615466507065,\n",
       " 0.06694106605769962,\n",
       " 0.07855812614043332,\n",
       " 0.05902020319808772,\n",
       " 0.08144252317004717,\n",
       " 0.07291758190896963,\n",
       " 0.05244636412989926,\n",
       " 0.054513852759555705,\n",
       " 0.07497326373390943,\n",
       " 0.08012986338815543,\n",
       " 0.08154797326387207,\n",
       " 0.08437684403586061,\n",
       " 0.06002929271523251,\n",
       " 0.0674034823791991,\n",
       " 0.04826584317070168,\n",
       " 0.06055290850197406,\n",
       " 0.06637038907069112,\n",
       " 0.08592024053665878,\n",
       " 0.0646420377793972,\n",
       " 0.06329445842890602,\n",
       " 0.06672586317131679,\n",
       " 0.08380388884112701,\n",
       " 0.07240525722419455,\n",
       " 0.0697793057405031,\n",
       " 0.07225959136481759,\n",
       " 0.06938567923831078,\n",
       " 0.04570612570482671,\n",
       " 0.07391810471860934,\n",
       " 0.050938952400616876,\n",
       " 0.06449025511660793,\n",
       " 0.0687172758392624,\n",
       " 0.06890608156272372,\n",
       " 0.06454753534470614,\n",
       " 0.07964675260001244,\n",
       " 0.08730537238958758,\n",
       " 0.06727908052970412,\n",
       " 0.05347635642655967,\n",
       " 0.057080557067032286,\n",
       " 0.06126040532952165,\n",
       " 0.04947683824125496,\n",
       " 0.0705805519042069,\n",
       " 0.055214840223844874,\n",
       " 0.06898770550981032,\n",
       " 0.059936125344677925,\n",
       " 0.0810539926920225,\n",
       " 0.06910168053504834,\n",
       " 0.07169279707182871,\n",
       " 0.06649541507661713,\n",
       " 0.08752825927832127,\n",
       " 0.06596734941403426,\n",
       " 0.06579041980368323,\n",
       " 0.07842490419540499,\n",
       " 0.06767254177391899,\n",
       " 0.07689318267729744,\n",
       " 0.0607901486990864,\n",
       " 0.07804455776823437,\n",
       " 0.06941463672249046,\n",
       " 0.06904282264575543,\n",
       " 0.07095874349015892,\n",
       " 0.04837167144601375,\n",
       " 0.07569683415990076,\n",
       " 0.08044744123126352,\n",
       " 0.07402155886562442,\n",
       " 0.07993012778546962,\n",
       " 0.08379048713315358,\n",
       " 0.055169537009584706,\n",
       " 0.07044820252174142,\n",
       " 0.04464114897783875,\n",
       " 0.04757300277185654,\n",
       " 0.07302458928484118,\n",
       " 0.06797274080008074,\n",
       " 0.05663328175916218,\n",
       " 0.04573433846945213,\n",
       " 0.058638511259323865,\n",
       " 0.07381852036154532,\n",
       " 0.07118571782236116,\n",
       " 0.06812980784049186,\n",
       " 0.07742953847262934,\n",
       " 0.04334138379605612,\n",
       " 0.08252290181127872,\n",
       " 0.06832105253209088,\n",
       " 0.05569872273017301,\n",
       " 0.061335741926399096,\n",
       " 0.07934241450872298,\n",
       " 0.06636304649704164,\n",
       " 0.0742364558982119,\n",
       " 0.07359436196771506,\n",
       " 0.06828808025056907,\n",
       " 0.07569642156200039,\n",
       " 0.05992274968355235,\n",
       " 0.08613149807922267,\n",
       " 0.06736808798283492,\n",
       " 0.08194899287541361,\n",
       " 0.07743349207371486,\n",
       " 0.06075398938346188,\n",
       " 0.05757136337847758,\n",
       " 0.073829093345472,\n",
       " 0.0629357338168025,\n",
       " 0.07248476604090101,\n",
       " 0.04160326101043044,\n",
       " 0.0915716606465211,\n",
       " 0.06385133222025939,\n",
       " 0.07299824063535629,\n",
       " 0.05571516810450183,\n",
       " 0.06936396981646419,\n",
       " 0.07870457252707247,\n",
       " 0.060500669406159446,\n",
       " 0.0781513069218915,\n",
       " 0.0637376660342507,\n",
       " 0.0701172246055931,\n",
       " 0.06004624511808748,\n",
       " 0.06973130548274172,\n",
       " 0.0717366283876393,\n",
       " 0.07727130134861732,\n",
       " 0.0780241517020624,\n",
       " 0.06614113019629608,\n",
       " 0.07484204010365782,\n",
       " 0.07464103940408683,\n",
       " 0.07076492874524169,\n",
       " 0.07727358095472668,\n",
       " 0.09073634522579599,\n",
       " 0.09434887641486278,\n",
       " 0.07045955100861312,\n",
       " 0.06743663800037018,\n",
       " 0.06653815401774836,\n",
       " 0.07764171013793048,\n",
       " 0.08275646868353746,\n",
       " 0.07879079461213838,\n",
       " 0.0694576771766497,\n",
       " 0.07617965664947582,\n",
       " 0.07011328888416912,\n",
       " 0.08437775362025851,\n",
       " 0.07551382348320466,\n",
       " 0.09127932045115995,\n",
       " 0.06342345085966632,\n",
       " 0.0691500124536241,\n",
       " 0.06965942624348868,\n",
       " 0.07253228177123368,\n",
       " 0.06487304455659733,\n",
       " 0.08084117350888761,\n",
       " 0.08441106852119779,\n",
       " 0.05854168346715317,\n",
       " 0.06750207830925116,\n",
       " 0.09347955659171422,\n",
       " 0.09315408209930456,\n",
       " 0.06755951893255605,\n",
       " 0.05379494840796371,\n",
       " 0.07752041786837265,\n",
       " 0.06455144888406442,\n",
       " 0.05035035696654312,\n",
       " 0.07639926517905501,\n",
       " 0.07989300225953504,\n",
       " 0.06467142952756239,\n",
       " 0.06407711603554911,\n",
       " 0.08403674959688412,\n",
       " 0.0668719512052726,\n",
       " 0.08529274084575184,\n",
       " 0.052115105873443625,\n",
       " 0.06225632433328336,\n",
       " 0.07199125844545061,\n",
       " 0.08410535704018282,\n",
       " 0.07625443737905736,\n",
       " 0.07446465320813037,\n",
       " 0.08537853321547667,\n",
       " 0.07742695765927729,\n",
       " 0.08160333054159699,\n",
       " 0.08945688816580333,\n",
       " 0.06316046272350431,\n",
       " 0.07224261165017846,\n",
       " 0.060144313520692716,\n",
       " 0.0764208230196419,\n",
       " 0.05543445464234763,\n",
       " 0.07965748940786423,\n",
       " 0.07331871267316721,\n",
       " 0.0696476953535819,\n",
       " 0.07761441396626274,\n",
       " 0.08854339140843803,\n",
       " 0.046218938949318285,\n",
       " 0.05235392698721453,\n",
       " 0.07999284208409539,\n",
       " 0.06641310605291231,\n",
       " 0.05590610814843286,\n",
       " 0.05472752230308679,\n",
       " 0.06846041439838099,\n",
       " 0.06695380422841452,\n",
       " 0.06863624462770426,\n",
       " 0.07296400714145829,\n",
       " 0.08324479528546758,\n",
       " 0.07312491192784698,\n",
       " 0.08241128207238374,\n",
       " 0.06705886111437363,\n",
       " 0.0807387993302014,\n",
       " 0.08215802396857831,\n",
       " 0.061869782985636994,\n",
       " 0.07170874729015761,\n",
       " 0.07354741607632909,\n",
       " 0.05421867048594445,\n",
       " 0.08319202880170218,\n",
       " 0.07170325006249137,\n",
       " 0.06954565420330498,\n",
       " 0.0523973566012961,\n",
       " 0.07184275928547923,\n",
       " 0.06521840009320598,\n",
       " 0.06504589992132667,\n",
       " 0.07238425967111882,\n",
       " 0.06763636661171174,\n",
       " 0.07390818853116257,\n",
       " 0.07693658839235495,\n",
       " 0.08390491460036117,\n",
       " 0.03912119147389723,\n",
       " 0.08224670490669857,\n",
       " 0.08781172131534129,\n",
       " 0.043990138251665055,\n",
       " 0.08025392599579563,\n",
       " 0.08123800396401303,\n",
       " 0.06730196180549192,\n",
       " 0.04671439845048164,\n",
       " 0.07284968062029695,\n",
       " 0.07352303759731069,\n",
       " 0.04404511893939205,\n",
       " 0.0630373153109834,\n",
       " 0.059805982476479,\n",
       " 0.08628629671422934,\n",
       " 0.06231645856963522,\n",
       " 0.07379330730738043,\n",
       " 0.05960809137850713,\n",
       " 0.05605548099175869,\n",
       " 0.06440377391843013,\n",
       " 0.07099488120240777,\n",
       " 0.05516871288655399,\n",
       " 0.06895502755325683,\n",
       " 0.059164451747563525,\n",
       " 0.06417960997090352,\n",
       " 0.08456212188220283,\n",
       " 0.08828729692778392,\n",
       " 0.08226906376172381,\n",
       " 0.07157129404942678,\n",
       " 0.055999818647213956,\n",
       " 0.06343633423581074,\n",
       " 0.08479441025791573,\n",
       " 0.06324405670582707,\n",
       " 0.08713645824539126,\n",
       " 0.05851411806810437,\n",
       " 0.0742239480918532,\n",
       " 0.06778664382858306,\n",
       " 0.06395985376341493,\n",
       " 0.0715750296586056,\n",
       " 0.06898052814975203,\n",
       " 0.0708968973803579,\n",
       " 0.06551993978037973,\n",
       " 0.0693030027641087,\n",
       " 0.05200117446508141,\n",
       " 0.06102918234777181,\n",
       " 0.07543313891607924,\n",
       " 0.08157875762408234,\n",
       " 0.06436359308431586,\n",
       " 0.07530324642684819,\n",
       " 0.09172074276573934,\n",
       " 0.06824833625339863,\n",
       " 0.07117479930707273,\n",
       " 0.08050454397357723,\n",
       " 0.05847663372885488,\n",
       " 0.05330123809132187,\n",
       " 0.06834118311384152,\n",
       " 0.06327351972243797,\n",
       " 0.059561108877272714,\n",
       " 0.06436527733005314,\n",
       " 0.07296123593071305,\n",
       " 0.06489463963948776,\n",
       " 0.07249272907017529,\n",
       " 0.037839430757071926,\n",
       " 0.06147756165033788,\n",
       " 0.07449224407354738,\n",
       " 0.07733579908832458,\n",
       " 0.053903699697704185,\n",
       " 0.07457914767640325,\n",
       " 0.0634907916392072,\n",
       " 0.06305124969182678,\n",
       " 0.07161227750610372,\n",
       " 0.06793721653553825,\n",
       " 0.07699021097689168,\n",
       " 0.06249641281737354,\n",
       " 0.0683498908259665,\n",
       " 0.06803023073912391,\n",
       " 0.07312104075021118,\n",
       " 0.06035138081976797,\n",
       " 0.076706610495284,\n",
       " 0.10670078469802616,\n",
       " 0.06610296015116587,\n",
       " 0.09618177035613926,\n",
       " 0.06693886311695789,\n",
       " 0.07130315874041952,\n",
       " 0.0659370206951623,\n",
       " 0.05845068907471314,\n",
       " 0.07317374134892743,\n",
       " 0.08845837998718353,\n",
       " 0.08139268006427179,\n",
       " 0.0540424722151822,\n",
       " 0.052206623328723514,\n",
       " 0.06735297299189283,\n",
       " 0.07634831430596808,\n",
       " 0.05884087067735106,\n",
       " 0.059588680576285386,\n",
       " 0.08223101577144608,\n",
       " 0.08336833278596718,\n",
       " 0.06275591581413073,\n",
       " 0.06417216191812147,\n",
       " 0.07402823433183417,\n",
       " 0.05196357403073177,\n",
       " 0.06333380647100385,\n",
       " 0.06366374571657307,\n",
       " 0.07296884067018368,\n",
       " 0.05638652790060454,\n",
       " 0.06596902478143588,\n",
       " 0.07275870309500762,\n",
       " 0.07768085043084558,\n",
       " 0.09348963736074534,\n",
       " 0.06130500379544483,\n",
       " 0.06385901004113181,\n",
       " 0.07886781053705058,\n",
       " 0.07234514179371784,\n",
       " 0.04984402815097415,\n",
       " 0.07350556100027086,\n",
       " 0.06790984778418441,\n",
       " 0.06417746157672016,\n",
       " 0.06736657502358845,\n",
       " 0.08779456145279997,\n",
       " 0.055157872822960266,\n",
       " 0.05891041560934651,\n",
       " 0.08041313106651561,\n",
       " 0.07031855270987808,\n",
       " 0.0756427909722998,\n",
       " 0.06858145928270719,\n",
       " 0.0889645055042142,\n",
       " 0.06901952860378294,\n",
       " 0.07223745305021029,\n",
       " 0.0567199543649814,\n",
       " 0.06300085333760709,\n",
       " 0.09251762294830222,\n",
       " 0.0662149556152109,\n",
       " 0.06283461730363352,\n",
       " 0.050036200440622965,\n",
       " 0.07223940445626151,\n",
       " 0.05697047191569482,\n",
       " 0.06322913475307539,\n",
       " 0.07567747868316556,\n",
       " 0.07565803964806883,\n",
       " 0.05298826078651134,\n",
       " 0.08485282332150114,\n",
       " 0.07012137581311871,\n",
       " 0.05513983703645671,\n",
       " 0.06618577649056455,\n",
       " 0.07039225326006213,\n",
       " 0.0729102060859471,\n",
       " 0.07801001342082198,\n",
       " 0.06416890373425417,\n",
       " 0.07739289042350242,\n",
       " 0.09341517049769303,\n",
       " 0.07260587114660802]"
      ]
     },
     "execution_count": 36,
     "metadata": {},
     "output_type": "execute_result"
    }
   ],
   "source": [
    "pairs_df = pd.DataFrame({'age':cleaned.agepreg, 'weight': cleaned.totalwgt_lb})\n",
    "\n",
    "rs = []\n",
    "for _ in range(1000):\n",
    "    sample = pairs_df.sample(n=len(pairs_df), replace=True)\n",
    "    r = stats.pearsonr(sample.age, sample.weight)[0]\n",
    "    rs.append(r)\n",
    "rs"
   ]
  },
  {
   "cell_type": "code",
   "execution_count": 37,
   "metadata": {},
   "outputs": [
    {
     "data": {
      "text/plain": [
       "0.06928632417707281"
      ]
     },
     "execution_count": 37,
     "metadata": {},
     "output_type": "execute_result"
    }
   ],
   "source": [
    "rs_array = np.array(rs)\n",
    "rs_array.mean()"
   ]
  },
  {
   "cell_type": "code",
   "execution_count": 38,
   "metadata": {},
   "outputs": [
    {
     "data": {
      "text/plain": [
       "(0.06883397035410908,\n",
       " 5.72294710722828e-11,\n",
       " 0.04828563698428592,\n",
       " 0.08932406444362936)"
      ]
     },
     "execution_count": 38,
     "metadata": {},
     "output_type": "execute_result"
    }
   ],
   "source": [
    "# Results using existing correlation and CI function, parametric\n",
    "dsa.CorrelationRandCI(cleaned.agepreg, cleaned.totalwgt_lb)"
   ]
  },
  {
   "cell_type": "code",
   "execution_count": 39,
   "metadata": {},
   "outputs": [
    {
     "data": {
      "text/plain": [
       "(0.06928632417707281,\n",
       " 0.011113126017293192,\n",
       " (0.04671439845048164, 0.09154369650569809))"
      ]
     },
     "execution_count": 39,
     "metadata": {},
     "output_type": "execute_result"
    }
   ],
   "source": [
    "# Results using resampling, non-parametric\n",
    "# The CIs from the two methods are nearly identical\n",
    "dsa.SummarizeEstimates(rs_array)"
   ]
  },
  {
   "cell_type": "code",
   "execution_count": 40,
   "metadata": {},
   "outputs": [],
   "source": [
    "# Try new function\n",
    "new_func_results = ResampleCorrelation_Ha(cleaned.agepreg, cleaned.totalwgt_lb, method='pearson')"
   ]
  },
  {
   "cell_type": "code",
   "execution_count": 43,
   "metadata": {},
   "outputs": [
    {
     "data": {
      "text/plain": [
       "(0.06892411488408619,\n",
       " 0.011189660861461701,\n",
       " (0.046295880974144575, 0.08947534929146049))"
      ]
     },
     "execution_count": 43,
     "metadata": {},
     "output_type": "execute_result"
    }
   ],
   "source": [
    "dsa.SummarizeEstimates(new_func_results[1])"
   ]
  },
  {
   "cell_type": "code",
   "execution_count": 44,
   "metadata": {},
   "outputs": [
    {
     "data": {
      "text/plain": [
       "0.0"
      ]
     },
     "execution_count": 44,
     "metadata": {},
     "output_type": "execute_result"
    }
   ],
   "source": [
    "# p value is very low\n",
    "dsa.PValueFromEstimates(new_func_results[1], 0, tail='left')"
   ]
  },
  {
   "cell_type": "code",
   "execution_count": 45,
   "metadata": {},
   "outputs": [
    {
     "data": {
      "text/plain": [
       "0.027176430524807456"
      ]
     },
     "execution_count": 45,
     "metadata": {},
     "output_type": "execute_result"
    }
   ],
   "source": [
    "# min function shows lowest result from the function's iterations\n",
    "min(new_func_results[1])"
   ]
  },
  {
   "cell_type": "code",
   "execution_count": 46,
   "metadata": {
    "scrolled": true
   },
   "outputs": [
    {
     "data": {
      "text/plain": [
       "0.06883397035410908"
      ]
     },
     "execution_count": 46,
     "metadata": {},
     "output_type": "execute_result"
    }
   ],
   "source": [
    "# Test updated H0 function\n",
    "new_null_func_results = ResampleCorrelation_H0(cleaned.agepreg, cleaned.totalwgt_lb, method='pearson')\n",
    "new_null_func_results[0]"
   ]
  },
  {
   "cell_type": "code",
   "execution_count": 47,
   "metadata": {},
   "outputs": [
    {
     "data": {
      "text/plain": [
       "(0.008762796888111317,\n",
       " 0.006359474778438039,\n",
       " (0.00041920582907897363, 0.024277493656093677))"
      ]
     },
     "execution_count": 47,
     "metadata": {},
     "output_type": "execute_result"
    }
   ],
   "source": [
    "dsa.SummarizeEstimates(new_null_func_results[1])"
   ]
  },
  {
   "cell_type": "code",
   "execution_count": 50,
   "metadata": {},
   "outputs": [
    {
     "data": {
      "text/plain": [
       "0.0"
      ]
     },
     "execution_count": 50,
     "metadata": {},
     "output_type": "execute_result"
    }
   ],
   "source": [
    "# Also very low p-value\n",
    "dsa.PValueFromEstimates(new_null_func_results[1], new_null_func_results[0])"
   ]
  },
  {
   "cell_type": "code",
   "execution_count": 51,
   "metadata": {},
   "outputs": [
    {
     "data": {
      "text/plain": [
       "0.033157408405186106"
      ]
     },
     "execution_count": 51,
     "metadata": {},
     "output_type": "execute_result"
    }
   ],
   "source": [
    "max(new_null_func_results[1])"
   ]
  },
  {
   "cell_type": "markdown",
   "metadata": {},
   "source": [
    "### Chi squared"
   ]
  },
  {
   "cell_type": "code",
   "execution_count": 52,
   "metadata": {},
   "outputs": [],
   "source": [
    "# Star Trek example data\n",
    "shirt_color = ['Blue']*136 + ['Gold']*55 + ['Red']*239\n",
    "status = ['Dead']*7 + ['Alive']*129 + ['Dead']*9 + ['Alive']*46 + ['Dead']*24 + ['Alive']*215\n",
    "star_trek_df = pd.DataFrame({'shirt_color' : shirt_color, 'status' : status})"
   ]
  },
  {
   "cell_type": "code",
   "execution_count": 53,
   "metadata": {},
   "outputs": [
    {
     "data": {
      "text/html": [
       "<div>\n",
       "<style scoped>\n",
       "    .dataframe tbody tr th:only-of-type {\n",
       "        vertical-align: middle;\n",
       "    }\n",
       "\n",
       "    .dataframe tbody tr th {\n",
       "        vertical-align: top;\n",
       "    }\n",
       "\n",
       "    .dataframe thead th {\n",
       "        text-align: right;\n",
       "    }\n",
       "</style>\n",
       "<table border=\"1\" class=\"dataframe\">\n",
       "  <thead>\n",
       "    <tr style=\"text-align: right;\">\n",
       "      <th>shirt_color</th>\n",
       "      <th>Blue</th>\n",
       "      <th>Gold</th>\n",
       "      <th>Red</th>\n",
       "    </tr>\n",
       "    <tr>\n",
       "      <th>status</th>\n",
       "      <th></th>\n",
       "      <th></th>\n",
       "      <th></th>\n",
       "    </tr>\n",
       "  </thead>\n",
       "  <tbody>\n",
       "    <tr>\n",
       "      <td>Alive</td>\n",
       "      <td>129</td>\n",
       "      <td>46</td>\n",
       "      <td>215</td>\n",
       "    </tr>\n",
       "    <tr>\n",
       "      <td>Dead</td>\n",
       "      <td>7</td>\n",
       "      <td>9</td>\n",
       "      <td>24</td>\n",
       "    </tr>\n",
       "  </tbody>\n",
       "</table>\n",
       "</div>"
      ],
      "text/plain": [
       "shirt_color  Blue  Gold  Red\n",
       "status                      \n",
       "Alive         129    46  215\n",
       "Dead            7     9   24"
      ]
     },
     "execution_count": 53,
     "metadata": {},
     "output_type": "execute_result"
    }
   ],
   "source": [
    "star_trek_cross = pd.crosstab(star_trek_df.status, star_trek_df.shirt_color)\n",
    "star_trek_cross"
   ]
  },
  {
   "cell_type": "code",
   "execution_count": 54,
   "metadata": {},
   "outputs": [
    {
     "data": {
      "text/plain": [
       "(6.188614838582533,\n",
       " 0.045306379921467986,\n",
       " 2,\n",
       " array([[123.34883721,  49.88372093, 216.76744186],\n",
       "        [ 12.65116279,   5.11627907,  22.23255814]]))"
      ]
     },
     "execution_count": 54,
     "metadata": {},
     "output_type": "execute_result"
    }
   ],
   "source": [
    "star_trek_cross_results = stats.chi2_contingency(star_trek_cross)\n",
    "star_trek_cross_results"
   ]
  },
  {
   "cell_type": "code",
   "execution_count": 55,
   "metadata": {},
   "outputs": [],
   "source": [
    "# Create a contribution to chi-squared calculation function\n",
    "# This can be done using the formula on page 347 of the hypothesis testing book\n",
    "# difference between observed and expected squared, divided by expected\n",
    "# perform this calculation for each element of the arrays"
   ]
  },
  {
   "cell_type": "code",
   "execution_count": 56,
   "metadata": {},
   "outputs": [
    {
     "data": {
      "text/plain": [
       "array([[129,  46, 215],\n",
       "       [  7,   9,  24]], dtype=int64)"
      ]
     },
     "execution_count": 56,
     "metadata": {},
     "output_type": "execute_result"
    }
   ],
   "source": [
    "obs_array = np.array(star_trek_cross)\n",
    "obs_array"
   ]
  },
  {
   "cell_type": "code",
   "execution_count": 57,
   "metadata": {},
   "outputs": [
    {
     "data": {
      "text/plain": [
       "array([[0.25890508, 0.30236895, 0.01441107],\n",
       "       [2.52432456, 2.94809725, 0.14050793]])"
      ]
     },
     "execution_count": 57,
     "metadata": {},
     "output_type": "execute_result"
    }
   ],
   "source": [
    "new_array = (obs_array - star_trek_cross_results[3])**2/star_trek_cross_results[3]\n",
    "new_array"
   ]
  },
  {
   "cell_type": "code",
   "execution_count": 58,
   "metadata": {},
   "outputs": [],
   "source": [
    "def ChiSquareContribution(obs, exp):\n",
    "    obs_array = np.array(obs)\n",
    "    exp_array = np.array(exp)\n",
    "    \n",
    "    return (obs_array - exp_array)**2/exp_array"
   ]
  },
  {
   "cell_type": "code",
   "execution_count": 59,
   "metadata": {},
   "outputs": [
    {
     "data": {
      "text/plain": [
       "array([[0.25890508, 0.30236895, 0.01441107],\n",
       "       [2.52432456, 2.94809725, 0.14050793]])"
      ]
     },
     "execution_count": 59,
     "metadata": {},
     "output_type": "execute_result"
    }
   ],
   "source": [
    "ChiSquareContribution(obs_array, star_trek_cross_results[3])"
   ]
  },
  {
   "cell_type": "code",
   "execution_count": 60,
   "metadata": {},
   "outputs": [],
   "source": [
    "# Another test of new function with one way example\n",
    "f_obs = [16, 18, 16, 14, 12, 12]\n",
    "f_exp=[16, 16, 16, 16, 16, 8]"
   ]
  },
  {
   "cell_type": "code",
   "execution_count": 61,
   "metadata": {},
   "outputs": [],
   "source": [
    "test_results = ChiSquareContribution(f_obs, f_exp)"
   ]
  },
  {
   "cell_type": "code",
   "execution_count": 64,
   "metadata": {},
   "outputs": [
    {
     "data": {
      "text/plain": [
       "3.5"
      ]
     },
     "execution_count": 64,
     "metadata": {},
     "output_type": "execute_result"
    }
   ],
   "source": [
    "# Results match the example here\n",
    "# https://docs.scipy.org/doc/scipy/reference/generated/scipy.stats.chisquare.html\n",
    "sum(test_results)"
   ]
  },
  {
   "cell_type": "markdown",
   "metadata": {},
   "source": [
    "### Poisson"
   ]
  },
  {
   "cell_type": "code",
   "execution_count": 65,
   "metadata": {},
   "outputs": [],
   "source": [
    "# If I want to run the stuff in this section, have to find the Count_Data_Example.csv file used\n",
    "# This data came from the Hypothesis Testing book (Stats by Jim)\n",
    "# But anyways, there is no need to create a separate Poission hypothesis test\n",
    "# My existing resampling functions give the same results as the Hypothesis testing book's parametric poisson tests\n",
    "# There is no need to create separate functions for poisson testing\n",
    "# poisson = pd.read_csv('Count_Data_Example.csv')\n",
    "# poisson.columns = poisson.columns.str.replace(' ', '_')\n",
    "# poisson"
   ]
  },
  {
   "cell_type": "code",
   "execution_count": 66,
   "metadata": {},
   "outputs": [],
   "source": [
    "# poisson_results = dsa.ResampleDiffMeans_H0(poisson.Supplier_1, poisson.Supplier_2)"
   ]
  },
  {
   "cell_type": "code",
   "execution_count": 67,
   "metadata": {},
   "outputs": [],
   "source": [
    "# My existing resampling functions give the same results as the Hypothesis testing book's parametric poisson tests\n",
    "# There is no need to create separate functions for poisson testing\n",
    "# dsa.PvalueFromEstimates(poisson_results[1], poisson_results[0], tail='right')"
   ]
  },
  {
   "cell_type": "code",
   "execution_count": 68,
   "metadata": {},
   "outputs": [],
   "source": [
    "# poisson_results_Ha = dsa.ResampleDiffMeans_Ha(poisson.Supplier_1, poisson.Supplier_2)"
   ]
  },
  {
   "cell_type": "code",
   "execution_count": 69,
   "metadata": {},
   "outputs": [],
   "source": [
    "# dsa.PvalueFromEstimates(poisson_results_Ha[1], 0)"
   ]
  },
  {
   "cell_type": "code",
   "execution_count": 70,
   "metadata": {},
   "outputs": [],
   "source": [
    "# Plot for null\n",
    "\n",
    "# poisson_rv_null = dsa.DiscreteRv(poisson_results[1])\n",
    "\n",
    "# fig,ax = plt.subplots()\n",
    "# fig.set_size_inches(8,6)\n",
    "\n",
    "# ax.plot(poisson_rv_null.xk, poisson_rv_null.cdf(poisson_rv_null.xk))\n",
    "# ax.axvline(poisson_rv_null.mean(), color='C1', lw=1.3) # mean, orange line\n",
    "# ax.axvline(poisson_rv_null.ppf(.05), color='C2', lw=1.3) # CI lower, green line\n",
    "# ax.axvline(poisson_rv_null.ppf(.95), color='C2', lw=1.3) # CI upper, green line\n",
    "# ax.axvline(poisson_results[0], color='C3', lw=1.3) # p-value (if comparing with zero), red line"
   ]
  },
  {
   "cell_type": "code",
   "execution_count": 71,
   "metadata": {},
   "outputs": [],
   "source": [
    "# Plot for alternative\n",
    "\n",
    "# poisson_rv_alt = dsa.DiscreteRv(poisson_results_Ha[1])\n",
    "\n",
    "# fig,ax = plt.subplots()\n",
    "# fig.set_size_inches(8,6)\n",
    "\n",
    "# ax.plot(poisson_rv_alt.xk, poisson_rv_alt.cdf(poisson_rv_alt.xk))\n",
    "# ax.axvline(poisson_rv_alt.mean(), color='C1', lw=1.3) # mean, orange line\n",
    "# ax.axvline(poisson_rv_alt.ppf(.05), color='C2', lw=1.3) # CI lower, green line\n",
    "# ax.axvline(poisson_rv_alt.ppf(.95), color='C2', lw=1.3) # CI upper, green line\n",
    "# ax.axvline(0, color='C3', lw=1.3) # p-value (if comparing with zero), red line"
   ]
  },
  {
   "cell_type": "code",
   "execution_count": 72,
   "metadata": {},
   "outputs": [],
   "source": [
    "# max(poisson_results_Ha[1])"
   ]
  },
  {
   "cell_type": "markdown",
   "metadata": {},
   "source": [
    "### Power calculation function"
   ]
  },
  {
   "cell_type": "code",
   "execution_count": 73,
   "metadata": {},
   "outputs": [],
   "source": [
    "data = firsts.prglngth.values, others.prglngth.values"
   ]
  },
  {
   "cell_type": "code",
   "execution_count": 74,
   "metadata": {},
   "outputs": [],
   "source": [
    "def FalseNegRate(data, num_runs=100):\n",
    "    \"\"\"Computes the chance of a false negative based on resampling.\n",
    "\n",
    "    data: pair of sequences\n",
    "    num_runs: how many experiments to simulate\n",
    "\n",
    "    returns: float false negative rate\n",
    "    \"\"\"\n",
    "    group1, group2 = data\n",
    "    count = 0\n",
    "\n",
    "    for i in range(num_runs):\n",
    "        sample1 = thinkstats2.Resample(group1)\n",
    "        sample2 = thinkstats2.Resample(group2)\n",
    "        ht = DiffMeansPermute((sample1, sample2))\n",
    "        p_value = ht.PValue(iters=101)\n",
    "        if p_value > 0.05:\n",
    "            count += 1\n",
    "\n",
    "    return count / num_runs"
   ]
  },
  {
   "cell_type": "code",
   "execution_count": 75,
   "metadata": {},
   "outputs": [],
   "source": [
    "# Need to change left and right alternatives to be smaller and larger like power means below\n",
    "# I think perhaps the one-sided alternatives are not working because this is based on the null hypothesis case\n",
    "# Try changing to the Ha alternative hypothesis methods for resampling and try again\n",
    "# Probably have to make a new function, keep this one in case it doesn't work\n",
    "# This is the old function that uses the null hypothesis\n",
    "# It didn't work well because smaller and larger were opposite to how statmodels works\n",
    "\n",
    "def PowerDiffMeans_old(a, b, alpha = 0.05, alternative = 'two-sided', num_runs=100):\n",
    "    a = np.array(a)\n",
    "    b = np.array(b)\n",
    "    count = 0\n",
    "    \n",
    "    for i in range(num_runs):\n",
    "        sample1 = np.random.choice(a, size=len(a), replace=True)\n",
    "        sample2 = np.random.choice(b, size=len(b), replace=True)\n",
    "            \n",
    "        pooled_data = np.hstack((sample1, sample2))\n",
    "        sample1_size=len(sample1)\n",
    "            \n",
    "        diff_means = abs(sample1.mean() - sample2.mean())\n",
    "        \n",
    "        diff_mean_results = []\n",
    "\n",
    "        if alternative == 'two-sided':\n",
    "            for j in range(100):\n",
    "                np.random.shuffle(pooled_data)\n",
    "                group1 = pooled_data[:sample1_size]\n",
    "                group2 = pooled_data[sample1_size:]\n",
    "                # Uses abs of difference between group means to make it a two-sided test\n",
    "                result = abs(group1.mean() - group2.mean())\n",
    "                diff_mean_results.append(result)\n",
    "                  \n",
    "            rv = dsa.DiscreteRv(diff_mean_results)\n",
    "            \n",
    "            p_value = 1 - rv.cdf(diff_means)\n",
    "            if p_value < alpha:\n",
    "                count += 1\n",
    "        \n",
    "        else:\n",
    "            for j in range(100):\n",
    "                np.random.shuffle(pooled_data)\n",
    "                group1 = pooled_data[:sample1_size]\n",
    "                group2 = pooled_data[sample1_size:]\n",
    "                result = group1.mean() - group2.mean()\n",
    "                diff_mean_results.append(result)\n",
    "            \n",
    "            rv = dsa.DiscreteRv(diff_mean_results)\n",
    "            \n",
    "            if alternative == 'smaller':\n",
    "                p_value_right = 1 - rv.cdf(diff_means)\n",
    "                if p_value_right < alpha:\n",
    "                    count += 1\n",
    "            \n",
    "            elif alternative == 'larger':\n",
    "                p_value_left = rv.cdf(diff_means)\n",
    "                if p_value_left < alpha:\n",
    "                    count += 1\n",
    "            \n",
    "            else:\n",
    "                raise ValueError(\"alternative has to be 'two-sided', 'smaller', or 'larger'\")\n",
    "    \n",
    "    return count / num_runs"
   ]
  },
  {
   "cell_type": "code",
   "execution_count": 76,
   "metadata": {},
   "outputs": [],
   "source": [
    "# This function is built using the alternative hypothesis\n",
    "# It matches with the smaller and larger alternatives of statsmodels\n",
    "\n",
    "def PowerDiffMeans(a, b, test_diff_means, alpha = 0.05, alternative = 'two-sided', num_runs=100):\n",
    "    a = np.array(a)\n",
    "    b = np.array(b)\n",
    "    \n",
    "    # Set counter for significant p-values to zero\n",
    "    count = 0\n",
    "    \n",
    "    # Run resampling of the arrays separately (not pooled) to simulate the alternative hypothesis of a difference existing\n",
    "    for i in range(num_runs):\n",
    "        sample1 = np.random.choice(a, size=len(a), replace=True)\n",
    "        sample2 = np.random.choice(b, size=len(b), replace=True)\n",
    "        \n",
    "        diff_mean_results = []\n",
    "        \n",
    "        # Build a sampling distribution for the run\n",
    "        for j in range(100):\n",
    "            group1 = np.random.choice(sample1, size=len(sample1), replace=True)\n",
    "            group2 = np.random.choice(sample2, size=len(sample2), replace=True)\n",
    "            result = group1.mean() - group2.mean()\n",
    "            diff_mean_results.append(result)\n",
    "        \n",
    "        # Create an rv of the results and calculate left and right side p-values\n",
    "        rv = dsa.DiscreteRv(diff_mean_results)\n",
    "        p_value_right = 1 - rv.cdf(test_diff_means)\n",
    "        p_value_left = rv.cdf(test_diff_means)        \n",
    "\n",
    "        # Case of a two-sided test\n",
    "        if alternative == 'two-sided':\n",
    "            if (p_value_right < alpha/2) or (p_value_left < alpha/2):\n",
    "                count += 1\n",
    "        \n",
    "        # Case of testing for an effect that is smaller than the test difference of means\n",
    "        elif alternative == 'smaller': \n",
    "            if p_value_right < alpha:\n",
    "                count += 1\n",
    "        \n",
    "        # Case of testing for an effect that is larger than the test difference of means\n",
    "        elif alternative == 'larger': \n",
    "            if p_value_left < alpha:\n",
    "                count += 1\n",
    "        \n",
    "        else:\n",
    "            raise ValueError(\"alternative has to be 'two-sided', 'smaller', or 'larger'\")\n",
    "    \n",
    "    return count / num_runs"
   ]
  },
  {
   "cell_type": "code",
   "execution_count": 77,
   "metadata": {},
   "outputs": [
    {
     "data": {
      "text/plain": [
       "0.42"
      ]
     },
     "execution_count": 77,
     "metadata": {},
     "output_type": "execute_result"
    }
   ],
   "source": [
    "PowerDiffMeans(firsts.prglngth.values, others.prglngth.values, 0, alternative='larger')"
   ]
  },
  {
   "cell_type": "code",
   "execution_count": null,
   "metadata": {},
   "outputs": [],
   "source": []
  },
  {
   "cell_type": "code",
   "execution_count": 78,
   "metadata": {},
   "outputs": [
    {
     "data": {
      "text/plain": [
       "0.07803726677754952"
      ]
     },
     "execution_count": 78,
     "metadata": {},
     "output_type": "execute_result"
    }
   ],
   "source": [
    "firsts.prglngth.mean() - others.prglngth.mean()"
   ]
  },
  {
   "cell_type": "code",
   "execution_count": 79,
   "metadata": {
    "scrolled": true
   },
   "outputs": [
    {
     "data": {
      "text/plain": [
       "0.38"
      ]
     },
     "execution_count": 79,
     "metadata": {},
     "output_type": "execute_result"
    }
   ],
   "source": [
    "# I think it's working now, but not for one-sided cases\n",
    "# Old function\n",
    "# Result: 0.31699999999999995\n",
    "PowerDiffMeans_old(firsts.prglngth.values, others.prglngth.values, alternative='two-sided')"
   ]
  },
  {
   "cell_type": "code",
   "execution_count": 80,
   "metadata": {},
   "outputs": [
    {
     "data": {
      "text/plain": [
       "0.3956628152889268"
      ]
     },
     "execution_count": 80,
     "metadata": {},
     "output_type": "execute_result"
    }
   ],
   "source": [
    "# Try this with statsmodels\n",
    "effect_size = dsa.CohenEffectSize(firsts.prglngth.values, others.prglngth.values)\n",
    "# effect_size = dsa.CohenEffectSize(others.prglngth.values, firsts.prglngth.values)\n",
    "nobs1 = len(firsts.prglngth.values)\n",
    "alpha = 0.05\n",
    "ratio = len(others.prglngth.values)/ len(firsts.prglngth.values)\n",
    "# ratio = len(firsts.prglngth.values)/ len(others.prglngth.values)\n",
    "power_obj = sms.TTestIndPower()\n",
    "power_obj.solve_power(effect_size=effect_size, nobs1=nobs1, alpha=alpha, ratio=ratio, alternative='larger')"
   ]
  },
  {
   "cell_type": "code",
   "execution_count": 81,
   "metadata": {},
   "outputs": [],
   "source": [
    "# Make a mean power function\n",
    "# I think this is working now, getting similar results to statsmodels function (see below)\n",
    "# One issue though is that I am passing a test mean to the function while statsmodels does not\n",
    "# Perhaps the effect size of the statsmodels function does something similar to my use of a test stat\n",
    "# Check how this works in the two sample difference of means case\n",
    "# Decided not to implement weight option\n",
    "# Add one-sided alternatives? need these alternatives in diff means one too?\n",
    "# Do I need to switch my 'larger', 'smaller' positions in the code?\n",
    "# Right now in need to use the opposite one in statsmodels to get similar power values\n",
    "# No, these should be opposite because I am looking at the larger and smaller tails of the alternative, not the null\n",
    "# Changed alternatives to 'right' and 'left' to be more intuitive for my calcualtion\n",
    "# Changing my mind again on this. I think I should use smaller and larger,\n",
    "# but in the sense of testing that an effect is smaller or larger.\n",
    "# I think I can remove the estimates less than test part of the code: did this\n",
    "# TO-DO: Add comments to code and add one-sided alternatives to diff means power function too\n",
    "\n",
    "def PowerMean(data, test_mean, alpha=0.05, alternative='two-sided', num_runs=100):\n",
    "    a = np.array(data)\n",
    "    \n",
    "    # Set counter for significant p-values to zero\n",
    "    count = 0\n",
    "        \n",
    "    # Run resampling of the array to simulate the alternative hypothesis of an existing difference from the test mean\n",
    "    for i in range(num_runs):\n",
    "        run_data = np.random.choice(a, size=len(a), replace=True)\n",
    "            \n",
    "        # Build a sampling distribution for the run\n",
    "        mean_estimates = [np.random.choice(run_data, size=len(run_data), replace=True).mean() for _ in range(100)]\n",
    "            \n",
    "        # Create an rv of the results and calculate left and right side p-values\n",
    "        rv = dsa.DiscreteRv(mean_estimates)\n",
    "        p_value_right = 1 - rv.cdf(test_mean)\n",
    "        p_value_left = rv.cdf(test_mean)\n",
    "        \n",
    "        # Case of a two-sided test\n",
    "        if alternative == 'two-sided':\n",
    "            if (p_value_right < alpha/2) or (p_value_left < alpha/2):\n",
    "                count += 1\n",
    "        \n",
    "        # Case of testing for an effect that is smaller than the test mean\n",
    "        elif alternative == 'smaller': \n",
    "            if p_value_right < alpha:\n",
    "                count += 1\n",
    "        \n",
    "        # Case of testing for an effect that is larger than the test mean\n",
    "        elif alternative == 'larger': \n",
    "            if p_value_left < alpha:\n",
    "                count += 1\n",
    "        \n",
    "        else:\n",
    "            raise ValueError(\"alternative has to be 'two-sided', 'smaller', or 'larger'\")\n",
    "            \n",
    "    return count / num_runs\n",
    "    \n",
    "    # Decided not to add weights option at this point, could come back and do that later\n",
    "    \n",
    "#     else:    # In case of weights use a DataFrame\n",
    "#         df = pd.DataFrame({'data':data,'wgt':weights})\n",
    "#         count = 0\n",
    "        \n",
    "#         for i in range(num_runs):\n",
    "#             print(\"run\", i)\n",
    "#             run_data = df.sample(n=len(df), replace=True)\n",
    "            \n",
    "#             mean_estimates = [df.sample(n=len(df), replace=True, weights=df.wgt).data.mean() for _ in range(100)]\n",
    "#             print(\"mean_estimate_mean\", np.array(mean_estimates).mean())\n",
    "            \n",
    "#             rv = dsa.DiscreteRv(mean_estimates)\n",
    "            \n",
    "#             p_value_right = 1 - rv.cdf(test_mean)\n",
    "#             print(\"p-value_right\", p_value_right)\n",
    "#             p_value_left = rv.cdf(test_mean)\n",
    "#             print(\"p-value_left\", p_value_left)\n",
    "#             if (np.array(mean_estimates).mean() < test_mean) and (p_value_right > alpha/2):\n",
    "#                 count += 1\n",
    "#                 print(\"count(right)\",count)\n",
    "#             elif (np.array(mean_estimates).mean() >= test_mean) and (p_value_left > alpha/2):\n",
    "#                 count += 1\n",
    "#                 print(\"count(left)\",count)"
   ]
  },
  {
   "cell_type": "code",
   "execution_count": 82,
   "metadata": {},
   "outputs": [],
   "source": [
    "mean_data = np.random.randint(-8,11,size=100)\n",
    "# mean_weights = np.random.randint(1,8,size=100)\n",
    "# mean_weights = mean_weights/sum(mean_weights)"
   ]
  },
  {
   "cell_type": "code",
   "execution_count": 83,
   "metadata": {},
   "outputs": [
    {
     "data": {
      "text/plain": [
       "-0.28"
      ]
     },
     "execution_count": 83,
     "metadata": {},
     "output_type": "execute_result"
    }
   ],
   "source": [
    "mean_series = pd.Series(mean_data)\n",
    "mean_series.mean()"
   ]
  },
  {
   "cell_type": "code",
   "execution_count": 84,
   "metadata": {},
   "outputs": [
    {
     "data": {
      "text/plain": [
       "0.09"
      ]
     },
     "execution_count": 84,
     "metadata": {},
     "output_type": "execute_result"
    }
   ],
   "source": [
    "PowerMean(data=mean_series.values, test_mean=0, alternative='two-sided')"
   ]
  },
  {
   "cell_type": "code",
   "execution_count": 85,
   "metadata": {},
   "outputs": [
    {
     "data": {
      "text/plain": [
       "0.08059297854087327"
      ]
     },
     "execution_count": 85,
     "metadata": {},
     "output_type": "execute_result"
    }
   ],
   "source": [
    "# Try with statsmodels\n",
    "effect_size = mean_series.mean()/mean_series.std()\n",
    "nobs = len(mean_series)\n",
    "alpha = 0.05\n",
    "sms.tt_solve_power(effect_size=effect_size, nobs=nobs, alpha=alpha, alternative='two-sided')"
   ]
  },
  {
   "cell_type": "code",
   "execution_count": 86,
   "metadata": {},
   "outputs": [],
   "source": [
    "# Try with statsmodels for weighted data\n",
    "# Don't think this is working, doesn't seem to be equivalent to what I'm doing in the function\n",
    "# mean_data_weighted = mean_series.values * mean_weights\n",
    "# effect_size = mean_data_weighted.mean()/mean_data_weighted.std()\n",
    "# nobs = len(mean_data_weighted)\n",
    "# alpha = 0.05\n",
    "# sms.tt_solve_power(effect_size=effect_size, nobs=nobs, alpha=alpha, alternative='two-sided')"
   ]
  },
  {
   "cell_type": "code",
   "execution_count": 87,
   "metadata": {},
   "outputs": [],
   "source": [
    "# Make a correlation power function"
   ]
  },
  {
   "cell_type": "code",
   "execution_count": 88,
   "metadata": {},
   "outputs": [],
   "source": [
    "def PowerCorr(data, test_mean, alpha=0.05, alternative='two-sided', num_runs=100):\n",
    "    x, y = data\n",
    "    df = pd.DataFrame({'x':x, 'y':y})\n",
    "    \n",
    "    \n",
    "    # Set counter for significant p-values to zero\n",
    "    count = 0\n",
    "        \n",
    "    # Run resampling of the array to simulate the alternative hypothesis of an existing difference from the test mean\n",
    "    for i in range(num_runs):\n",
    "       # Create run data\n",
    "        run_data = df.sample(n=len(df), replace=True)\n",
    "        \n",
    "        corrs=[]\n",
    "        \n",
    "        # Build rv     \n",
    "        for _ in range(100):\n",
    "            sample = run_data.sample(n=len(run_data), replace=True)\n",
    "            r = stats.pearsonr(sample.x, sample.y)[0]\n",
    "            corrs.append(r)\n",
    "            \n",
    "        # Create an rv of the results and calculate left and right side p-values\n",
    "        rv = dsa.DiscreteRv(corrs)\n",
    "        p_value_right = 1 - rv.cdf(test_mean)\n",
    "        p_value_left = rv.cdf(test_mean)\n",
    "        \n",
    "        # Case of a two-sided test\n",
    "        if alternative == 'two-sided':\n",
    "            if (p_value_right < alpha/2) or (p_value_left < alpha/2):\n",
    "                count += 1\n",
    "        \n",
    "        # Case of testing for an effect that is smaller than the test mean\n",
    "        elif alternative == 'smaller': \n",
    "            if p_value_right < alpha:\n",
    "                count += 1\n",
    "        \n",
    "        # Case of testing for an effect that is larger than the test mean\n",
    "        elif alternative == 'larger': \n",
    "            if p_value_left < alpha:\n",
    "                count += 1\n",
    "        \n",
    "        else:\n",
    "            raise ValueError(\"alternative has to be 'two-sided', 'smaller', or 'larger'\")\n",
    "            \n",
    "    return count / num_runs"
   ]
  },
  {
   "cell_type": "code",
   "execution_count": 89,
   "metadata": {},
   "outputs": [
    {
     "data": {
      "text/plain": [
       "array([ 5,  9, 12, 10, 16, 19, 15,  5,  2,  6,  9, 13,  3,  1,  6,  9, 18,\n",
       "       15, 17,  3, 16,  3,  5,  3, 10,  1, 16, 11,  2,  2, 18, 18,  4, 19,\n",
       "        5,  3,  4, 12,  2,  5, 15,  4,  1,  2, 15,  4,  5,  1, 14, 11])"
      ]
     },
     "execution_count": 89,
     "metadata": {},
     "output_type": "execute_result"
    }
   ],
   "source": [
    "a = np.random.randint(1,20,50)\n",
    "a"
   ]
  },
  {
   "cell_type": "code",
   "execution_count": 90,
   "metadata": {},
   "outputs": [
    {
     "data": {
      "text/plain": [
       "array([ 2,  4, 17,  5, 12,  4,  6,  5,  2,  8, 17,  6,  5, 19,  2,  7, 13,\n",
       "        6, 16, 12, 18,  5,  1, 17,  9, 12, 18,  7, 16, 17,  4,  3,  3,  4,\n",
       "        8,  9,  5, 11,  6, 11,  7,  8,  9,  6,  3, 10,  9,  6, 10, 15])"
      ]
     },
     "execution_count": 90,
     "metadata": {},
     "output_type": "execute_result"
    }
   ],
   "source": [
    "b = np.random.randint(1,20,50)\n",
    "b"
   ]
  },
  {
   "cell_type": "code",
   "execution_count": 91,
   "metadata": {},
   "outputs": [
    {
     "data": {
      "text/plain": [
       "0.09"
      ]
     },
     "execution_count": 91,
     "metadata": {},
     "output_type": "execute_result"
    }
   ],
   "source": [
    "data2 = a,b\n",
    "PowerCorr(data2, 0, alternative='two-sided')"
   ]
  },
  {
   "cell_type": "code",
   "execution_count": 94,
   "metadata": {},
   "outputs": [],
   "source": [
    "# Test corr H0 vs corr Ha again using above data"
   ]
  },
  {
   "cell_type": "code",
   "execution_count": 97,
   "metadata": {},
   "outputs": [],
   "source": [
    "result0 = dsa.ResampleDiffMeansH0(a,b)"
   ]
  },
  {
   "cell_type": "code",
   "execution_count": 98,
   "metadata": {},
   "outputs": [],
   "source": [
    "resulta = dsa.ResampleDiffMeansHa(a,b)"
   ]
  },
  {
   "cell_type": "code",
   "execution_count": 99,
   "metadata": {},
   "outputs": [
    {
     "data": {
      "text/plain": [
       "(0.9059999999999999, 0.6864628176383627, (0.05999999999999872, 2.62))"
      ]
     },
     "execution_count": 99,
     "metadata": {},
     "output_type": "execute_result"
    }
   ],
   "source": [
    "dsa.SummarizeEstimates(result0[1])"
   ]
  },
  {
   "cell_type": "code",
   "execution_count": 102,
   "metadata": {},
   "outputs": [
    {
     "data": {
      "text/plain": [
       "(-0.19938, 1.0997858044182967, (-2.379999999999999, 1.839999999999999))"
      ]
     },
     "execution_count": 102,
     "metadata": {},
     "output_type": "execute_result"
    }
   ],
   "source": [
    "dsa.SummarizeEstimates(resulta[1])"
   ]
  },
  {
   "cell_type": "code",
   "execution_count": 105,
   "metadata": {},
   "outputs": [
    {
     "data": {
      "text/plain": [
       "0.838"
      ]
     },
     "execution_count": 105,
     "metadata": {},
     "output_type": "execute_result"
    }
   ],
   "source": [
    "dsa.PValueFromEstimates(result0[1], result0[0])"
   ]
  },
  {
   "cell_type": "code",
   "execution_count": 106,
   "metadata": {},
   "outputs": [
    {
     "data": {
      "text/plain": [
       "0.4259999999999996"
      ]
     },
     "execution_count": 106,
     "metadata": {},
     "output_type": "execute_result"
    }
   ],
   "source": [
    "dsa.PValueFromEstimates(resulta[1], 0)"
   ]
  },
  {
   "cell_type": "code",
   "execution_count": 107,
   "metadata": {},
   "outputs": [],
   "source": [
    "# There is quite a difference between the above, perhaps there is a significant difference between the two methods"
   ]
  },
  {
   "cell_type": "code",
   "execution_count": null,
   "metadata": {},
   "outputs": [],
   "source": []
  },
  {
   "cell_type": "markdown",
   "metadata": {},
   "source": [
    "### ANOVA"
   ]
  },
  {
   "cell_type": "code",
   "execution_count": null,
   "metadata": {},
   "outputs": [],
   "source": []
  },
  {
   "cell_type": "code",
   "execution_count": null,
   "metadata": {},
   "outputs": [],
   "source": []
  },
  {
   "cell_type": "code",
   "execution_count": null,
   "metadata": {},
   "outputs": [],
   "source": []
  },
  {
   "cell_type": "code",
   "execution_count": null,
   "metadata": {},
   "outputs": [],
   "source": []
  },
  {
   "cell_type": "markdown",
   "metadata": {},
   "source": [
    "### Just a duplicates checking function"
   ]
  },
  {
   "cell_type": "code",
   "execution_count": 108,
   "metadata": {},
   "outputs": [],
   "source": [
    "def duplicates(l):\n",
    "    dup = False\n",
    "    for i in l:\n",
    "        dup_counter=0\n",
    "        for j in l:\n",
    "            if i==j:\n",
    "                dup_counter +=1\n",
    "                if dup_counter > 1:\n",
    "                    dup = True\n",
    "                    return dup\n",
    "    return dup                    "
   ]
  },
  {
   "cell_type": "code",
   "execution_count": 109,
   "metadata": {},
   "outputs": [],
   "source": [
    "l = [1,3,8,7,3,9]"
   ]
  },
  {
   "cell_type": "code",
   "execution_count": 110,
   "metadata": {},
   "outputs": [
    {
     "data": {
      "text/plain": [
       "True"
      ]
     },
     "execution_count": 110,
     "metadata": {},
     "output_type": "execute_result"
    }
   ],
   "source": [
    "duplicates(l)"
   ]
  },
  {
   "cell_type": "code",
   "execution_count": null,
   "metadata": {},
   "outputs": [],
   "source": []
  },
  {
   "cell_type": "markdown",
   "metadata": {},
   "source": [
    "### A selection sort function"
   ]
  },
  {
   "cell_type": "code",
   "execution_count": 111,
   "metadata": {},
   "outputs": [],
   "source": [
    "def SelectionSort(l):\n",
    "    lower_limit_index = 0\n",
    "    pointer = lower_limit_index\n",
    "    while lower_limit_index < len(l)-1:\n",
    "        for i in range(lower_limit_index, len(l)):\n",
    "            if l[i] < l[pointer]:\n",
    "                pointer=i\n",
    "        l[lower_limit_index], l[pointer]=l[pointer],l[lower_limit_index]\n",
    "        lower_limit_index += 1\n",
    "        pointer=lower_limit_index\n",
    "    return l"
   ]
  },
  {
   "cell_type": "code",
   "execution_count": 112,
   "metadata": {},
   "outputs": [],
   "source": [
    "l = [3,7,9,4,2,8,5,1]"
   ]
  },
  {
   "cell_type": "code",
   "execution_count": 113,
   "metadata": {},
   "outputs": [
    {
     "data": {
      "text/plain": [
       "[1, 2, 3, 4, 5, 7, 8, 9]"
      ]
     },
     "execution_count": 113,
     "metadata": {},
     "output_type": "execute_result"
    }
   ],
   "source": [
    "SelectionSort(l)"
   ]
  },
  {
   "cell_type": "code",
   "execution_count": 114,
   "metadata": {},
   "outputs": [
    {
     "data": {
      "text/plain": [
       "[3, 4, 5, 6, 7]"
      ]
     },
     "execution_count": 114,
     "metadata": {},
     "output_type": "execute_result"
    }
   ],
   "source": [
    "list(range(3, len(l)))"
   ]
  },
  {
   "cell_type": "markdown",
   "metadata": {},
   "source": [
    "### An insertion sort function"
   ]
  },
  {
   "cell_type": "code",
   "execution_count": 115,
   "metadata": {},
   "outputs": [],
   "source": [
    "def InsertionSort(a):\n",
    "    for i in range(1, len(a)):\n",
    "        temp_value = a[i]\n",
    "        for j in range(i-1, -1,-1):\n",
    "            if a[j] > temp_value:\n",
    "                a[j+1] = a[j]\n",
    "                if j == 0:\n",
    "                    a[0] = temp_value\n",
    "                    break\n",
    "            if a[j] < temp_value:\n",
    "                a[j+1] = temp_value\n",
    "                break\n",
    "    return a"
   ]
  },
  {
   "cell_type": "code",
   "execution_count": 116,
   "metadata": {},
   "outputs": [],
   "source": [
    "insert_a = [3,7,9,4,2,8,1]"
   ]
  },
  {
   "cell_type": "code",
   "execution_count": 117,
   "metadata": {},
   "outputs": [
    {
     "data": {
      "text/plain": [
       "[1, 2, 3, 4, 7, 8, 9]"
      ]
     },
     "execution_count": 117,
     "metadata": {},
     "output_type": "execute_result"
    }
   ],
   "source": [
    "InsertionSort(insert_a)"
   ]
  },
  {
   "cell_type": "code",
   "execution_count": 118,
   "metadata": {},
   "outputs": [
    {
     "data": {
      "text/plain": [
       "[0]"
      ]
     },
     "execution_count": 118,
     "metadata": {},
     "output_type": "execute_result"
    }
   ],
   "source": [
    "list(range(1-1,-1,-1))"
   ]
  },
  {
   "cell_type": "code",
   "execution_count": 119,
   "metadata": {},
   "outputs": [
    {
     "data": {
      "text/plain": [
       "[2, 3, 4, 7, 8, 9]"
      ]
     },
     "execution_count": 119,
     "metadata": {},
     "output_type": "execute_result"
    }
   ],
   "source": [
    "insert_a[1:]"
   ]
  },
  {
   "cell_type": "code",
   "execution_count": null,
   "metadata": {},
   "outputs": [],
   "source": []
  },
  {
   "cell_type": "code",
   "execution_count": null,
   "metadata": {},
   "outputs": [],
   "source": []
  }
 ],
 "metadata": {
  "kernelspec": {
   "display_name": "Python 3",
   "language": "python",
   "name": "python3"
  },
  "language_info": {
   "codemirror_mode": {
    "name": "ipython",
    "version": 3
   },
   "file_extension": ".py",
   "mimetype": "text/x-python",
   "name": "python",
   "nbconvert_exporter": "python",
   "pygments_lexer": "ipython3",
   "version": "3.7.4"
  }
 },
 "nbformat": 4,
 "nbformat_minor": 4
}
