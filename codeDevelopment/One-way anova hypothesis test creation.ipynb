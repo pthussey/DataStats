{
 "cells": [
  {
   "cell_type": "code",
   "execution_count": 62,
   "metadata": {},
   "outputs": [],
   "source": [
    "%matplotlib inline\n",
    "\n",
    "import pandas as pd\n",
    "import numpy as np\n",
    "\n",
    "from pandas.api.types import CategoricalDtype\n",
    "\n",
    "from collections import defaultdict, Counter\n",
    "\n",
    "import matplotlib\n",
    "import matplotlib.pyplot as plt\n",
    "import seaborn as sns\n",
    "\n",
    "import datetime as dt\n",
    "import matplotlib.dates as mdates\n",
    "\n",
    "import scipy.stats as stats\n",
    "import statsmodels.api as sm\n",
    "import statsmodels.stats.api as sms\n",
    "import statsmodels.formula.api as smf\n",
    "\n",
    "import dataStatsAnalysis as dsa\n",
    "import dataStatsPlotting as dsp\n",
    "\n",
    "dsp.SetParams()"
   ]
  },
  {
   "cell_type": "code",
   "execution_count": null,
   "metadata": {},
   "outputs": [],
   "source": []
  },
  {
   "cell_type": "code",
   "execution_count": 63,
   "metadata": {},
   "outputs": [],
   "source": [
    "class UnimplementedMethodException(Exception):\n",
    "    \"\"\"Exception if someone calls a method that should be overridden.\"\"\"\n",
    "\n",
    "\n",
    "class HypothesisTest():\n",
    "    \"\"\"Hypothesis test superclass. \n",
    "\n",
    "    This class cannot be used as is. \n",
    "    It is to be used to construct hypothesis tests \n",
    "    for various different test statistics. \n",
    "    See the existing child classes below for examples.\n",
    "    \"\"\"\n",
    "    def __init__(self, data, tail='right', iters=1000):\n",
    "        self.data = data\n",
    "        self.tail = tail\n",
    "        self.iters = iters\n",
    "        self.PrepareData(data)\n",
    "        self.TestStat()\n",
    "        self.sampling_dist, self.rv = self.ComputeRv() # pylint: disable=assignment-from-no-return\n",
    "\n",
    "    # Provide the functionality to convert the data into the format needed \n",
    "    # for use in ComputeRv and Power functions. \n",
    "    # Ex. Convert to array, split data into component groups, etc. \n",
    "    # The self data variables must be created in the function, not returned. \n",
    "    # See child classes for examples\n",
    "    def PrepareData(self, data):\n",
    "        UnimplementedMethodException()\n",
    "        \n",
    "    # This function only needs to be written in the case of a null hypothesis based test. \n",
    "    # The self.test_stat needs to be created in the function, not returned. \n",
    "    # In the case of an alternative hypothesis based test \n",
    "    # test_stat will be provided via a class parameter. \n",
    "    # See child classes for examples\n",
    "    def TestStat(self):\n",
    "        pass\n",
    "    \n",
    "    # Provide the functionality that computes the sampling distribution and rv for the data.\n",
    "    # Both the sampling distribution and the rv need to be returned by the function \n",
    "    # See child classes for examples\n",
    "    def ComputeRv(self):\n",
    "        UnimplementedMethodException()\n",
    "        \n",
    "    # Provide the functionality that computes the power by running multiple iterations of the hypothesis test.\n",
    "    # The code in the for loop must first create new data for the run, \n",
    "    # which simulates taking another sample from the population, and then run the hypothesis test.\n",
    "    # See child classes for examples\n",
    "    def Power(self):\n",
    "        UnimplementedMethodException()\n",
    "    \n",
    "    def PValue(self):\n",
    "        \"\"\"Computes the p-value for the hypothesis test.\n",
    "\n",
    "        returns: float p-value\n",
    "        \"\"\"\n",
    "        if self.tail == 'left':\n",
    "            pvalue = self.rv.cdf(self.test_stat) # pylint: disable=no-member\n",
    "        elif self.tail == 'right':\n",
    "            pvalue = 1 - self.rv.cdf(self.test_stat) # pylint: disable=no-member\n",
    "        else:\n",
    "            raise Exception('The value of \\'tail\\' can only be either \\'left\\' or \\'right\\'')\n",
    "\n",
    "        return pvalue\n",
    "\n",
    "    def MinMaxTestStat(self):\n",
    "        \"\"\"Returns the smallest and largest test statistics in the sampling distribution.\n",
    "        \"\"\"\n",
    "        return min(self.sampling_dist), max(self.sampling_dist)\n",
    "\n",
    "    def PlotCdf(self):\n",
    "        \"\"\"Draws a Cdf with a vertical line at the test stat.\n",
    "        \"\"\"      \n",
    "        plt.plot(self.rv.xk, self.rv.cdf(self.rv.xk), color='C0', lw=2) # pylint: disable=no-member\n",
    "        \n",
    "        plt.axvline(self.test_stat, color='C1', lw=1.3) # pylint: disable=no-member"
   ]
  },
  {
   "cell_type": "code",
   "execution_count": 64,
   "metadata": {},
   "outputs": [],
   "source": [
    "class HTOnewayAnova(HypothesisTest):\n",
    "    \"\"\"A one-way ANOVA hypothesis test. \n",
    "    Uses permutation of the supplied data sequences to build the null hypothesis \n",
    "    and f-statistic sampling distribution. \n",
    "    Accepts data in the form of a list of data sequences (group_1, group_2... group_n).\n",
    "\n",
    "    Parameters\n",
    "    ----------\n",
    "    data (array-like):\n",
    "        A list or tuple of data sequences (group_1, group_2... group_n)\n",
    "    tail (str):\n",
    "        The tail of the distribution to be used in the PValue function\n",
    "        Accepts only 'right' or 'left'\n",
    "        Defaults to 'right'\n",
    "    iters (int):\n",
    "        The number of iterations to run in the ComputeRv function \n",
    "        Defaults to 1000\n",
    "    \n",
    "    Attributes\n",
    "    ----------\n",
    "    data:\n",
    "        The original data\n",
    "    test_stat:\n",
    "        The test statistic used in the hypothesis test\n",
    "    sampling_dist:\n",
    "        The sampling distribution generated by resampling\n",
    "    rv:\n",
    "        A scipy.stats discrete_rv object (random variable) \n",
    "        that represents the sampling distribution\n",
    "        This object provides numerous useful attributes and methods\n",
    "        See the discrete_rv documentation for details\n",
    "\n",
    "    Methods\n",
    "    -------\n",
    "    PValue():\n",
    "        Computes the p-value for the hypothesis test\n",
    "    Power(alpha=0.05, num_runs=1000):\n",
    "        Computes the power of the hypothesis test\n",
    "        alpha: the significance level for the hypothesis test, default=0.05\n",
    "        num_runs: the number of hypothesis tests to run, default=1000\n",
    "    MinMaxTestStat():\n",
    "        Returns the smallest and largest test statistics in the sampling distribution\n",
    "    PlotCdf():\n",
    "        Draws a Cdf of the distribution with a vertical line at the test stat\n",
    "    \"\"\"\n",
    "    def PrepareData(self, data):\n",
    "        self.pooled_data = np.hstack(data)\n",
    "        \n",
    "    def TestStat(self):\n",
    "        self.test_stat, _ = stats.f_oneway(*self.data)\n",
    "        \n",
    "    def ComputeRv(self):    \n",
    "        # Initialize the sampling distribution list \n",
    "        # that will hold the f-stats calculated for each iteration \n",
    "        f_stats = []\n",
    "        \n",
    "        for _ in range(self.iters):\n",
    "            # Permute the pooled data\n",
    "            pooled_data_perm = np.random.permutation(self.pooled_data)\n",
    "            \n",
    "            # For each item in the orignal data \n",
    "            # pull out the correct number of permuted values \n",
    "            # and store the new sequences in a list\n",
    "            data_perm_list = []\n",
    "            for x in self.data:\n",
    "                x_perm = pooled_data_perm[:len(x)]\n",
    "                data_perm_list.append(x_perm)\n",
    "    \n",
    "                pooled_data_perm = pooled_data_perm[len(x):]\n",
    "                \n",
    "            # Compute the f-stat for the permuted data \n",
    "            # and add it to the sampling distribution list\n",
    "            f_stat, _ = stats.f_oneway(*data_perm_list)\n",
    "            f_stats.append(f_stat)\n",
    "            \n",
    "        return np.array(f_stats), dsa.DiscreteRv(f_stats)\n",
    "    \n",
    "    def Power(self, alpha=0.05, num_runs=1000):\n",
    "        \"\"\"Computes the power of the hypothesis test. \n",
    "\n",
    "        Args\n",
    "        ----\n",
    "        alpha (float):\n",
    "            The significance level for the hypothesis test.\n",
    "            Must be between 0 and 1. Defaults to 0.05\n",
    "        num_runs (int):\n",
    "            The number of times to run the hypothesis test to compute power.\n",
    "            Defaults to 1000.\n",
    "\n",
    "        Returns\n",
    "        -------\n",
    "        power:\n",
    "            Computed as the percentage of significant pvalues in num_runs of the test.\n",
    "            Returned value is between 0 and 1.\n",
    "        \"\"\"    \n",
    "        pvalue_count = 0\n",
    "        \n",
    "        for _ in range(num_runs):\n",
    "            # Simulate resampling from the population\n",
    "            run_data_resample_list = []\n",
    "            for x in self.data:\n",
    "                x_run_resample = np.random.choice(x, size=len(x), replace=True)\n",
    "                run_data_resample_list.append(x_run_resample)\n",
    "            \n",
    "            # Run the hypothesis test with run_data\n",
    "            test = HTOnewayAnova(run_data_resample_list, tail=self.tail, iters=100)\n",
    "            pvalue = test.PValue()\n",
    "            \n",
    "            if pvalue < alpha:\n",
    "                pvalue_count += 1\n",
    "            \n",
    "        return pvalue_count / num_runs"
   ]
  },
  {
   "cell_type": "code",
   "execution_count": null,
   "metadata": {},
   "outputs": [],
   "source": []
  },
  {
   "cell_type": "code",
   "execution_count": 65,
   "metadata": {},
   "outputs": [],
   "source": [
    "# Data to use: comes from the scipy.stats.f_oneway example\n",
    "# https://docs.scipy.org/doc/scipy/reference/generated/scipy.stats.f_oneway.html\n",
    "\n",
    "tillamook = [0.0571, 0.0813, 0.0831, 0.0976, 0.0817, 0.0859, 0.0735,\n",
    "             0.0659, 0.0923, 0.0836]\n",
    "newport = [0.0873, 0.0662, 0.0672, 0.0819, 0.0749, 0.0649, 0.0835,\n",
    "           0.0725]\n",
    "petersburg = [0.0974, 0.1352, 0.0817, 0.1016, 0.0968, 0.1064, 0.105]\n",
    "magadan = [0.1033, 0.0915, 0.0781, 0.0685, 0.0677, 0.0697, 0.0764,\n",
    "           0.0689]\n",
    "tvarminne = [0.0703, 0.1026, 0.0956, 0.0973, 0.1039, 0.1045]"
   ]
  },
  {
   "cell_type": "code",
   "execution_count": 66,
   "metadata": {},
   "outputs": [],
   "source": [
    "data = [tillamook, newport, petersburg, magadan, tvarminne]"
   ]
  },
  {
   "cell_type": "code",
   "execution_count": 67,
   "metadata": {},
   "outputs": [
    {
     "data": {
      "text/plain": [
       "(0.0802,\n",
       " 0.07479999999999999,\n",
       " 0.10344285714285714,\n",
       " 0.0780125,\n",
       " 0.09570000000000001)"
      ]
     },
     "execution_count": 67,
     "metadata": {},
     "output_type": "execute_result"
    }
   ],
   "source": [
    "np.mean(tillamook), np.mean(newport), np.mean(petersburg), np.mean(magadan), np.mean(tvarminne)"
   ]
  },
  {
   "cell_type": "code",
   "execution_count": 68,
   "metadata": {},
   "outputs": [
    {
     "data": {
      "text/plain": [
       "F_onewayResult(statistic=7.121019471642447, pvalue=0.0002812242314534544)"
      ]
     },
     "execution_count": 68,
     "metadata": {},
     "output_type": "execute_result"
    }
   ],
   "source": [
    "stats.f_oneway(*data)"
   ]
  },
  {
   "cell_type": "code",
   "execution_count": 69,
   "metadata": {},
   "outputs": [],
   "source": [
    "# # Try permutation , petersburg_perm, magadan_perm, tvarminne_perm\n",
    "\n",
    "# data = [tillamook, newport, petersburg, magadan, tvarminne]\n",
    "# pooled_data = np.hstack(data)\n",
    "# pooled_data_perm = np.random.permutation(pooled_data)\n",
    "\n",
    "# data_perm_list = []\n",
    "# for x in data:\n",
    "#     x_perm = pooled_data_perm[:len(x)]\n",
    "#     data_perm_list.append(x_perm)\n",
    "    \n",
    "#     pooled_data_perm = pooled_data_perm[len(x):]\n",
    "\n",
    "# data_perm_list, stats.f_oneway(*data_perm_list)\n",
    "# # pooled_data_perm = np.random.permutation(pooled_data)\n",
    "# # tillamook_perm = pooled_data_perm[:len(tillamook)]\n",
    "# # newport_perm = pooled_data_perm[len(tillamook):len(tillamook)+len(newport)]\n",
    "# # petersburg\n",
    "\n",
    "# # tillamook_perm, newport_perm"
   ]
  },
  {
   "cell_type": "code",
   "execution_count": 70,
   "metadata": {},
   "outputs": [
    {
     "data": {
      "text/plain": [
       "[[0.0571,\n",
       "  0.0813,\n",
       "  0.0831,\n",
       "  0.0976,\n",
       "  0.0817,\n",
       "  0.0859,\n",
       "  0.0735,\n",
       "  0.0659,\n",
       "  0.0923,\n",
       "  0.0836],\n",
       " [0.0873, 0.0662, 0.0672, 0.0819, 0.0749, 0.0649, 0.0835, 0.0725],\n",
       " [0.0974, 0.1352, 0.0817, 0.1016, 0.0968, 0.1064, 0.105],\n",
       " [0.1033, 0.0915, 0.0781, 0.0685, 0.0677, 0.0697, 0.0764, 0.0689],\n",
       " [0.0703, 0.1026, 0.0956, 0.0973, 0.1039, 0.1045]]"
      ]
     },
     "execution_count": 70,
     "metadata": {},
     "output_type": "execute_result"
    }
   ],
   "source": [
    "data"
   ]
  },
  {
   "cell_type": "code",
   "execution_count": 71,
   "metadata": {},
   "outputs": [],
   "source": [
    "# Might be working now, but hard to tell because the pvalues are so low\n",
    "# Should try changing the numbers a bit to get a higher pvalue\n",
    "# Still need to create the Power part\n",
    "htanova = HTOnewayAnova(data)"
   ]
  },
  {
   "cell_type": "code",
   "execution_count": 72,
   "metadata": {},
   "outputs": [
    {
     "data": {
      "text/plain": [
       "0.0009999999999992237"
      ]
     },
     "execution_count": 72,
     "metadata": {},
     "output_type": "execute_result"
    }
   ],
   "source": [
    "htanova.PValue()"
   ]
  },
  {
   "cell_type": "code",
   "execution_count": 73,
   "metadata": {},
   "outputs": [
    {
     "data": {
      "text/plain": [
       "(0.0165219507655746, 8.48187552612493)"
      ]
     },
     "execution_count": 73,
     "metadata": {},
     "output_type": "execute_result"
    }
   ],
   "source": [
    "htanova.MinMaxTestStat()"
   ]
  },
  {
   "cell_type": "code",
   "execution_count": 74,
   "metadata": {},
   "outputs": [
    {
     "data": {
      "text/plain": [
       "7.121019471642447"
      ]
     },
     "execution_count": 74,
     "metadata": {},
     "output_type": "execute_result"
    }
   ],
   "source": [
    "htanova.test_stat"
   ]
  },
  {
   "cell_type": "code",
   "execution_count": 75,
   "metadata": {},
   "outputs": [
    {
     "data": {
      "text/plain": [
       "array([0.96012691, 0.95204698, 0.31561422, 0.64679999, 1.1771413 ,\n",
       "       0.84316664, 1.54682619, 2.0433977 , 1.23143929, 0.18277863,\n",
       "       0.60509812, 0.52596846, 0.46851248, 0.4241688 , 0.45681736,\n",
       "       0.95548683, 1.64163648, 0.95642035, 0.2687747 , 5.19579804,\n",
       "       0.51379516, 0.55535965, 0.70248215, 1.00692274, 1.51779378,\n",
       "       0.48867361, 0.41735847, 2.77694889, 0.23100218, 0.61298012,\n",
       "       0.87044732, 2.61683076, 0.61907443, 1.85308621, 1.56666591,\n",
       "       0.71320869, 0.88433639, 1.50245968, 1.53796146, 0.95051549,\n",
       "       0.08783491, 0.82438445, 1.13894323, 0.90226289, 1.26040532,\n",
       "       2.65412237, 1.14333052, 1.71253322, 0.28722253, 0.19905155,\n",
       "       0.89048246, 0.43911821, 2.26396908, 0.83900452, 0.59812311,\n",
       "       2.18112943, 1.58839728, 4.10290901, 0.67244337, 0.41575349,\n",
       "       1.08192488, 0.50094181, 0.16316576, 0.5236236 , 1.46661943,\n",
       "       1.54546254, 0.56310171, 1.09809799, 0.84702794, 0.40602349,\n",
       "       1.255212  , 0.30461877, 0.58748964, 1.44370728, 3.13613903,\n",
       "       0.57801568, 2.42985181, 1.35508529, 1.76429531, 0.10827668,\n",
       "       0.25879899, 0.08129468, 0.52678178, 1.73258881, 0.55205025,\n",
       "       0.113015  , 1.14940517, 0.86638496, 0.49779168, 0.51085149,\n",
       "       1.34824379, 1.97447077, 0.16177168, 0.66261848, 1.47514008,\n",
       "       0.22620963, 0.19383119, 0.87974784, 0.32539808, 1.81848067,\n",
       "       0.50832423, 1.34160941, 2.14451861, 1.23751233, 0.23977794,\n",
       "       0.31304305, 0.40209226, 0.36287457, 1.08962714, 0.08829303,\n",
       "       0.61801999, 0.38234854, 1.96233927, 0.42606961, 1.25445503,\n",
       "       1.75103342, 2.42973415, 1.29789191, 2.02633812, 1.5666075 ,\n",
       "       0.3893397 , 0.74165861, 1.03879996, 0.66355569, 1.20416602,\n",
       "       0.57891363, 0.58892898, 1.48754272, 1.29046527, 0.17798196,\n",
       "       0.55584447, 1.41585547, 0.20212798, 1.07123777, 0.62741856,\n",
       "       0.74352294, 1.59498371, 0.76283971, 0.51227582, 0.80372368,\n",
       "       4.74682855, 0.92994739, 1.3423009 , 0.22187253, 1.38188155,\n",
       "       1.38864386, 0.45626933, 1.18472597, 1.04767631, 0.85449823,\n",
       "       2.38806891, 2.12530628, 0.87448593, 1.81758029, 0.43970765,\n",
       "       0.57086168, 1.04301752, 0.24577918, 1.49873171, 2.43883439,\n",
       "       0.69004298, 0.23011115, 1.54993295, 0.73698794, 0.92247782,\n",
       "       0.39766181, 2.6260876 , 0.88713738, 0.99965744, 1.29156266,\n",
       "       0.9962592 , 0.52273071, 0.92350556, 0.73615937, 0.30020367,\n",
       "       0.69279262, 0.40048565, 0.7438188 , 1.31801588, 0.44007226,\n",
       "       0.80166678, 0.27539188, 0.60535005, 0.70547975, 2.05001761,\n",
       "       0.80831633, 0.35968643, 0.92238847, 0.8495155 , 1.15057256,\n",
       "       1.69724566, 0.7783352 , 2.15607124, 1.05756126, 0.80330302,\n",
       "       1.70903577, 1.67698078, 0.36172879, 1.04576596, 0.82958262,\n",
       "       2.78500949, 0.60111963, 1.41069853, 0.2114849 , 4.33113408,\n",
       "       1.42421857, 1.3357883 , 0.22516485, 0.69541519, 0.52965571,\n",
       "       0.40673227, 0.70233745, 1.94115347, 0.36394305, 1.13604079,\n",
       "       0.97629151, 1.9043026 , 2.84337943, 0.64690512, 0.12611913,\n",
       "       2.39896634, 1.11753   , 0.851762  , 0.45466773, 5.39120776,\n",
       "       0.33809927, 1.33977812, 0.35722774, 1.83859509, 0.79100638,\n",
       "       0.4644941 , 0.7818623 , 0.32353221, 0.32089128, 1.21533489,\n",
       "       1.5369809 , 1.50939087, 0.15112959, 1.17622251, 0.36723226,\n",
       "       1.5948766 , 0.15820064, 0.52027881, 4.19332129, 0.61621959,\n",
       "       1.6512029 , 1.15244888, 1.06978583, 0.56049607, 0.42156531,\n",
       "       0.99357996, 0.79612478, 2.55878684, 0.78336945, 1.0080769 ,\n",
       "       0.5893908 , 3.71974832, 3.18466418, 2.18016166, 1.38854971,\n",
       "       0.49228387, 1.02032128, 1.73600317, 0.81465216, 0.80057828,\n",
       "       0.37181117, 0.62162466, 0.99314892, 2.1759835 , 0.62063353,\n",
       "       0.14770165, 0.22624587, 1.07270162, 0.18159295, 0.5828482 ,\n",
       "       0.48623645, 3.00791694, 0.32189272, 0.19196051, 1.15653052,\n",
       "       0.33476754, 1.82598027, 2.20949098, 1.60831692, 0.91193307,\n",
       "       1.40659553, 0.09195064, 0.53198224, 2.33659655, 0.25893345,\n",
       "       1.1427756 , 1.64918998, 0.52360636, 1.60567383, 0.60198921,\n",
       "       0.24286086, 0.43242875, 0.74016536, 0.62712759, 0.33918654,\n",
       "       0.54297511, 1.13073642, 0.46998174, 0.21850584, 0.40039586,\n",
       "       0.65495203, 0.71402239, 1.97449425, 1.04525537, 0.78765358,\n",
       "       0.91395477, 0.47652928, 1.81129637, 1.71586822, 1.5292373 ,\n",
       "       0.25299449, 0.57640322, 0.29481832, 0.26611261, 2.2343561 ,\n",
       "       0.58160619, 0.61473904, 0.22065604, 0.92951654, 0.31324929,\n",
       "       2.05716437, 1.80641968, 0.64693886, 0.22496796, 1.27931095,\n",
       "       0.0865535 , 1.70963302, 0.60309383, 1.93205176, 1.09282436,\n",
       "       3.45540101, 1.7091026 , 0.43904929, 1.16084845, 0.37376498,\n",
       "       0.51573818, 1.52565733, 1.34536921, 1.29639994, 0.64512915,\n",
       "       1.62185527, 1.51446383, 0.35279887, 0.50962553, 0.34355331,\n",
       "       1.95015075, 1.76683215, 0.11593876, 0.53434851, 0.46153056,\n",
       "       1.41623762, 1.45500917, 1.33971772, 1.45943717, 0.38286487,\n",
       "       0.55032474, 0.32479292, 0.11983535, 1.64347946, 1.07261361,\n",
       "       0.83506024, 2.08041364, 1.77571444, 2.46810367, 0.69069154,\n",
       "       1.17408746, 0.96056914, 0.55045961, 1.25859831, 0.01900512,\n",
       "       1.04543891, 1.04220212, 0.17569443, 0.26331511, 0.63916553,\n",
       "       0.55656051, 0.69869409, 0.99187375, 1.22785893, 1.0315589 ,\n",
       "       0.08825359, 0.89246434, 0.40449058, 0.71731281, 0.80036025,\n",
       "       1.37605019, 0.32101273, 1.85813941, 1.42418768, 0.49739925,\n",
       "       1.35608429, 1.98673852, 0.16224587, 2.02063894, 0.73272423,\n",
       "       1.209024  , 1.55748769, 1.53966279, 0.61285132, 0.74159182,\n",
       "       0.14234652, 0.66050055, 0.67632298, 0.35116429, 0.36518302,\n",
       "       0.85026036, 1.14646891, 0.50298409, 1.83711917, 0.32842845,\n",
       "       0.35740847, 0.55319197, 3.04931671, 0.19078745, 0.19612403,\n",
       "       0.05500491, 0.08729686, 1.96980566, 8.48187553, 1.81356366,\n",
       "       0.98365456, 0.40601613, 3.47459861, 0.77391965, 0.96364247,\n",
       "       0.39477304, 1.40863474, 2.0513145 , 1.08829698, 1.1410581 ,\n",
       "       1.20348332, 0.73718062, 0.95230233, 2.25383882, 0.79206932,\n",
       "       6.17004923, 1.49327895, 1.78134032, 0.87363812, 1.22347783,\n",
       "       1.21982628, 1.41053779, 0.17731527, 0.65900907, 1.32016971,\n",
       "       0.83365041, 0.85694845, 2.27716957, 1.09782456, 0.31887031,\n",
       "       0.0468165 , 0.98062727, 0.1015482 , 1.99673076, 1.15766778,\n",
       "       0.64644672, 3.35170716, 0.98251529, 0.72519782, 0.48045392,\n",
       "       0.37078975, 0.93818284, 1.83544513, 0.25054256, 0.95212852,\n",
       "       1.47894966, 0.42399591, 0.37612002, 0.67814042, 0.799599  ,\n",
       "       0.54149326, 1.18590195, 0.25190633, 0.8108625 , 0.86913774,\n",
       "       4.20213325, 1.19468766, 0.37844909, 0.83963108, 0.48456672,\n",
       "       1.1700824 , 1.0206448 , 0.2727575 , 2.61546389, 0.46693212,\n",
       "       1.63597306, 0.25705771, 0.87855569, 0.72370182, 1.80772224,\n",
       "       0.58644583, 1.48058085, 0.94674674, 0.46034027, 0.94634113,\n",
       "       0.70470017, 0.24768559, 0.81728171, 1.15395125, 2.072554  ,\n",
       "       2.05916884, 1.46519118, 0.59847064, 1.83093979, 1.12199587,\n",
       "       1.79072115, 1.44466645, 0.15151195, 0.55375947, 0.89434887,\n",
       "       1.28426172, 0.82556898, 1.74285591, 0.83008228, 0.79667053,\n",
       "       0.46442679, 0.62895691, 0.30392695, 1.00300167, 0.28267719,\n",
       "       0.22488483, 1.16450128, 1.80077369, 0.52208061, 0.13233179,\n",
       "       0.35401567, 1.24908614, 0.31286631, 1.1528257 , 1.59592521,\n",
       "       0.63228275, 0.13984951, 0.56691489, 1.68545686, 2.45110466,\n",
       "       0.44687888, 0.01652195, 0.70332388, 1.17194478, 1.2286311 ,\n",
       "       0.9104031 , 0.15236356, 0.33798792, 0.57337669, 1.91743399,\n",
       "       0.47097743, 0.5566978 , 1.05645985, 2.07012951, 1.18195749,\n",
       "       1.20402842, 0.13199035, 0.36847845, 3.15879414, 1.47984034,\n",
       "       0.94818572, 3.9966418 , 0.75992988, 0.34649818, 1.89123732,\n",
       "       0.94881362, 0.7616985 , 1.505973  , 1.08766284, 1.08821507,\n",
       "       0.70411705, 1.4377943 , 2.12334234, 0.37986225, 0.88499979,\n",
       "       1.48956358, 1.04814803, 0.34312543, 0.76524885, 2.13599482,\n",
       "       0.71048339, 1.66450838, 0.40731274, 0.67447306, 0.78968567,\n",
       "       0.01751801, 1.34589083, 0.35655687, 1.06356772, 0.21728174,\n",
       "       1.44146995, 1.48679986, 0.95743026, 0.55130327, 0.96207488,\n",
       "       1.51681456, 1.20833691, 0.34587789, 1.85935179, 0.44089984,\n",
       "       1.07286732, 0.2834413 , 0.57031549, 2.41539026, 0.34116703,\n",
       "       1.45929324, 1.75832236, 0.47452811, 1.23397556, 1.44837331,\n",
       "       0.08911542, 0.88285338, 1.03891708, 0.9092519 , 0.20373133,\n",
       "       1.01776036, 2.30099783, 1.84908874, 3.95332275, 1.44843238,\n",
       "       1.16793231, 0.72393828, 1.10402414, 2.44055483, 1.20037113,\n",
       "       1.19484869, 1.05936511, 0.3271397 , 0.77740224, 0.50405686,\n",
       "       2.96728853, 5.10471854, 0.43375285, 1.33158956, 2.36906606,\n",
       "       0.82469651, 0.67845612, 0.57339646, 1.29349592, 0.1417538 ,\n",
       "       0.30392748, 1.29349992, 0.64932868, 0.37594133, 1.53093095,\n",
       "       0.42197064, 0.70606638, 1.83933109, 0.57928949, 0.35280588,\n",
       "       0.67012641, 1.05738239, 0.38230834, 1.86636075, 1.06201865,\n",
       "       0.95128207, 0.91656215, 0.4802229 , 0.78650853, 0.31280606,\n",
       "       0.57634274, 0.67059982, 2.57403218, 1.17470869, 0.03143873,\n",
       "       0.1773898 , 0.53796856, 0.37940321, 2.24681454, 2.1699828 ,\n",
       "       0.84788967, 0.41160663, 0.25749959, 0.62436173, 1.76922228,\n",
       "       1.3669225 , 0.59000606, 1.64664319, 2.59017759, 0.89573076,\n",
       "       0.97494455, 0.4635744 , 0.70685662, 0.67740755, 0.77079896,\n",
       "       1.83961755, 0.29371487, 2.28005365, 1.48290784, 1.28397227,\n",
       "       0.23032446, 0.98327254, 0.68946577, 0.99771754, 0.47656715,\n",
       "       0.62912669, 0.78455231, 1.13107501, 0.44985547, 0.64230983,\n",
       "       0.2689423 , 0.83998517, 1.75093032, 0.56492155, 1.18986828,\n",
       "       0.18009994, 0.96377153, 0.82255888, 0.57841414, 2.10570565,\n",
       "       1.94459444, 0.21625043, 0.61258146, 1.40510995, 2.36261628,\n",
       "       0.44194193, 0.75507871, 0.08108536, 1.44399495, 0.17054018,\n",
       "       0.15087329, 1.46350065, 0.43136335, 2.3265778 , 1.01625264,\n",
       "       0.53824449, 0.71905887, 1.63262437, 1.20136511, 0.09180392,\n",
       "       0.502367  , 0.42979483, 1.12888066, 0.86574995, 1.81944261,\n",
       "       2.07740882, 0.82157832, 1.52724536, 2.94704412, 0.86832077,\n",
       "       0.58355292, 2.38940677, 1.59828519, 1.9524059 , 0.24810768,\n",
       "       0.47611807, 0.86426876, 3.65869211, 1.89117678, 1.40035069,\n",
       "       2.25736646, 2.52152623, 1.57042076, 0.19825351, 0.91799042,\n",
       "       0.93589872, 0.43293159, 0.47968717, 1.5911028 , 4.71924076,\n",
       "       0.7740559 , 0.72750212, 0.87725233, 1.78124504, 1.57812541,\n",
       "       0.54599388, 0.26561272, 0.34053663, 0.28674117, 1.7005553 ,\n",
       "       2.14660701, 0.63893345, 0.46728834, 0.43574931, 0.96763938,\n",
       "       1.02242454, 1.30165011, 0.91961669, 0.35224767, 1.16529261,\n",
       "       0.71813769, 0.31730767, 0.52022758, 1.1875668 , 0.62887056,\n",
       "       3.75342619, 1.45732672, 0.71771363, 1.01222852, 0.48497123,\n",
       "       1.41398461, 1.24022625, 0.41651899, 1.17672566, 0.2569401 ,\n",
       "       0.74580775, 1.70285832, 1.44781363, 1.23666088, 1.17811863,\n",
       "       0.53522605, 0.52766825, 0.90417506, 1.82426108, 1.23731496,\n",
       "       0.92257404, 1.55752145, 0.94168367, 1.32881122, 3.47037417,\n",
       "       0.33562944, 0.35539561, 0.92697897, 0.27021356, 1.08858042,\n",
       "       0.71632881, 0.67265731, 0.06026161, 0.49940303, 0.2276353 ,\n",
       "       1.48405686, 0.32735179, 1.27601095, 1.93238276, 0.65976524,\n",
       "       0.41608764, 0.44204789, 1.08135814, 0.53865616, 1.97330215,\n",
       "       0.90764939, 0.43788652, 1.57493395, 0.91673708, 0.77912208,\n",
       "       0.45763261, 0.31124855, 0.23533686, 2.36617824, 1.40551949,\n",
       "       1.15714518, 1.28562912, 0.99828972, 1.90437691, 0.81316013,\n",
       "       0.2178219 , 0.35456345, 0.96675134, 1.2462397 , 1.37185039,\n",
       "       0.6216839 , 0.2623988 , 1.37053496, 0.1750867 , 1.37379784,\n",
       "       1.27303455, 0.50117144, 0.6258568 , 0.47186913, 1.22702216,\n",
       "       0.71956462, 0.20907069, 0.87525513, 0.63812768, 0.60825207,\n",
       "       3.07621273, 1.06942956, 0.75430587, 0.35053581, 1.08901091,\n",
       "       0.88227873, 1.30447674, 0.29779309, 0.42459593, 0.34409677,\n",
       "       0.53070159, 3.41711847, 1.0093611 , 0.57221963, 1.60631937,\n",
       "       0.67892359, 0.54399423, 2.20703667, 2.63505011, 0.74340888,\n",
       "       2.01835148, 1.29674547, 1.93115234, 0.31018972, 0.15823775,\n",
       "       0.05668061, 1.30927266, 0.81924056, 1.54067878, 1.61522482,\n",
       "       0.6665859 , 1.15891114, 1.20661308, 0.18784856, 4.19432954,\n",
       "       0.29800696, 0.20630953, 0.92783795, 0.95458348, 0.23158854,\n",
       "       0.51063866, 1.18998701, 1.04374201, 1.34440403, 0.38640324,\n",
       "       0.55553146, 0.09038308, 0.33059592, 0.29800581, 1.45680517,\n",
       "       0.39318412, 0.39631614, 0.81940629, 2.53561767, 1.5830721 ,\n",
       "       1.99183937, 0.90937841, 0.87000067, 1.24633693, 1.48222115,\n",
       "       0.32374154, 0.25731121, 1.03769936, 0.05153979, 1.79580794,\n",
       "       0.38449549, 2.65999928, 0.51992829, 1.59141962, 0.90578242,\n",
       "       0.26882401, 1.43878372, 0.87356644, 0.06991643, 3.12155919,\n",
       "       1.3505318 , 0.45843964, 0.41413618, 0.87830034, 0.34299443,\n",
       "       1.04929414, 0.2248265 , 0.44444225, 1.66873662, 1.87562148,\n",
       "       0.60462736, 1.05581104, 2.04598301, 0.07359763, 0.66559221,\n",
       "       0.8022412 , 1.55084332, 1.06158252, 0.7175525 , 1.16203822,\n",
       "       0.50482601, 2.58693155, 0.21431669, 0.7329348 , 0.54705968,\n",
       "       0.39735611, 0.93216192, 1.78161883, 1.09048701, 0.84648148,\n",
       "       0.86534091, 1.34740307, 0.95159185, 1.00188876, 2.10668346,\n",
       "       0.59764699, 2.36754372, 0.6919079 , 3.00821732, 1.44168046,\n",
       "       0.35622873, 1.70813981, 1.32342786, 1.830192  , 0.6324762 ,\n",
       "       1.42036923, 0.43188145, 0.41650052, 1.48418579, 2.26896201,\n",
       "       0.63195385, 0.31697263, 0.5612052 , 0.93625895, 0.69881318,\n",
       "       0.52279616, 1.17997124, 0.67320582, 0.13236616, 0.54349821])"
      ]
     },
     "execution_count": 75,
     "metadata": {},
     "output_type": "execute_result"
    }
   ],
   "source": [
    "htanova.sampling_dist"
   ]
  },
  {
   "cell_type": "code",
   "execution_count": 76,
   "metadata": {},
   "outputs": [
    {
     "data": {
      "text/plain": [
       "0.99"
      ]
     },
     "execution_count": 76,
     "metadata": {},
     "output_type": "execute_result"
    }
   ],
   "source": [
    "# I think it is working. The power is 1.0 because the p-value is so small. The test pretty much always gives significant result\n",
    "htanova.Power(num_runs=100)"
   ]
  },
  {
   "cell_type": "code",
   "execution_count": 77,
   "metadata": {},
   "outputs": [
    {
     "data": {
      "text/plain": [
       "7.121019471642447"
      ]
     },
     "execution_count": 77,
     "metadata": {},
     "output_type": "execute_result"
    }
   ],
   "source": [
    "htanova.test_stat"
   ]
  },
  {
   "cell_type": "code",
   "execution_count": 78,
   "metadata": {},
   "outputs": [],
   "source": [
    "tillamook = [0.0571, 0.0813, 0.0831, 0.0976, 0.0817, 0.0859, 0.0735,\n",
    "             0.0659, 0.0923, 0.0836]\n",
    "newport = [0.0873, 0.0662, 0.0672, 0.0819, 0.0749, 0.0649, 0.0835,\n",
    "           0.0725]\n",
    "new_petersburg = [0.0777, 0.1, 0.0817, 0.0807, 0.0887, 0.1, 0.0815]\n",
    "magadan = [0.1033, 0.0915, 0.0781, 0.0685, 0.0677, 0.0697, 0.0764,\n",
    "           0.0689]\n",
    "new_tvarminne = [0.0803, 0.1, 0.0805, 0.0973, 0.0837, 0.1]"
   ]
  },
  {
   "cell_type": "code",
   "execution_count": 79,
   "metadata": {},
   "outputs": [],
   "source": [
    "new_data = [tillamook, newport, new_petersburg, magadan, new_tvarminne]"
   ]
  },
  {
   "cell_type": "code",
   "execution_count": 80,
   "metadata": {},
   "outputs": [
    {
     "data": {
      "text/plain": [
       "(0.0802, 0.07479999999999999, 0.0871857142857143, 0.0780125, 0.0903)"
      ]
     },
     "execution_count": 80,
     "metadata": {},
     "output_type": "execute_result"
    }
   ],
   "source": [
    "# To use G-power, calculate the means of each data sequence\n",
    "np.mean(tillamook), np.mean(newport), np.mean(new_petersburg), np.mean(magadan), np.mean(new_tvarminne)"
   ]
  },
  {
   "cell_type": "code",
   "execution_count": 81,
   "metadata": {},
   "outputs": [
    {
     "data": {
      "text/plain": [
       "0.009815152852906583"
      ]
     },
     "execution_count": 81,
     "metadata": {},
     "output_type": "execute_result"
    }
   ],
   "source": [
    "# To use G-Power, calculate the average standard deviation\n",
    "(np.std(tillamook) + np.std(newport) + np.std(new_petersburg) + np.std(magadan) + np.std(new_tvarminne))/5"
   ]
  },
  {
   "cell_type": "code",
   "execution_count": 82,
   "metadata": {},
   "outputs": [],
   "source": [
    "htanova2 = HTOnewayAnova(new_data)"
   ]
  },
  {
   "cell_type": "code",
   "execution_count": 83,
   "metadata": {},
   "outputs": [
    {
     "data": {
      "text/plain": [
       "2.486048405682797"
      ]
     },
     "execution_count": 83,
     "metadata": {},
     "output_type": "execute_result"
    }
   ],
   "source": [
    "htanova2.test_stat"
   ]
  },
  {
   "cell_type": "code",
   "execution_count": 84,
   "metadata": {},
   "outputs": [
    {
     "data": {
      "text/plain": [
       "0.06599999999999928"
      ]
     },
     "execution_count": 84,
     "metadata": {},
     "output_type": "execute_result"
    }
   ],
   "source": [
    "htanova2.PValue()"
   ]
  },
  {
   "cell_type": "code",
   "execution_count": 85,
   "metadata": {},
   "outputs": [
    {
     "data": {
      "text/plain": [
       "0.77"
      ]
     },
     "execution_count": 85,
     "metadata": {},
     "output_type": "execute_result"
    }
   ],
   "source": [
    "# Seems to be working, GPower gives a result of 0.74\n",
    "htanova2.Power(num_runs=100)"
   ]
  },
  {
   "cell_type": "code",
   "execution_count": 86,
   "metadata": {},
   "outputs": [
    {
     "data": {
      "text/plain": [
       "F_onewayResult(statistic=2.486048405682797, pvalue=0.061842209191269946)"
      ]
     },
     "execution_count": 86,
     "metadata": {},
     "output_type": "execute_result"
    }
   ],
   "source": [
    "stats.f_oneway(*new_data)"
   ]
  },
  {
   "cell_type": "code",
   "execution_count": 87,
   "metadata": {},
   "outputs": [
    {
     "data": {
      "text/plain": [
       "2.486048405682797"
      ]
     },
     "execution_count": 87,
     "metadata": {},
     "output_type": "execute_result"
    }
   ],
   "source": [
    "htanova2.test_stat"
   ]
  },
  {
   "cell_type": "markdown",
   "metadata": {},
   "source": [
    "#### Post hoc analysis"
   ]
  },
  {
   "cell_type": "code",
   "execution_count": 88,
   "metadata": {},
   "outputs": [],
   "source": [
    "# Can I just use my difference in means hypothesis tests to find significant differences between pairs of data sequences?"
   ]
  },
  {
   "cell_type": "code",
   "execution_count": 113,
   "metadata": {},
   "outputs": [],
   "source": [
    "from itertools import combinations\n",
    "from math import factorial"
   ]
  },
  {
   "cell_type": "code",
   "execution_count": 182,
   "metadata": {},
   "outputs": [],
   "source": [
    "def AnovaPostHoc(data, alpha=0.05):\n",
    "    num_comparisons = int(factorial(len(data))/(2*factorial(len(data)-2)))\n",
    "    corrected_alpha = 0.05/num_comparisons\n",
    "    print(corrected_alpha)\n",
    "    enum_data = enumerate(data)\n",
    "    \n",
    "    for pair in combinations(enum_data, 2):\n",
    "        test = dsa.HTDiffMeansH0((pair[0][1], pair[1][1]))\n",
    "        pvalue = test.PValue()\n",
    "        significant = 'Y' if pvalue < corrected_alpha else 'N' \n",
    "        print(pair[0][0], pair[1][0], ':', '{:.3f}'.format(pvalue), significant)\n"
   ]
  },
  {
   "cell_type": "code",
   "execution_count": 183,
   "metadata": {},
   "outputs": [
    {
     "name": "stdout",
     "output_type": "stream",
     "text": [
      "0.005\n",
      "0 1 : 0.303 N\n",
      "0 2 : 0.238 N\n",
      "0 3 : 0.702 N\n",
      "0 4 : 0.102 N\n",
      "1 2 : 0.021 N\n",
      "1 3 : 0.601 N\n",
      "1 4 : 0.018 N\n",
      "2 3 : 0.136 N\n",
      "2 4 : 0.592 N\n",
      "3 4 : 0.074 N\n"
     ]
    }
   ],
   "source": [
    "AnovaPostHoc(new_data)"
   ]
  },
  {
   "cell_type": "code",
   "execution_count": 186,
   "metadata": {},
   "outputs": [
    {
     "name": "stdout",
     "output_type": "stream",
     "text": [
      "0.005\n",
      "0 1 : 0.273 N\n",
      "0 2 : 0.001 Y\n",
      "0 3 : 0.703 N\n",
      "0 4 : 0.032 N\n",
      "1 2 : 0.000 Y\n",
      "1 3 : 0.559 N\n",
      "1 4 : 0.006 N\n",
      "2 3 : 0.002 Y\n",
      "2 4 : 0.383 N\n",
      "3 4 : 0.033 N\n"
     ]
    }
   ],
   "source": [
    "AnovaPostHoc(data)"
   ]
  },
  {
   "cell_type": "code",
   "execution_count": 169,
   "metadata": {},
   "outputs": [],
   "source": [
    "# Compare this with statsmodels tukeyhsd\n",
    "from statsmodels.stats.multicomp import pairwise_tukeyhsd"
   ]
  },
  {
   "cell_type": "code",
   "execution_count": 167,
   "metadata": {},
   "outputs": [
    {
     "name": "stdout",
     "output_type": "stream",
     "text": [
      "Multiple Comparison of Means - Tukey HSD, FWER=0.05 \n",
      "====================================================\n",
      "group1 group2 meandiff p-adj   lower   upper  reject\n",
      "----------------------------------------------------\n",
      "     0      1  -0.0054 0.8898 -0.0226  0.0118  False\n",
      "     0      2   0.0232 0.0057  0.0054  0.0411   True\n",
      "     0      3  -0.0022    0.9 -0.0194   0.015  False\n",
      "     0      4   0.0155 0.1446 -0.0032  0.0342  False\n",
      "     1      2   0.0286  0.001  0.0099  0.0474   True\n",
      "     1      3   0.0032    0.9 -0.0149  0.0213  False\n",
      "     1      4   0.0209 0.0318  0.0013  0.0405   True\n",
      "     2      3  -0.0254 0.0037 -0.0442 -0.0067   True\n",
      "     2      4  -0.0077 0.7791 -0.0279  0.0124  False\n",
      "     3      4   0.0177 0.0928 -0.0019  0.0373  False\n",
      "----------------------------------------------------\n"
     ]
    }
   ],
   "source": [
    "# Setting this up is crazy complicated\n",
    "# Found a way to do it here:\n",
    "# https://python.hotexamples.com/examples/statsmodels.stats.multicomp/-/pairwise_tukeyhsd/python-pairwise_tukeyhsd-function-examples.html\n",
    "x = []\n",
    "label = []\n",
    "\n",
    "for grp_num in range(len(data)):\n",
    "    x.extend(data[grp_num])\n",
    "    label.extend([grp_num]*len(data[grp_num]))\n",
    "\n",
    "results = pairwise_tukeyhsd(np.array(x), np.array(label))\n",
    "print(results)"
   ]
  },
  {
   "cell_type": "code",
   "execution_count": 161,
   "metadata": {},
   "outputs": [],
   "source": [
    "# This is the full function from which I got the method for using pairwise_tukey above\n",
    "def test_ANOVA_and_T_HSD(array_of_arrays):\n",
    "    ANOVA_f, ANOVA_p = stats.f_oneway(*array_of_arrays)\n",
    "\n",
    "    if ANOVA_p < 0.05:\n",
    "        x = []\n",
    "        label = []\n",
    "        for grp_num in range(len(array_of_arrays)):\n",
    "            x.extend(array_of_arrays[grp_num])\n",
    "            label.extend([grp_num]*len(array_of_arrays[grp_num]))\n",
    "        \n",
    "        tukey_HSD_result = pairwise_tukeyhsd(np.array(x), np.array(label))\n",
    "        \n",
    "        return ANOVA_p, tukey_HSD_result\n",
    "    else:\n",
    "        return ANOVA_p, False"
   ]
  },
  {
   "cell_type": "code",
   "execution_count": 162,
   "metadata": {},
   "outputs": [
    {
     "name": "stdout",
     "output_type": "stream",
     "text": [
      "[0.0571, 0.0813, 0.0831, 0.0976, 0.0817, 0.0859, 0.0735, 0.0659, 0.0923, 0.0836, 0.0873, 0.0662, 0.0672, 0.0819, 0.0749, 0.0649, 0.0835, 0.0725, 0.0974, 0.1352, 0.0817, 0.1016, 0.0968, 0.1064, 0.105, 0.1033, 0.0915, 0.0781, 0.0685, 0.0677, 0.0697, 0.0764, 0.0689, 0.0703, 0.1026, 0.0956, 0.0973, 0.1039, 0.1045]\n",
      "[0, 0, 0, 0, 0, 0, 0, 0, 0, 0, 1, 1, 1, 1, 1, 1, 1, 1, 2, 2, 2, 2, 2, 2, 2, 3, 3, 3, 3, 3, 3, 3, 3, 4, 4, 4, 4, 4, 4]\n"
     ]
    },
    {
     "data": {
      "text/plain": [
       "(0.0002812242314534544,\n",
       " <statsmodels.sandbox.stats.multicomp.TukeyHSDResults at 0x18bee9c9390>)"
      ]
     },
     "execution_count": 162,
     "metadata": {},
     "output_type": "execute_result"
    }
   ],
   "source": [
    "test_ANOVA_and_T_HSD(data)"
   ]
  },
  {
   "cell_type": "code",
   "execution_count": null,
   "metadata": {},
   "outputs": [],
   "source": []
  }
 ],
 "metadata": {
  "kernelspec": {
   "display_name": "Python 3.7.3 64-bit ('base': conda)",
   "language": "python",
   "name": "python37364bitbaseconda24f47ca32af24772af08039f921d0b59"
  },
  "language_info": {
   "codemirror_mode": {
    "name": "ipython",
    "version": 3
   },
   "file_extension": ".py",
   "mimetype": "text/x-python",
   "name": "python",
   "nbconvert_exporter": "python",
   "pygments_lexer": "ipython3",
   "version": "3.7.3"
  }
 },
 "nbformat": 4,
 "nbformat_minor": 4
}
