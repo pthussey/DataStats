{
 "cells": [
  {
   "cell_type": "code",
   "execution_count": 1,
   "metadata": {},
   "outputs": [],
   "source": [
    "%matplotlib inline\n",
    "\n",
    "import pandas as pd\n",
    "import numpy as np\n",
    "\n",
    "from pandas.api.types import CategoricalDtype\n",
    "\n",
    "from collections import defaultdict, Counter\n",
    "\n",
    "import matplotlib\n",
    "import matplotlib.pyplot as plt\n",
    "import seaborn as sns\n",
    "\n",
    "import datetime as dt\n",
    "import matplotlib.dates as mdates\n",
    "\n",
    "import scipy.stats as stats\n",
    "import statsmodels.api as sm\n",
    "import statsmodels.stats.api as sms\n",
    "import statsmodels.formula.api as smf\n",
    "\n",
    "import dataStatsAnalysis as dsa\n",
    "import dataStatsPlotting as dsp\n",
    "\n",
    "dsp.SetParams()"
   ]
  },
  {
   "cell_type": "code",
   "execution_count": 54,
   "metadata": {},
   "outputs": [],
   "source": [
    "# Load the hypothesis test superclass\n",
    "class UnimplementedMethodException(Exception):\n",
    "    \"\"\"Exception if someone calls a method that should be overridden.\"\"\"\n",
    "\n",
    "class HypothesisTest():\n",
    "    \"\"\"Hypothesis test superclass. \n",
    "    \"\"\"\n",
    "\n",
    "    def __init__(self, data, tail='right', iters=1000):\n",
    "        \"\"\"Initializes the hypothesis test.\n",
    "\n",
    "        data: data in whatever form is relevant\n",
    "        \"\"\"\n",
    "        self.data = data\n",
    "        self.tail = tail\n",
    "        self.iters = iters\n",
    "        self.test_stat = self.TestStat(self.data)\n",
    "        self.rv = self.ComputeRv(self.data)\n",
    "    \n",
    "    # Provide the functionality to compute the test stat for the data. \n",
    "    # In the case of an alternative hypothesis based test \n",
    "    # this will need to be supplied via class parameter. \n",
    "    # Then the test-stat is passed to the TestStat function and simply returned. \n",
    "    # For tests that resample to build a distribution for the null hypothesis \n",
    "    # the calculation of the test stat must be provided, \n",
    "    # and data must be passed to the TestStat function. \n",
    "    # See child classes for examples\n",
    "    def TestStat(self, data):\n",
    "        UnimplementedMethodException()\n",
    "    \n",
    "    # Provide the functionality that prepares the data (eg. putting into array format),\n",
    "    # and computes the sampling distribution and rv for the data. \n",
    "    # See child classes for examples\n",
    "    def ComputeRv(self, data):\n",
    "        UnimplementedMethodException()\n",
    "    \n",
    "    def PValue(self):\n",
    "        \"\"\"Computes the distribution of the test statistic and p-value.\n",
    "\n",
    "        returns: float p-value\n",
    "        \"\"\"\n",
    "        if self.tail == 'left':\n",
    "            pvalue = self.rv.cdf(self.test_stat)\n",
    "        elif self.tail == 'right':\n",
    "            pvalue = 1 - self.rv.cdf(self.test_stat)\n",
    "        else:\n",
    "            raise Exception('The value of \\'tail\\' can only be either \\'left\\' or \\'right\\'')\n",
    "\n",
    "        return pvalue\n",
    "\n",
    "    def MinMaxTestStat(self):\n",
    "        \"\"\"Returns the largest test statistic seen during simulations.\n",
    "        \"\"\"\n",
    "        return min(self.rv.xk), max(self.rv.xk)\n",
    "\n",
    "    def PlotCdf(self):\n",
    "        \"\"\"Draws a Cdf with a vertical line at the test stat.\n",
    "        \"\"\"      \n",
    "        plt.plot(self.rv.xk, self.rv.cdf(self.rv.xk), color='C0', lw=2) # pylint: disable=no-member\n",
    "        \n",
    "        plt.axvline(self.test_stat, color='C1', lw=1.3)"
   ]
  },
  {
   "cell_type": "markdown",
   "metadata": {},
   "source": [
    "### One-sample mean hypothesis test"
   ]
  },
  {
   "cell_type": "code",
   "execution_count": 91,
   "metadata": {},
   "outputs": [],
   "source": [
    "class HTMean(HypothesisTest):\n",
    "    \"\"\"A one-sample mean hypothesis test. \n",
    "    A test_stat to represent the null hypothesis must be provided.\n",
    "    \"\"\"  \n",
    "    # For tests that resample to build a distribution for the alternative hypothesis \n",
    "    # a test_stat parameter must be included in __init__ to represent the null hypothesis\n",
    "    # This test_stat is made an attribute of the class below\n",
    "    def __init__(self, data, test_stat, tail='right', iters=1000):\n",
    "        self.test_stat = test_stat\n",
    "        HypothesisTest.__init__(self, data, tail, iters)\n",
    "    \n",
    "    def TestStat(self, data=None):\n",
    "        return self.test_stat\n",
    "    \n",
    "    def ComputeRv(self, data):       \n",
    "        # Prepare the data\n",
    "        data = np.array(data)\n",
    "        \n",
    "        # Build the sampling distribution\n",
    "        mean_estimates = [np.random.choice(data, size=len(data), replace=True).\n",
    "                          mean() for _ in range(self.iters)]\n",
    "\n",
    "        return dsa.DiscreteRv(mean_estimates)\n",
    "\n",
    "    def Power(self, alpha=0.05, num_runs=1000):\n",
    "        pvalue_count = 0\n",
    "        \n",
    "        for _ in range(num_runs):\n",
    "            # Create run_data that simulates taking another sample from the population\n",
    "            run_data = np.random.choice(self.data, size=len(self.data), replace=True)\n",
    "        \n",
    "            # Run the hypothesis test with run_data\n",
    "            # Reduce iters to 100 to reduce computation time\n",
    "            test = HTMean(run_data, test_stat=self.test_stat, tail=self.tail, iters=100)\n",
    "            pvalue = test.PValue()\n",
    "            \n",
    "            if pvalue < alpha:\n",
    "                pvalue_count += 1\n",
    "            \n",
    "        return pvalue_count / num_runs"
   ]
  },
  {
   "cell_type": "code",
   "execution_count": 92,
   "metadata": {},
   "outputs": [
    {
     "data": {
      "text/plain": [
       "array([18, 17, 22, 18, 20, 22, 21, 21, 20, 21, 17, 18, 22, 19, 21, 22, 19,\n",
       "       18, 22, 21, 22, 20, 20, 20, 18, 21, 21, 17, 22, 18, 17, 21, 21, 20,\n",
       "       20, 19, 21, 20, 22, 17, 19, 19, 19, 17, 20, 22, 20, 19, 21, 22, 20,\n",
       "       18, 17, 17, 22, 22, 21, 21, 17, 18, 21, 20, 19, 18, 22, 17, 22, 19,\n",
       "       21, 18, 17, 20, 20, 21, 19, 18, 19, 22, 18, 20, 18, 19, 18, 20, 22,\n",
       "       21, 21, 20, 17, 20, 22, 18, 18, 17, 20, 20, 19, 17, 22, 17])"
      ]
     },
     "execution_count": 92,
     "metadata": {},
     "output_type": "execute_result"
    }
   ],
   "source": [
    "data1 = np.random.randint(17,23,size=100)\n",
    "data1"
   ]
  },
  {
   "cell_type": "code",
   "execution_count": 93,
   "metadata": {},
   "outputs": [],
   "source": [
    "htmean = HTMean(data1, test_stat=19.15, tail='left')"
   ]
  },
  {
   "cell_type": "code",
   "execution_count": 94,
   "metadata": {},
   "outputs": [
    {
     "data": {
      "text/plain": [
       "0.001"
      ]
     },
     "execution_count": 94,
     "metadata": {},
     "output_type": "execute_result"
    }
   ],
   "source": [
    "htmean.PValue()"
   ]
  },
  {
   "cell_type": "code",
   "execution_count": 95,
   "metadata": {},
   "outputs": [
    {
     "data": {
      "image/png": "[encoded data removed]",
      "text/plain": [
       "<Figure size 432x288 with 1 Axes>"
      ]
     },
     "metadata": {
      "needs_background": "light"
     },
     "output_type": "display_data"
    }
   ],
   "source": [
    "htmean.PlotCdf()"
   ]
  },
  {
   "cell_type": "code",
   "execution_count": 96,
   "metadata": {},
   "outputs": [
    {
     "data": {
      "text/plain": [
       "(19.15, 20.22)"
      ]
     },
     "execution_count": 96,
     "metadata": {},
     "output_type": "execute_result"
    }
   ],
   "source": [
    "htmean.MinMaxTestStat()"
   ]
  },
  {
   "cell_type": "code",
   "execution_count": 97,
   "metadata": {},
   "outputs": [
    {
     "data": {
      "text/plain": [
       "0.888"
      ]
     },
     "execution_count": 97,
     "metadata": {},
     "output_type": "execute_result"
    }
   ],
   "source": [
    "# This seems to be working\n",
    "# But it's significantly slower than my dsa power test\n",
    "# The results are the same when I use alternative='left' with the dsa power test\n",
    "# I'm pretty sure this is right since the hypothesis test can only test in one direction\n",
    "htmean.Power()"
   ]
  },
  {
   "cell_type": "code",
   "execution_count": 98,
   "metadata": {},
   "outputs": [
    {
     "data": {
      "text/plain": [
       "0.871"
      ]
     },
     "execution_count": 98,
     "metadata": {},
     "output_type": "execute_result"
    }
   ],
   "source": [
    "# Compare with my original power test\n",
    "dsapt = dsa.PTMean(data1, test_stat=19.15, alternative='left')\n",
    "dsapt.Power()"
   ]
  },
  {
   "cell_type": "code",
   "execution_count": 80,
   "metadata": {},
   "outputs": [
    {
     "data": {
      "text/plain": [
       "19.36"
      ]
     },
     "execution_count": 80,
     "metadata": {},
     "output_type": "execute_result"
    }
   ],
   "source": [
    "data1.mean()"
   ]
  },
  {
   "cell_type": "code",
   "execution_count": 81,
   "metadata": {},
   "outputs": [
    {
     "data": {
      "text/plain": [
       "0.127"
      ]
     },
     "execution_count": 81,
     "metadata": {},
     "output_type": "execute_result"
    }
   ],
   "source": [
    "# Seems to be working, same result as using resample function\n",
    "results1 = dsa.ResampleMean(data1, iters=1000)\n",
    "dsa.PValueFromEstimates(results1, 19.15, tail='left')"
   ]
  },
  {
   "cell_type": "code",
   "execution_count": null,
   "metadata": {},
   "outputs": [],
   "source": []
  },
  {
   "cell_type": "markdown",
   "metadata": {},
   "source": [
    "### Diff means hypothesis tests"
   ]
  },
  {
   "cell_type": "code",
   "execution_count": 99,
   "metadata": {},
   "outputs": [],
   "source": [
    "class HTDiffMeansH0(HypothesisTest):\n",
    "    \"\"\"A difference of means hypothesis test. \n",
    "    Uses permutation to build a sampling distrubition that represents the null hypothesis.\n",
    "    \"\"\"\n",
    "    def __init__(self, data, onesided=False, tail='right', iters=1000):\n",
    "        self.onesided = onesided\n",
    "        HypothesisTest.__init__(self, data, tail, iters)\n",
    "        \n",
    "    # For tests that resample to build a distribution for the null hypothesis \n",
    "    # the calculation of the test stat must be provided.\n",
    "    # In the case of a twosided test the absolute value of the difference in means is used\n",
    "    def TestStat(self, data):\n",
    "        # Prepare the data\n",
    "        a, b = data\n",
    "        a = np.array(a)\n",
    "        b = np.array(b)\n",
    "        \n",
    "        if self.onesided == False:\n",
    "            return abs(a.mean() - b.mean())\n",
    "        elif self.onesided == True:\n",
    "            return a.mean() - b.mean()\n",
    "        else:\n",
    "            raise TypeError('\\'onesided\\' parameter only accepts Boolean True or False')\n",
    "        \n",
    "    def ComputeRv(self, data):\n",
    "        # Prepare the data\n",
    "        a, b = data\n",
    "        a = np.array(a)\n",
    "        b = np.array(b)\n",
    "        pooled_data = np.hstack((a, b))\n",
    "        a_size = len(a)\n",
    "        \n",
    "        # Build the sampling distribution\n",
    "        diff_mean_results = []\n",
    "        \n",
    "        if self.onesided == False:\n",
    "            for _ in range(self.iters):\n",
    "                np.random.shuffle(pooled_data)\n",
    "                group1 = pooled_data[:a_size]\n",
    "                group2 = pooled_data[a_size:]\n",
    "                result = abs(group1.mean() - group2.mean())\n",
    "                \n",
    "                diff_mean_results.append(result)\n",
    "                    \n",
    "        elif self.onesided == True:\n",
    "            for _ in range(self.iters):\n",
    "                np.random.shuffle(pooled_data)\n",
    "                group1 = pooled_data[:a_size]\n",
    "                group2 = pooled_data[a_size:]\n",
    "                result = group1.mean() - group2.mean()\n",
    "                \n",
    "                diff_mean_results.append(result)\n",
    "                \n",
    "        else:\n",
    "            raise TypeError('\\'onesided\\' parameter only accepts Boolean True or False')\n",
    "            \n",
    "        return dsa.DiscreteRv(diff_mean_results)\n",
    "    \n",
    "    def Power(self, alpha=0.05, num_runs=1000):\n",
    "        pvalue_count = 0\n",
    "        \n",
    "        for _ in range(num_runs):\n",
    "            # Create run_data that simulates taking another sample from the population\n",
    "            a, b = self.data\n",
    "            sample1 = np.random.choice(a, size=len(a), replace=True)\n",
    "            sample2 = np.random.choice(b, size=len(b), replace=True)\n",
    "            run_data = sample1, sample2\n",
    "        \n",
    "            # Run the hypothesis test with run_data\n",
    "            # Reduce iters to 100 to reduce computation time\n",
    "            test = HTDiffMeansH0(run_data, onesided=self.onesided, tail=self.tail, iters=100)\n",
    "            pvalue = test.PValue()\n",
    "            \n",
    "            if pvalue < alpha:\n",
    "                pvalue_count += 1\n",
    "            \n",
    "        return pvalue_count / num_runs"
   ]
  },
  {
   "cell_type": "code",
   "execution_count": 100,
   "metadata": {},
   "outputs": [],
   "source": [
    "import first\n",
    "live, firsts, others = first.MakeFrames()"
   ]
  },
  {
   "cell_type": "code",
   "execution_count": 101,
   "metadata": {},
   "outputs": [],
   "source": [
    "data2 = [firsts.prglngth.values, others.prglngth.values]"
   ]
  },
  {
   "cell_type": "code",
   "execution_count": 102,
   "metadata": {},
   "outputs": [
    {
     "data": {
      "text/plain": [
       "0.1949999999999994"
      ]
     },
     "execution_count": 102,
     "metadata": {},
     "output_type": "execute_result"
    }
   ],
   "source": [
    "diffmeansHo = HTDiffMeansH0(data2)\n",
    "diffmeansHo.PValue()"
   ]
  },
  {
   "cell_type": "code",
   "execution_count": 103,
   "metadata": {},
   "outputs": [
    {
     "data": {
      "image/png": "[encoded data removed]",
      "text/plain": [
       "<Figure size 432x288 with 1 Axes>"
      ]
     },
     "metadata": {
      "needs_background": "light"
     },
     "output_type": "display_data"
    }
   ],
   "source": [
    "diffmeansHo.PlotCdf()"
   ]
  },
  {
   "cell_type": "code",
   "execution_count": 105,
   "metadata": {},
   "outputs": [
    {
     "data": {
      "text/plain": [
       "0.314"
      ]
     },
     "execution_count": 105,
     "metadata": {},
     "output_type": "execute_result"
    }
   ],
   "source": [
    "diffmeansHo.Power()"
   ]
  },
  {
   "cell_type": "code",
   "execution_count": 106,
   "metadata": {},
   "outputs": [
    {
     "data": {
      "text/plain": [
       "0.17699999999999938"
      ]
     },
     "execution_count": 106,
     "metadata": {},
     "output_type": "execute_result"
    }
   ],
   "source": [
    "# Seems to be working, result is the same for new HT test and the resampling function below\n",
    "# onesided also seems to be working\n",
    "diffmeansHo_results = dsa.ResampleDiffMeansH0(data2[0], data2[1])\n",
    "dsa.PValueFromEstimates(diffmeansHo_results[1], diffmeansHo_results[0])"
   ]
  },
  {
   "cell_type": "code",
   "execution_count": null,
   "metadata": {},
   "outputs": [],
   "source": []
  },
  {
   "cell_type": "code",
   "execution_count": 528,
   "metadata": {},
   "outputs": [],
   "source": [
    "class HTDiffMeansHa(HypothesisTest):\n",
    "    \"\"\"A difference of means hypothesis test. \n",
    "    Uses resampling to build a sampling distrubition that represents the alternative hypothesis.\n",
    "    \"\"\"\n",
    "    # For tests that resample to build a distribution for the alternative hypothesis \n",
    "    # a test_stat parameter must be included in __init__ to represent the null hypothesis\n",
    "    # This test_stat is made an attribute of the class below\n",
    "    def __init__(self, data, test_stat, tail='right', iters=1000):\n",
    "        HypothesisTest.__init__(self, data, tail, iters)\n",
    "        self.test_stat = test_stat\n",
    "\n",
    "    def PrepareData(self ,data):\n",
    "        self.a, self.b = data\n",
    "        self.a = np.array(self.a)\n",
    "        self.b = np.array(self.b)\n",
    "        \n",
    "    def ComputeRv(self):\n",
    "        # Build the sampling distribution\n",
    "        diff_mean_results = []\n",
    "        \n",
    "        for _ in range(self.iters):\n",
    "            group1 = np.random.choice(self.a, size=len(self.a), replace=True)\n",
    "            group2 = np.random.choice(self.b, size=len(self.b), replace=True)\n",
    "            result = group1.mean() - group2.mean()\n",
    "                \n",
    "            diff_mean_results.append(result)\n",
    "           \n",
    "        self.rv = dsa.DiscreteRv(diff_mean_results)"
   ]
  },
  {
   "cell_type": "code",
   "execution_count": 529,
   "metadata": {},
   "outputs": [
    {
     "data": {
      "text/plain": [
       "0.07500000000000005"
      ]
     },
     "execution_count": 529,
     "metadata": {},
     "output_type": "execute_result"
    }
   ],
   "source": [
    "diffmeansHa = HTDiffMeansHa(data2, 0, tail='left')\n",
    "diffmeansHa.PValue()"
   ]
  },
  {
   "cell_type": "code",
   "execution_count": 530,
   "metadata": {},
   "outputs": [
    {
     "data": {
      "image/png": "[encoded data removed]",
      "text/plain": [
       "<Figure size 432x288 with 1 Axes>"
      ]
     },
     "metadata": {},
     "output_type": "display_data"
    }
   ],
   "source": [
    "diffmeansHa.PlotCdf()"
   ]
  },
  {
   "cell_type": "code",
   "execution_count": 531,
   "metadata": {},
   "outputs": [
    {
     "data": {
      "text/plain": [
       "0.08400000000000006"
      ]
     },
     "execution_count": 531,
     "metadata": {},
     "output_type": "execute_result"
    }
   ],
   "source": [
    "# It's working.\n",
    "diffmeansHa_results = dsa.ResampleDiffMeans_Ha(data2[0], data2[1])\n",
    "dsa.PvalueFromEstimates(diffmeansHa_results[1], 0, tail='left')"
   ]
  },
  {
   "cell_type": "markdown",
   "metadata": {},
   "source": [
    "### Correlation tests"
   ]
  },
  {
   "cell_type": "code",
   "execution_count": 532,
   "metadata": {},
   "outputs": [],
   "source": [
    "class HTCorrelationH0(HypothesisTest):\n",
    "    \"\"\"A correlation hypothesis test. \n",
    "    Uses permutation to build a sampling distrubition that represents the null hypothesis.\n",
    "    \"\"\"\n",
    "    def __init__(self, data, onesided=False, tail='right', iters=1000, method='pearson'):\n",
    "        self.onesided = onesided\n",
    "        self.method = method\n",
    "        HypothesisTest.__init__(self, data, tail, iters)\n",
    "\n",
    "    def PrepareData(self, data):\n",
    "        self.x, self.y = data\n",
    "        self.x = np.array(self.x)\n",
    "        self.y = np.array(self.y)\n",
    "        \n",
    "    # For tests that resample to build a distribution for the null hypothesis \n",
    "    # the calculation of the test stat must be provided.\n",
    "    # In the case of a twosided test the absolute value of the difference in means is used\n",
    "    def TestStat(self):\n",
    "        if (self.onesided == False) & (self.method == 'pearson'):\n",
    "            self.test_stat = abs(stats.pearsonr(self.x , self.y)[0])\n",
    "        elif (self.onesided == False) & (self.method == 'spearman'):\n",
    "            self.test_stat = abs(stats.spearmanr(self.x , self.y)[0])\n",
    "        elif (self.onesided == True) & (self.method == 'pearson'):\n",
    "            self.test_stat = stats.pearsonr(self.x , self.y)[0]\n",
    "        elif (self.onesided == True) & (self.method == 'spearman'):\n",
    "            self.test_stat = stats.spearmanr(self.x , self.y)[0]\n",
    "        else:\n",
    "            raise ValueError('\\'onesided\\' parameter only accepts Boolean True or False, ' +\n",
    "                             'and \\'method\\' only accepts \\'pearson\\' or \\'spearman\\'')\n",
    "        \n",
    "    def ComputeRv(self):\n",
    "        # Build the sampling distribution\n",
    "        corrs = []\n",
    "        \n",
    "        if (self.onesided == False) & (self.method == 'pearson'):\n",
    "            for _ in range(self.iters):\n",
    "                x_perm = np.random.permutation(self.x)\n",
    "                r = abs(stats.pearsonr(x_perm , self.y)[0])\n",
    "                corrs.append(r)\n",
    "                \n",
    "        elif (self.onesided == False) & (self.method == 'spearman'):\n",
    "            for _ in range(self.iters):\n",
    "                x_perm = np.random.permutation(self.x)\n",
    "                r = abs(stats.spearmanr(self.x , self.y)[0])\n",
    "                corrs.append(r)\n",
    "        \n",
    "        elif (self.onesided == True) & (self.method == 'pearson'):\n",
    "            for _ in range(self.iters):\n",
    "                x_perm = np.random.permutation(self.x)\n",
    "                r = stats.pearsonr(x_perm , self.y)[0]\n",
    "                corrs.append(r)\n",
    "                \n",
    "        elif (self.onesided == True) & (self.method == 'spearman'):\n",
    "            for _ in range(self.iters):\n",
    "                x_perm = np.random.permutation(self.x)\n",
    "                r = stats.spearmanr(self.x , self.y)[0]\n",
    "                corrs.append(r)\n",
    "    \n",
    "        else:\n",
    "            raise ValueError('\\'onesided\\' parameter only accepts Boolean True or False, ' +\n",
    "                             'and \\'method\\' only accepts \\'pearson\\' or \\'spearman\\'')   \n",
    "        \n",
    "        self.rv = dsa.DiscreteRv(corrs)"
   ]
  },
  {
   "cell_type": "code",
   "execution_count": 533,
   "metadata": {},
   "outputs": [
    {
     "data": {
      "text/html": [
       "<div>\n",
       "<style scoped>\n",
       "    .dataframe tbody tr th:only-of-type {\n",
       "        vertical-align: middle;\n",
       "    }\n",
       "\n",
       "    .dataframe tbody tr th {\n",
       "        vertical-align: top;\n",
       "    }\n",
       "\n",
       "    .dataframe thead th {\n",
       "        text-align: right;\n",
       "    }\n",
       "</style>\n",
       "<table border=\"1\" class=\"dataframe\">\n",
       "  <thead>\n",
       "    <tr style=\"text-align: right;\">\n",
       "      <th></th>\n",
       "      <th>total</th>\n",
       "      <th>speeding</th>\n",
       "      <th>alcohol</th>\n",
       "      <th>not_distracted</th>\n",
       "      <th>no_previous</th>\n",
       "      <th>ins_premium</th>\n",
       "      <th>ins_losses</th>\n",
       "      <th>abbrev</th>\n",
       "    </tr>\n",
       "  </thead>\n",
       "  <tbody>\n",
       "    <tr>\n",
       "      <td>0</td>\n",
       "      <td>18.8</td>\n",
       "      <td>7.332</td>\n",
       "      <td>5.640</td>\n",
       "      <td>18.048</td>\n",
       "      <td>15.040</td>\n",
       "      <td>784.55</td>\n",
       "      <td>145.08</td>\n",
       "      <td>AL</td>\n",
       "    </tr>\n",
       "    <tr>\n",
       "      <td>1</td>\n",
       "      <td>18.1</td>\n",
       "      <td>7.421</td>\n",
       "      <td>4.525</td>\n",
       "      <td>16.290</td>\n",
       "      <td>17.014</td>\n",
       "      <td>1053.48</td>\n",
       "      <td>133.93</td>\n",
       "      <td>AK</td>\n",
       "    </tr>\n",
       "    <tr>\n",
       "      <td>2</td>\n",
       "      <td>18.6</td>\n",
       "      <td>6.510</td>\n",
       "      <td>5.208</td>\n",
       "      <td>15.624</td>\n",
       "      <td>17.856</td>\n",
       "      <td>899.47</td>\n",
       "      <td>110.35</td>\n",
       "      <td>AZ</td>\n",
       "    </tr>\n",
       "  </tbody>\n",
       "</table>\n",
       "</div>"
      ],
      "text/plain": [
       "   total  speeding  alcohol  not_distracted  no_previous  ins_premium  \\\n",
       "0   18.8     7.332    5.640          18.048       15.040       784.55   \n",
       "1   18.1     7.421    4.525          16.290       17.014      1053.48   \n",
       "2   18.6     6.510    5.208          15.624       17.856       899.47   \n",
       "\n",
       "   ins_losses abbrev  \n",
       "0      145.08     AL  \n",
       "1      133.93     AK  \n",
       "2      110.35     AZ  "
      ]
     },
     "execution_count": 533,
     "metadata": {},
     "output_type": "execute_result"
    }
   ],
   "source": [
    "car = sns.load_dataset('car_crashes')\n",
    "car.head(3)"
   ]
  },
  {
   "cell_type": "code",
   "execution_count": 534,
   "metadata": {},
   "outputs": [
    {
     "data": {
      "text/plain": [
       "(-0.15689520004339752, 0.2715478689798989)"
      ]
     },
     "execution_count": 534,
     "metadata": {},
     "output_type": "execute_result"
    }
   ],
   "source": [
    "stats.pearsonr(car.no_previous, car.ins_premium)"
   ]
  },
  {
   "cell_type": "code",
   "execution_count": 604,
   "metadata": {},
   "outputs": [
    {
     "data": {
      "text/plain": [
       "0.1340000000000001"
      ]
     },
     "execution_count": 604,
     "metadata": {},
     "output_type": "execute_result"
    }
   ],
   "source": [
    "# Seems to be working, variation is: 0.25~0.29 for two-tailed, 0.12~0.15 for one-tailed\n",
    "data3 = car.no_previous, car.ins_premium\n",
    "car_hyp = HTCorrelationH0(data3, onesided=True, tail='left', method='pearson')\n",
    "car_hyp.PValue()"
   ]
  },
  {
   "cell_type": "code",
   "execution_count": 536,
   "metadata": {},
   "outputs": [
    {
     "data": {
      "image/png": "[encoded data removed]",
      "text/plain": [
       "<Figure size 432x288 with 1 Axes>"
      ]
     },
     "metadata": {},
     "output_type": "display_data"
    }
   ],
   "source": [
    "car_hyp.PlotCdf()"
   ]
  },
  {
   "cell_type": "code",
   "execution_count": 537,
   "metadata": {},
   "outputs": [],
   "source": [
    "class HTCorrelationHa(HypothesisTest):\n",
    "    \"\"\"A correlation hypothesis test. \n",
    "    Uses permutation to build a sampling distrubition that represents the null hypothesis.\n",
    "    \"\"\"\n",
    "    def __init__(self, data, test_stat, tail='right', iters=1000, method='pearson'):\n",
    "        self.method = method\n",
    "        HypothesisTest.__init__(self, data, tail, iters)\n",
    "        self.test_stat = test_stat\n",
    "\n",
    "    def PrepareData(self, data):\n",
    "        self.x, self.y = data\n",
    "        self.x = np.array(self.x)\n",
    "        self.y = np.array(self.y)\n",
    "        self.df = pd.DataFrame({'x':self.x, 'y': self.y})\n",
    "              \n",
    "    def ComputeRv(self):\n",
    "        # Build the sampling distribution\n",
    "        corrs = []\n",
    "                \n",
    "        if self.method == 'pearson':\n",
    "            for _ in range(self.iters):\n",
    "                sample = self.df.sample(n=len(self.df), replace=True)\n",
    "                r = stats.pearsonr(sample.x, sample.y)[0]\n",
    "                corrs.append(r)\n",
    "                \n",
    "        elif self.method == 'spearman':\n",
    "            for _ in range(self.iters):\n",
    "                sample = self.df.sample(n=len(self.df), replace=True)\n",
    "                r = stats.spearmanr(sample.x, sample.y)[0]\n",
    "                corrs.append(r)\n",
    "    \n",
    "        else:\n",
    "            raise Exception('Must enter either \\'pearson\\' or \\'spearman\\ ' +\n",
    "                            'as a string for the \\'method\\' argument')   \n",
    "        \n",
    "        self.rv = dsa.DiscreteRv(corrs)"
   ]
  },
  {
   "cell_type": "code",
   "execution_count": 571,
   "metadata": {},
   "outputs": [
    {
     "data": {
      "text/plain": [
       "0.1869999999999994"
      ]
     },
     "execution_count": 571,
     "metadata": {},
     "output_type": "execute_result"
    }
   ],
   "source": [
    "# Seems to be working, variation is : 0.16 ~ 0.19\n",
    "car_hypa = HTCorrelationHa(data3, 0, method='pearson')\n",
    "car_hypa.PValue()"
   ]
  },
  {
   "cell_type": "code",
   "execution_count": 539,
   "metadata": {},
   "outputs": [
    {
     "data": {
      "image/png": "[encoded data removed]",
      "text/plain": [
       "<Figure size 432x288 with 1 Axes>"
      ]
     },
     "metadata": {},
     "output_type": "display_data"
    }
   ],
   "source": [
    "car_hypa.PlotCdf()"
   ]
  },
  {
   "cell_type": "code",
   "execution_count": 540,
   "metadata": {},
   "outputs": [
    {
     "data": {
      "text/plain": [
       "0.253"
      ]
     },
     "execution_count": 540,
     "metadata": {},
     "output_type": "execute_result"
    }
   ],
   "source": [
    "# Compare my new function with the old one\n",
    "# Variation is about .25 ~ .30\n",
    "# Similar to results from my new hypothesis test\n",
    "HTcorrperm = dsa.HTCorrelationPermute(data3)\n",
    "HTcorrperm.PValue()"
   ]
  },
  {
   "cell_type": "markdown",
   "metadata": {},
   "source": [
    "### Chi square tests"
   ]
  },
  {
   "cell_type": "code",
   "execution_count": 627,
   "metadata": {},
   "outputs": [],
   "source": [
    "class HTChiSquare(HypothesisTest):\n",
    "    \"\"\"A chi square hypothesis test. \n",
    "    Uses resampling of the expected sequence to simulate the null hypothesis \n",
    "    and build the null hypothesis sampling distribution. \n",
    "    Takes data in the form of two sequences: data = observed, expected.\n",
    "    \"\"\"\n",
    "    def PrepareData(self, data):\n",
    "        self.observed, self.expected = data\n",
    "        self.observed = np.array(self.observed)\n",
    "        self.expected = np.array(self.expected)\n",
    "        \n",
    "        # Check that sum of values are equal\n",
    "        if np.isclose(sum(self.observed), sum(self.expected)) == False:\n",
    "            raise ValueError('The sum of the values for observed and expected must be equal.')\n",
    "        \n",
    "    def TestStat(self):\n",
    "        self.test_stat = sum((self.observed - self.expected)**2 / self.expected)\n",
    "        \n",
    "    def ComputeRv(self):\n",
    "        # Calculate the variables needed for resampling        \n",
    "        n = sum(self.expected)\n",
    "        values = list(range(len(self.expected)))\n",
    "        p_exp = self.expected/sum(self.expected)\n",
    "        \n",
    "        # Build the sampling distribution\n",
    "        chis = []\n",
    "        \n",
    "        for _ in range(self.iters):          \n",
    "            hist = Counter({x:0 for x in values}) # Initialize a Counter with zero values\n",
    "            hist.update(np.random.choice(values, size=n, replace=True, p=p_exp))\n",
    "            sorted_hist = sorted(hist.items())\n",
    "            model_observed = np.array([x[1] for x in sorted_hist])\n",
    "            chi = sum((model_observed - self.expected)**2 / self.expected)\n",
    "                \n",
    "            chis.append(chi)\n",
    "            \n",
    "        self.rv = dsa.DiscreteRv(chis)"
   ]
  },
  {
   "cell_type": "code",
   "execution_count": 628,
   "metadata": {},
   "outputs": [],
   "source": [
    "observed = [11,7,4,7,12,16,13]\n",
    "expected = [10,10,10,10,10,10,10]\n",
    "observed = np.array(observed)\n",
    "expected = np.array(expected)\n",
    "data4 = observed, expected"
   ]
  },
  {
   "cell_type": "code",
   "execution_count": 729,
   "metadata": {},
   "outputs": [
    {
     "data": {
      "text/plain": [
       "0.10599999999999943"
      ]
     },
     "execution_count": 729,
     "metadata": {},
     "output_type": "execute_result"
    }
   ],
   "source": [
    "# Getting values of 0.09~0.12, seems to compare well with old class below\n",
    "htchi = HTChiSquare(data4)\n",
    "htchi.PValue()"
   ]
  },
  {
   "cell_type": "code",
   "execution_count": 658,
   "metadata": {},
   "outputs": [
    {
     "data": {
      "text/plain": [
       "0.131"
      ]
     },
     "execution_count": 658,
     "metadata": {},
     "output_type": "execute_result"
    }
   ],
   "source": [
    "# Compare with my old hypothesis test class (0.09~0.13)\n",
    "htchi2 = dsa.HTChiSquaredTest(data4)\n",
    "htchi2.PValue()"
   ]
  },
  {
   "cell_type": "code",
   "execution_count": 733,
   "metadata": {},
   "outputs": [],
   "source": [
    "class HTChiSquareContingency(HypothesisTest):\n",
    "    \"\"\"A chi square contingency table hypothesis test. \n",
    "    Uses resampling of the expected sequence to simulate the null hypothesis \n",
    "    and build the null hypothesis sampling distribution. \n",
    "    Takes data in the form of a single observed contingency table (array-like).\n",
    "    \"\"\"\n",
    "    def PrepareData(self, data):\n",
    "        self.observed = data\n",
    "        self.observed = np.array(self.observed)\n",
    "        \n",
    "    # In the case of this class, TestStat also computes self.expected \n",
    "    # for later use in the ComputeRv function\n",
    "    def TestStat(self):\n",
    "        self.test_stat,_,_,self.expected = stats.chi2_contingency(self.observed)\n",
    "        \n",
    "    def ComputeRv(self):\n",
    "        # Calculate the variables needed for resampling        \n",
    "        expected_shape = self.expected.shape\n",
    "        expected_ps = self.expected / np.sum(self.expected)\n",
    "        values = np.array(list(range(len(self.expected.ravel())))) # Flatten the array and then reshape it later\n",
    "        n= int(np.sum(self.expected))\n",
    "        \n",
    "        # Build the sampling distribution\n",
    "        chis = []\n",
    "        \n",
    "        for _ in range(self.iters):          \n",
    "            hist = Counter({x:0 for x in values}) # Initiate an empty histogram to hold resampled values\n",
    "            hist.update(np.random.choice(values, size=n, replace=True, p=expected_ps.ravel()))\n",
    "            sorted_hist = sorted(hist.items())\n",
    "            resampled_expected = np.array([x[1] for x in sorted_hist])\n",
    "            resampled_expected_reshaped = resampled_expected.reshape(expected_shape) # Put back into original shape\n",
    "\n",
    "            chi = stats.chi2_contingency(resampled_expected_reshaped)[0]                \n",
    "            chis.append(chi)\n",
    "            \n",
    "        self.rv = dsa.DiscreteRv(chis)"
   ]
  },
  {
   "cell_type": "code",
   "execution_count": 734,
   "metadata": {},
   "outputs": [],
   "source": [
    "observed = [[16,24,8],\n",
    "            [7,8,17]]"
   ]
  },
  {
   "cell_type": "code",
   "execution_count": 824,
   "metadata": {},
   "outputs": [
    {
     "data": {
      "text/plain": [
       "0.003999999999999226"
      ]
     },
     "execution_count": 824,
     "metadata": {},
     "output_type": "execute_result"
    }
   ],
   "source": [
    "# Getting the same results as using my resampling function below (0.001~0.005)\n",
    "htchicont = HTChiSquareContingency(observed)\n",
    "htchicont.PValue()"
   ]
  },
  {
   "cell_type": "code",
   "execution_count": 736,
   "metadata": {},
   "outputs": [],
   "source": [
    "# Compare with my resampling function\n",
    "def ResampleChiSquareContingency(observed, iters=1000):\n",
    "    \"\"\"Generates a chisquared statistic sampling distribution \n",
    "    from a contingency table. \n",
    "    Can then make an rv of this distribution to plot cdf and  \n",
    "    compute a p-value for the actual chi-squared statistic (eg. rv.cdf at actual statistic (test_chi)). \n",
    "    Can also use the 'min' and 'max' built-ins to find what the most extreme values are from the simluations.\n",
    "\n",
    "    Args:\n",
    "        observed (array-like): observed contingency table\n",
    "        iters (int, optional): Number of iterations to run when building distribution. Defaults to 1000.\n",
    "\n",
    "    Returns:\n",
    "        test_chi: Original actual chi squared value\n",
    "        chis (array): Sampling distribution for the null hypothesis obtained from resampling\n",
    "    \"\"\"\n",
    "    # Put the data into array form\n",
    "    observed = np.asarray(observed, dtype=np.float64)\n",
    "    \n",
    "    # Calculate the test chi square statistic and the expected array\n",
    "    test_chi,_,_,expected = stats.chi2_contingency(observed)\n",
    "    \n",
    "    # Calculate variables to be used in resampling\n",
    "    expected = np.asarray(expected, dtype=np.float64)\n",
    "    expected_shape = expected.shape\n",
    "    expected_ps = expected / np.sum(expected)\n",
    "    values = np.array(list(range(len(expected.ravel())))) # Flatten the array and then reshape it later\n",
    "    n= int(np.sum(expected))\n",
    "      \n",
    "    # Compute resampled expected values and compute chi square \n",
    "    # to build a sampling distribution that represents the null hypothesis\n",
    "    chis=[]\n",
    "    for _ in range(iters):\n",
    "        hist = Counter({x:0 for x in values}) # Initiate an empty histogram to hold resampled values\n",
    "        hist.update(np.random.choice(values, size=n, replace=True, p=expected_ps.ravel()))\n",
    "        sorted_hist = sorted(hist.items())\n",
    "        resampled_expected = np.array([x[1] for x in sorted_hist])\n",
    "        resampled_expected_reshaped = resampled_expected.reshape(expected_shape) # Put back into original shape\n",
    "\n",
    "        chi = stats.chi2_contingency(resampled_expected_reshaped)[0]\n",
    "        chis.append(chi)\n",
    "\n",
    "    return test_chi, np.array(chis)"
   ]
  },
  {
   "cell_type": "code",
   "execution_count": 810,
   "metadata": {},
   "outputs": [],
   "source": [
    "chicont2results = ResampleChiSquareContingency(observed)"
   ]
  },
  {
   "cell_type": "code",
   "execution_count": 811,
   "metadata": {},
   "outputs": [
    {
     "data": {
      "text/plain": [
       "0.003999999999999226"
      ]
     },
     "execution_count": 811,
     "metadata": {},
     "output_type": "execute_result"
    }
   ],
   "source": [
    "# Results are 0.001~0.005\n",
    "dsa.PvalueFromEstimates(chicont2results[1], chicont2results[0])"
   ]
  },
  {
   "cell_type": "code",
   "execution_count": null,
   "metadata": {},
   "outputs": [],
   "source": []
  },
  {
   "cell_type": "code",
   "execution_count": 541,
   "metadata": {},
   "outputs": [],
   "source": [
    "# Need to also consider whether or not my original resampling functions should really return a test_stat.\n",
    "# It doesn't seem like it really is a test_stat in the alternative hypothesis case\n",
    "# It is actually just the original data statistic\n",
    "# Is this really needed?"
   ]
  }
 ],
 "metadata": {
  "kernelspec": {
   "display_name": "Python 3",
   "language": "python",
   "name": "python3"
  },
  "language_info": {
   "codemirror_mode": {
    "name": "ipython",
    "version": 3
   },
   "file_extension": ".py",
   "mimetype": "text/x-python",
   "name": "python",
   "nbconvert_exporter": "python",
   "pygments_lexer": "ipython3",
   "version": "3.7.4"
  }
 },
 "nbformat": 4,
 "nbformat_minor": 2
}
