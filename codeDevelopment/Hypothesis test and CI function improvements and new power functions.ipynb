{
 "cells": [
  {
   "cell_type": "code",
   "execution_count": 1,
   "metadata": {},
   "outputs": [],
   "source": [
    "%matplotlib inline\n",
    "\n",
    "import pandas as pd\n",
    "import numpy as np\n",
    "\n",
    "from pandas.api.types import CategoricalDtype\n",
    "\n",
    "from collections import defaultdict, Counter\n",
    "\n",
    "import matplotlib\n",
    "import matplotlib.pyplot as plt\n",
    "import seaborn as sns\n",
    "\n",
    "import datetime as dt\n",
    "import matplotlib.dates as mdates\n",
    "\n",
    "import scipy.stats as stats\n",
    "import statsmodels.api as sm\n",
    "import statsmodels.stats.api as sms\n",
    "import statsmodels.formula.api as smf\n",
    "import patsy\n",
    "\n",
    "from lifelines import KaplanMeierFitter\n",
    "\n",
    "import dataStatsAnalysis as dsa\n",
    "import dataStatsPlotting as dsp\n",
    "\n",
    "dsp.SetParams()"
   ]
  },
  {
   "cell_type": "markdown",
   "metadata": {},
   "source": [
    "### Means function"
   ]
  },
  {
   "cell_type": "code",
   "execution_count": 2,
   "metadata": {},
   "outputs": [],
   "source": [
    "def ResampleMean(data, weights=None, iters=100):\n",
    "    \"\"\"Uses sampling with replacement to generate a sampling distribution of mean for a variable.\n",
    "    Can then make an rv of the distributions to plot cdf, compute p-value of hypothesized mean (eg. rv.cdf at 0), \n",
    "    and calculate sample distribution mean, std deviation (std error), and confidence interval (rv.interval).\n",
    "\n",
    "    Args:\n",
    "        data (array-like): Data for the variable of interest\n",
    "        weights (array-like, optional): Can include weights for the data. Used as DataFrame.sample parameter. Defaults to None.\n",
    "        iters (int, optional): The number of resampling iterations. Defaults to 100.\n",
    "\n",
    "    Returns:\n",
    "        mean_estimates (array): A mean estimates sampling distribution\n",
    "    \"\"\"\n",
    "    # Resample with replacement, calculating the mean of the data and building a list of mean estimates\n",
    "    if weights is None:   # In case of no weights, use a Series\n",
    "        s = pd.Series(data)\n",
    "        mean_estimates = [s.sample(n=len(s), replace=True).mean() for _ in range(iters)]\n",
    "    \n",
    "    else:    # In case of weights use a DataFrame\n",
    "        df = pd.DataFrame({'data':data,'wgt':weights})\n",
    "        mean_estimates = [df.sample(n=len(df), replace=True, weights=df.wgt).data.mean() for _ in range(iters)]\n",
    "    \n",
    "    return np.array(mean_estimates)"
   ]
  },
  {
   "cell_type": "code",
   "execution_count": 3,
   "metadata": {},
   "outputs": [],
   "source": [
    "# Add: return an rv as well\n",
    "# Note that this function can be used to make sample distributions for binary data too\n",
    "def ResampleMean_new(data, weights=None, iters=1000):\n",
    "    \"\"\"Uses sampling with replacement to generate a sampling distribution of mean for a variable.\n",
    "    Can then make an rv of the distributions to plot cdf, compute p-value of hypothesized mean (eg. rv.cdf at 0), \n",
    "    and calculate sample distribution mean, std deviation (std error), and confidence interval (rv.interval).\n",
    "\n",
    "    Args:\n",
    "        data (array-like): Data for the variable of interest\n",
    "        weights (array-like, optional): Can include weights for the data. Used as DataFrame.sample parameter. Defaults to None.\n",
    "        iters (int, optional): The number of resampling iterations. Defaults to 1000.\n",
    "\n",
    "    Returns:\n",
    "        mean_estimates (array): A mean estimates sampling distribution\n",
    "    \"\"\"\n",
    "    # Resample with replacement, calculating the mean of the data and building a list of mean estimates\n",
    "    if weights is None:   # In case of no weights, use a Series\n",
    "        s = pd.Series(data)\n",
    "        mean_estimates = [s.sample(n=len(s), replace=True).mean() for _ in range(iters)]\n",
    "    \n",
    "    else:    # In case of weights use a DataFrame\n",
    "        df = pd.DataFrame({'data':data,'wgt':weights})\n",
    "        mean_estimates = [df.sample(n=len(df), replace=True, weights=df.wgt).data.mean() for _ in range(iters)]\n",
    "    \n",
    "    return np.array(mean_estimates)"
   ]
  },
  {
   "cell_type": "markdown",
   "metadata": {},
   "source": [
    "### Try getting a two-tailed p value using a resampled mean"
   ]
  },
  {
   "cell_type": "code",
   "execution_count": 4,
   "metadata": {},
   "outputs": [],
   "source": [
    "data = np.random.randint(-10,13,size=100)"
   ]
  },
  {
   "cell_type": "code",
   "execution_count": 5,
   "metadata": {},
   "outputs": [],
   "source": [
    "dist = ResampleMean_new(data)\n",
    "rv = dsa.DiscreteRv(dist)"
   ]
  },
  {
   "cell_type": "code",
   "execution_count": 6,
   "metadata": {},
   "outputs": [
    {
     "data": {
      "text/plain": [
       "0.006"
      ]
     },
     "execution_count": 6,
     "metadata": {},
     "output_type": "execute_result"
    }
   ],
   "source": [
    "# p-value at 0\n",
    "rv.cdf(0)"
   ]
  },
  {
   "cell_type": "code",
   "execution_count": 7,
   "metadata": {},
   "outputs": [
    {
     "data": {
      "text/plain": [
       "Ttest_1sampResult(statistic=2.544226358821578, pvalue=0.012497821441806108)"
      ]
     },
     "execution_count": 7,
     "metadata": {},
     "output_type": "execute_result"
    }
   ],
   "source": [
    "# The two-tailed p value using the scipy stats function is about double what I get from above\n",
    "stats.ttest_1samp(data,0)"
   ]
  },
  {
   "cell_type": "code",
   "execution_count": 8,
   "metadata": {},
   "outputs": [
    {
     "data": {
      "text/plain": [
       "<matplotlib.lines.Line2D at 0x1b138222f60>"
      ]
     },
     "execution_count": 8,
     "metadata": {},
     "output_type": "execute_result"
    },
    {
     "data": {
      "image/png": "[encoded data removed]",
      "text/plain": [
       "<Figure size 576x432 with 1 Axes>"
      ]
     },
     "metadata": {},
     "output_type": "display_data"
    }
   ],
   "source": [
    "# Check if the rv sampling distribution is symmetrical by plotting and looking at the tails\n",
    "\n",
    "fig,ax = plt.subplots()\n",
    "fig.set_size_inches(8,6)\n",
    "\n",
    "ax.plot(rv.xk, rv.cdf(rv.xk))\n",
    "ax.axvline(rv.mean(), color='C1', lw=1.3) # mean, orange line\n",
    "ax.axvline(rv.ppf(.05), color='C2', lw=1.3) # CI lower, green line\n",
    "ax.axvline(rv.ppf(.95), color='C2', lw=1.3) # CI upper, green line\n",
    "ax.axvline(0, color='C3', lw=1.3) # p-value (if comparing with zero), red line"
   ]
  },
  {
   "cell_type": "code",
   "execution_count": 9,
   "metadata": {},
   "outputs": [
    {
     "data": {
      "text/plain": [
       "3.31"
      ]
     },
     "execution_count": 9,
     "metadata": {},
     "output_type": "execute_result"
    }
   ],
   "source": [
    "rv.ppf(1-rv.cdf(0))"
   ]
  },
  {
   "cell_type": "code",
   "execution_count": 10,
   "metadata": {},
   "outputs": [
    {
     "data": {
      "text/plain": [
       "0.004999999999999227"
      ]
     },
     "execution_count": 10,
     "metadata": {},
     "output_type": "execute_result"
    }
   ],
   "source": [
    "1-rv.cdf(rv.ppf(1-rv.cdf(0)))"
   ]
  },
  {
   "cell_type": "code",
   "execution_count": 11,
   "metadata": {},
   "outputs": [
    {
     "data": {
      "text/plain": [
       "0.010999999999999233"
      ]
     },
     "execution_count": 11,
     "metadata": {},
     "output_type": "execute_result"
    }
   ],
   "source": [
    "# Two-tailed p-value by adding the tails\n",
    "rv.cdf(0) + 1-rv.cdf(rv.ppf(1-rv.cdf(0)))"
   ]
  },
  {
   "cell_type": "code",
   "execution_count": 12,
   "metadata": {},
   "outputs": [
    {
     "data": {
      "text/plain": [
       "0.010999999999999233"
      ]
     },
     "execution_count": 12,
     "metadata": {},
     "output_type": "execute_result"
    }
   ],
   "source": [
    "# Two-tailed p-value by adding on the probability that is equidistant from the mean as the mean is from zero\n",
    "rv.cdf(0) + 1-rv.cdf(rv.mean()*2)"
   ]
  },
  {
   "cell_type": "code",
   "execution_count": 13,
   "metadata": {},
   "outputs": [
    {
     "data": {
      "text/plain": [
       "0.012999999999999234"
      ]
     },
     "execution_count": 13,
     "metadata": {},
     "output_type": "execute_result"
    }
   ],
   "source": [
    "# Two-tailed p-value using median\n",
    "rv.cdf(0) + 1-rv.cdf(rv.median()*2)"
   ]
  },
  {
   "cell_type": "code",
   "execution_count": 14,
   "metadata": {},
   "outputs": [
    {
     "data": {
      "text/plain": [
       "0.012"
      ]
     },
     "execution_count": 14,
     "metadata": {},
     "output_type": "execute_result"
    }
   ],
   "source": [
    "# Two-tailed p-value just by doubling one-tailed\n",
    "rv.cdf(0)*2"
   ]
  },
  {
   "cell_type": "code",
   "execution_count": 15,
   "metadata": {},
   "outputs": [
    {
     "data": {
      "text/plain": [
       "<matplotlib.lines.Line2D at 0x1b138313dd8>"
      ]
     },
     "execution_count": 15,
     "metadata": {},
     "output_type": "execute_result"
    },
    {
     "data": {
      "image/png": "[encoded data removed]",
      "text/plain": [
       "<Figure size 576x432 with 1 Axes>"
      ]
     },
     "metadata": {},
     "output_type": "display_data"
    }
   ],
   "source": [
    "# Look at kde too\n",
    "\n",
    "fig,ax = plt.subplots()\n",
    "fig.set_size_inches(8,6)\n",
    "\n",
    "sns.kdeplot(dist, ax=ax)\n",
    "plt.axvline(rv.mean(), color='C1', lw=1.5)\n",
    "\n",
    "# ax.plot(rv.xk, rv.cdf(rv.xk))\n",
    "# ax.plot([rv.median(), rv.median()], [0, 1], color='C2')\n",
    "# ax.plot([rv.ppf(.05), rv.ppf(.05)], [0, 1], color='0.8')\n",
    "# ax.plot([rv.ppf(.95), rv.ppf(.95)], [0, 1], color='0.8')\n",
    "plt.axvline(0, color='C3', lw=1.3) # lower p-value, red line\n",
    "plt.axvline(rv.ppf(1-rv.cdf(0)), color='C3', lw=1.3) # upper p-value, red line"
   ]
  },
  {
   "cell_type": "code",
   "execution_count": 16,
   "metadata": {},
   "outputs": [
    {
     "data": {
      "text/plain": [
       "0.006999999999999229"
      ]
     },
     "execution_count": 16,
     "metadata": {},
     "output_type": "execute_result"
    }
   ],
   "source": [
    "1-rv.cdf(rv.median()*2)"
   ]
  },
  {
   "cell_type": "code",
   "execution_count": 17,
   "metadata": {},
   "outputs": [
    {
     "data": {
      "text/plain": [
       "(1.65799, 1.65)"
      ]
     },
     "execution_count": 17,
     "metadata": {},
     "output_type": "execute_result"
    }
   ],
   "source": [
    "rv.mean(), rv.median()"
   ]
  },
  {
   "cell_type": "code",
   "execution_count": 18,
   "metadata": {},
   "outputs": [],
   "source": [
    "# This below is a test of using my resampling function versus the Wilcoxon one-sample test\n",
    "# The example came from here:\n",
    "# https://learn.lboro.ac.uk/archive/olmp/olmp_resources/pages/workbooks_1_50_jan2008/Workbook45/45_1_non_pmtrc_tsts_sngl_smpl.pdf\n",
    "s = pd.Series([2128.7, 1679.1, 2317.2, 2001.3, 2107.6, 1718.4, 1787.4, 2562.3, 2356.9, 2153.2, 2167.1, 2387.5, 1679.9,\n",
    "                       2323.2, 1788.4, 2153.6, 2423.3, 2122.6, 2644.3, 1737.4])"
   ]
  },
  {
   "cell_type": "code",
   "execution_count": 19,
   "metadata": {},
   "outputs": [],
   "source": [
    "s_dist = dsa.ResampleMean(s,iters=1000)"
   ]
  },
  {
   "cell_type": "code",
   "execution_count": 20,
   "metadata": {},
   "outputs": [
    {
     "data": {
      "text/plain": [
       "0.03300000000000002"
      ]
     },
     "execution_count": 20,
     "metadata": {},
     "output_type": "execute_result"
    }
   ],
   "source": [
    "# My result is very close to the one from the example (0.05766)\n",
    "# Interestingly in the example they state that since this is a two-tailed test we must compare the obtained value to 0.025\n",
    "# This is an interesting way to look at significance in a two-tailed test when you have just a one-sided p-value\n",
    "dsa.PvalueFromEstimates(s_dist, 2000, tail='left')"
   ]
  },
  {
   "cell_type": "code",
   "execution_count": 21,
   "metadata": {},
   "outputs": [
    {
     "data": {
      "text/plain": [
       "WilcoxonResult(statistic=65.0, pvalue=0.13535690010210896)"
      ]
     },
     "execution_count": 21,
     "metadata": {},
     "output_type": "execute_result"
    }
   ],
   "source": [
    "# This gives the two-sided p-value\n",
    "stats.wilcoxon(s-2000)"
   ]
  },
  {
   "cell_type": "markdown",
   "metadata": {},
   "source": [
    "### Difference in means"
   ]
  },
  {
   "cell_type": "code",
   "execution_count": 22,
   "metadata": {},
   "outputs": [],
   "source": [
    "import first\n",
    "\n",
    "live, firsts, others = first.MakeFrames()"
   ]
  },
  {
   "cell_type": "code",
   "execution_count": 23,
   "metadata": {},
   "outputs": [],
   "source": [
    "# Test new alternative hypothesis diff means function pvalue against pvalue from null hypothesis diff means function"
   ]
  },
  {
   "cell_type": "code",
   "execution_count": 24,
   "metadata": {},
   "outputs": [
    {
     "data": {
      "text/plain": [
       "0.07803726677754952"
      ]
     },
     "execution_count": 24,
     "metadata": {},
     "output_type": "execute_result"
    }
   ],
   "source": [
    "diff_means_results_H0 = dsa.ResampleDiffMeans_H0(firsts.prglngth, others.prglngth)\n",
    "diff_means_results_H0[0]"
   ]
  },
  {
   "cell_type": "code",
   "execution_count": 25,
   "metadata": {},
   "outputs": [],
   "source": [
    "diff_means_results_Ha = dsa.ResampleDiffMeans_Ha(firsts.prglngth, others.prglngth)"
   ]
  },
  {
   "cell_type": "code",
   "execution_count": 26,
   "metadata": {},
   "outputs": [
    {
     "data": {
      "text/plain": [
       "0.16699999999999937"
      ]
     },
     "execution_count": 26,
     "metadata": {},
     "output_type": "execute_result"
    }
   ],
   "source": [
    "# Null hypothesis pvalue\n",
    "diff_means_rv_H0 = dsa.DiscreteRv(diff_means_results_H0[1])\n",
    "\n",
    "1-diff_means_rv_H0.cdf(diff_means_results_H0[0])"
   ]
  },
  {
   "cell_type": "code",
   "execution_count": 27,
   "metadata": {},
   "outputs": [
    {
     "data": {
      "text/plain": [
       "0.07400000000000005"
      ]
     },
     "execution_count": 27,
     "metadata": {},
     "output_type": "execute_result"
    }
   ],
   "source": [
    "# Alternative hypothesis pvalue\n",
    "# This is half the null hypothesis value which what we would expect because the H0 function is set to two-sided\n",
    "diff_means_rv_Ha = dsa.DiscreteRv(diff_means_results_Ha[1])\n",
    "\n",
    "diff_means_rv_Ha.cdf(0)"
   ]
  },
  {
   "cell_type": "markdown",
   "metadata": {},
   "source": [
    "### Create a new correlation Ha function"
   ]
  },
  {
   "cell_type": "code",
   "execution_count": 28,
   "metadata": {},
   "outputs": [],
   "source": [
    "def ResampleCorrelation_H0(x, y, iters=1000, onesided=False, method='pearson'):\n",
    "    \"\"\"Generates a correlation sampling distribution for the null hypothesis of no correlation between the variables via permutation of one of the variables. \n",
    "    Can then make an rv of this distribution to plot cdf, compute p-value for the actual correlation value (eg. rv.cdf at actual correlation(test_r)). \n",
    "    Can also use the 'min' and 'max' built-ins to find what the most extreme values are from the simluations.\n",
    "\n",
    "    Args:\n",
    "        x (array-like): Input variable 1\n",
    "        y (array-like): Input variable 2\n",
    "        iters (int): The number of simulations to run (Defaults to 1000)\n",
    "        onesided (bool): If set to True a onesided test, that does not use absolute value of difference, is run (Defaults to False)\n",
    "        method (string): Select 'pearson' or 'spearman' method (default: 'pearson')\n",
    "\n",
    "    Returns:\n",
    "        test_r: Original actual correlation value\n",
    "        corrs (array): Sampling distribution for the null hypothesis of no correlation obtained from resampling\n",
    "    \"\"\"\n",
    "    xs, ys = np.array(x), np.array(y)\n",
    "    \n",
    "    if method == 'pearson':\n",
    "\n",
    "        corrs=[]    \n",
    "        if onesided == False:\n",
    "            test_r = abs(stats.pearsonr(xs, ys)[0])\n",
    "\n",
    "            for _ in range(iters):\n",
    "                xs = np.random.permutation(xs)\n",
    "                corr = abs(stats.pearsonr(xs, ys)[0])\n",
    "                corrs.append(corr)\n",
    "\n",
    "        elif onesided == True:\n",
    "            test_r = stats.pearsonr(xs, ys)[0]\n",
    "\n",
    "            for _ in range(iters):\n",
    "                xs = np.random.permutation(xs)\n",
    "                corr = stats.pearsonr(xs, ys)[0]\n",
    "                corrs.append(corr)\n",
    "\n",
    "        else:\n",
    "            raise TypeError('\\'onesided\\' parameter only accepts Boolean True or False')\n",
    "    \n",
    "    elif method == 'spearman':\n",
    "\n",
    "        corrs=[]    \n",
    "        if onesided == False:\n",
    "            test_r = abs(stats.spearmanr(xs, ys)[0])\n",
    "\n",
    "            for _ in range(iters):\n",
    "                xs = np.random.permutation(xs)\n",
    "                corr = abs(stats.spearmanr(xs, ys)[0])\n",
    "                corrs.append(corr)\n",
    "\n",
    "        elif onesided == True:\n",
    "            test_r = stats.spearmanr(xs, ys)[0]\n",
    "\n",
    "            for _ in range(iters):\n",
    "                xs = np.random.permutation(xs)\n",
    "                corr = stats.spearmanr(xs, ys)[0]\n",
    "                corrs.append(corr)\n",
    "\n",
    "        else:\n",
    "            raise TypeError('\\'onesided\\' parameter only accepts Boolean True or False')        \n",
    "    \n",
    "    else:\n",
    "        raise Exception('Must enter either pearson or spearman as a string for method argument')       \n",
    "    \n",
    "    return test_r, np.array(corrs)\n"
   ]
  },
  {
   "cell_type": "code",
   "execution_count": 29,
   "metadata": {},
   "outputs": [],
   "source": [
    "def ResampleCorrelation_Ha(x, y, iters=1000, method='pearson'):\n",
    "    \"\"\"Generates a correlation sampling distribution for the alternative hypothesis of correlation existing between the variables. \n",
    "    This is done by resampling x, y pairs and calculating correlation on new samples. \n",
    "    Can then make an rv of this distribution to calculate sampling distribution mean, std deviation (std error), and confidence interval (rv.interval). \n",
    "    Can also get a one-sided p-value for case of no difference null hypothesis using rv.cdf(0). \n",
    "    For two-sided p-value, can double the one-sided if sampling distribution is symmetrical or use the H0 version of this function. \n",
    "    Can also use the 'min' and 'max' built-ins to find what the most extreme values are from the simluations.\n",
    "\n",
    "    Args:\n",
    "        x (array-like): Input variable 1\n",
    "        y (array-like): Input variable 2\n",
    "        iters (int): The number of simulations to run (Defaults to 1000)\n",
    "        method (string): Select 'pearson' or 'spearman' method (default: 'pearson')\n",
    "        \n",
    "    Returns:\n",
    "        actual_r: Original actual correlation value\n",
    "        corrs (array): Sampling distribution for the alternative hypothesis of no correlation obtained from resampling\n",
    "    \"\"\"\n",
    "    if method == 'pearson':  \n",
    "        # Calculate actual correlation\n",
    "        actual_r = stats.pearsonr(x, y)[0]\n",
    "\n",
    "        # Create a dataframe to hold the x and y values as pairs\n",
    "        df = pd.DataFrame({'x':x, 'y': y})\n",
    "\n",
    "        corrs=[]    \n",
    "        for _ in range(iters):\n",
    "            sample = df.sample(n=len(df), replace=True)\n",
    "            r = stats.pearsonr(sample.x, sample.y)[0]\n",
    "            corrs.append(r)\n",
    "    \n",
    "    elif method == 'spearman':\n",
    "        # Calculate actual correlation\n",
    "        actual_r = stats.spearmanr(x, y)[0]\n",
    "\n",
    "        # Create a dataframe to hold the x and y values as pairs\n",
    "        df = pd.DataFrame({'x':x, 'y': y})\n",
    "\n",
    "        corrs=[]    \n",
    "        for _ in range(iters):\n",
    "            sample = df.sample(n=len(df), replace=True)\n",
    "            r = stats.spearmanr(sample.x, sample.y)[0]\n",
    "            corrs.append(r)\n",
    "    \n",
    "    else:\n",
    "        raise Exception('Must enter either pearson or spearman as a string for method argument')\n",
    "        \n",
    "    \n",
    "    return actual_r, np.array(corrs)\n"
   ]
  },
  {
   "cell_type": "code",
   "execution_count": 30,
   "metadata": {},
   "outputs": [],
   "source": [
    "cleaned = live.dropna(subset=['agepreg', 'totalwgt_lb'])"
   ]
  },
  {
   "cell_type": "code",
   "execution_count": 31,
   "metadata": {},
   "outputs": [
    {
     "data": {
      "text/plain": [
       "[0.08162224352041954,\n",
       " 0.06761715458152195,\n",
       " 0.06691698619786021,\n",
       " 0.06483144831940828,\n",
       " 0.08490600768151622,\n",
       " 0.07101253066728466,\n",
       " 0.05636933180297053,\n",
       " 0.0718129150602827,\n",
       " 0.056251186576736646,\n",
       " 0.07331621169357651,\n",
       " 0.05641767123897624,\n",
       " 0.05525052879510135,\n",
       " 0.060730999721929774,\n",
       " 0.056406718771356404,\n",
       " 0.0810626786734855,\n",
       " 0.09631098347621869,\n",
       " 0.05306392527381791,\n",
       " 0.0740002647842915,\n",
       " 0.07506525451759283,\n",
       " 0.0722330843446937,\n",
       " 0.05793146423327079,\n",
       " 0.05734722495178032,\n",
       " 0.054140679901240704,\n",
       " 0.060051052503266436,\n",
       " 0.07398130280399022,\n",
       " 0.07973168536259168,\n",
       " 0.06902902416486842,\n",
       " 0.08315410984542276,\n",
       " 0.07420813332838644,\n",
       " 0.05140974384519119,\n",
       " 0.08751137221219851,\n",
       " 0.06241056448086214,\n",
       " 0.07176543785135896,\n",
       " 0.06194105849536302,\n",
       " 0.07502402659902978,\n",
       " 0.0694160966527275,\n",
       " 0.0725655586580058,\n",
       " 0.07132672257961868,\n",
       " 0.06265073619026475,\n",
       " 0.06582385069631543,\n",
       " 0.05734841722217851,\n",
       " 0.08102135682540458,\n",
       " 0.07057364956345803,\n",
       " 0.06606349028827944,\n",
       " 0.0633968279816741,\n",
       " 0.06828316499789346,\n",
       " 0.0717908599926095,\n",
       " 0.07016837187275268,\n",
       " 0.06595252797318482,\n",
       " 0.07128631400586583,\n",
       " 0.0775421745699608,\n",
       " 0.07138627157268075,\n",
       " 0.05797485597549625,\n",
       " 0.06449691433158283,\n",
       " 0.06529489464849281,\n",
       " 0.08052721878373553,\n",
       " 0.08519128143688368,\n",
       " 0.0671971412563694,\n",
       " 0.0758643321955657,\n",
       " 0.06164600301207076,\n",
       " 0.058352556855695896,\n",
       " 0.057664755551296576,\n",
       " 0.07065352068300002,\n",
       " 0.08289306041620653,\n",
       " 0.06391598190669229,\n",
       " 0.06820123706706897,\n",
       " 0.04247764201885307,\n",
       " 0.06357174579796304,\n",
       " 0.08039000197819479,\n",
       " 0.08839209790405932,\n",
       " 0.06782541847823906,\n",
       " 0.06925232678122246,\n",
       " 0.0621192086497736,\n",
       " 0.07675958788650748,\n",
       " 0.06507878462078132,\n",
       " 0.055722721567849826,\n",
       " 0.05654922684278057,\n",
       " 0.08646882765055261,\n",
       " 0.07633471387304801,\n",
       " 0.07503372852719661,\n",
       " 0.050112794596179754,\n",
       " 0.0737670409059265,\n",
       " 0.06221988678987491,\n",
       " 0.048685714465573106,\n",
       " 0.08105325205696515,\n",
       " 0.059884104092460075,\n",
       " 0.07856226941820607,\n",
       " 0.06790758469128637,\n",
       " 0.09904926102998968,\n",
       " 0.08837691065807585,\n",
       " 0.06858582283261985,\n",
       " 0.09606389198707774,\n",
       " 0.06537087946863503,\n",
       " 0.07240897719426147,\n",
       " 0.06424963325103124,\n",
       " 0.07325541685129912,\n",
       " 0.05494098497479453,\n",
       " 0.07064308527503217,\n",
       " 0.08020182443066114,\n",
       " 0.06162022747323925,\n",
       " 0.06682851816515861,\n",
       " 0.07368488793881003,\n",
       " 0.07091698699027947,\n",
       " 0.05574217669734032,\n",
       " 0.04660457284855691,\n",
       " 0.0847415599423579,\n",
       " 0.052170418867586256,\n",
       " 0.07187650376540987,\n",
       " 0.07099349343536179,\n",
       " 0.056147182214797454,\n",
       " 0.06142947516427114,\n",
       " 0.051501991123900866,\n",
       " 0.06229185297296616,\n",
       " 0.09121953833696315,\n",
       " 0.0981846403378763,\n",
       " 0.06956905573573927,\n",
       " 0.07244829719858595,\n",
       " 0.06359462517688858,\n",
       " 0.04454745147686853,\n",
       " 0.0641322752164095,\n",
       " 0.057086276799371755,\n",
       " 0.0571164118194589,\n",
       " 0.07715226006154696,\n",
       " 0.07909996145912104,\n",
       " 0.07498233656825908,\n",
       " 0.061291167481940655,\n",
       " 0.07237013745427606,\n",
       " 0.06447877452575312,\n",
       " 0.07287689469662038,\n",
       " 0.06686586802512891,\n",
       " 0.058278339639531836,\n",
       " 0.0659482570125551,\n",
       " 0.06822548123322479,\n",
       " 0.08528313524298027,\n",
       " 0.06981862399843013,\n",
       " 0.06576442412017906,\n",
       " 0.06404573333626422,\n",
       " 0.07999761236550246,\n",
       " 0.08527375296703173,\n",
       " 0.05645366436236185,\n",
       " 0.06962569734697933,\n",
       " 0.07172525577512814,\n",
       " 0.052146006813941055,\n",
       " 0.07285793564211071,\n",
       " 0.07653033847820302,\n",
       " 0.06784422433213887,\n",
       " 0.07519847119868403,\n",
       " 0.07389942726869465,\n",
       " 0.05756311241413678,\n",
       " 0.0704237770955882,\n",
       " 0.08268068847588425,\n",
       " 0.058802223158777166,\n",
       " 0.05370383846353311,\n",
       " 0.06123667558168914,\n",
       " 0.0785768148057531,\n",
       " 0.06707723471267327,\n",
       " 0.06770593914218115,\n",
       " 0.05010085167199406,\n",
       " 0.06069574305874161,\n",
       " 0.07305292046031439,\n",
       " 0.08702415410133905,\n",
       " 0.08502780666015837,\n",
       " 0.07673553426139268,\n",
       " 0.08523508915153288,\n",
       " 0.09037680609463658,\n",
       " 0.09336039647425298,\n",
       " 0.0816594378577485,\n",
       " 0.06620849359890106,\n",
       " 0.07292892987573954,\n",
       " 0.07872384647297176,\n",
       " 0.07985771998243746,\n",
       " 0.05669524492334264,\n",
       " 0.06512213919694393,\n",
       " 0.05449502881430187,\n",
       " 0.062161560202775044,\n",
       " 0.064539202321205,\n",
       " 0.07688584675608214,\n",
       " 0.06868029756402291,\n",
       " 0.07863372658562867,\n",
       " 0.061988008145573065,\n",
       " 0.07182995118613411,\n",
       " 0.07245545894574387,\n",
       " 0.046520085112023116,\n",
       " 0.06629968263774166,\n",
       " 0.06646744328251512,\n",
       " 0.04893722248723386,\n",
       " 0.08034937896379594,\n",
       " 0.04864771755349669,\n",
       " 0.059870376993764324,\n",
       " 0.06405424345886754,\n",
       " 0.07861851145714503,\n",
       " 0.08896500394913083,\n",
       " 0.06330884444491956,\n",
       " 0.06918468108354121,\n",
       " 0.0627935742100901,\n",
       " 0.0719023386414252,\n",
       " 0.05911385430138141,\n",
       " 0.06116150824935846,\n",
       " 0.057505954914485444,\n",
       " 0.06723430231656055,\n",
       " 0.06466198169194005,\n",
       " 0.0730596813440767,\n",
       " 0.06616403202030617,\n",
       " 0.07018943529830403,\n",
       " 0.06998221860202014,\n",
       " 0.07118484437040712,\n",
       " 0.07856568294036706,\n",
       " 0.05984465428849007,\n",
       " 0.04490936734822232,\n",
       " 0.06565312321869055,\n",
       " 0.07960007874162343,\n",
       " 0.06455496184895337,\n",
       " 0.07778530642892476,\n",
       " 0.06367665837436055,\n",
       " 0.07987482016127564,\n",
       " 0.07146936735454008,\n",
       " 0.05946935415958297,\n",
       " 0.06557350398166743,\n",
       " 0.05156487292624839,\n",
       " 0.06641528246686704,\n",
       " 0.05751998866338382,\n",
       " 0.061910676074167975,\n",
       " 0.05336201895850986,\n",
       " 0.05071097927754347,\n",
       " 0.06886916941030514,\n",
       " 0.05611276186264926,\n",
       " 0.07350046936249316,\n",
       " 0.07430728737827184,\n",
       " 0.07681823422548226,\n",
       " 0.05930914710546868,\n",
       " 0.06367024812605099,\n",
       " 0.090142676996981,\n",
       " 0.07015571787533975,\n",
       " 0.08895340547167217,\n",
       " 0.08113455705036901,\n",
       " 0.05632969819941885,\n",
       " 0.06569903827178938,\n",
       " 0.054562911571200544,\n",
       " 0.06802173049368487,\n",
       " 0.06785383380541905,\n",
       " 0.07303861993610941,\n",
       " 0.05590733981861474,\n",
       " 0.06053422782942602,\n",
       " 0.07774977991662152,\n",
       " 0.06549728145197385,\n",
       " 0.06996288788184117,\n",
       " 0.07075107826628711,\n",
       " 0.0753211299805569,\n",
       " 0.06810691389423867,\n",
       " 0.0718394792008779,\n",
       " 0.07318040828637778,\n",
       " 0.06901733881156072,\n",
       " 0.06332681194675445,\n",
       " 0.07225614815838097,\n",
       " 0.06576711950682523,\n",
       " 0.08670317995502742,\n",
       " 0.07380181489612793,\n",
       " 0.08084175486830933,\n",
       " 0.04900267798270707,\n",
       " 0.07363733446710469,\n",
       " 0.07113285126958047,\n",
       " 0.06557868156892899,\n",
       " 0.05551245364039134,\n",
       " 0.0714179722603999,\n",
       " 0.06483275212341191,\n",
       " 0.058692872670624834,\n",
       " 0.05220498441966316,\n",
       " 0.06218821315652677,\n",
       " 0.06244846734465735,\n",
       " 0.056690478803258226,\n",
       " 0.05564961189544631,\n",
       " 0.0517531382859851,\n",
       " 0.06399080566444541,\n",
       " 0.07725186953761129,\n",
       " 0.07466368893894926,\n",
       " 0.06083132994670761,\n",
       " 0.051413007663643345,\n",
       " 0.07968596639348034,\n",
       " 0.0702202711139337,\n",
       " 0.05988541469938703,\n",
       " 0.07642445927788352,\n",
       " 0.05598501780381494,\n",
       " 0.08456374723588338,\n",
       " 0.0620508373229106,\n",
       " 0.06154267727000946,\n",
       " 0.05267859599104513,\n",
       " 0.053539320467004374,\n",
       " 0.06816090167845863,\n",
       " 0.06488517536551296,\n",
       " 0.05952185194288299,\n",
       " 0.06869417788372324,\n",
       " 0.06407166345656894,\n",
       " 0.06501291582674602,\n",
       " 0.057158402793514355,\n",
       " 0.08616312257584674,\n",
       " 0.07633291549049438,\n",
       " 0.07165619598308345,\n",
       " 0.08492169653976843,\n",
       " 0.051917937618491936,\n",
       " 0.0653526935741763,\n",
       " 0.06627358928073653,\n",
       " 0.0594077337999819,\n",
       " 0.07095836190060555,\n",
       " 0.06773948019693304,\n",
       " 0.08685191254373749,\n",
       " 0.06553934058178541,\n",
       " 0.06276285295192735,\n",
       " 0.06838220968027915,\n",
       " 0.06529302507924287,\n",
       " 0.06873050774152091,\n",
       " 0.08499848398121931,\n",
       " 0.06270769030357398,\n",
       " 0.052355662912907566,\n",
       " 0.08049754452397595,\n",
       " 0.0688569233588286,\n",
       " 0.07289331302381684,\n",
       " 0.07356668275034403,\n",
       " 0.07039829357484507,\n",
       " 0.061900855862837695,\n",
       " 0.0705306859880427,\n",
       " 0.06940876196244472,\n",
       " 0.07030590718477331,\n",
       " 0.07980971844955152,\n",
       " 0.08003402821355823,\n",
       " 0.08028457949539751,\n",
       " 0.05758637269043754,\n",
       " 0.07334533184066999,\n",
       " 0.06974733818933314,\n",
       " 0.06055628605047467,\n",
       " 0.06232876394767895,\n",
       " 0.088708220761769,\n",
       " 0.054357157696157524,\n",
       " 0.08282171748477216,\n",
       " 0.0807899968716907,\n",
       " 0.05838411678112737,\n",
       " 0.06210275513383697,\n",
       " 0.07799302069943499,\n",
       " 0.07109691319359362,\n",
       " 0.06916097567850521,\n",
       " 0.07454933599268618,\n",
       " 0.07986543990597762,\n",
       " 0.07972156683137205,\n",
       " 0.06546795443815918,\n",
       " 0.0752571044781387,\n",
       " 0.06975638693351556,\n",
       " 0.061529438812204414,\n",
       " 0.05353923554051443,\n",
       " 0.0766951066779489,\n",
       " 0.06263088126487786,\n",
       " 0.06872528439777718,\n",
       " 0.05560248025255232,\n",
       " 0.060142026740757276,\n",
       " 0.06808606579755096,\n",
       " 0.06815151579307356,\n",
       " 0.07995553141072652,\n",
       " 0.07857147867014665,\n",
       " 0.09804153728762705,\n",
       " 0.05892626965368521,\n",
       " 0.0768180239306342,\n",
       " 0.06707613785483621,\n",
       " 0.07299459915106632,\n",
       " 0.08422554225078809,\n",
       " 0.05973068623695053,\n",
       " 0.06234985017955187,\n",
       " 0.06267690750142682,\n",
       " 0.0540674764963089,\n",
       " 0.0782869193737775,\n",
       " 0.0794068559076179,\n",
       " 0.0603314640789174,\n",
       " 0.057879625509647696,\n",
       " 0.06618486044039808,\n",
       " 0.05683716602287541,\n",
       " 0.07728646080605106,\n",
       " 0.07682063806833457,\n",
       " 0.06659985064045429,\n",
       " 0.05917718118376206,\n",
       " 0.06918317714056264,\n",
       " 0.07238215996869139,\n",
       " 0.04809067117904831,\n",
       " 0.0786942897254736,\n",
       " 0.06657163886576806,\n",
       " 0.08091859568944614,\n",
       " 0.07192862991870047,\n",
       " 0.0661018296958607,\n",
       " 0.05081092369952111,\n",
       " 0.05803109852693469,\n",
       " 0.06998744923533423,\n",
       " 0.062318810401399326,\n",
       " 0.06159672186737131,\n",
       " 0.08542068749394205,\n",
       " 0.05756952615630416,\n",
       " 0.0892362043854794,\n",
       " 0.05967327130546151,\n",
       " 0.048542650756896635,\n",
       " 0.08380443749032132,\n",
       " 0.06003022510158813,\n",
       " 0.07341024713638239,\n",
       " 0.07549685336212476,\n",
       " 0.07175147455687006,\n",
       " 0.06980366549230425,\n",
       " 0.08123857442095303,\n",
       " 0.07670692205770908,\n",
       " 0.08606949422440398,\n",
       " 0.07494763585229176,\n",
       " 0.06120618262391077,\n",
       " 0.06887186088720837,\n",
       " 0.042926308773915185,\n",
       " 0.07033924574693919,\n",
       " 0.05574449736373516,\n",
       " 0.05657615583819803,\n",
       " 0.07349532207200453,\n",
       " 0.0584711450712381,\n",
       " 0.06974062098657548,\n",
       " 0.06216958210584945,\n",
       " 0.0805003373240909,\n",
       " 0.06902672995805736,\n",
       " 0.07613396138482655,\n",
       " 0.05971668583875861,\n",
       " 0.057938665252048896,\n",
       " 0.05825224519172054,\n",
       " 0.05318895446598093,\n",
       " 0.07806884527112351,\n",
       " 0.08243718159002551,\n",
       " 0.06954126602670307,\n",
       " 0.07860009623494028,\n",
       " 0.07241535126374093,\n",
       " 0.06009485743844673,\n",
       " 0.08008484615687629,\n",
       " 0.05129851901962717,\n",
       " 0.07121040966552779,\n",
       " 0.07142583691362334,\n",
       " 0.05836036265146012,\n",
       " 0.05989357827633914,\n",
       " 0.0718376035218641,\n",
       " 0.06790727982790581,\n",
       " 0.06756656006352564,\n",
       " 0.07725089737558967,\n",
       " 0.07823776137974967,\n",
       " 0.060923768783736974,\n",
       " 0.055330993115121956,\n",
       " 0.08695894668119446,\n",
       " 0.0665720965183861,\n",
       " 0.08864461393758763,\n",
       " 0.06049455963228292,\n",
       " 0.05348083175077999,\n",
       " 0.07747048590828086,\n",
       " 0.058982418902700916,\n",
       " 0.07812905652728556,\n",
       " 0.09007374945449312,\n",
       " 0.05539121591810533,\n",
       " 0.08154401544210196,\n",
       " 0.07839924276974676,\n",
       " 0.07439005537925608,\n",
       " 0.07265155369205176,\n",
       " 0.06946798266286926,\n",
       " 0.0730253863622547,\n",
       " 0.06719066322158727,\n",
       " 0.07284985983443999,\n",
       " 0.06420855708132778,\n",
       " 0.07000469637698375,\n",
       " 0.06600149739885822,\n",
       " 0.0681014443236796,\n",
       " 0.05250289119402994,\n",
       " 0.06383266502461689,\n",
       " 0.06740020899451699,\n",
       " 0.06953784809615178,\n",
       " 0.07492461265138893,\n",
       " 0.07987820153226535,\n",
       " 0.060568246970900984,\n",
       " 0.049279701193234576,\n",
       " 0.06570252996091429,\n",
       " 0.0585726969103853,\n",
       " 0.06629489866663694,\n",
       " 0.0651159214967823,\n",
       " 0.05276300275486274,\n",
       " 0.04136225326743144,\n",
       " 0.0764888724519013,\n",
       " 0.07453249401732633,\n",
       " 0.06964006573672356,\n",
       " 0.0551218891289201,\n",
       " 0.06861351000497784,\n",
       " 0.054154831099812444,\n",
       " 0.05439801988644909,\n",
       " 0.04737652002905271,\n",
       " 0.06700317032397606,\n",
       " 0.09184525130849354,\n",
       " 0.07078195566271121,\n",
       " 0.05243677805931274,\n",
       " 0.06782042016474375,\n",
       " 0.07039284425843442,\n",
       " 0.050330939613786485,\n",
       " 0.06205546113161429,\n",
       " 0.040291306285897645,\n",
       " 0.08470380225453915,\n",
       " 0.07325122234779195,\n",
       " 0.06748198231997861,\n",
       " 0.07565229928723569,\n",
       " 0.0700594609757238,\n",
       " 0.06935456866267702,\n",
       " 0.06552666876020931,\n",
       " 0.06781181730870563,\n",
       " 0.06753485152493896,\n",
       " 0.0596769898168391,\n",
       " 0.09020311602093574,\n",
       " 0.06587301709062411,\n",
       " 0.0625961664478633,\n",
       " 0.04550572702920623,\n",
       " 0.07336045815359071,\n",
       " 0.07495715341430735,\n",
       " 0.07326489641441879,\n",
       " 0.06414217635612858,\n",
       " 0.07113768352638547,\n",
       " 0.07140151826053255,\n",
       " 0.058784742117350956,\n",
       " 0.08045604753067727,\n",
       " 0.04301574444735731,\n",
       " 0.05195086988337877,\n",
       " 0.07666690963084702,\n",
       " 0.06952068934906885,\n",
       " 0.07364479868412656,\n",
       " 0.07598080569204838,\n",
       " 0.05438702533711374,\n",
       " 0.06902787963572206,\n",
       " 0.07283155352277827,\n",
       " 0.0628331608536186,\n",
       " 0.07949863518998106,\n",
       " 0.0778796596056855,\n",
       " 0.05315074745815169,\n",
       " 0.03863412282929942,\n",
       " 0.06193722391176984,\n",
       " 0.07054286602256159,\n",
       " 0.0715613657750133,\n",
       " 0.0879378980924386,\n",
       " 0.06651080778646033,\n",
       " 0.08581219840025203,\n",
       " 0.07070025251013544,\n",
       " 0.0582977417464139,\n",
       " 0.07847279515404103,\n",
       " 0.059265227464593416,\n",
       " 0.0746306164915791,\n",
       " 0.08158903974093881,\n",
       " 0.08276585742694682,\n",
       " 0.06533567005117943,\n",
       " 0.06087307296409677,\n",
       " 0.05368674286490316,\n",
       " 0.05058036304418308,\n",
       " 0.07302194142055482,\n",
       " 0.05675810931060238,\n",
       " 0.06822125720982596,\n",
       " 0.0648614732869419,\n",
       " 0.06287754585368407,\n",
       " 0.07778466883766197,\n",
       " 0.062394064402460495,\n",
       " 0.08629401800058131,\n",
       " 0.0539641007110978,\n",
       " 0.05239508685070506,\n",
       " 0.07792872092357886,\n",
       " 0.04849782049748998,\n",
       " 0.06136983729563025,\n",
       " 0.07512921396000827,\n",
       " 0.05799290466825723,\n",
       " 0.06266644445844237,\n",
       " 0.04972724790253994,\n",
       " 0.07898197206295404,\n",
       " 0.08755026800814115,\n",
       " 0.06587667433729176,\n",
       " 0.09060976094130717,\n",
       " 0.07073095009267184,\n",
       " 0.06481869091265992,\n",
       " 0.07756491062630902,\n",
       " 0.08367538433943238,\n",
       " 0.042040841921224134,\n",
       " 0.06724387748399034,\n",
       " 0.07946796497901883,\n",
       " 0.0691298754286334,\n",
       " 0.058344212126651175,\n",
       " 0.07844494581453937,\n",
       " 0.07023527573473537,\n",
       " 0.05157120060270631,\n",
       " 0.06984545669007572,\n",
       " 0.09019615586340013,\n",
       " 0.0688708909810835,\n",
       " 0.07480067303110428,\n",
       " 0.0639722291377648,\n",
       " 0.06555376327275896,\n",
       " 0.06290539390956015,\n",
       " 0.0734294092584917,\n",
       " 0.07608137413985219,\n",
       " 0.05911669535682955,\n",
       " 0.05844741215253873,\n",
       " 0.06246581379982538,\n",
       " 0.08417666895035895,\n",
       " 0.09056129720224619,\n",
       " 0.07277060067969444,\n",
       " 0.07692225033051103,\n",
       " 0.05852110517601911,\n",
       " 0.08483925767200388,\n",
       " 0.0693316516703666,\n",
       " 0.05966055408660308,\n",
       " 0.07386259832054722,\n",
       " 0.05612941710946877,\n",
       " 0.08586484434655445,\n",
       " 0.09340723721175316,\n",
       " 0.05418504944124849,\n",
       " 0.06943540811145955,\n",
       " 0.0777755186996585,\n",
       " 0.05555948399946369,\n",
       " 0.0847269318728802,\n",
       " 0.06659261356197806,\n",
       " 0.06981209169864515,\n",
       " 0.06935621823377326,\n",
       " 0.06429807951746803,\n",
       " 0.05659385968409899,\n",
       " 0.08089944734460398,\n",
       " 0.07220830662571208,\n",
       " 0.08165164004225868,\n",
       " 0.08454346821811816,\n",
       " 0.06365484117450604,\n",
       " 0.06802239362189427,\n",
       " 0.062505474779518,\n",
       " 0.06159158867017651,\n",
       " 0.0652062799595047,\n",
       " 0.0896185516725735,\n",
       " 0.05980724633658221,\n",
       " 0.06593722676510788,\n",
       " 0.07266328594296503,\n",
       " 0.05874136376476262,\n",
       " 0.06223101419693692,\n",
       " 0.05564336320184534,\n",
       " 0.04934718088061116,\n",
       " 0.06245640121619558,\n",
       " 0.06485993606756824,\n",
       " 0.05156190271892305,\n",
       " 0.07268250646325176,\n",
       " 0.08356357375478808,\n",
       " 0.06811546251893408,\n",
       " 0.07670784810453318,\n",
       " 0.08158346378486857,\n",
       " 0.07683649635296604,\n",
       " 0.08963811973491244,\n",
       " 0.07189329573057668,\n",
       " 0.062193040509957595,\n",
       " 0.06503886423316435,\n",
       " 0.08942439461781031,\n",
       " 0.0782203552497007,\n",
       " 0.06561043258709857,\n",
       " 0.06762679491631521,\n",
       " 0.0546157475807344,\n",
       " 0.07617740963547963,\n",
       " 0.0619862910311826,\n",
       " 0.059677713294389687,\n",
       " 0.05780292010193984,\n",
       " 0.060275980739320306,\n",
       " 0.06460559068733264,\n",
       " 0.054660035023528813,\n",
       " 0.057514457925782046,\n",
       " 0.05171960325679854,\n",
       " 0.04604647237924866,\n",
       " 0.04500325884904888,\n",
       " 0.08950162193745832,\n",
       " 0.06577953689964341,\n",
       " 0.06659633909491892,\n",
       " 0.07015561199664912,\n",
       " 0.07686211242659113,\n",
       " 0.060349891575919086,\n",
       " 0.06856215325179923,\n",
       " 0.0581979541242079,\n",
       " 0.05245049745223315,\n",
       " 0.08204307141027795,\n",
       " 0.05897490037335656,\n",
       " 0.06667046305097808,\n",
       " 0.06702420267585911,\n",
       " 0.05140284240999795,\n",
       " 0.08740623577827784,\n",
       " 0.04659177850622235,\n",
       " 0.061519357402635796,\n",
       " 0.060968692376245005,\n",
       " 0.06916160643272276,\n",
       " 0.07443740668733635,\n",
       " 0.08292474800964347,\n",
       " 0.051667433847302824,\n",
       " 0.07055810744913002,\n",
       " 0.08144730221873701,\n",
       " 0.05988987787051217,\n",
       " 0.06897999539542951,\n",
       " 0.04286110163633735,\n",
       " 0.08142265760630184,\n",
       " 0.06286949260201631,\n",
       " 0.08883516095414805,\n",
       " 0.08934029569613826,\n",
       " 0.06890333965976614,\n",
       " 0.0807821103469397,\n",
       " 0.08567221806686985,\n",
       " 0.058454661376439475,\n",
       " 0.06267839638574606,\n",
       " 0.05135513245236434,\n",
       " 0.06217240042948002,\n",
       " 0.07274977150425696,\n",
       " 0.07510479706227091,\n",
       " 0.06149847096037106,\n",
       " 0.06576720534361638,\n",
       " 0.06265080387665332,\n",
       " 0.08101906291885311,\n",
       " 0.07486912983704473,\n",
       " 0.057149572229529315,\n",
       " 0.07038271697805067,\n",
       " 0.06248209185456391,\n",
       " 0.07045596144068714,\n",
       " 0.062099470504464724,\n",
       " 0.05940540024573373,\n",
       " 0.08591863840851818,\n",
       " 0.05527904999085631,\n",
       " 0.05547753471819723,\n",
       " 0.06764307127969309,\n",
       " 0.06332897601621947,\n",
       " 0.08155446069079422,\n",
       " 0.07091297247801835,\n",
       " 0.07942973147719457,\n",
       " 0.06101001633901354,\n",
       " 0.0555505449566595,\n",
       " 0.06352174288521549,\n",
       " 0.06192762161286774,\n",
       " 0.06519164577075917,\n",
       " 0.050450255323502245,\n",
       " 0.06819300612503738,\n",
       " 0.058702844398248424,\n",
       " 0.06987027847468019,\n",
       " 0.0654762417809731,\n",
       " 0.06329717326381151,\n",
       " 0.06752224003255484,\n",
       " 0.07806078115891553,\n",
       " 0.0842807725443308,\n",
       " 0.05809509895896386,\n",
       " 0.04504554528032729,\n",
       " 0.08560326004238072,\n",
       " 0.04695397372137825,\n",
       " 0.06637132826984019,\n",
       " 0.08136636024835436,\n",
       " 0.0706511550745478,\n",
       " 0.060768350169365215,\n",
       " 0.07895377927689935,\n",
       " 0.06705624382003891,\n",
       " 0.05740691482760657,\n",
       " 0.04894679880209308,\n",
       " 0.08265945792394115,\n",
       " 0.07364270750989763,\n",
       " 0.07526153991550791,\n",
       " 0.09005605290835357,\n",
       " 0.08659805077999018,\n",
       " 0.08576344723694394,\n",
       " 0.06376536100397195,\n",
       " 0.06370712984779343,\n",
       " 0.061306613289435485,\n",
       " 0.058928581856065795,\n",
       " 0.07082739571847252,\n",
       " 0.0732059263193346,\n",
       " 0.06864551426158774,\n",
       " 0.05874707788763803,\n",
       " 0.05732850762499166,\n",
       " 0.07600024438141423,\n",
       " 0.06789551031924893,\n",
       " 0.07957509152920156,\n",
       " 0.07435578126165494,\n",
       " 0.06815602704610862,\n",
       " 0.06650481824131227,\n",
       " 0.0795674866866024,\n",
       " 0.07941694791820846,\n",
       " 0.07088525557284642,\n",
       " 0.051229237774319286,\n",
       " 0.0728874027765376,\n",
       " 0.07184002999449604,\n",
       " 0.0630974390076714,\n",
       " 0.061119408518779714,\n",
       " 0.06248268480408282,\n",
       " 0.08550830596863083,\n",
       " 0.0869633798293341,\n",
       " 0.09165164785093168,\n",
       " 0.05239529994661766,\n",
       " 0.06026852397099095,\n",
       " 0.07416741805488157,\n",
       " 0.07914282814936081,\n",
       " 0.07846160730345372,\n",
       " 0.06549963154894028,\n",
       " 0.07608764189486947,\n",
       " 0.0683092752572196,\n",
       " 0.07742995438590089,\n",
       " 0.07434439655144888,\n",
       " 0.05694781855956582,\n",
       " 0.06383199665001599,\n",
       " 0.05483640785257328,\n",
       " 0.07664582403654792,\n",
       " 0.08897831701679816,\n",
       " 0.05943580548595617,\n",
       " 0.058119262395763524,\n",
       " 0.06593008489506627,\n",
       " 0.07683002458038153,\n",
       " 0.06465158895422989,\n",
       " 0.06973734869256111,\n",
       " 0.05828573684772979,\n",
       " 0.06407386683786342,\n",
       " 0.06297392262337301,\n",
       " 0.07049265323074445,\n",
       " 0.07003394431154537,\n",
       " 0.06281807992706942,\n",
       " 0.044718305267124746,\n",
       " 0.05562695232663286,\n",
       " 0.08192755651635455,\n",
       " 0.0700713610256551,\n",
       " 0.08668018871643661,\n",
       " 0.05233433077152878,\n",
       " 0.07464549964691355,\n",
       " 0.08956207481680928,\n",
       " 0.0814779551015339,\n",
       " 0.052007329567165916,\n",
       " 0.0640780652334115,\n",
       " 0.06779051719658068,\n",
       " 0.08091112912927484,\n",
       " 0.056112277943192575,\n",
       " 0.06963826345498886,\n",
       " 0.0705037164193598,\n",
       " 0.06864880736674554,\n",
       " 0.09094589296309795,\n",
       " 0.04155430661412435,\n",
       " 0.08169474388489546,\n",
       " 0.07801025750545541,\n",
       " 0.05314564259075915,\n",
       " 0.08115952384035971,\n",
       " 0.07939978576521638,\n",
       " 0.06718512227135294,\n",
       " 0.048585759984219046,\n",
       " 0.09396767751092153,\n",
       " 0.0749955954421662,\n",
       " 0.068320787896899,\n",
       " 0.06271023215292199,\n",
       " 0.05873086571355263,\n",
       " 0.08160925806983964,\n",
       " 0.04907780041411589,\n",
       " 0.05239478165423723,\n",
       " 0.06638750086463081,\n",
       " 0.06899633786646153,\n",
       " 0.0641322548244162,\n",
       " 0.08981431482213742,\n",
       " 0.051829296147177316,\n",
       " 0.06301126706350994,\n",
       " 0.08525182003214765,\n",
       " 0.06276803829225382,\n",
       " 0.0608402993896997,\n",
       " 0.0726789283624851,\n",
       " 0.0756974760379805,\n",
       " 0.08465882169326348,\n",
       " 0.06103139760148295,\n",
       " 0.07656839489196644,\n",
       " 0.05012212291268202,\n",
       " 0.06288379960493953,\n",
       " 0.0786704832452764,\n",
       " 0.07734809661690814,\n",
       " 0.08138933156601731,\n",
       " 0.06668432115110971,\n",
       " 0.0634088420977589,\n",
       " 0.06804073443540509,\n",
       " 0.059557598130122194,\n",
       " 0.08708848926542759,\n",
       " 0.0753808206630213,\n",
       " 0.07365644684945846,\n",
       " 0.06471919784493914,\n",
       " 0.05372972956408553,\n",
       " 0.0640120227277321,\n",
       " 0.08463596561563232,\n",
       " 0.07443766996838462,\n",
       " 0.07474900052637386,\n",
       " 0.08585423764589262,\n",
       " 0.06732080732036334,\n",
       " 0.07025970764874036,\n",
       " 0.0823699567391885,\n",
       " 0.07264360974323122,\n",
       " 0.07630180324872897,\n",
       " 0.07727857932468932,\n",
       " 0.06944447800681708,\n",
       " 0.07859702125497159,\n",
       " 0.07687294555006027,\n",
       " 0.05905256527479192,\n",
       " 0.07419040393401087,\n",
       " 0.08773689900525336,\n",
       " 0.054685797471476436,\n",
       " 0.08436124920342883,\n",
       " 0.08686659434207507,\n",
       " 0.07447105188035369,\n",
       " 0.07319482991248087,\n",
       " 0.07764510983813624,\n",
       " 0.06667234720122607,\n",
       " 0.07192638568947439,\n",
       " 0.07491643599383924,\n",
       " 0.07336653752747287,\n",
       " 0.07085872187615391,\n",
       " 0.044922474368062536,\n",
       " 0.06788732015308883,\n",
       " 0.060117086979795814,\n",
       " 0.0800482939144786,\n",
       " 0.06915350304145935,\n",
       " 0.06726400823678369,\n",
       " 0.0582063579643335,\n",
       " 0.08758574708897995,\n",
       " 0.06330951417231084,\n",
       " 0.06662311389283217,\n",
       " 0.08045298879780498,\n",
       " 0.08517533808968514,\n",
       " 0.0696581123650964,\n",
       " 0.07317480182135584,\n",
       " 0.07428387033201819,\n",
       " 0.07652189578665347,\n",
       " 0.0714575583068258,\n",
       " 0.06770506551384803,\n",
       " 0.09207791307627176,\n",
       " 0.0665807975977678,\n",
       " 0.1020738667980614,\n",
       " 0.07104048416602611,\n",
       " 0.08322452207613806,\n",
       " 0.06827196983676416,\n",
       " 0.06190043021274882,\n",
       " 0.0706660100548812,\n",
       " 0.051119834062450464,\n",
       " 0.06411710246897762,\n",
       " 0.07984997252300789,\n",
       " 0.0856195527247812,\n",
       " 0.08944721033852707,\n",
       " 0.02982445796906131,\n",
       " 0.07878638222163208,\n",
       " 0.07266109540346181,\n",
       " 0.07395019210695704,\n",
       " 0.06962590415654898,\n",
       " 0.07040036019825989,\n",
       " 0.053596625965744486,\n",
       " 0.0662848769228193,\n",
       " 0.06351773553792463,\n",
       " 0.07295916128157154,\n",
       " 0.0660621317567406,\n",
       " 0.08053187041514547,\n",
       " 0.05369454951498412,\n",
       " 0.06322021285244035,\n",
       " 0.06803778658517463,\n",
       " 0.06312823243642969,\n",
       " 0.08240647596544569,\n",
       " 0.08995973292608822,\n",
       " 0.07157362613194583,\n",
       " 0.05686587908904167,\n",
       " 0.06064392943878142,\n",
       " 0.08528532052883273,\n",
       " 0.10504659532425759,\n",
       " 0.06833633514975113,\n",
       " 0.06234682469582436,\n",
       " 0.06598427529214097,\n",
       " 0.07170803190166126,\n",
       " 0.08026292510193637,\n",
       " 0.07218225712154,\n",
       " 0.06903356641631224,\n",
       " 0.0771010534910638,\n",
       " 0.07495578164773495,\n",
       " 0.08415226576677896,\n",
       " 0.06584210820182669,\n",
       " 0.058538692158091946,\n",
       " 0.060806485407749335,\n",
       " 0.061686814988565535,\n",
       " 0.07593659267886485,\n",
       " 0.05676223330320745,\n",
       " 0.07584698604452665,\n",
       " 0.06779556256601015,\n",
       " 0.05321167853114359,\n",
       " 0.06452884567489216,\n",
       " 0.058613304446619656,\n",
       " 0.05757489582945006,\n",
       " 0.07543571902898788,\n",
       " 0.07362165043244155,\n",
       " 0.07633427700220641,\n",
       " 0.04795476374307383,\n",
       " 0.06480067347832033,\n",
       " 0.05174369133509355,\n",
       " 0.07256693704192513,\n",
       " 0.06425506189808063,\n",
       " 0.07200540384265049,\n",
       " 0.07090737528922204,\n",
       " 0.06566888120198287,\n",
       " 0.059737966131373665,\n",
       " 0.07283939377692052,\n",
       " 0.06468089530300773,\n",
       " 0.08599448493413608,\n",
       " 0.07856290918715067,\n",
       " 0.07227304053022846,\n",
       " 0.05085397487731493,\n",
       " 0.0668151638488814,\n",
       " 0.06403229721545836,\n",
       " 0.08774660128175642,\n",
       " 0.06086231184918035,\n",
       " 0.07714847015034265,\n",
       " 0.05615068485547467,\n",
       " 0.058348514224338906,\n",
       " 0.07641185464984188,\n",
       " 0.08290879418251593,\n",
       " 0.05889446953606026,\n",
       " 0.06527659447502307,\n",
       " 0.09629952977824704]"
      ]
     },
     "execution_count": 31,
     "metadata": {},
     "output_type": "execute_result"
    }
   ],
   "source": [
    "pairs_df = pd.DataFrame({'age':cleaned.agepreg, 'weight': cleaned.totalwgt_lb})\n",
    "\n",
    "rs = []\n",
    "for _ in range(1000):\n",
    "    sample = pairs_df.sample(n=len(pairs_df), replace=True)\n",
    "    r = stats.pearsonr(sample.age, sample.weight)[0]\n",
    "    rs.append(r)\n",
    "rs"
   ]
  },
  {
   "cell_type": "code",
   "execution_count": 32,
   "metadata": {},
   "outputs": [
    {
     "data": {
      "text/plain": [
       "0.06855726842702034"
      ]
     },
     "execution_count": 32,
     "metadata": {},
     "output_type": "execute_result"
    }
   ],
   "source": [
    "rs_array = np.array(rs)\n",
    "rs_array.mean()"
   ]
  },
  {
   "cell_type": "code",
   "execution_count": 33,
   "metadata": {},
   "outputs": [
    {
     "data": {
      "text/plain": [
       "(0.0688339703541091,\n",
       " 5.722947107252811e-11,\n",
       " 0.04828563698428594,\n",
       " 0.08932406444362938)"
      ]
     },
     "execution_count": 33,
     "metadata": {},
     "output_type": "execute_result"
    }
   ],
   "source": [
    "# Results using existing correlation and CI function, parametric\n",
    "dsa.CorrelationRandCI(cleaned.agepreg, cleaned.totalwgt_lb)"
   ]
  },
  {
   "cell_type": "code",
   "execution_count": 34,
   "metadata": {},
   "outputs": [
    {
     "data": {
      "text/plain": [
       "(0.06855726842702034,\n",
       " 0.01099016034130234,\n",
       " (0.04849782049748998, 0.08981431482213742))"
      ]
     },
     "execution_count": 34,
     "metadata": {},
     "output_type": "execute_result"
    }
   ],
   "source": [
    "# Results using resampling, non-parametric\n",
    "# The CIs from the two methods are nearly identical\n",
    "dsa.SummarizeEstimates(rs_array)"
   ]
  },
  {
   "cell_type": "code",
   "execution_count": 35,
   "metadata": {},
   "outputs": [],
   "source": [
    "# Try new function\n",
    "new_func_results = ResampleCorrelation_Ha(cleaned.agepreg, cleaned.totalwgt_lb, method='pearson')"
   ]
  },
  {
   "cell_type": "code",
   "execution_count": 36,
   "metadata": {},
   "outputs": [
    {
     "data": {
      "text/plain": [
       "(0.06872253448673797,\n",
       " 0.01087334589523236,\n",
       " (0.04681019320298627, 0.08997722760709072))"
      ]
     },
     "execution_count": 36,
     "metadata": {},
     "output_type": "execute_result"
    }
   ],
   "source": [
    "dsa.SummarizeEstimates(new_func_results[1])"
   ]
  },
  {
   "cell_type": "code",
   "execution_count": 37,
   "metadata": {},
   "outputs": [
    {
     "data": {
      "text/plain": [
       "0.0"
      ]
     },
     "execution_count": 37,
     "metadata": {},
     "output_type": "execute_result"
    }
   ],
   "source": [
    "# p value is very low\n",
    "dsa.PvalueFromEstimates(new_func_results[1], 0, tail='left')"
   ]
  },
  {
   "cell_type": "code",
   "execution_count": 38,
   "metadata": {},
   "outputs": [
    {
     "data": {
      "text/plain": [
       "0.034567827580007156"
      ]
     },
     "execution_count": 38,
     "metadata": {},
     "output_type": "execute_result"
    }
   ],
   "source": [
    "# min function shows lowest result from the function's iterations\n",
    "min(new_func_results[1])"
   ]
  },
  {
   "cell_type": "code",
   "execution_count": 39,
   "metadata": {
    "scrolled": true
   },
   "outputs": [
    {
     "data": {
      "text/plain": [
       "0.0688339703541091"
      ]
     },
     "execution_count": 39,
     "metadata": {},
     "output_type": "execute_result"
    }
   ],
   "source": [
    "# Test updated H0 function\n",
    "new_null_func_results = ResampleCorrelation_H0(cleaned.agepreg, cleaned.totalwgt_lb, method='pearson')\n",
    "new_null_func_results[0]"
   ]
  },
  {
   "cell_type": "code",
   "execution_count": 40,
   "metadata": {},
   "outputs": [
    {
     "data": {
      "text/plain": [
       "(0.008406494521968335,\n",
       " 0.006119432467415596,\n",
       " (0.0003632979129890822, 0.022973275544000294))"
      ]
     },
     "execution_count": 40,
     "metadata": {},
     "output_type": "execute_result"
    }
   ],
   "source": [
    "dsa.SummarizeEstimates(new_null_func_results[1])"
   ]
  },
  {
   "cell_type": "code",
   "execution_count": 41,
   "metadata": {},
   "outputs": [
    {
     "data": {
      "text/plain": [
       "0.0"
      ]
     },
     "execution_count": 41,
     "metadata": {},
     "output_type": "execute_result"
    }
   ],
   "source": [
    "# Also very low p-value\n",
    "dsa.PvalueFromEstimates(new_null_func_results[1], new_null_func_results[0])"
   ]
  },
  {
   "cell_type": "code",
   "execution_count": 42,
   "metadata": {},
   "outputs": [
    {
     "data": {
      "text/plain": [
       "0.031651775957808145"
      ]
     },
     "execution_count": 42,
     "metadata": {},
     "output_type": "execute_result"
    }
   ],
   "source": [
    "max(new_null_func_results[1])"
   ]
  },
  {
   "cell_type": "markdown",
   "metadata": {},
   "source": [
    "### Chi squared"
   ]
  },
  {
   "cell_type": "code",
   "execution_count": 43,
   "metadata": {},
   "outputs": [],
   "source": [
    "# Star Trek example data\n",
    "shirt_color = ['Blue']*136 + ['Gold']*55 + ['Red']*239\n",
    "status = ['Dead']*7 + ['Alive']*129 + ['Dead']*9 + ['Alive']*46 + ['Dead']*24 + ['Alive']*215\n",
    "star_trek_df = pd.DataFrame({'shirt_color' : shirt_color, 'status' : status})"
   ]
  },
  {
   "cell_type": "code",
   "execution_count": 44,
   "metadata": {},
   "outputs": [
    {
     "data": {
      "text/html": [
       "<div>\n",
       "<style scoped>\n",
       "    .dataframe tbody tr th:only-of-type {\n",
       "        vertical-align: middle;\n",
       "    }\n",
       "\n",
       "    .dataframe tbody tr th {\n",
       "        vertical-align: top;\n",
       "    }\n",
       "\n",
       "    .dataframe thead th {\n",
       "        text-align: right;\n",
       "    }\n",
       "</style>\n",
       "<table border=\"1\" class=\"dataframe\">\n",
       "  <thead>\n",
       "    <tr style=\"text-align: right;\">\n",
       "      <th>shirt_color</th>\n",
       "      <th>Blue</th>\n",
       "      <th>Gold</th>\n",
       "      <th>Red</th>\n",
       "    </tr>\n",
       "    <tr>\n",
       "      <th>status</th>\n",
       "      <th></th>\n",
       "      <th></th>\n",
       "      <th></th>\n",
       "    </tr>\n",
       "  </thead>\n",
       "  <tbody>\n",
       "    <tr>\n",
       "      <th>Alive</th>\n",
       "      <td>129</td>\n",
       "      <td>46</td>\n",
       "      <td>215</td>\n",
       "    </tr>\n",
       "    <tr>\n",
       "      <th>Dead</th>\n",
       "      <td>7</td>\n",
       "      <td>9</td>\n",
       "      <td>24</td>\n",
       "    </tr>\n",
       "  </tbody>\n",
       "</table>\n",
       "</div>"
      ],
      "text/plain": [
       "shirt_color  Blue  Gold  Red\n",
       "status                      \n",
       "Alive         129    46  215\n",
       "Dead            7     9   24"
      ]
     },
     "execution_count": 44,
     "metadata": {},
     "output_type": "execute_result"
    }
   ],
   "source": [
    "star_trek_cross = pd.crosstab(star_trek_df.status, star_trek_df.shirt_color)\n",
    "star_trek_cross"
   ]
  },
  {
   "cell_type": "code",
   "execution_count": 45,
   "metadata": {},
   "outputs": [
    {
     "data": {
      "text/plain": [
       "(6.188614838582533,\n",
       " 0.045306379921467986,\n",
       " 2,\n",
       " array([[123.34883721,  49.88372093, 216.76744186],\n",
       "        [ 12.65116279,   5.11627907,  22.23255814]]))"
      ]
     },
     "execution_count": 45,
     "metadata": {},
     "output_type": "execute_result"
    }
   ],
   "source": [
    "star_trek_cross_results = stats.chi2_contingency(star_trek_cross)\n",
    "star_trek_cross_results"
   ]
  },
  {
   "cell_type": "code",
   "execution_count": 46,
   "metadata": {},
   "outputs": [],
   "source": [
    "# Create a contribution to chi-squared calculation function\n",
    "# This can be done using the formula on page 347 of the hypothesis testing book\n",
    "# difference between observed and expected squared, divided by expected\n",
    "# perform this calculation for each element of the arrays"
   ]
  },
  {
   "cell_type": "code",
   "execution_count": 47,
   "metadata": {},
   "outputs": [
    {
     "data": {
      "text/plain": [
       "array([[129,  46, 215],\n",
       "       [  7,   9,  24]], dtype=int64)"
      ]
     },
     "execution_count": 47,
     "metadata": {},
     "output_type": "execute_result"
    }
   ],
   "source": [
    "obs_array = np.array(star_trek_cross)\n",
    "obs_array"
   ]
  },
  {
   "cell_type": "code",
   "execution_count": 48,
   "metadata": {},
   "outputs": [
    {
     "data": {
      "text/plain": [
       "array([[0.25890508, 0.30236895, 0.01441107],\n",
       "       [2.52432456, 2.94809725, 0.14050793]])"
      ]
     },
     "execution_count": 48,
     "metadata": {},
     "output_type": "execute_result"
    }
   ],
   "source": [
    "new_array = (obs_array - star_trek_cross_results[3])**2/star_trek_cross_results[3]\n",
    "new_array"
   ]
  },
  {
   "cell_type": "code",
   "execution_count": 49,
   "metadata": {},
   "outputs": [],
   "source": [
    "def ChiSquareContribution(obs, exp):\n",
    "    obs_array = np.array(obs)\n",
    "    exp_array = np.array(exp)\n",
    "    \n",
    "    return (obs_array - exp_array)**2/exp_array"
   ]
  },
  {
   "cell_type": "code",
   "execution_count": 50,
   "metadata": {},
   "outputs": [
    {
     "data": {
      "text/plain": [
       "array([[0.25890508, 0.30236895, 0.01441107],\n",
       "       [2.52432456, 2.94809725, 0.14050793]])"
      ]
     },
     "execution_count": 50,
     "metadata": {},
     "output_type": "execute_result"
    }
   ],
   "source": [
    "ChiSquareContribution(obs_array, star_trek_cross_results[3])"
   ]
  },
  {
   "cell_type": "code",
   "execution_count": 51,
   "metadata": {},
   "outputs": [],
   "source": [
    "# Another test of new function with one way example\n",
    "f_obs = [16, 18, 16, 14, 12, 12]\n",
    "f_exp=[16, 16, 16, 16, 16, 8]"
   ]
  },
  {
   "cell_type": "code",
   "execution_count": 52,
   "metadata": {},
   "outputs": [],
   "source": [
    "test_results = ChiSquareContribution(f_obs, f_exp)"
   ]
  },
  {
   "cell_type": "code",
   "execution_count": 53,
   "metadata": {},
   "outputs": [
    {
     "data": {
      "text/plain": [
       "3.5"
      ]
     },
     "execution_count": 53,
     "metadata": {},
     "output_type": "execute_result"
    }
   ],
   "source": [
    "# Results match the example here\n",
    "# https://docs.scipy.org/doc/scipy/reference/generated/scipy.stats.chisquare.html\n",
    "sum(test_results)"
   ]
  },
  {
   "cell_type": "markdown",
   "metadata": {},
   "source": [
    "### Poisson"
   ]
  },
  {
   "cell_type": "code",
   "execution_count": 54,
   "metadata": {},
   "outputs": [
    {
     "data": {
      "text/html": [
       "<div>\n",
       "<style scoped>\n",
       "    .dataframe tbody tr th:only-of-type {\n",
       "        vertical-align: middle;\n",
       "    }\n",
       "\n",
       "    .dataframe tbody tr th {\n",
       "        vertical-align: top;\n",
       "    }\n",
       "\n",
       "    .dataframe thead th {\n",
       "        text-align: right;\n",
       "    }\n",
       "</style>\n",
       "<table border=\"1\" class=\"dataframe\">\n",
       "  <thead>\n",
       "    <tr style=\"text-align: right;\">\n",
       "      <th></th>\n",
       "      <th>Supplier_1</th>\n",
       "      <th>Supplier_2</th>\n",
       "    </tr>\n",
       "  </thead>\n",
       "  <tbody>\n",
       "    <tr>\n",
       "      <th>0</th>\n",
       "      <td>1</td>\n",
       "      <td>1</td>\n",
       "    </tr>\n",
       "    <tr>\n",
       "      <th>1</th>\n",
       "      <td>7</td>\n",
       "      <td>10</td>\n",
       "    </tr>\n",
       "    <tr>\n",
       "      <th>2</th>\n",
       "      <td>3</td>\n",
       "      <td>4</td>\n",
       "    </tr>\n",
       "    <tr>\n",
       "      <th>3</th>\n",
       "      <td>4</td>\n",
       "      <td>2</td>\n",
       "    </tr>\n",
       "    <tr>\n",
       "      <th>4</th>\n",
       "      <td>4</td>\n",
       "      <td>0</td>\n",
       "    </tr>\n",
       "    <tr>\n",
       "      <th>5</th>\n",
       "      <td>6</td>\n",
       "      <td>4</td>\n",
       "    </tr>\n",
       "    <tr>\n",
       "      <th>6</th>\n",
       "      <td>3</td>\n",
       "      <td>8</td>\n",
       "    </tr>\n",
       "    <tr>\n",
       "      <th>7</th>\n",
       "      <td>5</td>\n",
       "      <td>5</td>\n",
       "    </tr>\n",
       "    <tr>\n",
       "      <th>8</th>\n",
       "      <td>2</td>\n",
       "      <td>8</td>\n",
       "    </tr>\n",
       "    <tr>\n",
       "      <th>9</th>\n",
       "      <td>4</td>\n",
       "      <td>4</td>\n",
       "    </tr>\n",
       "    <tr>\n",
       "      <th>10</th>\n",
       "      <td>4</td>\n",
       "      <td>4</td>\n",
       "    </tr>\n",
       "    <tr>\n",
       "      <th>11</th>\n",
       "      <td>3</td>\n",
       "      <td>7</td>\n",
       "    </tr>\n",
       "    <tr>\n",
       "      <th>12</th>\n",
       "      <td>3</td>\n",
       "      <td>6</td>\n",
       "    </tr>\n",
       "    <tr>\n",
       "      <th>13</th>\n",
       "      <td>1</td>\n",
       "      <td>9</td>\n",
       "    </tr>\n",
       "    <tr>\n",
       "      <th>14</th>\n",
       "      <td>2</td>\n",
       "      <td>4</td>\n",
       "    </tr>\n",
       "    <tr>\n",
       "      <th>15</th>\n",
       "      <td>3</td>\n",
       "      <td>4</td>\n",
       "    </tr>\n",
       "    <tr>\n",
       "      <th>16</th>\n",
       "      <td>5</td>\n",
       "      <td>5</td>\n",
       "    </tr>\n",
       "    <tr>\n",
       "      <th>17</th>\n",
       "      <td>5</td>\n",
       "      <td>5</td>\n",
       "    </tr>\n",
       "    <tr>\n",
       "      <th>18</th>\n",
       "      <td>3</td>\n",
       "      <td>4</td>\n",
       "    </tr>\n",
       "    <tr>\n",
       "      <th>19</th>\n",
       "      <td>3</td>\n",
       "      <td>6</td>\n",
       "    </tr>\n",
       "    <tr>\n",
       "      <th>20</th>\n",
       "      <td>4</td>\n",
       "      <td>12</td>\n",
       "    </tr>\n",
       "    <tr>\n",
       "      <th>21</th>\n",
       "      <td>1</td>\n",
       "      <td>8</td>\n",
       "    </tr>\n",
       "    <tr>\n",
       "      <th>22</th>\n",
       "      <td>3</td>\n",
       "      <td>2</td>\n",
       "    </tr>\n",
       "    <tr>\n",
       "      <th>23</th>\n",
       "      <td>1</td>\n",
       "      <td>6</td>\n",
       "    </tr>\n",
       "    <tr>\n",
       "      <th>24</th>\n",
       "      <td>5</td>\n",
       "      <td>4</td>\n",
       "    </tr>\n",
       "    <tr>\n",
       "      <th>25</th>\n",
       "      <td>6</td>\n",
       "      <td>8</td>\n",
       "    </tr>\n",
       "    <tr>\n",
       "      <th>26</th>\n",
       "      <td>4</td>\n",
       "      <td>7</td>\n",
       "    </tr>\n",
       "    <tr>\n",
       "      <th>27</th>\n",
       "      <td>6</td>\n",
       "      <td>5</td>\n",
       "    </tr>\n",
       "    <tr>\n",
       "      <th>28</th>\n",
       "      <td>2</td>\n",
       "      <td>5</td>\n",
       "    </tr>\n",
       "    <tr>\n",
       "      <th>29</th>\n",
       "      <td>4</td>\n",
       "      <td>4</td>\n",
       "    </tr>\n",
       "  </tbody>\n",
       "</table>\n",
       "</div>"
      ],
      "text/plain": [
       "    Supplier_1  Supplier_2\n",
       "0            1           1\n",
       "1            7          10\n",
       "2            3           4\n",
       "3            4           2\n",
       "4            4           0\n",
       "5            6           4\n",
       "6            3           8\n",
       "7            5           5\n",
       "8            2           8\n",
       "9            4           4\n",
       "10           4           4\n",
       "11           3           7\n",
       "12           3           6\n",
       "13           1           9\n",
       "14           2           4\n",
       "15           3           4\n",
       "16           5           5\n",
       "17           5           5\n",
       "18           3           4\n",
       "19           3           6\n",
       "20           4          12\n",
       "21           1           8\n",
       "22           3           2\n",
       "23           1           6\n",
       "24           5           4\n",
       "25           6           8\n",
       "26           4           7\n",
       "27           6           5\n",
       "28           2           5\n",
       "29           4           4"
      ]
     },
     "execution_count": 54,
     "metadata": {},
     "output_type": "execute_result"
    }
   ],
   "source": [
    "poisson = pd.read_csv('Count_Data_Example.csv')\n",
    "poisson.columns = poisson.columns.str.replace(' ', '_')\n",
    "poisson"
   ]
  },
  {
   "cell_type": "code",
   "execution_count": 55,
   "metadata": {},
   "outputs": [],
   "source": [
    "poisson_results = dsa.ResampleDiffMeans_H0(poisson.Supplier_1, poisson.Supplier_2)"
   ]
  },
  {
   "cell_type": "code",
   "execution_count": 56,
   "metadata": {},
   "outputs": [
    {
     "data": {
      "text/plain": [
       "0.0019999999999996687"
      ]
     },
     "execution_count": 56,
     "metadata": {},
     "output_type": "execute_result"
    }
   ],
   "source": [
    "# My existing resampling functions give the same results as the Hypothesis testing book's parametric poisson tests\n",
    "# There is no need to create separate functions for poisson testing\n",
    "dsa.PvalueFromEstimates(poisson_results[1], poisson_results[0], tail='right')"
   ]
  },
  {
   "cell_type": "code",
   "execution_count": 57,
   "metadata": {},
   "outputs": [],
   "source": [
    "poisson_results_Ha = dsa.ResampleDiffMeans_Ha(poisson.Supplier_1, poisson.Supplier_2)"
   ]
  },
  {
   "cell_type": "code",
   "execution_count": 58,
   "metadata": {},
   "outputs": [
    {
     "data": {
      "text/plain": [
       "0.0"
      ]
     },
     "execution_count": 58,
     "metadata": {},
     "output_type": "execute_result"
    }
   ],
   "source": [
    "dsa.PvalueFromEstimates(poisson_results_Ha[1], 0)"
   ]
  },
  {
   "cell_type": "code",
   "execution_count": 59,
   "metadata": {},
   "outputs": [
    {
     "data": {
      "text/plain": [
       "<matplotlib.lines.Line2D at 0x1b1386de6a0>"
      ]
     },
     "execution_count": 59,
     "metadata": {},
     "output_type": "execute_result"
    },
    {
     "data": {
      "image/png": "[encoded data removed]",
      "text/plain": [
       "<Figure size 576x432 with 1 Axes>"
      ]
     },
     "metadata": {},
     "output_type": "display_data"
    }
   ],
   "source": [
    "# Plot for null\n",
    "\n",
    "poisson_rv_null = dsa.DiscreteRv(poisson_results[1])\n",
    "\n",
    "fig,ax = plt.subplots()\n",
    "fig.set_size_inches(8,6)\n",
    "\n",
    "ax.plot(poisson_rv_null.xk, poisson_rv_null.cdf(poisson_rv_null.xk))\n",
    "ax.axvline(poisson_rv_null.mean(), color='C1', lw=1.3) # mean, orange line\n",
    "ax.axvline(poisson_rv_null.ppf(.05), color='C2', lw=1.3) # CI lower, green line\n",
    "ax.axvline(poisson_rv_null.ppf(.95), color='C2', lw=1.3) # CI upper, green line\n",
    "ax.axvline(poisson_results[0], color='C3', lw=1.3) # p-value (if comparing with zero), red line"
   ]
  },
  {
   "cell_type": "code",
   "execution_count": 60,
   "metadata": {},
   "outputs": [
    {
     "data": {
      "text/plain": [
       "<matplotlib.lines.Line2D at 0x1b13873ed68>"
      ]
     },
     "execution_count": 60,
     "metadata": {},
     "output_type": "execute_result"
    },
    {
     "data": {
      "image/png": "[encoded data removed]",
      "text/plain": [
       "<Figure size 576x432 with 1 Axes>"
      ]
     },
     "metadata": {},
     "output_type": "display_data"
    }
   ],
   "source": [
    "# Plot for alternative\n",
    "\n",
    "poisson_rv_alt = dsa.DiscreteRv(poisson_results_Ha[1])\n",
    "\n",
    "fig,ax = plt.subplots()\n",
    "fig.set_size_inches(8,6)\n",
    "\n",
    "ax.plot(poisson_rv_alt.xk, poisson_rv_alt.cdf(poisson_rv_alt.xk))\n",
    "ax.axvline(poisson_rv_alt.mean(), color='C1', lw=1.3) # mean, orange line\n",
    "ax.axvline(poisson_rv_alt.ppf(.05), color='C2', lw=1.3) # CI lower, green line\n",
    "ax.axvline(poisson_rv_alt.ppf(.95), color='C2', lw=1.3) # CI upper, green line\n",
    "ax.axvline(0, color='C3', lw=1.3) # p-value (if comparing with zero), red line"
   ]
  },
  {
   "cell_type": "code",
   "execution_count": 61,
   "metadata": {},
   "outputs": [
    {
     "data": {
      "text/plain": [
       "-0.09999999999999964"
      ]
     },
     "execution_count": 61,
     "metadata": {},
     "output_type": "execute_result"
    }
   ],
   "source": [
    "max(poisson_results_Ha[1])"
   ]
  },
  {
   "cell_type": "markdown",
   "metadata": {},
   "source": [
    "### Power calculation function"
   ]
  },
  {
   "cell_type": "code",
   "execution_count": 62,
   "metadata": {},
   "outputs": [],
   "source": [
    "data = firsts.prglngth.values, others.prglngth.values"
   ]
  },
  {
   "cell_type": "code",
   "execution_count": 63,
   "metadata": {},
   "outputs": [],
   "source": [
    "def FalseNegRate(data, num_runs=100):\n",
    "    \"\"\"Computes the chance of a false negative based on resampling.\n",
    "\n",
    "    data: pair of sequences\n",
    "    num_runs: how many experiments to simulate\n",
    "\n",
    "    returns: float false negative rate\n",
    "    \"\"\"\n",
    "    group1, group2 = data\n",
    "    count = 0\n",
    "\n",
    "    for i in range(num_runs):\n",
    "        sample1 = thinkstats2.Resample(group1)\n",
    "        sample2 = thinkstats2.Resample(group2)\n",
    "        ht = DiffMeansPermute((sample1, sample2))\n",
    "        p_value = ht.PValue(iters=101)\n",
    "        if p_value > 0.05:\n",
    "            count += 1\n",
    "\n",
    "    return count / num_runs"
   ]
  },
  {
   "cell_type": "code",
   "execution_count": 64,
   "metadata": {},
   "outputs": [],
   "source": [
    "# Need to change left and right alternatives to be smaller and larger like power means below\n",
    "# I think perhaps the one-sided alternatives are not working because this is based on the null hypothesis case\n",
    "# Try changing to the Ha alternative hypothesis methods for resampling and try again\n",
    "# Probably have to make a new function, keep this one in case it doesn't work\n",
    "# This is the old function that uses the null hypothesis\n",
    "# It didn't work well because smaller and larger were opposite to how statmodels works\n",
    "\n",
    "def PowerDiffMeans_old(a, b, alpha = 0.05, alternative = 'two-sided', num_runs=100):\n",
    "    a = np.array(a)\n",
    "    b = np.array(b)\n",
    "    count = 0\n",
    "    \n",
    "    for i in range(num_runs):\n",
    "        sample1 = np.random.choice(a, size=len(a), replace=True)\n",
    "        sample2 = np.random.choice(b, size=len(b), replace=True)\n",
    "            \n",
    "        pooled_data = np.hstack((sample1, sample2))\n",
    "        sample1_size=len(sample1)\n",
    "            \n",
    "        diff_means = abs(sample1.mean() - sample2.mean())\n",
    "        \n",
    "        diff_mean_results = []\n",
    "\n",
    "        if alternative == 'two-sided':\n",
    "            for j in range(100):\n",
    "                np.random.shuffle(pooled_data)\n",
    "                group1 = pooled_data[:sample1_size]\n",
    "                group2 = pooled_data[sample1_size:]\n",
    "                # Uses abs of difference between group means to make it a two-sided test\n",
    "                result = abs(group1.mean() - group2.mean())\n",
    "                diff_mean_results.append(result)\n",
    "                  \n",
    "            rv = dsa.DiscreteRv(diff_mean_results)\n",
    "            \n",
    "            p_value = 1 - rv.cdf(diff_means)\n",
    "            if p_value < alpha:\n",
    "                count += 1\n",
    "        \n",
    "        else:\n",
    "            for j in range(100):\n",
    "                np.random.shuffle(pooled_data)\n",
    "                group1 = pooled_data[:sample1_size]\n",
    "                group2 = pooled_data[sample1_size:]\n",
    "                result = group1.mean() - group2.mean()\n",
    "                diff_mean_results.append(result)\n",
    "            \n",
    "            rv = dsa.DiscreteRv(diff_mean_results)\n",
    "            \n",
    "            if alternative == 'smaller':\n",
    "                p_value_right = 1 - rv.cdf(diff_means)\n",
    "                if p_value_right < alpha:\n",
    "                    count += 1\n",
    "            \n",
    "            elif alternative == 'larger':\n",
    "                p_value_left = rv.cdf(diff_means)\n",
    "                if p_value_left < alpha:\n",
    "                    count += 1\n",
    "            \n",
    "            else:\n",
    "                raise ValueError(\"alternative has to be 'two-sided', 'smaller', or 'larger'\")\n",
    "    \n",
    "    return count / num_runs"
   ]
  },
  {
   "cell_type": "code",
   "execution_count": 65,
   "metadata": {},
   "outputs": [],
   "source": [
    "# This function is built using the alternative hypothesis\n",
    "# It matches with the smaller and larger alternatives of statsmodels\n",
    "\n",
    "def PowerDiffMeans(a, b, test_diff_means, alpha = 0.05, alternative = 'two-sided', num_runs=100):\n",
    "    a = np.array(a)\n",
    "    b = np.array(b)\n",
    "    \n",
    "    # Set counter for significant p-values to zero\n",
    "    count = 0\n",
    "    \n",
    "    # Run resampling of the arrays separately (not pooled) to simulate the alternative hypothesis of a difference existing\n",
    "    for i in range(num_runs):\n",
    "        sample1 = np.random.choice(a, size=len(a), replace=True)\n",
    "        sample2 = np.random.choice(b, size=len(b), replace=True)\n",
    "        \n",
    "        diff_mean_results = []\n",
    "        \n",
    "        # Build a sampling distribution for the run\n",
    "        for j in range(100):\n",
    "            group1 = np.random.choice(sample1, size=len(sample1), replace=True)\n",
    "            group2 = np.random.choice(sample2, size=len(sample2), replace=True)\n",
    "            result = group1.mean() - group2.mean()\n",
    "            diff_mean_results.append(result)\n",
    "        \n",
    "        # Create an rv of the results and calculate left and right side p-values\n",
    "        rv = dsa.DiscreteRv(diff_mean_results)\n",
    "        p_value_right = 1 - rv.cdf(test_diff_means)\n",
    "        p_value_left = rv.cdf(test_diff_means)        \n",
    "\n",
    "        # Case of a two-sided test\n",
    "        if alternative == 'two-sided':\n",
    "            if (p_value_right < alpha/2) or (p_value_left < alpha/2):\n",
    "                count += 1\n",
    "        \n",
    "        # Case of testing for an effect that is smaller than the test difference of means\n",
    "        elif alternative == 'smaller': \n",
    "            if p_value_right < alpha:\n",
    "                count += 1\n",
    "        \n",
    "        # Case of testing for an effect that is larger than the test difference of means\n",
    "        elif alternative == 'larger': \n",
    "            if p_value_left < alpha:\n",
    "                count += 1\n",
    "        \n",
    "        else:\n",
    "            raise ValueError(\"alternative has to be 'two-sided', 'smaller', or 'larger'\")\n",
    "    \n",
    "    return count / num_runs"
   ]
  },
  {
   "cell_type": "code",
   "execution_count": 66,
   "metadata": {},
   "outputs": [
    {
     "data": {
      "text/plain": [
       "0.38"
      ]
     },
     "execution_count": 66,
     "metadata": {},
     "output_type": "execute_result"
    }
   ],
   "source": [
    "PowerDiffMeans(firsts.prglngth.values, others.prglngth.values, 0, alternative='larger')"
   ]
  },
  {
   "cell_type": "code",
   "execution_count": null,
   "metadata": {},
   "outputs": [],
   "source": []
  },
  {
   "cell_type": "code",
   "execution_count": 67,
   "metadata": {},
   "outputs": [
    {
     "data": {
      "text/plain": [
       "0.07803726677754952"
      ]
     },
     "execution_count": 67,
     "metadata": {},
     "output_type": "execute_result"
    }
   ],
   "source": [
    "firsts.prglngth.mean() - others.prglngth.mean()"
   ]
  },
  {
   "cell_type": "code",
   "execution_count": 68,
   "metadata": {
    "scrolled": true
   },
   "outputs": [
    {
     "data": {
      "text/plain": [
       "0.25"
      ]
     },
     "execution_count": 68,
     "metadata": {},
     "output_type": "execute_result"
    }
   ],
   "source": [
    "# I think it's working now, but not for one-sided cases\n",
    "# Old function\n",
    "# Result: 0.31699999999999995\n",
    "PowerDiffMeans_old(firsts.prglngth.values, others.prglngth.values, alternative='two-sided')"
   ]
  },
  {
   "cell_type": "code",
   "execution_count": 69,
   "metadata": {},
   "outputs": [
    {
     "data": {
      "text/plain": [
       "0.3956628152889268"
      ]
     },
     "execution_count": 69,
     "metadata": {},
     "output_type": "execute_result"
    }
   ],
   "source": [
    "# Try this with statsmodels\n",
    "effect_size = dsa.CohenEffectSize(firsts.prglngth.values, others.prglngth.values)\n",
    "# effect_size = dsa.CohenEffectSize(others.prglngth.values, firsts.prglngth.values)\n",
    "nobs1 = len(firsts.prglngth.values)\n",
    "alpha = 0.05\n",
    "ratio = len(others.prglngth.values)/ len(firsts.prglngth.values)\n",
    "# ratio = len(firsts.prglngth.values)/ len(others.prglngth.values)\n",
    "power_obj = sms.TTestIndPower()\n",
    "power_obj.solve_power(effect_size=effect_size, nobs1=nobs1, alpha=alpha, ratio=ratio, alternative='larger')"
   ]
  },
  {
   "cell_type": "code",
   "execution_count": 70,
   "metadata": {},
   "outputs": [],
   "source": [
    "# Make a mean power function\n",
    "# I think this is working now, getting similar results to statsmodels function (see below)\n",
    "# One issue though is that I am passing a test mean to the function while statsmodels does not\n",
    "# Perhaps the effect size of the statsmodels function does something similar to my use of a test stat\n",
    "# Check how this works in the two sample difference of means case\n",
    "# Decided not to implement weight option\n",
    "# Add one-sided alternatives? need these alternatives in diff means one too?\n",
    "# Do I need to switch my 'larger', 'smaller' positions in the code?\n",
    "# Right now in need to use the opposite one in statsmodels to get similar power values\n",
    "# No, these should be opposite because I am looking at the larger and smaller tails of the alternative, not the null\n",
    "# Changed alternatives to 'right' and 'left' to be more intuitive for my calcualtion\n",
    "# Changing my mind again on this. I think I should use smaller and larger,\n",
    "# but in the sense of testing that an effect is smaller or larger.\n",
    "# I think I can remove the estimates less than test part of the code: did this\n",
    "# TO-DO: Add comments to code and add one-sided alternatives to diff means power function too\n",
    "\n",
    "def PowerMean(data, test_mean, alpha=0.05, alternative='two-sided', num_runs=100):\n",
    "    a = np.array(data)\n",
    "    \n",
    "    # Set counter for significant p-values to zero\n",
    "    count = 0\n",
    "        \n",
    "    # Run resampling of the array to simulate the alternative hypothesis of an existing difference from the test mean\n",
    "    for i in range(num_runs):\n",
    "        run_data = np.random.choice(a, size=len(a), replace=True)\n",
    "            \n",
    "        # Build a sampling distribution for the run\n",
    "        mean_estimates = [np.random.choice(run_data, size=len(run_data), replace=True).mean() for _ in range(100)]\n",
    "            \n",
    "        # Create an rv of the results and calculate left and right side p-values\n",
    "        rv = dsa.DiscreteRv(mean_estimates)\n",
    "        p_value_right = 1 - rv.cdf(test_mean)\n",
    "        p_value_left = rv.cdf(test_mean)\n",
    "        \n",
    "        # Case of a two-sided test\n",
    "        if alternative == 'two-sided':\n",
    "            if (p_value_right < alpha/2) or (p_value_left < alpha/2):\n",
    "                count += 1\n",
    "        \n",
    "        # Case of testing for an effect that is smaller than the test mean\n",
    "        elif alternative == 'smaller': \n",
    "            if p_value_right < alpha:\n",
    "                count += 1\n",
    "        \n",
    "        # Case of testing for an effect that is larger than the test mean\n",
    "        elif alternative == 'larger': \n",
    "            if p_value_left < alpha:\n",
    "                count += 1\n",
    "        \n",
    "        else:\n",
    "            raise ValueError(\"alternative has to be 'two-sided', 'smaller', or 'larger'\")\n",
    "            \n",
    "    return count / num_runs\n",
    "    \n",
    "    # Decided not to add weights option at this point, could come back and do that later\n",
    "    \n",
    "#     else:    # In case of weights use a DataFrame\n",
    "#         df = pd.DataFrame({'data':data,'wgt':weights})\n",
    "#         count = 0\n",
    "        \n",
    "#         for i in range(num_runs):\n",
    "#             print(\"run\", i)\n",
    "#             run_data = df.sample(n=len(df), replace=True)\n",
    "            \n",
    "#             mean_estimates = [df.sample(n=len(df), replace=True, weights=df.wgt).data.mean() for _ in range(100)]\n",
    "#             print(\"mean_estimate_mean\", np.array(mean_estimates).mean())\n",
    "            \n",
    "#             rv = dsa.DiscreteRv(mean_estimates)\n",
    "            \n",
    "#             p_value_right = 1 - rv.cdf(test_mean)\n",
    "#             print(\"p-value_right\", p_value_right)\n",
    "#             p_value_left = rv.cdf(test_mean)\n",
    "#             print(\"p-value_left\", p_value_left)\n",
    "#             if (np.array(mean_estimates).mean() < test_mean) and (p_value_right > alpha/2):\n",
    "#                 count += 1\n",
    "#                 print(\"count(right)\",count)\n",
    "#             elif (np.array(mean_estimates).mean() >= test_mean) and (p_value_left > alpha/2):\n",
    "#                 count += 1\n",
    "#                 print(\"count(left)\",count)"
   ]
  },
  {
   "cell_type": "code",
   "execution_count": 71,
   "metadata": {},
   "outputs": [],
   "source": [
    "mean_data = np.random.randint(-8,11,size=100)\n",
    "# mean_weights = np.random.randint(1,8,size=100)\n",
    "# mean_weights = mean_weights/sum(mean_weights)"
   ]
  },
  {
   "cell_type": "code",
   "execution_count": 72,
   "metadata": {},
   "outputs": [
    {
     "data": {
      "text/plain": [
       "0.92"
      ]
     },
     "execution_count": 72,
     "metadata": {},
     "output_type": "execute_result"
    }
   ],
   "source": [
    "mean_series = pd.Series(mean_data)\n",
    "mean_series.mean()"
   ]
  },
  {
   "cell_type": "code",
   "execution_count": 73,
   "metadata": {},
   "outputs": [
    {
     "data": {
      "text/plain": [
       "0.39"
      ]
     },
     "execution_count": 73,
     "metadata": {},
     "output_type": "execute_result"
    }
   ],
   "source": [
    "PowerMean(data=mean_series.values, test_mean=0, alternative='two-sided')"
   ]
  },
  {
   "cell_type": "code",
   "execution_count": 74,
   "metadata": {},
   "outputs": [
    {
     "data": {
      "text/plain": [
       "0.3515150853459335"
      ]
     },
     "execution_count": 74,
     "metadata": {},
     "output_type": "execute_result"
    }
   ],
   "source": [
    "# Try with statsmodels\n",
    "effect_size = mean_series.mean()/mean_series.std()\n",
    "nobs = len(mean_series)\n",
    "alpha = 0.05\n",
    "sms.tt_solve_power(effect_size=effect_size, nobs=nobs, alpha=alpha, alternative='two-sided')"
   ]
  },
  {
   "cell_type": "code",
   "execution_count": 75,
   "metadata": {},
   "outputs": [],
   "source": [
    "# Try with statsmodels for weighted data\n",
    "# Don't think this is working, doesn't seem to be equivalent to what I'm doing in the function\n",
    "# mean_data_weighted = mean_series.values * mean_weights\n",
    "# effect_size = mean_data_weighted.mean()/mean_data_weighted.std()\n",
    "# nobs = len(mean_data_weighted)\n",
    "# alpha = 0.05\n",
    "# sms.tt_solve_power(effect_size=effect_size, nobs=nobs, alpha=alpha, alternative='two-sided')"
   ]
  },
  {
   "cell_type": "code",
   "execution_count": 76,
   "metadata": {},
   "outputs": [],
   "source": [
    "# Make a correlation power function"
   ]
  },
  {
   "cell_type": "code",
   "execution_count": 93,
   "metadata": {},
   "outputs": [],
   "source": [
    "def PowerCorr(data, test_mean, alpha=0.05, alternative='two-sided', num_runs=100):\n",
    "    x, y = data\n",
    "    df = pd.DataFrame({'x':x, 'y':y})\n",
    "    \n",
    "    \n",
    "    # Set counter for significant p-values to zero\n",
    "    count = 0\n",
    "        \n",
    "    # Run resampling of the array to simulate the alternative hypothesis of an existing difference from the test mean\n",
    "    for i in range(num_runs):\n",
    "       # Create run data\n",
    "        run_data = df.sample(n=len(df), replace=True)\n",
    "        \n",
    "        corrs=[]\n",
    "        \n",
    "        # Build rv     \n",
    "        for _ in range(100):\n",
    "            sample = run_data.sample(n=len(run_data), replace=True)\n",
    "            r = stats.pearsonr(sample.x, sample.y)[0]\n",
    "            corrs.append(r)\n",
    "            \n",
    "        # Create an rv of the results and calculate left and right side p-values\n",
    "        rv = dsa.DiscreteRv(corrs)\n",
    "        p_value_right = 1 - rv.cdf(test_mean)\n",
    "        p_value_left = rv.cdf(test_mean)\n",
    "        \n",
    "        # Case of a two-sided test\n",
    "        if alternative == 'two-sided':\n",
    "            if (p_value_right < alpha/2) or (p_value_left < alpha/2):\n",
    "                count += 1\n",
    "        \n",
    "        # Case of testing for an effect that is smaller than the test mean\n",
    "        elif alternative == 'smaller': \n",
    "            if p_value_right < alpha:\n",
    "                count += 1\n",
    "        \n",
    "        # Case of testing for an effect that is larger than the test mean\n",
    "        elif alternative == 'larger': \n",
    "            if p_value_left < alpha:\n",
    "                count += 1\n",
    "        \n",
    "        else:\n",
    "            raise ValueError(\"alternative has to be 'two-sided', 'smaller', or 'larger'\")\n",
    "            \n",
    "    return count / num_runs"
   ]
  },
  {
   "cell_type": "code",
   "execution_count": 94,
   "metadata": {},
   "outputs": [
    {
     "data": {
      "text/plain": [
       "array([12,  7,  2, 12, 11,  5, 15,  5,  6, 12,  5, 15, 10,  2,  8,  2,  5,\n",
       "       16, 16,  2, 17,  7, 11, 13, 13, 13, 17,  4,  9, 15, 13,  5,  5, 19,\n",
       "        3,  4, 11, 16,  4, 14,  7, 12, 14,  9,  8,  4,  2,  8,  8,  8])"
      ]
     },
     "execution_count": 94,
     "metadata": {},
     "output_type": "execute_result"
    }
   ],
   "source": [
    "a = np.random.randint(1,20,50)\n",
    "a"
   ]
  },
  {
   "cell_type": "code",
   "execution_count": 95,
   "metadata": {},
   "outputs": [
    {
     "data": {
      "text/plain": [
       "array([13,  3,  8, 18, 12,  8, 14, 19,  5,  2, 10, 17,  6, 12,  3,  2, 18,\n",
       "        6, 11,  7, 12, 18, 16, 13, 13, 14, 19,  2, 14, 17,  3,  5, 14,  2,\n",
       "       10, 14,  9, 11,  2,  5, 11, 18,  3,  4, 18,  1, 11,  4, 18,  3])"
      ]
     },
     "execution_count": 95,
     "metadata": {},
     "output_type": "execute_result"
    }
   ],
   "source": [
    "b = np.random.randint(1,20,50)\n",
    "b"
   ]
  },
  {
   "cell_type": "code",
   "execution_count": 104,
   "metadata": {},
   "outputs": [
    {
     "data": {
      "text/plain": [
       "0.23"
      ]
     },
     "execution_count": 104,
     "metadata": {},
     "output_type": "execute_result"
    }
   ],
   "source": [
    "data2 = a,b\n",
    "PowerCorr(data2, 0, alternative='two-sided')"
   ]
  },
  {
   "cell_type": "code",
   "execution_count": 105,
   "metadata": {},
   "outputs": [],
   "source": [
    "# Test corr H0 vs corr Ha again using above data"
   ]
  },
  {
   "cell_type": "code",
   "execution_count": 109,
   "metadata": {},
   "outputs": [],
   "source": [
    "result0 = dsa.ResampleDiffMeans_H0(a,b)"
   ]
  },
  {
   "cell_type": "code",
   "execution_count": 110,
   "metadata": {},
   "outputs": [],
   "source": [
    "resulta = dsa.ResampleDiffMeans_Ha(a,b)"
   ]
  },
  {
   "cell_type": "code",
   "execution_count": 111,
   "metadata": {},
   "outputs": [
    {
     "data": {
      "text/plain": [
       "(0.8609199999999999,\n",
       " 0.6378419503293901,\n",
       " (0.019999999999999574, 2.3000000000000007))"
      ]
     },
     "execution_count": 111,
     "metadata": {},
     "output_type": "execute_result"
    }
   ],
   "source": [
    "dsa.SummarizeEstimates(result0[1])"
   ]
  },
  {
   "cell_type": "code",
   "execution_count": 112,
   "metadata": {},
   "outputs": [
    {
     "data": {
      "text/plain": [
       "(-0.7205400000000001,\n",
       " 1.0768279845917825,\n",
       " (-2.8200000000000003, 1.4400000000000013))"
      ]
     },
     "execution_count": 112,
     "metadata": {},
     "output_type": "execute_result"
    }
   ],
   "source": [
    "dsa.SummarizeEstimates(resulta[1])"
   ]
  },
  {
   "cell_type": "code",
   "execution_count": 114,
   "metadata": {},
   "outputs": [
    {
     "data": {
      "text/plain": [
       "0.4919999999999999"
      ]
     },
     "execution_count": 114,
     "metadata": {},
     "output_type": "execute_result"
    }
   ],
   "source": [
    "dsa.PvalueFromEstimates(result0[1], result0[0])"
   ]
  },
  {
   "cell_type": "code",
   "execution_count": 115,
   "metadata": {},
   "outputs": [
    {
     "data": {
      "text/plain": [
       "0.24099999999999944"
      ]
     },
     "execution_count": 115,
     "metadata": {},
     "output_type": "execute_result"
    }
   ],
   "source": [
    "dsa.PvalueFromEstimates(resulta[1], 0)"
   ]
  },
  {
   "cell_type": "code",
   "execution_count": null,
   "metadata": {},
   "outputs": [],
   "source": [
    "# There is quite a difference between the above, perhaps there is a significant difference between the two methods"
   ]
  },
  {
   "cell_type": "code",
   "execution_count": null,
   "metadata": {},
   "outputs": [],
   "source": []
  },
  {
   "cell_type": "markdown",
   "metadata": {},
   "source": [
    "### ANOVA"
   ]
  },
  {
   "cell_type": "code",
   "execution_count": null,
   "metadata": {},
   "outputs": [],
   "source": []
  },
  {
   "cell_type": "code",
   "execution_count": null,
   "metadata": {},
   "outputs": [],
   "source": []
  },
  {
   "cell_type": "code",
   "execution_count": null,
   "metadata": {},
   "outputs": [],
   "source": []
  },
  {
   "cell_type": "code",
   "execution_count": null,
   "metadata": {},
   "outputs": [],
   "source": []
  },
  {
   "cell_type": "markdown",
   "metadata": {},
   "source": [
    "### Just a duplicates checking function"
   ]
  },
  {
   "cell_type": "code",
   "execution_count": 78,
   "metadata": {},
   "outputs": [],
   "source": [
    "def duplicates(l):\n",
    "    dup = False\n",
    "    for i in l:\n",
    "        dup_counter=0\n",
    "        for j in l:\n",
    "            if i==j:\n",
    "                dup_counter +=1\n",
    "                if dup_counter > 1:\n",
    "                    dup = True\n",
    "                    return dup\n",
    "    return dup                    "
   ]
  },
  {
   "cell_type": "code",
   "execution_count": 79,
   "metadata": {},
   "outputs": [],
   "source": [
    "l = [1,3,8,7,3,9]"
   ]
  },
  {
   "cell_type": "code",
   "execution_count": 80,
   "metadata": {},
   "outputs": [
    {
     "data": {
      "text/plain": [
       "True"
      ]
     },
     "execution_count": 80,
     "metadata": {},
     "output_type": "execute_result"
    }
   ],
   "source": [
    "duplicates(l)"
   ]
  },
  {
   "cell_type": "code",
   "execution_count": null,
   "metadata": {},
   "outputs": [],
   "source": []
  },
  {
   "cell_type": "markdown",
   "metadata": {},
   "source": [
    "### A selection sort function"
   ]
  },
  {
   "cell_type": "code",
   "execution_count": 81,
   "metadata": {},
   "outputs": [],
   "source": [
    "def SelectionSort(l):\n",
    "    lower_limit_index = 0\n",
    "    pointer = lower_limit_index\n",
    "    while lower_limit_index < len(l)-1:\n",
    "        for i in range(lower_limit_index, len(l)):\n",
    "            if l[i] < l[pointer]:\n",
    "                pointer=i\n",
    "        l[lower_limit_index], l[pointer]=l[pointer],l[lower_limit_index]\n",
    "        lower_limit_index += 1\n",
    "        pointer=lower_limit_index\n",
    "    return l"
   ]
  },
  {
   "cell_type": "code",
   "execution_count": 82,
   "metadata": {},
   "outputs": [],
   "source": [
    "l = [3,7,9,4,2,8,5,1]"
   ]
  },
  {
   "cell_type": "code",
   "execution_count": 83,
   "metadata": {},
   "outputs": [
    {
     "data": {
      "text/plain": [
       "[1, 2, 3, 4, 5, 7, 8, 9]"
      ]
     },
     "execution_count": 83,
     "metadata": {},
     "output_type": "execute_result"
    }
   ],
   "source": [
    "SelectionSort(l)"
   ]
  },
  {
   "cell_type": "code",
   "execution_count": 84,
   "metadata": {},
   "outputs": [
    {
     "data": {
      "text/plain": [
       "[3, 4, 5, 6, 7]"
      ]
     },
     "execution_count": 84,
     "metadata": {},
     "output_type": "execute_result"
    }
   ],
   "source": [
    "list(range(3, len(l)))"
   ]
  },
  {
   "cell_type": "markdown",
   "metadata": {},
   "source": [
    "### An insertion sort function"
   ]
  },
  {
   "cell_type": "code",
   "execution_count": 85,
   "metadata": {},
   "outputs": [],
   "source": [
    "def InsertionSort(a):\n",
    "    for i in range(1, len(a)):\n",
    "        temp_value = a[i]\n",
    "        for j in range(i-1, -1,-1):\n",
    "            if a[j] > temp_value:\n",
    "                a[j+1] = a[j]\n",
    "                if j == 0:\n",
    "                    a[0] = temp_value\n",
    "                    break\n",
    "            if a[j] < temp_value:\n",
    "                a[j+1] = temp_value\n",
    "                break\n",
    "    return a"
   ]
  },
  {
   "cell_type": "code",
   "execution_count": 86,
   "metadata": {},
   "outputs": [],
   "source": [
    "insert_a = [3,7,9,4,2,8,1]"
   ]
  },
  {
   "cell_type": "code",
   "execution_count": 87,
   "metadata": {},
   "outputs": [
    {
     "data": {
      "text/plain": [
       "[1, 2, 3, 4, 7, 8, 9]"
      ]
     },
     "execution_count": 87,
     "metadata": {},
     "output_type": "execute_result"
    }
   ],
   "source": [
    "InsertionSort(insert_a)"
   ]
  },
  {
   "cell_type": "code",
   "execution_count": 88,
   "metadata": {},
   "outputs": [
    {
     "data": {
      "text/plain": [
       "[0]"
      ]
     },
     "execution_count": 88,
     "metadata": {},
     "output_type": "execute_result"
    }
   ],
   "source": [
    "list(range(1-1,-1,-1))"
   ]
  },
  {
   "cell_type": "code",
   "execution_count": 89,
   "metadata": {},
   "outputs": [
    {
     "data": {
      "text/plain": [
       "[2, 3, 4, 7, 8, 9]"
      ]
     },
     "execution_count": 89,
     "metadata": {},
     "output_type": "execute_result"
    }
   ],
   "source": [
    "insert_a[1:]"
   ]
  },
  {
   "cell_type": "code",
   "execution_count": null,
   "metadata": {},
   "outputs": [],
   "source": []
  },
  {
   "cell_type": "code",
   "execution_count": null,
   "metadata": {},
   "outputs": [],
   "source": []
  }
 ],
 "metadata": {
  "kernelspec": {
   "display_name": "Python 3",
   "language": "python",
   "name": "python3"
  },
  "language_info": {
   "codemirror_mode": {
    "name": "ipython",
    "version": 3
   },
   "file_extension": ".py",
   "mimetype": "text/x-python",
   "name": "python",
   "nbconvert_exporter": "python",
   "pygments_lexer": "ipython3",
   "version": "3.7.3"
  }
 },
 "nbformat": 4,
 "nbformat_minor": 4
}
