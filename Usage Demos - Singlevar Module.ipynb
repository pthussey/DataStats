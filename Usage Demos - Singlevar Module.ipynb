{
 "cells": [
  {
   "cell_type": "markdown",
   "id": "a5b7d6b9",
   "metadata": {},
   "source": [
    "# The DataStats Singlevar Module\n",
    "The datastats.singlevar module has various functions for analyzing and modeling univariate data. There are also some additional functions used in resampling data for a single variable and some other miscellaneous functions.\n",
    "\n",
    "This notebook will demonstrate how some of the functions in this module can be used."
   ]
  },
  {
   "cell_type": "code",
   "execution_count": 25,
   "id": "6baac31c",
   "metadata": {},
   "outputs": [],
   "source": [
    "%matplotlib inline\n",
    "\n",
    "import pandas as pd\n",
    "import numpy as np\n",
    "\n",
    "import matplotlib\n",
    "import matplotlib.pyplot as plt\n",
    "import seaborn as sns\n",
    "\n",
    "import datastats.singlevar as dssv\n",
    "from datastats.multivar import FitLine"
   ]
  },
  {
   "cell_type": "markdown",
   "id": "991f6b80",
   "metadata": {},
   "source": [
    "The seaborn 'penguins' data set will be used for these demonstrations."
   ]
  },
  {
   "cell_type": "code",
   "execution_count": 26,
   "id": "a5ac7d7f",
   "metadata": {
    "scrolled": true
   },
   "outputs": [
    {
     "data": {
      "text/html": [
       "<div>\n",
       "<style scoped>\n",
       "    .dataframe tbody tr th:only-of-type {\n",
       "        vertical-align: middle;\n",
       "    }\n",
       "\n",
       "    .dataframe tbody tr th {\n",
       "        vertical-align: top;\n",
       "    }\n",
       "\n",
       "    .dataframe thead th {\n",
       "        text-align: right;\n",
       "    }\n",
       "</style>\n",
       "<table border=\"1\" class=\"dataframe\">\n",
       "  <thead>\n",
       "    <tr style=\"text-align: right;\">\n",
       "      <th></th>\n",
       "      <th>species</th>\n",
       "      <th>island</th>\n",
       "      <th>bill_length_mm</th>\n",
       "      <th>bill_depth_mm</th>\n",
       "      <th>flipper_length_mm</th>\n",
       "      <th>body_mass_g</th>\n",
       "      <th>sex</th>\n",
       "    </tr>\n",
       "  </thead>\n",
       "  <tbody>\n",
       "    <tr>\n",
       "      <th>0</th>\n",
       "      <td>Adelie</td>\n",
       "      <td>Torgersen</td>\n",
       "      <td>39.1</td>\n",
       "      <td>18.7</td>\n",
       "      <td>181.0</td>\n",
       "      <td>3750.0</td>\n",
       "      <td>Male</td>\n",
       "    </tr>\n",
       "    <tr>\n",
       "      <th>1</th>\n",
       "      <td>Adelie</td>\n",
       "      <td>Torgersen</td>\n",
       "      <td>39.5</td>\n",
       "      <td>17.4</td>\n",
       "      <td>186.0</td>\n",
       "      <td>3800.0</td>\n",
       "      <td>Female</td>\n",
       "    </tr>\n",
       "    <tr>\n",
       "      <th>2</th>\n",
       "      <td>Adelie</td>\n",
       "      <td>Torgersen</td>\n",
       "      <td>40.3</td>\n",
       "      <td>18.0</td>\n",
       "      <td>195.0</td>\n",
       "      <td>3250.0</td>\n",
       "      <td>Female</td>\n",
       "    </tr>\n",
       "    <tr>\n",
       "      <th>4</th>\n",
       "      <td>Adelie</td>\n",
       "      <td>Torgersen</td>\n",
       "      <td>36.7</td>\n",
       "      <td>19.3</td>\n",
       "      <td>193.0</td>\n",
       "      <td>3450.0</td>\n",
       "      <td>Female</td>\n",
       "    </tr>\n",
       "    <tr>\n",
       "      <th>5</th>\n",
       "      <td>Adelie</td>\n",
       "      <td>Torgersen</td>\n",
       "      <td>39.3</td>\n",
       "      <td>20.6</td>\n",
       "      <td>190.0</td>\n",
       "      <td>3650.0</td>\n",
       "      <td>Male</td>\n",
       "    </tr>\n",
       "  </tbody>\n",
       "</table>\n",
       "</div>"
      ],
      "text/plain": [
       "  species     island  bill_length_mm  bill_depth_mm  flipper_length_mm  \\\n",
       "0  Adelie  Torgersen            39.1           18.7              181.0   \n",
       "1  Adelie  Torgersen            39.5           17.4              186.0   \n",
       "2  Adelie  Torgersen            40.3           18.0              195.0   \n",
       "4  Adelie  Torgersen            36.7           19.3              193.0   \n",
       "5  Adelie  Torgersen            39.3           20.6              190.0   \n",
       "\n",
       "   body_mass_g     sex  \n",
       "0       3750.0    Male  \n",
       "1       3800.0  Female  \n",
       "2       3250.0  Female  \n",
       "4       3450.0  Female  \n",
       "5       3650.0    Male  "
      ]
     },
     "execution_count": 26,
     "metadata": {},
     "output_type": "execute_result"
    }
   ],
   "source": [
    "df=sns.load_dataset(\"penguins\")\n",
    "df.dropna(inplace=True) # Just drop missing data for simplicity\n",
    "df.head()"
   ]
  },
  {
   "cell_type": "markdown",
   "id": "fdfc9bfe",
   "metadata": {},
   "source": [
    "# DiscreteRv\n",
    "\n",
    "This simple function makes it quick and easy to create a scipy discrete rv instance, which is used as a data container in many DataStats functions. It's also convenient to use on its own, as it has many useful methods for generating summary statistics about the data it holds, can be used in plotting the distribution of the data (eg. cdf), and can return probablility densities at specific values or vice-versa. See the documentation for more information: https://docs.scipy.org/doc/scipy/reference/generated/scipy.stats.rv_discrete.html"
   ]
  },
  {
   "cell_type": "code",
   "execution_count": 27,
   "id": "ad72954b",
   "metadata": {},
   "outputs": [
    {
     "data": {
      "text/plain": [
       "<scipy.stats._distn_infrastructure.rv_sample at 0x1afd859e940>"
      ]
     },
     "execution_count": 27,
     "metadata": {},
     "output_type": "execute_result"
    }
   ],
   "source": [
    "penguins_rv = dssv.DiscreteRv(df.bill_length_mm)\n",
    "penguins_rv"
   ]
  },
  {
   "cell_type": "code",
   "execution_count": 28,
   "id": "f35d019f",
   "metadata": {},
   "outputs": [
    {
     "name": "stdout",
     "output_type": "stream",
     "text": [
      "Mean : 43.99279279279279\n",
      "Std : 5.460450955071496\n",
      "95% CI : (35.0, 53.4)\n"
     ]
    }
   ],
   "source": [
    "# Generate some summary statistics\n",
    "print('Mean :', penguins_rv.mean())\n",
    "print('Std :', penguins_rv.std())\n",
    "print('95% CI :', penguins_rv.interval(0.95))"
   ]
  },
  {
   "cell_type": "code",
   "execution_count": 29,
   "id": "060b5a02",
   "metadata": {},
   "outputs": [
    {
     "data": {
      "image/png": "[encoded data removed]",
      "text/plain": [
       "<Figure size 576x432 with 1 Axes>"
      ]
     },
     "metadata": {
      "needs_background": "light"
     },
     "output_type": "display_data"
    }
   ],
   "source": [
    "# Plot a cdf of the data\n",
    "fig,ax = plt.subplots()\n",
    "fig.set_size_inches(8,6)\n",
    "\n",
    "ax.plot(penguins_rv.xk, penguins_rv.cdf(penguins_rv.xk))\n",
    "ax.axvline(penguins_rv.mean(), color='C1', lw=1.3) # mean, orange line\n",
    "\n",
    "ax.set_xlabel('Bill Length (mm)')\n",
    "ax.set_ylabel('Cumulative Density')\n",
    "\n",
    "plt.show()"
   ]
  },
  {
   "cell_type": "code",
   "execution_count": 30,
   "id": "4914e319",
   "metadata": {},
   "outputs": [
    {
     "data": {
      "text/plain": [
       "(0.2882882882882882, 40.1)"
      ]
     },
     "execution_count": 30,
     "metadata": {},
     "output_type": "execute_result"
    }
   ],
   "source": [
    "# Compute the cumulative probability density at a specific value and vice-versa\n",
    "penguins_rv.cdf(40), penguins_rv.ppf(0.289)"
   ]
  },
  {
   "cell_type": "markdown",
   "id": "bb8aeb36",
   "metadata": {},
   "source": [
    "## NormalCdfValues\n",
    "\n",
    "NormalCdfValues is one of a number of functions that can be used to produce values for plotting models of various types of distributions using the parameters for the distrubutions. These functions are just thin wrappers on existing scipy stats methods. There are functions to produce cdf or pdf values to be plotted for the normal, pareto, and exponential distributions.\n",
    "\n",
    "Plotting these models can help to see how closely data fits a particular distribution with particular parameters. As an example, let's look at how closely the distributions of bill lengths fits a normal distribution with the mean and standard deviation parameters obtained from the data."
   ]
  },
  {
   "cell_type": "code",
   "execution_count": 31,
   "id": "48fc0506",
   "metadata": {},
   "outputs": [],
   "source": [
    "xs, ps = dssv.NormalCdfValues(penguins_rv.mean(), penguins_rv.std(), n=101)"
   ]
  },
  {
   "cell_type": "code",
   "execution_count": 32,
   "id": "6adfa68f",
   "metadata": {},
   "outputs": [
    {
     "data": {
      "image/png": "[encoded data removed]",
      "text/plain": [
       "<Figure size 576x432 with 1 Axes>"
      ]
     },
     "metadata": {
      "needs_background": "light"
     },
     "output_type": "display_data"
    }
   ],
   "source": [
    "fig,ax = plt.subplots()\n",
    "fig.set_size_inches(8,6)\n",
    "\n",
    "ax.plot(xs, ps, label='Model')\n",
    "ax.plot(penguins_rv.xk, penguins_rv.cdf(penguins_rv.xk), label='Data')\n",
    "\n",
    "# Add a line for the mean\n",
    "ax.axvline(penguins_rv.mean(), color='C2', lw=1.3, label='Mean')\n",
    "\n",
    "# Add lines for one standard deviation from the mean\n",
    "ax.axvline(penguins_rv.interval(68/100)[0], color='C4', lw=1.3)\n",
    "ax.axvline(penguins_rv.interval(68/100)[1], color='C4', lw=1.3, label='CI (1 std)')\n",
    "\n",
    "ax.legend()\n",
    "\n",
    "plt.show()"
   ]
  },
  {
   "cell_type": "markdown",
   "id": "821e4d94",
   "metadata": {},
   "source": [
    "In this plot we can see significant deviations between the data and the model. This data also appears to be multimodal which indicates that we potentially have different groups within the data we need to look at separately.\n",
    "\n",
    "We can use a seaborn catplot to look at different groups within the data."
   ]
  },
  {
   "cell_type": "code",
   "execution_count": 33,
   "id": "c5b79a51",
   "metadata": {},
   "outputs": [
    {
     "data": {
      "text/plain": [
       "<seaborn.axisgrid.FacetGrid at 0x1afd97c4400>"
      ]
     },
     "execution_count": 33,
     "metadata": {},
     "output_type": "execute_result"
    },
    {
     "data": {
      "image/png": "[encoded data removed]",
      "text/plain": [
       "<Figure size 432.125x360 with 1 Axes>"
      ]
     },
     "metadata": {
      "needs_background": "light"
     },
     "output_type": "display_data"
    }
   ],
   "source": [
    "sns.catplot(x='species', y='bill_length_mm', hue='sex', data=df)"
   ]
  },
  {
   "cell_type": "markdown",
   "id": "2aaca9d2",
   "metadata": {},
   "source": [
    "Let's try the same plot but looking at just the Adelie species of penguin."
   ]
  },
  {
   "cell_type": "code",
   "execution_count": 34,
   "id": "07136969",
   "metadata": {},
   "outputs": [
    {
     "data": {
      "text/plain": [
       "146"
      ]
     },
     "execution_count": 34,
     "metadata": {},
     "output_type": "execute_result"
    }
   ],
   "source": [
    "adelie_bill_length = df[df.species == 'Adelie'].bill_length_mm\n",
    "len(adelie_bill_length)"
   ]
  },
  {
   "cell_type": "code",
   "execution_count": 35,
   "id": "0e00175d",
   "metadata": {},
   "outputs": [
    {
     "name": "stdout",
     "output_type": "stream",
     "text": [
      "Mean : 38.82397260273972\n",
      "Std : 2.6534625813232458\n"
     ]
    }
   ],
   "source": [
    "adelie_rv = dssv.DiscreteRv(adelie_bill_length)\n",
    "print('Mean :', adelie_rv.mean())\n",
    "print('Std :', adelie_rv.std())"
   ]
  },
  {
   "cell_type": "code",
   "execution_count": 36,
   "id": "5da97b8e",
   "metadata": {},
   "outputs": [],
   "source": [
    "xs, ps = dssv.NormalCdfValues(adelie_rv.mean(), adelie_rv.std(), n=101)"
   ]
  },
  {
   "cell_type": "code",
   "execution_count": 37,
   "id": "99a86791",
   "metadata": {},
   "outputs": [
    {
     "data": {
      "image/png": "[encoded data removed]",
      "text/plain": [
       "<Figure size 576x432 with 1 Axes>"
      ]
     },
     "metadata": {
      "needs_background": "light"
     },
     "output_type": "display_data"
    }
   ],
   "source": [
    "fig,ax = plt.subplots()\n",
    "fig.set_size_inches(8,6)\n",
    "\n",
    "ax.plot(xs, ps, label='Model')\n",
    "ax.plot(adelie_rv.xk, adelie_rv.cdf(adelie_rv.xk), label='Data')\n",
    "\n",
    "# Add a line for the mean\n",
    "ax.axvline(adelie_rv.mean(), color='C2', lw=1.3, label='Mean')\n",
    "\n",
    "# Add lines for one standard deviation from the mean\n",
    "ax.axvline(adelie_rv.interval(68/100)[0], color='C4', lw=1.3)\n",
    "ax.axvline(adelie_rv.interval(68/100)[1], color='C4', lw=1.3, label='CI (1 std)')\n",
    "\n",
    "ax.legend()\n",
    "\n",
    "plt.show()"
   ]
  },
  {
   "cell_type": "markdown",
   "id": "295133ce",
   "metadata": {},
   "source": [
    "That's a much better fit. There are still some slight deviations from normal that could likely be explained by differences in bill length between male and female penguins."
   ]
  },
  {
   "cell_type": "markdown",
   "id": "e9b65861",
   "metadata": {},
   "source": [
    "## NormalProbabilityValues\n",
    "\n",
    "Another way to visualize fit with a normal distribution is with a normal probability plot. The NormalProbabilityValues function produces the values to use to make this kind of plot.\n",
    "\n",
    "There is also a function called NormProbPlot in the DataStats plotting module that uses this function to create one of these plots using a single function.\n",
    "\n",
    "I'll demonstrate this using the same two examples as above: distribution of bill length for all penguins and then just for the Adelie species."
   ]
  },
  {
   "cell_type": "code",
   "execution_count": 38,
   "id": "357867f6",
   "metadata": {},
   "outputs": [],
   "source": [
    "sorted_norm, sorted_data = dssv.NormalProbabilityValues(df.bill_length_mm)"
   ]
  },
  {
   "cell_type": "code",
   "execution_count": 39,
   "id": "39de0efe",
   "metadata": {},
   "outputs": [
    {
     "data": {
      "image/png": "[encoded data removed]",
      "text/plain": [
       "<Figure size 576x432 with 1 Axes>"
      ]
     },
     "metadata": {
      "needs_background": "light"
     },
     "output_type": "display_data"
    }
   ],
   "source": [
    "fig,ax = plt.subplots()\n",
    "fig.set_size_inches(8,6)\n",
    "\n",
    "# Get the values to use to draw a fit line\n",
    "fit_xs, fit_ys = FitLine([min(sorted_norm),max(sorted_norm)], penguins_rv.mean(), penguins_rv.std())\n",
    "\n",
    "ax.plot(fit_xs, fit_ys, color='0.8')\n",
    "ax.plot(sorted_norm, sorted_data)\n",
    "\n",
    "ax.set_ylim(25,65)\n",
    "\n",
    "plt.show()"
   ]
  },
  {
   "cell_type": "markdown",
   "id": "6b59a0b3",
   "metadata": {},
   "source": [
    "In a normal probability plot, a straight line indicates that the data is normally distributed. This plot above is fairly close to linear, but it has a bit of an S-shape suggesting that it is in fact multimodal. Let's see if the line gets closer to linear if we create the same plot for just the Adelie species."
   ]
  },
  {
   "cell_type": "code",
   "execution_count": 40,
   "id": "ac617256",
   "metadata": {},
   "outputs": [],
   "source": [
    "sorted_norm, sorted_data = dssv.NormalProbabilityValues(adelie_bill_length)"
   ]
  },
  {
   "cell_type": "code",
   "execution_count": 41,
   "id": "f7b59660",
   "metadata": {
    "scrolled": false
   },
   "outputs": [
    {
     "data": {
      "image/png": "[encoded data removed]",
      "text/plain": [
       "<Figure size 576x432 with 1 Axes>"
      ]
     },
     "metadata": {
      "needs_background": "light"
     },
     "output_type": "display_data"
    }
   ],
   "source": [
    "fig,ax = plt.subplots()\n",
    "fig.set_size_inches(8,6)\n",
    "\n",
    "# Get the values to use to draw a fit line\n",
    "fit_xs, fit_ys = FitLine([min(sorted_norm),max(sorted_norm)], adelie_rv.mean(), adelie_rv.std())\n",
    "\n",
    "ax.plot(fit_xs, fit_ys, color='0.8')\n",
    "ax.plot(sorted_norm, sorted_data)\n",
    "\n",
    "ax.set_ylim(25,65)\n",
    "\n",
    "plt.show()"
   ]
  },
  {
   "cell_type": "markdown",
   "id": "9f5f3be1",
   "metadata": {},
   "source": [
    "That is very close to linear so we can confidently say that this data is normally distributed."
   ]
  },
  {
   "cell_type": "markdown",
   "id": "f3714e77",
   "metadata": {},
   "source": [
    "## RvPmfDiffs\n",
    "\n",
    "The RvPmfDiffs function computes a shared range of values and the percentage point differences between the data for two different groups of a single discrete numerical variable. The resulting differences can then be plotted to show how the distributions of the two groups compare.  \n",
    "\n",
    "In the example below I will make up some age data for two groups and then plot the pmf differences."
   ]
  },
  {
   "cell_type": "code",
   "execution_count": 42,
   "id": "0321e129",
   "metadata": {},
   "outputs": [],
   "source": [
    "# Make age data with group1 being a bit higher\n",
    "group1_ages = np.random.normal(41,2,size=200).astype(int)\n",
    "group2_ages = np.random.normal(40,2,size=200).astype(int)"
   ]
  },
  {
   "cell_type": "code",
   "execution_count": 43,
   "id": "e834eb68",
   "metadata": {},
   "outputs": [],
   "source": [
    "shared_xs, diffs = dssv.RvPmfDiffs(group1_ages, group2_ages)"
   ]
  },
  {
   "cell_type": "code",
   "execution_count": 44,
   "id": "f3320586",
   "metadata": {},
   "outputs": [
    {
     "data": {
      "image/png": "[encoded data removed]",
      "text/plain": [
       "<Figure size 576x432 with 1 Axes>"
      ]
     },
     "metadata": {
      "needs_background": "light"
     },
     "output_type": "display_data"
    }
   ],
   "source": [
    "fig,ax = plt.subplots()\n",
    "fig.set_size_inches(8,6)\n",
    "\n",
    "sns.barplot(x=shared_xs, y=diffs, ax=ax, color='C0')\n",
    "ax.set_title('PMF Differences Between Ages (Group 1 - Group 2)')\n",
    "ax.set_xlabel('Age')\n",
    "ax.set_ylabel('PMF Percentage Point Difference')\n",
    "\n",
    "plt.show()"
   ]
  },
  {
   "cell_type": "markdown",
   "id": "1f98debe",
   "metadata": {},
   "source": [
    "Since Group 2 pmf values are subtracted from those of Group 1, in the above plot it can be seen that Group 1 has more people over the age of 40, and Group 2 has more people under the age of 40."
   ]
  },
  {
   "cell_type": "markdown",
   "id": "e280ae24",
   "metadata": {},
   "source": [
    "## SummarizeEstimates\n",
    "SummarizeEstimates computes the mean, standard deviation (std error), and a confidence interval for a sampling distribution of supplied estimates (statistics produced by resampling).  \n",
    "In this example I will use the data for bill length of adelie penguins from above."
   ]
  },
  {
   "cell_type": "code",
   "execution_count": 45,
   "id": "25e3d6cc",
   "metadata": {
    "scrolled": true
   },
   "outputs": [
    {
     "data": {
      "text/plain": [
       "0      39.1\n",
       "1      39.5\n",
       "2      40.3\n",
       "4      36.7\n",
       "5      39.3\n",
       "       ... \n",
       "147    36.6\n",
       "148    36.0\n",
       "149    37.8\n",
       "150    36.0\n",
       "151    41.5\n",
       "Name: bill_length_mm, Length: 146, dtype: float64"
      ]
     },
     "execution_count": 45,
     "metadata": {},
     "output_type": "execute_result"
    }
   ],
   "source": [
    "adelie_bill_length"
   ]
  },
  {
   "cell_type": "markdown",
   "id": "6be59fb1",
   "metadata": {},
   "source": [
    "First I'll build a sampling distribution of estimates for the mean bill length."
   ]
  },
  {
   "cell_type": "code",
   "execution_count": 46,
   "id": "e82f0e28",
   "metadata": {},
   "outputs": [],
   "source": [
    "iters = 1000\n",
    "mean_estimates = []\n",
    "\n",
    "for _ in range(iters):\n",
    "    sample = adelie_bill_length.sample(n=len(adelie_bill_length), replace=True)\n",
    "    mean = sample.mean()\n",
    "    mean_estimates.append(mean)"
   ]
  },
  {
   "cell_type": "markdown",
   "id": "3f97cb76",
   "metadata": {},
   "source": [
    "Then I'll use SummarizeEstimates to get the mean, standard error, and CI for the estimates (sampling distribution)."
   ]
  },
  {
   "cell_type": "code",
   "execution_count": 47,
   "id": "56f2f2e5",
   "metadata": {},
   "outputs": [
    {
     "data": {
      "text/plain": [
       "(38.833017123287675,\n",
       " 0.21648586804574682,\n",
       " (38.38561643835615, 39.23904109589042))"
      ]
     },
     "execution_count": 47,
     "metadata": {},
     "output_type": "execute_result"
    }
   ],
   "source": [
    "mean, std, CI = dssv.SummarizeEstimates(mean_estimates, conf_int=0.95)\n",
    "mean, std, CI"
   ]
  },
  {
   "cell_type": "markdown",
   "id": "988b33f3",
   "metadata": {},
   "source": [
    "## PValueFromEstimates\n",
    "This function generates a pvalue from a sampling distribution (sequence of estimates) for a given test statistic."
   ]
  },
  {
   "cell_type": "code",
   "execution_count": 48,
   "id": "49b8b24c",
   "metadata": {},
   "outputs": [
    {
     "data": {
      "text/plain": [
       "0.02900000000000002"
      ]
     },
     "execution_count": 48,
     "metadata": {},
     "output_type": "execute_result"
    }
   ],
   "source": [
    "dssv.PValueFromEstimates(mean_estimates, test_statistic=38.4, tail='left')"
   ]
  }
 ],
 "metadata": {
  "kernelspec": {
   "display_name": "Python [conda env:root] *",
   "language": "python",
   "name": "conda-root-py"
  },
  "language_info": {
   "codemirror_mode": {
    "name": "ipython",
    "version": 3
   },
   "file_extension": ".py",
   "mimetype": "text/x-python",
   "name": "python",
   "nbconvert_exporter": "python",
   "pygments_lexer": "ipython3",
   "version": "3.9.5"
  }
 },
 "nbformat": 4,
 "nbformat_minor": 5
}
