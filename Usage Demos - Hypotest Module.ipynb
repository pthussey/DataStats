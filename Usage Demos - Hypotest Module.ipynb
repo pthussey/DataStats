{
 "cells": [
  {
   "cell_type": "markdown",
   "id": "fcd27ef4",
   "metadata": {},
   "source": [
    "# The DataStats Hypotest Module\n",
    "The datastats.hypotest module contains classes for conducting various types of hypothesis tests \n",
    "using non-parametric computational methods, inspired by the methods used in Allen Downey's book Think Stats.  \n",
    "\n",
    "These classes all have the following attributes and methods.\n",
    "\n",
    "#### Attributes\n",
    "data:  \n",
    "The original data\n",
    "\n",
    "test_stat:  \n",
    "The test statistic used in the hypothesis test\n",
    "\n",
    "rv:   \n",
    "A scipy.stats discrete_rv object (random variable) \n",
    "that represents the sampling distribution.  \n",
    "This object provides numerous useful attributes and methods\n",
    "See the discrete_rv documentation for details\n",
    "\n",
    "#### Methods\n",
    "PValue():  \n",
    "Computes the p-value for the hypothesis test\n",
    "\n",
    "PlotCdf():\n",
    "Draws a Cdf of the distribution with a vertical line at the test statcan produce p-values\n",
    "\n",
    "Power(alpha=0.05, num_runs=1000):  \n",
    "Computes the power of the hypothesis test at a given significance level (alpha)\n",
    "This method simulates resampling from the population and then runs the same hypothesis test used to compute the p-value a number of times equal to num_runs. The returned result is the proportion of times that the test returned a statistically significant result at the given alpha.  \n",
    "Be advised that this method does a lot of computations so it does take some time to run at higher numbers of iterations (num_runs).\n",
    "\n",
    "MinMaxTestStat():  \n",
    "Returns the smallest and largest test statistics in the sampling distribution\n",
    "\n",
    "There are also some additional functions included in this module for chi square and ANOVA post-hoc analysis.\n",
    "\n",
    "It's also possible to use the base HypothesisTest class as a parent class to build further hypothesis test classes in a similar manner to those included in this module."
   ]
  },
  {
   "cell_type": "code",
   "execution_count": 1,
   "id": "7df2284e",
   "metadata": {},
   "outputs": [],
   "source": [
    "%matplotlib inline\n",
    "\n",
    "import pandas as pd\n",
    "import numpy as np\n",
    "import scipy.stats as stats\n",
    "\n",
    "from statsmodels.stats.multicomp import pairwise_tukeyhsd\n",
    "\n",
    "import matplotlib\n",
    "import matplotlib.pyplot as plt\n",
    "import seaborn as sns\n",
    "\n",
    "import datastats.hypotest as dsht\n",
    "from datastats.singlevar import ListsToDataFrame"
   ]
  },
  {
   "cell_type": "markdown",
   "id": "d43ad9e6",
   "metadata": {},
   "source": [
    "For the first few examples I will use the seaborn 'penguins' dataset, and reduce to just a subset of this data: the \"Adelie\" species of penguin."
   ]
  },
  {
   "cell_type": "code",
   "execution_count": 2,
   "id": "ff5987df",
   "metadata": {},
   "outputs": [
    {
     "data": {
      "text/html": [
       "<div>\n",
       "<style scoped>\n",
       "    .dataframe tbody tr th:only-of-type {\n",
       "        vertical-align: middle;\n",
       "    }\n",
       "\n",
       "    .dataframe tbody tr th {\n",
       "        vertical-align: top;\n",
       "    }\n",
       "\n",
       "    .dataframe thead th {\n",
       "        text-align: right;\n",
       "    }\n",
       "</style>\n",
       "<table border=\"1\" class=\"dataframe\">\n",
       "  <thead>\n",
       "    <tr style=\"text-align: right;\">\n",
       "      <th></th>\n",
       "      <th>species</th>\n",
       "      <th>island</th>\n",
       "      <th>bill_length_mm</th>\n",
       "      <th>bill_depth_mm</th>\n",
       "      <th>flipper_length_mm</th>\n",
       "      <th>body_mass_g</th>\n",
       "      <th>sex</th>\n",
       "    </tr>\n",
       "  </thead>\n",
       "  <tbody>\n",
       "    <tr>\n",
       "      <th>0</th>\n",
       "      <td>Adelie</td>\n",
       "      <td>Torgersen</td>\n",
       "      <td>39.1</td>\n",
       "      <td>18.7</td>\n",
       "      <td>181.0</td>\n",
       "      <td>3750.0</td>\n",
       "      <td>Male</td>\n",
       "    </tr>\n",
       "    <tr>\n",
       "      <th>1</th>\n",
       "      <td>Adelie</td>\n",
       "      <td>Torgersen</td>\n",
       "      <td>39.5</td>\n",
       "      <td>17.4</td>\n",
       "      <td>186.0</td>\n",
       "      <td>3800.0</td>\n",
       "      <td>Female</td>\n",
       "    </tr>\n",
       "    <tr>\n",
       "      <th>2</th>\n",
       "      <td>Adelie</td>\n",
       "      <td>Torgersen</td>\n",
       "      <td>40.3</td>\n",
       "      <td>18.0</td>\n",
       "      <td>195.0</td>\n",
       "      <td>3250.0</td>\n",
       "      <td>Female</td>\n",
       "    </tr>\n",
       "    <tr>\n",
       "      <th>4</th>\n",
       "      <td>Adelie</td>\n",
       "      <td>Torgersen</td>\n",
       "      <td>36.7</td>\n",
       "      <td>19.3</td>\n",
       "      <td>193.0</td>\n",
       "      <td>3450.0</td>\n",
       "      <td>Female</td>\n",
       "    </tr>\n",
       "    <tr>\n",
       "      <th>5</th>\n",
       "      <td>Adelie</td>\n",
       "      <td>Torgersen</td>\n",
       "      <td>39.3</td>\n",
       "      <td>20.6</td>\n",
       "      <td>190.0</td>\n",
       "      <td>3650.0</td>\n",
       "      <td>Male</td>\n",
       "    </tr>\n",
       "  </tbody>\n",
       "</table>\n",
       "</div>"
      ],
      "text/plain": [
       "  species     island  bill_length_mm  bill_depth_mm  flipper_length_mm  \\\n",
       "0  Adelie  Torgersen            39.1           18.7              181.0   \n",
       "1  Adelie  Torgersen            39.5           17.4              186.0   \n",
       "2  Adelie  Torgersen            40.3           18.0              195.0   \n",
       "4  Adelie  Torgersen            36.7           19.3              193.0   \n",
       "5  Adelie  Torgersen            39.3           20.6              190.0   \n",
       "\n",
       "   body_mass_g     sex  \n",
       "0       3750.0    Male  \n",
       "1       3800.0  Female  \n",
       "2       3250.0  Female  \n",
       "4       3450.0  Female  \n",
       "5       3650.0    Male  "
      ]
     },
     "execution_count": 2,
     "metadata": {},
     "output_type": "execute_result"
    }
   ],
   "source": [
    "penguins_df=sns.load_dataset(\"penguins\")\n",
    "penguins_df.dropna(inplace=True)\n",
    "adelie_df = penguins_df[penguins_df.species == 'Adelie']\n",
    "adelie_df.head()"
   ]
  },
  {
   "cell_type": "markdown",
   "id": "cd7996a9",
   "metadata": {},
   "source": [
    "## HTMean\n",
    "\n",
    "This class is used to run a hypothesis test using a known average mean.\n",
    "\n",
    "For this demonstration, let's assume that we have a known average body mass for Adelie penguins of 3700 grams. Then we measured the body mass of a group of Adelie penguins from one island and we want to check if the body mass of these penguins is larger than the known average. In this kind of situation, when we only have an already known test statistic to compare with our data, we can use HTMean to run our hypothesis test.\n",
    "\n",
    "HTMean is only capable of running one-sided hypothesis tests."
   ]
  },
  {
   "cell_type": "code",
   "execution_count": 3,
   "id": "a79aa632",
   "metadata": {},
   "outputs": [
    {
     "data": {
      "text/plain": [
       "0.18500000000000014"
      ]
     },
     "execution_count": 3,
     "metadata": {},
     "output_type": "execute_result"
    }
   ],
   "source": [
    "# For this demonstration we will use the body masses of Adelie penguins from just Torgersen island.\n",
    "adelie_mass_HTMean = dsht.HTMean(data=adelie_df[adelie_df.island == 'Torgersen'].body_mass_g, \n",
    "                                 test_stat=3650, \n",
    "                                 tail='left', \n",
    "                                 iters=1000)\n",
    "adelie_mass_HTMean.PValue()"
   ]
  },
  {
   "cell_type": "markdown",
   "id": "0a912dac",
   "metadata": {},
   "source": [
    "This p-value tells us that the difference between the previously known average Adelie penguin body mass and the body masses of the Adelie penguins on this island is not statistically significant at any normally acceptable significance level."
   ]
  },
  {
   "cell_type": "markdown",
   "id": "bd14c903",
   "metadata": {},
   "source": [
    "## HTDiffMeansH0\n",
    "\n",
    "This class is used to run a difference of means hypothesis test. The 'H0' in this class name means that the function uses random resampling of pooled data to build a sampling distribution of the null hypothesis, and the test statistic from the original data is tested against that.\n",
    "\n",
    "HTDiffMeansH0 can run both one-sided and two-sided hypothesis tests.\n",
    "\n",
    "For this demonstration we will check to see if there is a statistically significant difference in flipper length between male and female Adelie penguins in this dataset. \n",
    "\n",
    "From a plot of the data, it looks like there is a potentially significant difference between the flipper lengths of the male and female penguins."
   ]
  },
  {
   "cell_type": "code",
   "execution_count": 4,
   "id": "ff524ebe",
   "metadata": {},
   "outputs": [
    {
     "data": {
      "text/plain": [
       "<seaborn.axisgrid.FacetGrid at 0x1fa70f7efe0>"
      ]
     },
     "execution_count": 4,
     "metadata": {},
     "output_type": "execute_result"
    },
    {
     "data": {
      "image/png": "[encoded data removed]",
      "text/plain": [
       "<Figure size 500x500 with 1 Axes>"
      ]
     },
     "metadata": {},
     "output_type": "display_data"
    }
   ],
   "source": [
    "sns.catplot(x='sex', y='flipper_length_mm', data=adelie_df)"
   ]
  },
  {
   "cell_type": "markdown",
   "id": "96c68da0",
   "metadata": {},
   "source": [
    "Let's compute the difference in mean flipper length of male and female Adelie penguins in the dataset. This will be the test statistic in our hypothesis test."
   ]
  },
  {
   "cell_type": "code",
   "execution_count": 5,
   "id": "9487a707",
   "metadata": {},
   "outputs": [
    {
     "data": {
      "text/plain": [
       "4.616438356164366"
      ]
     },
     "execution_count": 5,
     "metadata": {},
     "output_type": "execute_result"
    }
   ],
   "source": [
    "abs(adelie_df[adelie_df.sex == 'Male'].flipper_length_mm.mean() - \n",
    "    adelie_df[adelie_df.sex == 'Female'].flipper_length_mm.mean())"
   ]
  },
  {
   "cell_type": "markdown",
   "id": "42644609",
   "metadata": {},
   "source": [
    "Let's now run a hypothesis test using to HTDiffMeansH0 to check whether this difference is statistically significant."
   ]
  },
  {
   "cell_type": "code",
   "execution_count": 6,
   "id": "66f26d94",
   "metadata": {},
   "outputs": [
    {
     "data": {
      "text/plain": [
       "0.0"
      ]
     },
     "execution_count": 6,
     "metadata": {},
     "output_type": "execute_result"
    }
   ],
   "source": [
    "male_flipper_length = adelie_df[adelie_df.sex == 'Male'].flipper_length_mm\n",
    "female_flipper_length = adelie_df[adelie_df.sex == 'Female'].flipper_length_mm\n",
    "\n",
    "flipper_length_HTDiffMean_H0 = dsht.HTDiffMeansH0(data=(male_flipper_length, female_flipper_length), \n",
    "                                                  onesided=False, \n",
    "                                                  tail='right', \n",
    "                                                  iters=1000)\n",
    "flipper_length_HTDiffMean_H0.PValue()"
   ]
  },
  {
   "cell_type": "markdown",
   "id": "1b28bea5",
   "metadata": {},
   "source": [
    "We obtained a result of 0 for the p-value, which means that a value as high as our test statistic was never reached in any of the 1000 iterations run to build the sampling distribution. This can visualized using the PlotCdf method of HTDiffMeansH0."
   ]
  },
  {
   "cell_type": "code",
   "execution_count": 7,
   "id": "cf71fb4e",
   "metadata": {},
   "outputs": [
    {
     "data": {
      "image/png": "[encoded data removed]",
      "text/plain": [
       "<Figure size 640x480 with 1 Axes>"
      ]
     },
     "metadata": {},
     "output_type": "display_data"
    }
   ],
   "source": [
    "flipper_length_HTDiffMean_H0.PlotCdf()"
   ]
  },
  {
   "cell_type": "markdown",
   "id": "000403b5",
   "metadata": {},
   "source": [
    "If we want to see how close the test stats produced in our iterations came to reaching the actual test stat, we can use the MinMaxTestStat method."
   ]
  },
  {
   "cell_type": "code",
   "execution_count": 8,
   "id": "62fefb10",
   "metadata": {},
   "outputs": [
    {
     "data": {
      "text/plain": [
       "(0.013698630136985912, 3.9041095890410986)"
      ]
     },
     "execution_count": 8,
     "metadata": {},
     "output_type": "execute_result"
    }
   ],
   "source": [
    "flipper_length_HTDiffMean_H0.MinMaxTestStat()"
   ]
  },
  {
   "cell_type": "markdown",
   "id": "2755e8d4",
   "metadata": {},
   "source": [
    "We can also now run the Power method of HTDiffMeansH0 to check this test's ability to correctly reject the null hypothesis. We will reduce the number of runs from the default of 1000 to 100 in order to decrease the computation time."
   ]
  },
  {
   "cell_type": "code",
   "execution_count": 9,
   "id": "1196be80",
   "metadata": {},
   "outputs": [
    {
     "data": {
      "text/plain": [
       "1.0"
      ]
     },
     "execution_count": 9,
     "metadata": {},
     "output_type": "execute_result"
    }
   ],
   "source": [
    "flipper_length_HTDiffMean_H0.Power(alpha=0.05, num_runs=100)"
   ]
  },
  {
   "cell_type": "markdown",
   "id": "a03d046c",
   "metadata": {},
   "source": [
    "The power of this test is nearly 1.0, meaning that it correctly rejects the null nearly 100% of the time, which is far above the generally accepted 0.8 threshold."
   ]
  },
  {
   "cell_type": "markdown",
   "id": "21198141",
   "metadata": {},
   "source": [
    "## HTDiffMeansHa\n",
    "\n",
    "Like HTDiffMeansH0, this class is also used to run difference of means hypothesis tests, except it uses random resampling of the separated groups (no pooling) to build a sampling distribution of the alternative hypothesis. For this class, a test statistic for the null hypothesis must be provided by the user. For example, if our null hypothesis is no difference between the groups, then a test stat of 0 can be provided.\n",
    "\n",
    "HTDiffMeansHa is only capable of running one-sided hypothesis tests."
   ]
  },
  {
   "cell_type": "code",
   "execution_count": 10,
   "id": "6aee4d5c",
   "metadata": {},
   "outputs": [
    {
     "data": {
      "text/plain": [
       "0.0"
      ]
     },
     "execution_count": 10,
     "metadata": {},
     "output_type": "execute_result"
    }
   ],
   "source": [
    "flipper_length_HTDiffMean_Ha = dsht.HTDiffMeansHa(data=(male_flipper_length, female_flipper_length), \n",
    "                                                  test_stat=0, \n",
    "                                                  tail='left', \n",
    "                                                  iters=1000)\n",
    "flipper_length_HTDiffMean_Ha.PValue()"
   ]
  },
  {
   "cell_type": "markdown",
   "id": "32a92ecb",
   "metadata": {},
   "source": [
    "This test also gives us a p-value of 0, as we would expect.\n",
    "\n",
    "The cdf plot is a different shape compared to that shown above in the HTDiffMeansH0 example because this is a one-sided test, and we can see that our test stat is at 0, representing the null hypothesis of no difference."
   ]
  },
  {
   "cell_type": "code",
   "execution_count": 11,
   "id": "41a90fa5",
   "metadata": {},
   "outputs": [
    {
     "data": {
      "image/png": "[encoded data removed]",
      "text/plain": [
       "<Figure size 640x480 with 1 Axes>"
      ]
     },
     "metadata": {},
     "output_type": "display_data"
    }
   ],
   "source": [
    "flipper_length_HTDiffMean_Ha.PlotCdf()"
   ]
  },
  {
   "cell_type": "markdown",
   "id": "a7b799db",
   "metadata": {},
   "source": [
    "## HTCorrelationH0\n",
    "\n",
    "The HTCorrelationH0 class is used to conduct correlation hypothesis tests. The 'H0' in this class name means that the function uses random permutation to simulate no correlation and build a sampling distribution of the null hypothesis. The test statistic from the original data is then tested against that.\n",
    "\n",
    "Note that there is also an HTCorrelationHa class in the hypotest module, but this will not be demonstrated here.\n",
    "\n",
    "For this demostration we will look at whether or not there is a statistically significant correlation between bill length and flipper length in the Adelie penguins in our dataset.\n",
    "\n",
    "First we can check out what the data looks like in a scatterplot."
   ]
  },
  {
   "cell_type": "code",
   "execution_count": 12,
   "id": "8fa7e4e4",
   "metadata": {},
   "outputs": [
    {
     "data": {
      "text/plain": [
       "<AxesSubplot: xlabel='bill_length_mm', ylabel='flipper_length_mm'>"
      ]
     },
     "execution_count": 12,
     "metadata": {},
     "output_type": "execute_result"
    },
    {
     "data": {
      "image/png": "[encoded data removed]",
      "text/plain": [
       "<Figure size 640x480 with 1 Axes>"
      ]
     },
     "metadata": {},
     "output_type": "display_data"
    }
   ],
   "source": [
    "sns.scatterplot(x=adelie_df.bill_length_mm, y=adelie_df.flipper_length_mm, data=adelie_df)"
   ]
  },
  {
   "cell_type": "markdown",
   "id": "09ff04ff",
   "metadata": {},
   "source": [
    "For comparison with a parametric calculation of the pvalue, let's first run pearsonr from scipy stats."
   ]
  },
  {
   "cell_type": "code",
   "execution_count": 13,
   "id": "f4f9be72",
   "metadata": {
    "scrolled": true
   },
   "outputs": [
    {
     "name": "stdout",
     "output_type": "stream",
     "text": [
      "r = 0.3322739620956147 pvalue = 4.1780282593645075e-05\n"
     ]
    }
   ],
   "source": [
    "pearsonr_results = stats.pearsonr(adelie_df.bill_length_mm, adelie_df.flipper_length_mm)\n",
    "print ('r =', pearsonr_results[0], 'pvalue =', pearsonr_results[1])"
   ]
  },
  {
   "cell_type": "markdown",
   "id": "bac9b449",
   "metadata": {},
   "source": [
    "Let's now run HTCorrelationH0, using the pearson method for computing the correlation. We can change the method to spearman also if we want to."
   ]
  },
  {
   "cell_type": "code",
   "execution_count": 14,
   "id": "56f91445",
   "metadata": {},
   "outputs": [
    {
     "name": "stdout",
     "output_type": "stream",
     "text": [
      "r = 0.3322739620956147 pvalue = 0.0\n"
     ]
    }
   ],
   "source": [
    "length_depth_corr_H0 = dsht.HTCorrelationH0(data=(adelie_df.bill_length_mm, adelie_df.flipper_length_mm),\n",
    "                                            onesided=False,\n",
    "                                            tail='right',\n",
    "                                            iters=1000,\n",
    "                                            method='pearson')\n",
    "print('r =', length_depth_corr_H0.test_stat, 'pvalue =',length_depth_corr_H0.PValue())"
   ]
  },
  {
   "cell_type": "markdown",
   "id": "af1770d5",
   "metadata": {},
   "source": [
    "We get a pvalue of 0 here which agrees with the very low pvalue returned from scipy stats pearsonr.\n",
    "\n",
    "The r value tells us that the correlation is not very strong, which can be seen in the scatterplot as well. However our low pvalue tells us that, although the correlation is not strong, it is statistically significant.\n",
    "\n",
    "We can also run MinMaxTestStat and plot our sampling distribution, as we did in previous examples."
   ]
  },
  {
   "cell_type": "code",
   "execution_count": 15,
   "id": "ea4a6570",
   "metadata": {},
   "outputs": [
    {
     "data": {
      "text/plain": [
       "(1.604931969718948e-05, 0.24018187758309364)"
      ]
     },
     "execution_count": 15,
     "metadata": {},
     "output_type": "execute_result"
    }
   ],
   "source": [
    "length_depth_corr_H0.MinMaxTestStat()"
   ]
  },
  {
   "cell_type": "code",
   "execution_count": 16,
   "id": "26f67ed7",
   "metadata": {},
   "outputs": [
    {
     "data": {
      "image/png": "[encoded data removed]",
      "text/plain": [
       "<Figure size 640x480 with 1 Axes>"
      ]
     },
     "metadata": {},
     "output_type": "display_data"
    }
   ],
   "source": [
    "length_depth_corr_H0.PlotCdf()"
   ]
  },
  {
   "cell_type": "code",
   "execution_count": 17,
   "id": "46ea9281",
   "metadata": {},
   "outputs": [
    {
     "data": {
      "text/plain": [
       "0.96"
      ]
     },
     "execution_count": 17,
     "metadata": {},
     "output_type": "execute_result"
    }
   ],
   "source": [
    "length_depth_corr_H0.Power(alpha=0.05, num_runs=100)"
   ]
  },
  {
   "cell_type": "markdown",
   "id": "20a23e05",
   "metadata": {},
   "source": [
    "For this test as well, the power is close to 1.0 so it's able to correctly reject the null hypothesis nearly 100% of the time. "
   ]
  },
  {
   "cell_type": "markdown",
   "id": "83cc2f6c",
   "metadata": {},
   "source": [
    "## HTChiSquare\n",
    "\n",
    "The HTChiSquare class is used to conduct chi square hypothesis tests in which a sequence of observed values is compared against a sequence of expected values. The length of the sequences must be the same and the sum of the values in the sequences must be equal.\n",
    "\n",
    "Note that if the sum of the sequence values is different, you can still use this class by first normalizing the expected values and then creating a new expected values sequence by multiplying by the total number of observed values: \n",
    "adjust_expected = expected/sum(expected)*sum(observed)\n",
    "\n",
    "For this example I'll use some made up data to test the fairness of a die over 60 rolls."
   ]
  },
  {
   "cell_type": "code",
   "execution_count": 18,
   "id": "c14b1b2e",
   "metadata": {},
   "outputs": [],
   "source": [
    "rolls_expected = [10,10,10,10,10,10]\n",
    "rolls_observed = [4,8,18,8,12,10]"
   ]
  },
  {
   "cell_type": "code",
   "execution_count": 19,
   "id": "0161f812",
   "metadata": {},
   "outputs": [
    {
     "data": {
      "text/plain": [
       "0.01799999999999924"
      ]
     },
     "execution_count": 19,
     "metadata": {},
     "output_type": "execute_result"
    }
   ],
   "source": [
    "dice_chi = dsht.HTChiSquare(data=(rolls_expected, rolls_observed),\n",
    "                            tail='right',\n",
    "                            iters=1000)\n",
    "dice_chi.PValue()"
   ]
  },
  {
   "cell_type": "markdown",
   "id": "ee3a058c",
   "metadata": {},
   "source": [
    "We got a pvalue that is around the level which is generally accepted as statistically significant. \n",
    "\n",
    "As in other examples we can plot the sampling distribution to see what it looks like."
   ]
  },
  {
   "cell_type": "code",
   "execution_count": 20,
   "id": "f4a36025",
   "metadata": {},
   "outputs": [
    {
     "data": {
      "image/png": "[encoded data removed]",
      "text/plain": [
       "<Figure size 640x480 with 1 Axes>"
      ]
     },
     "metadata": {},
     "output_type": "display_data"
    }
   ],
   "source": [
    "dice_chi.PlotCdf()"
   ]
  },
  {
   "cell_type": "markdown",
   "id": "eee53296",
   "metadata": {},
   "source": [
    "We can also compute the power of this test."
   ]
  },
  {
   "cell_type": "code",
   "execution_count": 21,
   "id": "4e6952b6",
   "metadata": {},
   "outputs": [
    {
     "data": {
      "text/plain": [
       "0.81"
      ]
     },
     "execution_count": 21,
     "metadata": {},
     "output_type": "execute_result"
    }
   ],
   "source": [
    "dice_chi.Power(alpha=0.05, num_runs=100)"
   ]
  },
  {
   "cell_type": "markdown",
   "id": "2ad2f302",
   "metadata": {},
   "source": [
    "In this example the power of the test is right around the normally accepted threshold of 0.8."
   ]
  },
  {
   "cell_type": "markdown",
   "id": "f11fa270",
   "metadata": {},
   "source": [
    "## HTChiSquareContingency\n",
    "\n",
    "The HTChiSquareContingency class is used to conduct chi square hypothesis tests from a contingency table. This kind of test is used to determine whether two categorical variables are independent or not. A low pvalue indicates that the variables are related and that we should reject the null hypothesis of independence.\n",
    "\n",
    "For this demonstration, we will use the titanic dataset and look at whether passenger class and survival are independent or not."
   ]
  },
  {
   "cell_type": "code",
   "execution_count": 22,
   "id": "626d8c70",
   "metadata": {},
   "outputs": [
    {
     "data": {
      "text/html": [
       "<div>\n",
       "<style scoped>\n",
       "    .dataframe tbody tr th:only-of-type {\n",
       "        vertical-align: middle;\n",
       "    }\n",
       "\n",
       "    .dataframe tbody tr th {\n",
       "        vertical-align: top;\n",
       "    }\n",
       "\n",
       "    .dataframe thead th {\n",
       "        text-align: right;\n",
       "    }\n",
       "</style>\n",
       "<table border=\"1\" class=\"dataframe\">\n",
       "  <thead>\n",
       "    <tr style=\"text-align: right;\">\n",
       "      <th></th>\n",
       "      <th>survived</th>\n",
       "      <th>pclass</th>\n",
       "      <th>sex</th>\n",
       "      <th>age</th>\n",
       "      <th>sibsp</th>\n",
       "      <th>parch</th>\n",
       "      <th>fare</th>\n",
       "      <th>embarked</th>\n",
       "      <th>class</th>\n",
       "      <th>who</th>\n",
       "      <th>adult_male</th>\n",
       "      <th>deck</th>\n",
       "      <th>embark_town</th>\n",
       "      <th>alive</th>\n",
       "      <th>alone</th>\n",
       "    </tr>\n",
       "  </thead>\n",
       "  <tbody>\n",
       "    <tr>\n",
       "      <th>0</th>\n",
       "      <td>0</td>\n",
       "      <td>3</td>\n",
       "      <td>male</td>\n",
       "      <td>22.0</td>\n",
       "      <td>1</td>\n",
       "      <td>0</td>\n",
       "      <td>7.2500</td>\n",
       "      <td>S</td>\n",
       "      <td>Third</td>\n",
       "      <td>man</td>\n",
       "      <td>True</td>\n",
       "      <td>NaN</td>\n",
       "      <td>Southampton</td>\n",
       "      <td>no</td>\n",
       "      <td>False</td>\n",
       "    </tr>\n",
       "    <tr>\n",
       "      <th>1</th>\n",
       "      <td>1</td>\n",
       "      <td>1</td>\n",
       "      <td>female</td>\n",
       "      <td>38.0</td>\n",
       "      <td>1</td>\n",
       "      <td>0</td>\n",
       "      <td>71.2833</td>\n",
       "      <td>C</td>\n",
       "      <td>First</td>\n",
       "      <td>woman</td>\n",
       "      <td>False</td>\n",
       "      <td>C</td>\n",
       "      <td>Cherbourg</td>\n",
       "      <td>yes</td>\n",
       "      <td>False</td>\n",
       "    </tr>\n",
       "    <tr>\n",
       "      <th>2</th>\n",
       "      <td>1</td>\n",
       "      <td>3</td>\n",
       "      <td>female</td>\n",
       "      <td>26.0</td>\n",
       "      <td>0</td>\n",
       "      <td>0</td>\n",
       "      <td>7.9250</td>\n",
       "      <td>S</td>\n",
       "      <td>Third</td>\n",
       "      <td>woman</td>\n",
       "      <td>False</td>\n",
       "      <td>NaN</td>\n",
       "      <td>Southampton</td>\n",
       "      <td>yes</td>\n",
       "      <td>True</td>\n",
       "    </tr>\n",
       "    <tr>\n",
       "      <th>3</th>\n",
       "      <td>1</td>\n",
       "      <td>1</td>\n",
       "      <td>female</td>\n",
       "      <td>35.0</td>\n",
       "      <td>1</td>\n",
       "      <td>0</td>\n",
       "      <td>53.1000</td>\n",
       "      <td>S</td>\n",
       "      <td>First</td>\n",
       "      <td>woman</td>\n",
       "      <td>False</td>\n",
       "      <td>C</td>\n",
       "      <td>Southampton</td>\n",
       "      <td>yes</td>\n",
       "      <td>False</td>\n",
       "    </tr>\n",
       "    <tr>\n",
       "      <th>4</th>\n",
       "      <td>0</td>\n",
       "      <td>3</td>\n",
       "      <td>male</td>\n",
       "      <td>35.0</td>\n",
       "      <td>0</td>\n",
       "      <td>0</td>\n",
       "      <td>8.0500</td>\n",
       "      <td>S</td>\n",
       "      <td>Third</td>\n",
       "      <td>man</td>\n",
       "      <td>True</td>\n",
       "      <td>NaN</td>\n",
       "      <td>Southampton</td>\n",
       "      <td>no</td>\n",
       "      <td>True</td>\n",
       "    </tr>\n",
       "  </tbody>\n",
       "</table>\n",
       "</div>"
      ],
      "text/plain": [
       "   survived  pclass     sex   age  sibsp  parch     fare embarked  class  \\\n",
       "0         0       3    male  22.0      1      0   7.2500        S  Third   \n",
       "1         1       1  female  38.0      1      0  71.2833        C  First   \n",
       "2         1       3  female  26.0      0      0   7.9250        S  Third   \n",
       "3         1       1  female  35.0      1      0  53.1000        S  First   \n",
       "4         0       3    male  35.0      0      0   8.0500        S  Third   \n",
       "\n",
       "     who  adult_male deck  embark_town alive  alone  \n",
       "0    man        True  NaN  Southampton    no  False  \n",
       "1  woman       False    C    Cherbourg   yes  False  \n",
       "2  woman       False  NaN  Southampton   yes   True  \n",
       "3  woman       False    C  Southampton   yes  False  \n",
       "4    man        True  NaN  Southampton    no   True  "
      ]
     },
     "execution_count": 22,
     "metadata": {},
     "output_type": "execute_result"
    }
   ],
   "source": [
    "# Use titanic dataset for chi-squared contingency\n",
    "titanic_df = sns.load_dataset('titanic')\n",
    "titanic_df.dropna()\n",
    "titanic_df.head()"
   ]
  },
  {
   "cell_type": "code",
   "execution_count": 23,
   "id": "e163d920",
   "metadata": {},
   "outputs": [
    {
     "data": {
      "text/html": [
       "<div>\n",
       "<style scoped>\n",
       "    .dataframe tbody tr th:only-of-type {\n",
       "        vertical-align: middle;\n",
       "    }\n",
       "\n",
       "    .dataframe tbody tr th {\n",
       "        vertical-align: top;\n",
       "    }\n",
       "\n",
       "    .dataframe thead th {\n",
       "        text-align: right;\n",
       "    }\n",
       "</style>\n",
       "<table border=\"1\" class=\"dataframe\">\n",
       "  <thead>\n",
       "    <tr style=\"text-align: right;\">\n",
       "      <th>pclass</th>\n",
       "      <th>1</th>\n",
       "      <th>2</th>\n",
       "      <th>3</th>\n",
       "    </tr>\n",
       "    <tr>\n",
       "      <th>survived</th>\n",
       "      <th></th>\n",
       "      <th></th>\n",
       "      <th></th>\n",
       "    </tr>\n",
       "  </thead>\n",
       "  <tbody>\n",
       "    <tr>\n",
       "      <th>0</th>\n",
       "      <td>80</td>\n",
       "      <td>97</td>\n",
       "      <td>372</td>\n",
       "    </tr>\n",
       "    <tr>\n",
       "      <th>1</th>\n",
       "      <td>136</td>\n",
       "      <td>87</td>\n",
       "      <td>119</td>\n",
       "    </tr>\n",
       "  </tbody>\n",
       "</table>\n",
       "</div>"
      ],
      "text/plain": [
       "pclass      1   2    3\n",
       "survived              \n",
       "0          80  97  372\n",
       "1         136  87  119"
      ]
     },
     "execution_count": 23,
     "metadata": {},
     "output_type": "execute_result"
    }
   ],
   "source": [
    "titanic_crosstab = pd.crosstab(index=titanic_df.survived, columns=titanic_df.pclass)\n",
    "titanic_crosstab"
   ]
  },
  {
   "cell_type": "markdown",
   "id": "949d4011",
   "metadata": {},
   "source": [
    "First let's run scipy stats chi2_contingency test to get a pvalue for comparison."
   ]
  },
  {
   "cell_type": "code",
   "execution_count": 24,
   "id": "163762ea",
   "metadata": {},
   "outputs": [
    {
     "name": "stdout",
     "output_type": "stream",
     "text": [
      "pvalue: 4.549251711298793e-23\n"
     ]
    }
   ],
   "source": [
    "results = stats.chi2_contingency(titanic_crosstab)\n",
    "print('pvalue:', results[1])"
   ]
  },
  {
   "cell_type": "markdown",
   "id": "017f2cdf",
   "metadata": {},
   "source": [
    "Now let's run HTChiSquareContingency to see the pvalue we get."
   ]
  },
  {
   "cell_type": "code",
   "execution_count": 25,
   "id": "bb7fa489",
   "metadata": {},
   "outputs": [
    {
     "data": {
      "text/plain": [
       "0.0"
      ]
     },
     "execution_count": 25,
     "metadata": {},
     "output_type": "execute_result"
    }
   ],
   "source": [
    "titanic_chi_contingent = dsht.HTChiSquareContingency(data=titanic_crosstab,\n",
    "                                                     tail='right',\n",
    "                                                     iters=1000)\n",
    "titanic_chi_contingent.PValue()"
   ]
  },
  {
   "cell_type": "markdown",
   "id": "a191ca2f",
   "metadata": {},
   "source": [
    "We got a pvalue of 0 which agrees with the very low pvalue from scipy stats.chi2_contingency. \n",
    "\n",
    "The plot shows us just how far the test stat from our data is from the null hypothesis sampling distribution, which again reflects the very low pvalue and strong relationship between the two variables."
   ]
  },
  {
   "cell_type": "code",
   "execution_count": 26,
   "id": "cd61a1fc",
   "metadata": {},
   "outputs": [
    {
     "data": {
      "image/png": "[encoded data removed]",
      "text/plain": [
       "<Figure size 640x480 with 1 Axes>"
      ]
     },
     "metadata": {},
     "output_type": "display_data"
    }
   ],
   "source": [
    "titanic_chi_contingent.PlotCdf()"
   ]
  },
  {
   "cell_type": "markdown",
   "id": "3cdae06d",
   "metadata": {},
   "source": [
    "Since the two variables are clearly related, we can use the use the ChiSquareContribution function for post-hoc analysis to see what categories within the variables contributed the most to the result.\n",
    "\n",
    "First we will use the ExpectedFromObserved function to get the expected frequency array to use in this post-hoc analysis."
   ]
  },
  {
   "cell_type": "code",
   "execution_count": 27,
   "id": "3cf8898e",
   "metadata": {},
   "outputs": [
    {
     "data": {
      "text/plain": [
       "array([[133.09090909, 113.37373737, 302.53535354],\n",
       "       [ 82.90909091,  70.62626263, 188.46464646]])"
      ]
     },
     "execution_count": 27,
     "metadata": {},
     "output_type": "execute_result"
    }
   ],
   "source": [
    "titanic_expected_array = dsht.ExpectedFromObserved(titanic_crosstab)\n",
    "titanic_expected_array"
   ]
  },
  {
   "cell_type": "code",
   "execution_count": 28,
   "id": "e8608013",
   "metadata": {},
   "outputs": [
    {
     "data": {
      "text/html": [
       "<div>\n",
       "<style scoped>\n",
       "    .dataframe tbody tr th:only-of-type {\n",
       "        vertical-align: middle;\n",
       "    }\n",
       "\n",
       "    .dataframe tbody tr th {\n",
       "        vertical-align: top;\n",
       "    }\n",
       "\n",
       "    .dataframe thead th {\n",
       "        text-align: right;\n",
       "    }\n",
       "</style>\n",
       "<table border=\"1\" class=\"dataframe\">\n",
       "  <thead>\n",
       "    <tr style=\"text-align: right;\">\n",
       "      <th>pclass</th>\n",
       "      <th>1</th>\n",
       "      <th>2</th>\n",
       "      <th>3</th>\n",
       "    </tr>\n",
       "    <tr>\n",
       "      <th>survived</th>\n",
       "      <th></th>\n",
       "      <th></th>\n",
       "      <th></th>\n",
       "    </tr>\n",
       "  </thead>\n",
       "  <tbody>\n",
       "    <tr>\n",
       "      <th>0</th>\n",
       "      <td>21.178341</td>\n",
       "      <td>2.364739</td>\n",
       "      <td>15.949664</td>\n",
       "    </tr>\n",
       "    <tr>\n",
       "      <th>1</th>\n",
       "      <td>33.996810</td>\n",
       "      <td>3.796028</td>\n",
       "      <td>25.603407</td>\n",
       "    </tr>\n",
       "  </tbody>\n",
       "</table>\n",
       "</div>"
      ],
      "text/plain": [
       "pclass            1         2          3\n",
       "survived                                \n",
       "0         21.178341  2.364739  15.949664\n",
       "1         33.996810  3.796028  25.603407"
      ]
     },
     "execution_count": 28,
     "metadata": {},
     "output_type": "execute_result"
    }
   ],
   "source": [
    "dsht.ChiSquareContribution(titanic_crosstab, titanic_expected_array)"
   ]
  },
  {
   "cell_type": "markdown",
   "id": "1b065e83",
   "metadata": {},
   "source": [
    "Looking at this result, we can see that the biggest contributions came from the passenger class 1 and passenger class 3 categories."
   ]
  },
  {
   "cell_type": "markdown",
   "id": "af14501a",
   "metadata": {},
   "source": [
    "## HTOnewayAnova\n",
    "\n",
    "The HTOnewayAnova class is used to conduct ANOVA hypothesis tests. This kind of test is used to determine if there is a statistically significant difference in means between more than two groups.\n",
    "\n",
    "For this demonstration, we will use some data that comes from an example used in the f_oneway function in scipy stats:\n",
    "https://docs.scipy.org/doc/scipy/reference/generated/scipy.stats.f_oneway.html\n",
    "\n",
    "This data consists of shell measurements in the mussel Mytilus trossulus from five locations:\n",
    "Tillamook, Oregon; Newport, Oregon; Petersburg, Alaska; Magadan, Russia; and Tvarminne, Finland."
   ]
  },
  {
   "cell_type": "code",
   "execution_count": 29,
   "id": "8b49a69b",
   "metadata": {},
   "outputs": [],
   "source": [
    "tillamook = [0.0571, 0.0813, 0.0831, 0.0976, 0.0817, 0.0859, 0.0735,\n",
    "             0.0659, 0.0923, 0.0836]\n",
    "newport = [0.0873, 0.0662, 0.0672, 0.0819, 0.0749, 0.0649, 0.0835,\n",
    "           0.0725]\n",
    "petersburg = [0.0974, 0.1352, 0.0817, 0.1016, 0.0968, 0.1064, 0.105]\n",
    "magadan = [0.1033, 0.0915, 0.0781, 0.0685, 0.0677, 0.0697, 0.0764,\n",
    "           0.0689]\n",
    "tvarminne = [0.0703, 0.1026, 0.0956, 0.0973, 0.1039, 0.1045]\n",
    "\n",
    "mussel_type_names = ['tillamook', 'newport', 'petersburg', 'magadan', 'tvarminne']\n",
    "mussels_data_list = [tillamook, newport, petersburg, magadan, tvarminne]"
   ]
  },
  {
   "cell_type": "markdown",
   "id": "d6e3664b",
   "metadata": {},
   "source": [
    "First we will use the ListsToDataFrame function from the single var module to put the data into a DataFrame format."
   ]
  },
  {
   "cell_type": "code",
   "execution_count": 30,
   "id": "7be7072d",
   "metadata": {},
   "outputs": [
    {
     "data": {
      "text/html": [
       "<div>\n",
       "<style scoped>\n",
       "    .dataframe tbody tr th:only-of-type {\n",
       "        vertical-align: middle;\n",
       "    }\n",
       "\n",
       "    .dataframe tbody tr th {\n",
       "        vertical-align: top;\n",
       "    }\n",
       "\n",
       "    .dataframe thead th {\n",
       "        text-align: right;\n",
       "    }\n",
       "</style>\n",
       "<table border=\"1\" class=\"dataframe\">\n",
       "  <thead>\n",
       "    <tr style=\"text-align: right;\">\n",
       "      <th></th>\n",
       "      <th>mussel_type</th>\n",
       "      <th>value</th>\n",
       "    </tr>\n",
       "  </thead>\n",
       "  <tbody>\n",
       "    <tr>\n",
       "      <th>0</th>\n",
       "      <td>tillamook</td>\n",
       "      <td>0.0571</td>\n",
       "    </tr>\n",
       "    <tr>\n",
       "      <th>1</th>\n",
       "      <td>tillamook</td>\n",
       "      <td>0.0813</td>\n",
       "    </tr>\n",
       "    <tr>\n",
       "      <th>2</th>\n",
       "      <td>tillamook</td>\n",
       "      <td>0.0831</td>\n",
       "    </tr>\n",
       "    <tr>\n",
       "      <th>3</th>\n",
       "      <td>tillamook</td>\n",
       "      <td>0.0976</td>\n",
       "    </tr>\n",
       "    <tr>\n",
       "      <th>4</th>\n",
       "      <td>tillamook</td>\n",
       "      <td>0.0817</td>\n",
       "    </tr>\n",
       "  </tbody>\n",
       "</table>\n",
       "</div>"
      ],
      "text/plain": [
       "  mussel_type   value\n",
       "0   tillamook  0.0571\n",
       "1   tillamook  0.0813\n",
       "2   tillamook  0.0831\n",
       "3   tillamook  0.0976\n",
       "4   tillamook  0.0817"
      ]
     },
     "execution_count": 30,
     "metadata": {},
     "output_type": "execute_result"
    }
   ],
   "source": [
    "mussels_df = ListsToDataFrame(data=mussels_data_list,\n",
    "                              group_labels=mussel_type_names,\n",
    "                              group_col_name='mussel_type',\n",
    "                              values_col_name='value')\n",
    "mussels_df.head()"
   ]
  },
  {
   "cell_type": "markdown",
   "id": "5ca89b5d",
   "metadata": {},
   "source": [
    "Let's use the scipy stats f_oneway function to get a pvalue for comparison."
   ]
  },
  {
   "cell_type": "code",
   "execution_count": 31,
   "id": "931e8828",
   "metadata": {},
   "outputs": [
    {
     "data": {
      "text/plain": [
       "F_onewayResult(statistic=7.121019471642447, pvalue=0.0002812242314534544)"
      ]
     },
     "execution_count": 31,
     "metadata": {},
     "output_type": "execute_result"
    }
   ],
   "source": [
    "stats.f_oneway(*mussels_data_list)"
   ]
  },
  {
   "cell_type": "markdown",
   "id": "01412b21",
   "metadata": {},
   "source": [
    "Since we obtained a statistically significant results, let's also use the statsmodels pairwise_tukeyhsd function to run post-hoc analysis to see which pairs of groups have statistically significant differences."
   ]
  },
  {
   "cell_type": "code",
   "execution_count": 32,
   "id": "27957aa0",
   "metadata": {},
   "outputs": [
    {
     "data": {
      "text/html": [
       "<table class=\"simpletable\">\n",
       "<caption>Multiple Comparison of Means - Tukey HSD, FWER=0.05</caption>\n",
       "<tr>\n",
       "    <th>group1</th>     <th>group2</th>   <th>meandiff</th>  <th>p-adj</th>  <th>lower</th>   <th>upper</th>  <th>reject</th>\n",
       "</tr>\n",
       "<tr>\n",
       "    <td>magadan</td>    <td>newport</td>   <td>-0.0032</td> <td>0.9858</td> <td>-0.0213</td> <td>0.0149</td>   <td>False</td>\n",
       "</tr>\n",
       "<tr>\n",
       "    <td>magadan</td>  <td>petersburg</td>  <td>0.0254</td>  <td>0.0037</td> <td>0.0067</td>  <td>0.0442</td>   <td>True</td> \n",
       "</tr>\n",
       "<tr>\n",
       "    <td>magadan</td>   <td>tillamook</td>  <td>0.0022</td>   <td>0.996</td> <td>-0.015</td>  <td>0.0194</td>   <td>False</td>\n",
       "</tr>\n",
       "<tr>\n",
       "    <td>magadan</td>   <td>tvarminne</td>  <td>0.0177</td>  <td>0.0929</td> <td>-0.0019</td> <td>0.0373</td>   <td>False</td>\n",
       "</tr>\n",
       "<tr>\n",
       "    <td>newport</td>  <td>petersburg</td>  <td>0.0286</td>  <td>0.0009</td> <td>0.0099</td>  <td>0.0474</td>   <td>True</td> \n",
       "</tr>\n",
       "<tr>\n",
       "    <td>newport</td>   <td>tillamook</td>  <td>0.0054</td>  <td>0.8935</td> <td>-0.0118</td> <td>0.0226</td>   <td>False</td>\n",
       "</tr>\n",
       "<tr>\n",
       "    <td>newport</td>   <td>tvarminne</td>  <td>0.0209</td>  <td>0.0317</td> <td>0.0013</td>  <td>0.0405</td>   <td>True</td> \n",
       "</tr>\n",
       "<tr>\n",
       "  <td>petersburg</td>  <td>tillamook</td>  <td>-0.0232</td> <td>0.0057</td> <td>-0.0411</td> <td>-0.0054</td>  <td>True</td> \n",
       "</tr>\n",
       "<tr>\n",
       "  <td>petersburg</td>  <td>tvarminne</td>  <td>-0.0077</td> <td>0.8028</td> <td>-0.0279</td> <td>0.0124</td>   <td>False</td>\n",
       "</tr>\n",
       "<tr>\n",
       "   <td>tillamook</td>  <td>tvarminne</td>  <td>0.0155</td>  <td>0.1447</td> <td>-0.0032</td> <td>0.0342</td>   <td>False</td>\n",
       "</tr>\n",
       "</table>"
      ],
      "text/plain": [
       "<class 'statsmodels.iolib.table.SimpleTable'>"
      ]
     },
     "execution_count": 32,
     "metadata": {},
     "output_type": "execute_result"
    }
   ],
   "source": [
    "mussels_results = pairwise_tukeyhsd(endog=mussels_df.value, groups=mussels_df.mussel_type, alpha=0.05)\n",
    "mussels_results.summary()"
   ]
  },
  {
   "cell_type": "markdown",
   "id": "d6787d1e",
   "metadata": {},
   "source": [
    "Now let's use our HTOnewayAnova class to see what pvalue we get."
   ]
  },
  {
   "cell_type": "code",
   "execution_count": 33,
   "id": "698f23d2",
   "metadata": {},
   "outputs": [
    {
     "data": {
      "text/plain": [
       "0.0009999999999992237"
      ]
     },
     "execution_count": 33,
     "metadata": {},
     "output_type": "execute_result"
    }
   ],
   "source": [
    "mussels_ANOVA = dsht.HTOnewayAnova(data=mussels_data_list,\n",
    "                                   tail='right',\n",
    "                                   iters=1000)\n",
    "mussels_ANOVA.PValue()"
   ]
  },
  {
   "cell_type": "markdown",
   "id": "1e63ba8b",
   "metadata": {},
   "source": [
    "We get a pvalue of 0, which agrees with the low pvalue from stats.f_oneway.\n",
    "\n",
    "And when we plot it we can see that the test stat is relatively close to the null hypothesis sampling distribution but that none of the sampling distribution values are as high as our test stat."
   ]
  },
  {
   "cell_type": "code",
   "execution_count": 34,
   "id": "5eff1435",
   "metadata": {},
   "outputs": [
    {
     "data": {
      "image/png": "[encoded data removed]",
      "text/plain": [
       "<Figure size 640x480 with 1 Axes>"
      ]
     },
     "metadata": {},
     "output_type": "display_data"
    }
   ],
   "source": [
    "mussels_ANOVA.PlotCdf()"
   ]
  },
  {
   "cell_type": "markdown",
   "id": "b1046d14",
   "metadata": {},
   "source": [
    "Next let's use AnovaPostHoc to run our post-hoc analysis."
   ]
  },
  {
   "cell_type": "code",
   "execution_count": 35,
   "id": "fbd9cd08",
   "metadata": {},
   "outputs": [
    {
     "name": "stdout",
     "output_type": "stream",
     "text": [
      "Adjusted alpha: 0.005\n"
     ]
    },
    {
     "data": {
      "text/plain": [
       "[(('tillamook', 'newport'), '0.311', 'N'),\n",
       " (('tillamook', 'petersburg'), '0.001', 'Y'),\n",
       " (('tillamook', 'magadan'), '0.729', 'N'),\n",
       " (('tillamook', 'tvarminne'), '0.026', 'N'),\n",
       " (('newport', 'petersburg'), '0', 'Y'),\n",
       " (('newport', 'magadan'), '0.599', 'N'),\n",
       " (('newport', 'tvarminne'), '0.007', 'N'),\n",
       " (('petersburg', 'magadan'), '0.001', 'Y'),\n",
       " (('petersburg', 'tvarminne'), '0.365', 'N'),\n",
       " (('magadan', 'tvarminne'), '0.04', 'N')]"
      ]
     },
     "execution_count": 35,
     "metadata": {},
     "output_type": "execute_result"
    }
   ],
   "source": [
    "results, adj_alpha = dsht.AnovaPostHoc(data=mussels_data_list, labels= mussel_type_names)\n",
    "print('Adjusted alpha:', adj_alpha)\n",
    "results"
   ]
  },
  {
   "cell_type": "markdown",
   "id": "7b523516",
   "metadata": {},
   "source": [
    "The adjusted alpha is the significance level applied to each pair in the results. The results show the pvalue and whether or not the pvalue is significant (Y or N) for each pairing. If the pvalue is less than this adjusted alpha then we can say that the difference in means for the pair is statistically significant.\n",
    "\n",
    "In our results we get pvalues that are statistically significant, or very close to the adjusted alpha threshold, for the following pairs:  \n",
    "'newport', 'petersburg'  \n",
    "'petersburg', 'magadan'  \n",
    "'tillamook', 'petersburg'  \n",
    "'newport', 'tvarminne'\n",
    "\n",
    "And this corresponds to the results from statsmodels pairwise_tukeyhsd.\n",
    "\n",
    "Note that the significance Y/N results we get from our method vary each time it's run. The four pairs listed above sometimes come out as significant and sometimes not. This is because random sampling is used instead of parametrics methods. This reality should serve as a reminder that a pvalue which barely meet a threshold for significance is not really different from ones that barely don't."
   ]
  }
 ],
 "metadata": {
  "kernelspec": {
   "display_name": "Python [conda env:root] *",
   "language": "python",
   "name": "conda-root-py"
  },
  "language_info": {
   "codemirror_mode": {
    "name": "ipython",
    "version": 3
   },
   "file_extension": ".py",
   "mimetype": "text/x-python",
   "name": "python",
   "nbconvert_exporter": "python",
   "pygments_lexer": "ipython3",
   "version": "3.10.8"
  }
 },
 "nbformat": 4,
 "nbformat_minor": 5
}
